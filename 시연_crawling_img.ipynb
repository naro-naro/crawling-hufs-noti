{
 "cells": [
  {
   "cell_type": "code",
   "execution_count": 9,
   "id": "e49d62bc-f441-4af6-b943-398ffee1b70b",
   "metadata": {},
   "outputs": [
    {
     "name": "stdout",
     "output_type": "stream",
     "text": [
      "Requirement already satisfied: webdriver-manager in c:\\users\\admin\\anaconda3\\lib\\site-packages (4.0.1)\n",
      "Requirement already satisfied: requests in c:\\users\\admin\\anaconda3\\lib\\site-packages (from webdriver-manager) (2.31.0)\n",
      "Requirement already satisfied: python-dotenv in c:\\users\\admin\\anaconda3\\lib\\site-packages (from webdriver-manager) (0.21.0)\n",
      "Requirement already satisfied: packaging in c:\\users\\admin\\anaconda3\\lib\\site-packages (from webdriver-manager) (23.1)\n",
      "Requirement already satisfied: charset-normalizer<4,>=2 in c:\\users\\admin\\anaconda3\\lib\\site-packages (from requests->webdriver-manager) (2.0.4)\n",
      "Requirement already satisfied: idna<4,>=2.5 in c:\\users\\admin\\anaconda3\\lib\\site-packages (from requests->webdriver-manager) (3.4)\n",
      "Requirement already satisfied: urllib3<3,>=1.21.1 in c:\\users\\admin\\anaconda3\\lib\\site-packages (from requests->webdriver-manager) (2.0.7)\n",
      "Requirement already satisfied: certifi>=2017.4.17 in c:\\users\\admin\\anaconda3\\lib\\site-packages (from requests->webdriver-manager) (2024.2.2)\n"
     ]
    }
   ],
   "source": [
    "!pip install webdriver-manager"
   ]
  },
  {
   "cell_type": "code",
   "execution_count": 10,
   "id": "4aa411cb-2f50-48b1-9989-14281ed0e60d",
   "metadata": {},
   "outputs": [
    {
     "name": "stdout",
     "output_type": "stream",
     "text": [
      "Requirement already satisfied: selenium in c:\\users\\admin\\anaconda3\\lib\\site-packages (4.18.1)\n",
      "Requirement already satisfied: urllib3<3,>=1.26 in c:\\users\\admin\\anaconda3\\lib\\site-packages (from urllib3[socks]<3,>=1.26->selenium) (2.0.7)\n",
      "Requirement already satisfied: trio~=0.17 in c:\\users\\admin\\anaconda3\\lib\\site-packages (from selenium) (0.25.0)\n",
      "Requirement already satisfied: trio-websocket~=0.9 in c:\\users\\admin\\anaconda3\\lib\\site-packages (from selenium) (0.11.1)\n",
      "Requirement already satisfied: certifi>=2021.10.8 in c:\\users\\admin\\anaconda3\\lib\\site-packages (from selenium) (2024.2.2)\n",
      "Requirement already satisfied: typing_extensions>=4.9.0 in c:\\users\\admin\\anaconda3\\lib\\site-packages (from selenium) (4.9.0)\n",
      "Requirement already satisfied: attrs>=23.2.0 in c:\\users\\admin\\anaconda3\\lib\\site-packages (from trio~=0.17->selenium) (23.2.0)\n",
      "Requirement already satisfied: sortedcontainers in c:\\users\\admin\\anaconda3\\lib\\site-packages (from trio~=0.17->selenium) (2.4.0)\n",
      "Requirement already satisfied: idna in c:\\users\\admin\\anaconda3\\lib\\site-packages (from trio~=0.17->selenium) (3.4)\n",
      "Requirement already satisfied: outcome in c:\\users\\admin\\anaconda3\\lib\\site-packages (from trio~=0.17->selenium) (1.3.0.post0)\n",
      "Requirement already satisfied: sniffio>=1.3.0 in c:\\users\\admin\\anaconda3\\lib\\site-packages (from trio~=0.17->selenium) (1.3.0)\n",
      "Requirement already satisfied: cffi>=1.14 in c:\\users\\admin\\anaconda3\\lib\\site-packages (from trio~=0.17->selenium) (1.16.0)\n",
      "Requirement already satisfied: wsproto>=0.14 in c:\\users\\admin\\anaconda3\\lib\\site-packages (from trio-websocket~=0.9->selenium) (1.2.0)\n",
      "Requirement already satisfied: pysocks!=1.5.7,<2.0,>=1.5.6 in c:\\users\\admin\\anaconda3\\lib\\site-packages (from urllib3[socks]<3,>=1.26->selenium) (1.7.1)\n",
      "Requirement already satisfied: pycparser in c:\\users\\admin\\anaconda3\\lib\\site-packages (from cffi>=1.14->trio~=0.17->selenium) (2.21)\n",
      "Requirement already satisfied: h11<1,>=0.9.0 in c:\\users\\admin\\anaconda3\\lib\\site-packages (from wsproto>=0.14->trio-websocket~=0.9->selenium) (0.14.0)\n"
     ]
    }
   ],
   "source": [
    "!pip install selenium"
   ]
  },
  {
   "cell_type": "code",
   "execution_count": 49,
   "id": "69ac26d3-0eab-4ad5-81a3-a26101e28311",
   "metadata": {},
   "outputs": [],
   "source": [
    "# selenium 4\n",
    "from selenium import webdriver\n",
    "from selenium.webdriver.chrome.service import Service as ChromeService\n",
    "from webdriver_manager.chrome import ChromeDriverManager\n",
    "from selenium.webdriver.common.by import By\n",
    "import time\n",
    "from bs4 import BeautifulSoup\n",
    "from selenium.webdriver.support.ui import WebDriverWait\n",
    "from selenium.webdriver.support import expected_conditions as EC\n",
    "from selenium.webdriver.common.keys import Keys\n",
    "from selenium.webdriver.chrome.options import Options"
   ]
  },
  {
   "cell_type": "code",
   "execution_count": 66,
   "id": "8c220f93-d4fc-4c6d-bd4e-7c9f6268036a",
   "metadata": {},
   "outputs": [],
   "source": [
    "# Chrome WebDriver 옵션 설정\n",
    "options = webdriver.ChromeOptions()\n",
    "options.add_argument('--ignore-certificate-errors')\n",
    "\n",
    "# Chrome WebDriver 초기화 및 웹 페이지 열기\n",
    "driver = webdriver.Chrome(service=ChromeService(ChromeDriverManager().install()), options=options)\n",
    "driver.implicitly_wait(5)\n",
    "\n",
    "# 장학공지 홈페이지 접속\n",
    "url = \"https://www.hufs.ac.kr/hufs/11283/subview.do\" \n",
    "\n",
    "driver.get(url)"
   ]
  },
  {
   "cell_type": "code",
   "execution_count": 67,
   "id": "aa2b96df-d939-46e8-8c95-51ae389ee56d",
   "metadata": {},
   "outputs": [],
   "source": [
    "# 첫번째 공지 글 클릭\n",
    "# CSS 선택자를 사용하여 공지태그가 아닌 첫 번째 글의 <a> 태그를 찾기\n",
    "first_page = driver.find_element(By.CSS_SELECTOR, \"div.scroll-table tbody tr:not(.notice) a\")\n",
    "\n",
    "# 클릭\n",
    "first_page.click()"
   ]
  },
  {
   "cell_type": "code",
   "execution_count": 69,
   "id": "7338d5c8-db8c-4345-a3f1-2b4287e4d565",
   "metadata": {},
   "outputs": [
    {
     "name": "stdout",
     "output_type": "stream",
     "text": [
      "Title: [공통][대출]2024년_상반기_학자금_대출이자(세종시)_지원(~4.19)\n",
      "Title: [공통][대출]학자금대출_특별승인제도_안내\n",
      "Title: [공통][국가]2024년_국가우수장학금(인문100년)_학생_사전_신청_안내(~45)\n",
      "Title: [공통][국가]2024-1_국가장학금_신청자_가구원_동의_안내(~321)\n",
      "Title: [공통][교내]_2024학년도_1학기_가족장학금_신청_안내(311~322)\n",
      "Title: [공통][교내]_2024학년도_1학기_교내_면학장학금_신청_안내_(신편입생·재입학생·미신청_재학생)(311~329)\n",
      "Title: [공통][국가]2024-1_국가장학금_2차_신청(~314)\n",
      "Title: [글로벌][교외]2024학년도_다우기술_장학생_모집(~131)\n"
     ]
    },
    {
     "ename": "ElementClickInterceptedException",
     "evalue": "Message: element click intercepted: Element <a href=\"#link\" title=\"이전글 이동\" onclick=\"jf_naviArtclView('hufs', '2182', '147502')\" style=\"cursor:pointer;\">...</a> is not clickable at point (452, 11). Other element would receive the click: <a href=\"http://adms.hufs.ac.kr/cms/FrCon/index.do?MENU_ID=650\" id=\"top_k2wiz_GNB_11197\" class=\"top_k2wiz_GNB_11197 a_1 k2wiz_GNB_11101\" target=\"_blank\">...</a>\n  (Session info: chrome=123.0.6312.59)\nStacktrace:\n\tGetHandleVerifier [0x00684CE3+225091]\n\t(No symbol) [0x005B4E31]\n\t(No symbol) [0x00459A7A]\n\t(No symbol) [0x00496D42]\n\t(No symbol) [0x00495574]\n\t(No symbol) [0x004935DB]\n\t(No symbol) [0x004927BA]\n\t(No symbol) [0x004898DE]\n\t(No symbol) [0x004AF55C]\n\t(No symbol) [0x0048930E]\n\t(No symbol) [0x004AF7F4]\n\t(No symbol) [0x004C5CB0]\n\t(No symbol) [0x004AF2F6]\n\t(No symbol) [0x004879B9]\n\t(No symbol) [0x0048879D]\n\tsqlite3_dbdata_init [0x00AF9A83+4064547]\n\tsqlite3_dbdata_init [0x00B0108A+4094762]\n\tsqlite3_dbdata_init [0x00AFB988+4072488]\n\tsqlite3_dbdata_init [0x007FC9E9+930953]\n\t(No symbol) [0x005C0804]\n\t(No symbol) [0x005BAD28]\n\t(No symbol) [0x005BAE51]\n\t(No symbol) [0x005ACAC0]\n\tBaseThreadInitThunk [0x76C500F9+25]\n\tRtlGetAppContainerNamedObjectPath [0x76F87BBE+286]\n\tRtlGetAppContainerNamedObjectPath [0x76F87B8E+238]\n",
     "output_type": "error",
     "traceback": [
      "\u001b[1;31m---------------------------------------------------------------------------\u001b[0m",
      "\u001b[1;31mNoSuchElementException\u001b[0m                    Traceback (most recent call last)",
      "Cell \u001b[1;32mIn[69], line 28\u001b[0m\n\u001b[0;32m     27\u001b[0m \u001b[38;5;66;03m# CSS 선택자로 이미지 요소 찾기\u001b[39;00m\n\u001b[1;32m---> 28\u001b[0m image_element \u001b[38;5;241m=\u001b[39m driver\u001b[38;5;241m.\u001b[39mfind_element(By\u001b[38;5;241m.\u001b[39mCSS_SELECTOR, \u001b[38;5;124m'\u001b[39m\u001b[38;5;124mdiv.view-con img\u001b[39m\u001b[38;5;124m'\u001b[39m)\n\u001b[0;32m     30\u001b[0m \u001b[38;5;66;03m# 이미지의 소스 URL 가져오기\u001b[39;00m\n",
      "File \u001b[1;32m~\\anaconda3\\Lib\\site-packages\\selenium\\webdriver\\remote\\webdriver.py:741\u001b[0m, in \u001b[0;36mWebDriver.find_element\u001b[1;34m(self, by, value)\u001b[0m\n\u001b[0;32m    739\u001b[0m     value \u001b[38;5;241m=\u001b[39m \u001b[38;5;124mf\u001b[39m\u001b[38;5;124m'\u001b[39m\u001b[38;5;124m[name=\u001b[39m\u001b[38;5;124m\"\u001b[39m\u001b[38;5;132;01m{\u001b[39;00mvalue\u001b[38;5;132;01m}\u001b[39;00m\u001b[38;5;124m\"\u001b[39m\u001b[38;5;124m]\u001b[39m\u001b[38;5;124m'\u001b[39m\n\u001b[1;32m--> 741\u001b[0m \u001b[38;5;28;01mreturn\u001b[39;00m \u001b[38;5;28mself\u001b[39m\u001b[38;5;241m.\u001b[39mexecute(Command\u001b[38;5;241m.\u001b[39mFIND_ELEMENT, {\u001b[38;5;124m\"\u001b[39m\u001b[38;5;124musing\u001b[39m\u001b[38;5;124m\"\u001b[39m: by, \u001b[38;5;124m\"\u001b[39m\u001b[38;5;124mvalue\u001b[39m\u001b[38;5;124m\"\u001b[39m: value})[\u001b[38;5;124m\"\u001b[39m\u001b[38;5;124mvalue\u001b[39m\u001b[38;5;124m\"\u001b[39m]\n",
      "File \u001b[1;32m~\\anaconda3\\Lib\\site-packages\\selenium\\webdriver\\remote\\webdriver.py:347\u001b[0m, in \u001b[0;36mWebDriver.execute\u001b[1;34m(self, driver_command, params)\u001b[0m\n\u001b[0;32m    346\u001b[0m \u001b[38;5;28;01mif\u001b[39;00m response:\n\u001b[1;32m--> 347\u001b[0m     \u001b[38;5;28mself\u001b[39m\u001b[38;5;241m.\u001b[39merror_handler\u001b[38;5;241m.\u001b[39mcheck_response(response)\n\u001b[0;32m    348\u001b[0m     response[\u001b[38;5;124m\"\u001b[39m\u001b[38;5;124mvalue\u001b[39m\u001b[38;5;124m\"\u001b[39m] \u001b[38;5;241m=\u001b[39m \u001b[38;5;28mself\u001b[39m\u001b[38;5;241m.\u001b[39m_unwrap_value(response\u001b[38;5;241m.\u001b[39mget(\u001b[38;5;124m\"\u001b[39m\u001b[38;5;124mvalue\u001b[39m\u001b[38;5;124m\"\u001b[39m, \u001b[38;5;28;01mNone\u001b[39;00m))\n",
      "File \u001b[1;32m~\\anaconda3\\Lib\\site-packages\\selenium\\webdriver\\remote\\errorhandler.py:229\u001b[0m, in \u001b[0;36mErrorHandler.check_response\u001b[1;34m(self, response)\u001b[0m\n\u001b[0;32m    228\u001b[0m     \u001b[38;5;28;01mraise\u001b[39;00m exception_class(message, screen, stacktrace, alert_text)  \u001b[38;5;66;03m# type: ignore[call-arg]  # mypy is not smart enough here\u001b[39;00m\n\u001b[1;32m--> 229\u001b[0m \u001b[38;5;28;01mraise\u001b[39;00m exception_class(message, screen, stacktrace)\n",
      "\u001b[1;31mNoSuchElementException\u001b[0m: Message: no such element: Unable to locate element: {\"method\":\"css selector\",\"selector\":\"div.view-con img\"}\n  (Session info: chrome=123.0.6312.59); For documentation on this error, please visit: https://www.selenium.dev/documentation/webdriver/troubleshooting/errors#no-such-element-exception\nStacktrace:\n\tGetHandleVerifier [0x00684CE3+225091]\n\t(No symbol) [0x005B4E31]\n\t(No symbol) [0x00459A7A]\n\t(No symbol) [0x0049175B]\n\t(No symbol) [0x0049188B]\n\t(No symbol) [0x004C7882]\n\t(No symbol) [0x004AF5A4]\n\t(No symbol) [0x004C5CB0]\n\t(No symbol) [0x004AF2F6]\n\t(No symbol) [0x004879B9]\n\t(No symbol) [0x0048879D]\n\tsqlite3_dbdata_init [0x00AF9A83+4064547]\n\tsqlite3_dbdata_init [0x00B0108A+4094762]\n\tsqlite3_dbdata_init [0x00AFB988+4072488]\n\tsqlite3_dbdata_init [0x007FC9E9+930953]\n\t(No symbol) [0x005C0804]\n\t(No symbol) [0x005BAD28]\n\t(No symbol) [0x005BAE51]\n\t(No symbol) [0x005ACAC0]\n\tBaseThreadInitThunk [0x76C500F9+25]\n\tRtlGetAppContainerNamedObjectPath [0x76F87BBE+286]\n\tRtlGetAppContainerNamedObjectPath [0x76F87B8E+238]\n",
      "\nDuring handling of the above exception, another exception occurred:\n",
      "\u001b[1;31mElementClickInterceptedException\u001b[0m          Traceback (most recent call last)",
      "Cell \u001b[1;32mIn[69], line 57\u001b[0m\n\u001b[0;32m     54\u001b[0m     previous_page \u001b[38;5;241m=\u001b[39m driver\u001b[38;5;241m.\u001b[39mfind_element(By\u001b[38;5;241m.\u001b[39mCSS_SELECTOR, \u001b[38;5;124m\"\u001b[39m\u001b[38;5;124mmain.contents div._fnctWrap div.view-navi dl:first-child dd a\u001b[39m\u001b[38;5;124m\"\u001b[39m)\n\u001b[0;32m     56\u001b[0m     \u001b[38;5;66;03m# 클릭\u001b[39;00m\n\u001b[1;32m---> 57\u001b[0m     previous_page\u001b[38;5;241m.\u001b[39mclick()\n\u001b[0;32m     58\u001b[0m     time\u001b[38;5;241m.\u001b[39msleep(\u001b[38;5;241m2\u001b[39m)\n\u001b[0;32m     60\u001b[0m \u001b[38;5;28;01mexcept\u001b[39;00m \u001b[38;5;167;01mException\u001b[39;00m \u001b[38;5;28;01mas\u001b[39;00m e:\n",
      "File \u001b[1;32m~\\anaconda3\\Lib\\site-packages\\selenium\\webdriver\\remote\\webelement.py:94\u001b[0m, in \u001b[0;36mWebElement.click\u001b[1;34m(self)\u001b[0m\n\u001b[0;32m     92\u001b[0m \u001b[38;5;28;01mdef\u001b[39;00m \u001b[38;5;21mclick\u001b[39m(\u001b[38;5;28mself\u001b[39m) \u001b[38;5;241m-\u001b[39m\u001b[38;5;241m>\u001b[39m \u001b[38;5;28;01mNone\u001b[39;00m:\n\u001b[0;32m     93\u001b[0m \u001b[38;5;250m    \u001b[39m\u001b[38;5;124;03m\"\"\"Clicks the element.\"\"\"\u001b[39;00m\n\u001b[1;32m---> 94\u001b[0m     \u001b[38;5;28mself\u001b[39m\u001b[38;5;241m.\u001b[39m_execute(Command\u001b[38;5;241m.\u001b[39mCLICK_ELEMENT)\n",
      "File \u001b[1;32m~\\anaconda3\\Lib\\site-packages\\selenium\\webdriver\\remote\\webelement.py:395\u001b[0m, in \u001b[0;36mWebElement._execute\u001b[1;34m(self, command, params)\u001b[0m\n\u001b[0;32m    393\u001b[0m     params \u001b[38;5;241m=\u001b[39m {}\n\u001b[0;32m    394\u001b[0m params[\u001b[38;5;124m\"\u001b[39m\u001b[38;5;124mid\u001b[39m\u001b[38;5;124m\"\u001b[39m] \u001b[38;5;241m=\u001b[39m \u001b[38;5;28mself\u001b[39m\u001b[38;5;241m.\u001b[39m_id\n\u001b[1;32m--> 395\u001b[0m \u001b[38;5;28;01mreturn\u001b[39;00m \u001b[38;5;28mself\u001b[39m\u001b[38;5;241m.\u001b[39m_parent\u001b[38;5;241m.\u001b[39mexecute(command, params)\n",
      "File \u001b[1;32m~\\anaconda3\\Lib\\site-packages\\selenium\\webdriver\\remote\\webdriver.py:347\u001b[0m, in \u001b[0;36mWebDriver.execute\u001b[1;34m(self, driver_command, params)\u001b[0m\n\u001b[0;32m    345\u001b[0m response \u001b[38;5;241m=\u001b[39m \u001b[38;5;28mself\u001b[39m\u001b[38;5;241m.\u001b[39mcommand_executor\u001b[38;5;241m.\u001b[39mexecute(driver_command, params)\n\u001b[0;32m    346\u001b[0m \u001b[38;5;28;01mif\u001b[39;00m response:\n\u001b[1;32m--> 347\u001b[0m     \u001b[38;5;28mself\u001b[39m\u001b[38;5;241m.\u001b[39merror_handler\u001b[38;5;241m.\u001b[39mcheck_response(response)\n\u001b[0;32m    348\u001b[0m     response[\u001b[38;5;124m\"\u001b[39m\u001b[38;5;124mvalue\u001b[39m\u001b[38;5;124m\"\u001b[39m] \u001b[38;5;241m=\u001b[39m \u001b[38;5;28mself\u001b[39m\u001b[38;5;241m.\u001b[39m_unwrap_value(response\u001b[38;5;241m.\u001b[39mget(\u001b[38;5;124m\"\u001b[39m\u001b[38;5;124mvalue\u001b[39m\u001b[38;5;124m\"\u001b[39m, \u001b[38;5;28;01mNone\u001b[39;00m))\n\u001b[0;32m    349\u001b[0m     \u001b[38;5;28;01mreturn\u001b[39;00m response\n",
      "File \u001b[1;32m~\\anaconda3\\Lib\\site-packages\\selenium\\webdriver\\remote\\errorhandler.py:229\u001b[0m, in \u001b[0;36mErrorHandler.check_response\u001b[1;34m(self, response)\u001b[0m\n\u001b[0;32m    227\u001b[0m         alert_text \u001b[38;5;241m=\u001b[39m value[\u001b[38;5;124m\"\u001b[39m\u001b[38;5;124malert\u001b[39m\u001b[38;5;124m\"\u001b[39m]\u001b[38;5;241m.\u001b[39mget(\u001b[38;5;124m\"\u001b[39m\u001b[38;5;124mtext\u001b[39m\u001b[38;5;124m\"\u001b[39m)\n\u001b[0;32m    228\u001b[0m     \u001b[38;5;28;01mraise\u001b[39;00m exception_class(message, screen, stacktrace, alert_text)  \u001b[38;5;66;03m# type: ignore[call-arg]  # mypy is not smart enough here\u001b[39;00m\n\u001b[1;32m--> 229\u001b[0m \u001b[38;5;28;01mraise\u001b[39;00m exception_class(message, screen, stacktrace)\n",
      "\u001b[1;31mElementClickInterceptedException\u001b[0m: Message: element click intercepted: Element <a href=\"#link\" title=\"이전글 이동\" onclick=\"jf_naviArtclView('hufs', '2182', '147502')\" style=\"cursor:pointer;\">...</a> is not clickable at point (452, 11). Other element would receive the click: <a href=\"http://adms.hufs.ac.kr/cms/FrCon/index.do?MENU_ID=650\" id=\"top_k2wiz_GNB_11197\" class=\"top_k2wiz_GNB_11197 a_1 k2wiz_GNB_11101\" target=\"_blank\">...</a>\n  (Session info: chrome=123.0.6312.59)\nStacktrace:\n\tGetHandleVerifier [0x00684CE3+225091]\n\t(No symbol) [0x005B4E31]\n\t(No symbol) [0x00459A7A]\n\t(No symbol) [0x00496D42]\n\t(No symbol) [0x00495574]\n\t(No symbol) [0x004935DB]\n\t(No symbol) [0x004927BA]\n\t(No symbol) [0x004898DE]\n\t(No symbol) [0x004AF55C]\n\t(No symbol) [0x0048930E]\n\t(No symbol) [0x004AF7F4]\n\t(No symbol) [0x004C5CB0]\n\t(No symbol) [0x004AF2F6]\n\t(No symbol) [0x004879B9]\n\t(No symbol) [0x0048879D]\n\tsqlite3_dbdata_init [0x00AF9A83+4064547]\n\tsqlite3_dbdata_init [0x00B0108A+4094762]\n\tsqlite3_dbdata_init [0x00AFB988+4072488]\n\tsqlite3_dbdata_init [0x007FC9E9+930953]\n\t(No symbol) [0x005C0804]\n\t(No symbol) [0x005BAD28]\n\t(No symbol) [0x005BAE51]\n\t(No symbol) [0x005ACAC0]\n\tBaseThreadInitThunk [0x76C500F9+25]\n\tRtlGetAppContainerNamedObjectPath [0x76F87BBE+286]\n\tRtlGetAppContainerNamedObjectPath [0x76F87B8E+238]\n"
     ]
    }
   ],
   "source": [
    "import os\n",
    "import re\n",
    "import requests\n",
    "from selenium.common.exceptions import NoSuchElementException\n",
    "\n",
    "while True:\n",
    "    try:\n",
    "        # 제목(파일명) 추출\n",
    "        # 페이지의 소스 가져오기\n",
    "        html_source = driver.page_source\n",
    "        \n",
    "        # BeautifulSoup 객체 생성하여 HTML 파싱, 'html.parser' 대신 다른 파서를 사용할 수도 있습니다.\n",
    "        soup = BeautifulSoup(html_source, 'html.parser')\n",
    "        \n",
    "        # CSS 선택자를 사용하여 날짜, 제목, 내용 추출\n",
    "        title = soup.select_one(\"div.board-view-info div.view-info h2\").get_text(strip=True) if soup.select_one(\"div.board-view-info div.view-info h2\") else ''\n",
    "\n",
    "        # 텍스트 정리\n",
    "        title = title.replace(\"\\t\", \"_\").replace(\" \", '_')\n",
    "        title = re.sub(r'[\\/:*?\"<>|]', '', title)\n",
    "        \n",
    "        # 이미지를 다운로드할 폴더 생성\n",
    "        download_folder = os.path.join(os.path.expanduser('~'), 'Desktop', 'img_down')\n",
    "        if not os.path.exists(download_folder):\n",
    "            os.makedirs(download_folder)\n",
    "        \n",
    "        # CSS 선택자로 이미지 요소 찾기\n",
    "        image_element = driver.find_element(By.CSS_SELECTOR, 'div.view-con img')\n",
    "        \n",
    "        # 이미지의 소스 URL 가져오기\n",
    "        image_url = image_element.get_attribute('src')\n",
    "        \n",
    "        # 이미지 다운로드\n",
    "        response = requests.get(image_url)\n",
    "        with open(os.path.join(download_folder, title+\".jpg\"), 'wb') as f:\n",
    "            f.write(response.content)\n",
    "\n",
    "        # 이미지를 다운로드한 공지글제목 출력\n",
    "        print(f\"Title: {title}\")\n",
    "        \n",
    "        # 이전글 클릭\n",
    "        # CSS 선택자를 사용하여 이전글의 <a> 태그를 찾기\n",
    "        previous_page = driver.find_element(By.CSS_SELECTOR, \"main.contents div._fnctWrap div.view-navi dl:first-child dd a\")\n",
    "        \n",
    "        # 클릭\n",
    "        previous_page.click()\n",
    "        time.sleep(2)\n",
    "        \n",
    "    except NoSuchElementException:\n",
    "        # 이미지 요소를 찾지 못했을 경우 계속 진행\n",
    "                \n",
    "        # 이전글 클릭\n",
    "        # CSS 선택자를 사용하여 이전글의 <a> 태그를 찾기\n",
    "        previous_page = driver.find_element(By.CSS_SELECTOR, \"main.contents div._fnctWrap div.view-navi dl:first-child dd a\")\n",
    "        \n",
    "        # 클릭\n",
    "        previous_page.click()\n",
    "        time.sleep(2)\n",
    "    \n",
    "    except Exception as e:\n",
    "        print(e)\n",
    "        break"
   ]
  },
  {
   "cell_type": "code",
   "execution_count": 48,
   "id": "49c81b82-e88d-4140-a221-bb5acb4745bf",
   "metadata": {},
   "outputs": [],
   "source": [
    "# Selenium WebDriver 종료\n",
    "driver.quit()"
   ]
  },
  {
   "cell_type": "code",
   "execution_count": null,
   "id": "4b65fdfa-d5fe-46e8-8c8e-58cfa062f6b9",
   "metadata": {},
   "outputs": [],
   "source": []
  }
 ],
 "metadata": {
  "kernelspec": {
   "display_name": "Python 3 (ipykernel)",
   "language": "python",
   "name": "python3"
  },
  "language_info": {
   "codemirror_mode": {
    "name": "ipython",
    "version": 3
   },
   "file_extension": ".py",
   "mimetype": "text/x-python",
   "name": "python",
   "nbconvert_exporter": "python",
   "pygments_lexer": "ipython3",
   "version": "3.11.7"
  }
 },
 "nbformat": 4,
 "nbformat_minor": 5
}
