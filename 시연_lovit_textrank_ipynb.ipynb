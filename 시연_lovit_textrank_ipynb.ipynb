{
  "nbformat": 4,
  "nbformat_minor": 0,
  "metadata": {
    "colab": {
      "provenance": [],
      "collapsed_sections": [
        "ihz1gXIDuJ52",
        "SvWPSOgww_Yf",
        "hTarn1E6eSxn",
        "xjj1EaKUkvBs"
      ],
      "toc_visible": true
    },
    "kernelspec": {
      "name": "python3",
      "display_name": "Python 3"
    },
    "language_info": {
      "name": "python"
    }
  },
  "cells": [
    {
      "cell_type": "markdown",
      "metadata": {
        "id": "ihz1gXIDuJ52"
      },
      "source": [
        "# Okt 사용자 사전"
      ]
    },
    {
      "cell_type": "code",
      "execution_count": null,
      "metadata": {
        "colab": {
          "base_uri": "https://localhost:8080/",
          "height": 35
        },
        "id": "qGL_WWAynrmp",
        "outputId": "85d44d27-d0f0-4d6f-c154-66cef06b23eb"
      },
      "outputs": [
        {
          "output_type": "execute_result",
          "data": {
            "text/plain": [
              "'/content'"
            ],
            "application/vnd.google.colaboratory.intrinsic+json": {
              "type": "string"
            }
          },
          "metadata": {},
          "execution_count": 2
        }
      ],
      "source": [
        "#현재 경로. 보통 ./content일거에요!\n",
        "import os\n",
        "os.getcwd()"
      ]
    },
    {
      "cell_type": "code",
      "execution_count": null,
      "metadata": {
        "colab": {
          "base_uri": "https://localhost:8080/"
        },
        "id": "_9tdJs1KpF40",
        "outputId": "8e0dbb0f-2b44-4bd3-8320-47cdd9ac1ce7"
      },
      "outputs": [
        {
          "output_type": "stream",
          "name": "stdout",
          "text": [
            "Collecting konlpy\n",
            "  Downloading konlpy-0.6.0-py2.py3-none-any.whl (19.4 MB)\n",
            "\u001b[2K     \u001b[90m━━━━━━━━━━━━━━━━━━━━━━━━━━━━━━━━━━━━━━━━\u001b[0m \u001b[32m19.4/19.4 MB\u001b[0m \u001b[31m48.4 MB/s\u001b[0m eta \u001b[36m0:00:00\u001b[0m\n",
            "\u001b[?25hCollecting JPype1>=0.7.0 (from konlpy)\n",
            "  Downloading JPype1-1.5.0-cp310-cp310-manylinux_2_17_x86_64.manylinux2014_x86_64.whl (488 kB)\n",
            "\u001b[2K     \u001b[90m━━━━━━━━━━━━━━━━━━━━━━━━━━━━━━━━━━━━━━━━\u001b[0m \u001b[32m488.6/488.6 kB\u001b[0m \u001b[31m40.8 MB/s\u001b[0m eta \u001b[36m0:00:00\u001b[0m\n",
            "\u001b[?25hRequirement already satisfied: lxml>=4.1.0 in /usr/local/lib/python3.10/dist-packages (from konlpy) (4.9.4)\n",
            "Requirement already satisfied: numpy>=1.6 in /usr/local/lib/python3.10/dist-packages (from konlpy) (1.25.2)\n",
            "Requirement already satisfied: packaging in /usr/local/lib/python3.10/dist-packages (from JPype1>=0.7.0->konlpy) (24.0)\n",
            "Installing collected packages: JPype1, konlpy\n",
            "Successfully installed JPype1-1.5.0 konlpy-0.6.0\n"
          ]
        }
      ],
      "source": [
        "#konlpy 다운 및 호출\n",
        "#1. Konlpy에서 Okt\n",
        "!pip install konlpy\n",
        "#2. konlpy 실행을 위한 자바어쩌구 다운\n",
        "!apt-get install openjdk-8-jdk-headless -qq > /dev/null\n",
        "#3. 필요한 설정\n",
        "import os\n",
        "os.environ[\"JAVA_HOME\"] = \"/usr/lib/jvm/java-8-openjdk-amd64\""
      ]
    },
    {
      "cell_type": "code",
      "source": [
        "from konlpy.tag import Okt"
      ],
      "metadata": {
        "id": "4W9ZyKLEdY8-"
      },
      "execution_count": null,
      "outputs": []
    },
    {
      "cell_type": "code",
      "execution_count": null,
      "metadata": {
        "id": "db2dKcyfqVz9",
        "colab": {
          "base_uri": "https://localhost:8080/"
        },
        "outputId": "0604e8b8-0420-444c-9793-5a11e6dd9c55"
      },
      "outputs": [
        {
          "output_type": "stream",
          "name": "stdout",
          "text": [
            "['한국', '외국어', '대학교', '에서', '안', '내', '드리다', '.', '한', '국외', '대', '에서도', '안', '내', '하다', '.', '학식', '이', '쌀국수', '이다', '.']\n"
          ]
        }
      ],
      "source": [
        "okt = Okt()\n",
        "# 한국외국어대학교 쪼개진거 확인.\n",
        "# 처음: ['한국', '외국어', '대학교', '에서', '안', '내', '드리다', '.', '한', '국외', '대', '에서도', '안', '내', '하다', '.', '학식', '이', '쌀국수', '이다', '.']\n",
        "# 개선 후: ['한국외국어대학교', '에서', '안', '내', '드리다', '.', '한국외대', '에서도', '안', '내', '하다', '.', '학식', '이', '쌀국수', '이다', '.']\n",
        "print(okt.morphs(\"한국외국어대학교에서 안내드립니다. 한국외대에서도 안내합니다.학식이 쌀국수 입니다.\", stem = True))"
      ]
    },
    {
      "cell_type": "code",
      "execution_count": null,
      "metadata": {
        "id": "tmjzvlIXmobP",
        "colab": {
          "base_uri": "https://localhost:8080/",
          "height": 35
        },
        "outputId": "4662891d-138a-41fb-a32b-df09494c266e"
      },
      "outputs": [
        {
          "output_type": "execute_result",
          "data": {
            "text/plain": [
              "'/usr/local/lib/python3.10/dist-packages/konlpy/java'"
            ],
            "application/vnd.google.colaboratory.intrinsic+json": {
              "type": "string"
            }
          },
          "metadata": {},
          "execution_count": 6
        }
      ],
      "source": [
        "# 사용자 사전 찾아가기 및 경로 설정 _ 여기서 오류가 날 시 코랩에서 폴더 열어서 usr,local 찾아가보시며 폴더명이 일치하는지 확인해보세요! 보통 파이썬 버전이 다릅니다.\n",
        "os.chdir('/usr/local/lib/python3.10/dist-packages/konlpy/java')\n",
        "os.getcwd()"
      ]
    },
    {
      "cell_type": "code",
      "execution_count": null,
      "metadata": {
        "id": "9szHG-q7oEst",
        "colab": {
          "base_uri": "https://localhost:8080/",
          "height": 35
        },
        "outputId": "ca659786-028b-4556-892f-3f9d542ec1b1"
      },
      "outputs": [
        {
          "output_type": "execute_result",
          "data": {
            "text/plain": [
              "'/usr/local/lib/python3.10/dist-packages/konlpy/java/temp_fix'"
            ],
            "application/vnd.google.colaboratory.intrinsic+json": {
              "type": "string"
            }
          },
          "metadata": {},
          "execution_count": 7
        }
      ],
      "source": [
        "#jar파일을 풀어줄 폴더이름을 정합니다. 저는 temp_fix로 했어요!\n",
        "os.makedirs('./temp_fix')\n",
        "os.chdir('./temp_fix')\n",
        "os.getcwd()"
      ]
    },
    {
      "cell_type": "code",
      "execution_count": null,
      "metadata": {
        "id": "FwrfKAd5poT9",
        "colab": {
          "base_uri": "https://localhost:8080/"
        },
        "outputId": "59271a4d-fd19-47cf-e95d-fa3a8ebc1d65"
      },
      "outputs": [
        {
          "output_type": "stream",
          "name": "stdout",
          "text": [
            "  created: META-INF/\n",
            " inflated: META-INF/MANIFEST.MF\n",
            "  created: org/\n",
            "  created: org/openkoreantext/\n",
            "  created: org/openkoreantext/processor/\n",
            "  created: org/openkoreantext/processor/normalizer/\n",
            "  created: org/openkoreantext/processor/phrase_extractor/\n",
            "  created: org/openkoreantext/processor/qa/\n",
            "  created: org/openkoreantext/processor/stemmer/\n",
            "  created: org/openkoreantext/processor/tokenizer/\n",
            "  created: org/openkoreantext/processor/tools/\n",
            "  created: org/openkoreantext/processor/util/\n",
            "  created: org/openkoreantext/processor/util/adjective/\n",
            "  created: org/openkoreantext/processor/util/adverb/\n",
            "  created: org/openkoreantext/processor/util/auxiliary/\n",
            "  created: org/openkoreantext/processor/util/freq/\n",
            "  created: org/openkoreantext/processor/util/josa/\n",
            "  created: org/openkoreantext/processor/util/noun/\n",
            "  created: org/openkoreantext/processor/util/substantives/\n",
            "  created: org/openkoreantext/processor/util/typos/\n",
            "  created: org/openkoreantext/processor/util/verb/\n",
            " inflated: org/openkoreantext/processor/KoreanPosJava.class\n",
            " inflated: org/openkoreantext/processor/KoreanTokenJava.class\n",
            " inflated: org/openkoreantext/processor/normalizer/KoreanNormalizer$.class\n",
            " inflated: org/openkoreantext/processor/normalizer/KoreanNormalizer$Segment$.class\n",
            " inflated: org/openkoreantext/processor/normalizer/KoreanNormalizer$Segment.class\n",
            " inflated: org/openkoreantext/processor/normalizer/KoreanNormalizer.class\n",
            " inflated: org/openkoreantext/processor/OpenKoreanTextProcessor$.class\n",
            " inflated: org/openkoreantext/processor/OpenKoreanTextProcessor.class\n",
            " inflated: org/openkoreantext/processor/OpenKoreanTextProcessorJava.class\n",
            " inflated: org/openkoreantext/processor/phrase_extractor/KoreanPhraseExtractor$.class\n",
            " inflated: org/openkoreantext/processor/phrase_extractor/KoreanPhraseExtractor$KoreanPhrase$.class\n",
            " inflated: org/openkoreantext/processor/phrase_extractor/KoreanPhraseExtractor$KoreanPhrase.class\n",
            " inflated: org/openkoreantext/processor/phrase_extractor/KoreanPhraseExtractor$PhraseBuffer$.class\n",
            " inflated: org/openkoreantext/processor/phrase_extractor/KoreanPhraseExtractor$PhraseBuffer.class\n",
            " inflated: org/openkoreantext/processor/phrase_extractor/KoreanPhraseExtractor.class\n",
            " inflated: org/openkoreantext/processor/qa/BatchGetUnknownNouns$.class\n",
            " inflated: org/openkoreantext/processor/qa/BatchGetUnknownNouns$ChunkWithTweet$.class\n",
            " inflated: org/openkoreantext/processor/qa/BatchGetUnknownNouns$ChunkWithTweet.class\n",
            " inflated: org/openkoreantext/processor/qa/BatchGetUnknownNouns.class\n",
            " inflated: org/openkoreantext/processor/qa/BatchTokenizeTweets$.class\n",
            " inflated: org/openkoreantext/processor/qa/BatchTokenizeTweets$ParseTime$.class\n",
            " inflated: org/openkoreantext/processor/qa/BatchTokenizeTweets$ParseTime.class\n",
            " inflated: org/openkoreantext/processor/qa/BatchTokenizeTweets.class\n",
            " inflated: org/openkoreantext/processor/qa/KoreanProcessorSandbox$.class\n",
            " inflated: org/openkoreantext/processor/qa/KoreanProcessorSandbox.class\n",
            " inflated: org/openkoreantext/processor/stemmer/KoreanStemmer$.class\n",
            " inflated: org/openkoreantext/processor/stemmer/KoreanStemmer.class\n",
            " inflated: org/openkoreantext/processor/tokenizer/KoreanChunk$.class\n",
            " inflated: org/openkoreantext/processor/tokenizer/KoreanChunk.class\n",
            " inflated: org/openkoreantext/processor/tokenizer/KoreanChunker$.class\n",
            " inflated: org/openkoreantext/processor/tokenizer/KoreanChunker$ChunkMatch$.class\n",
            " inflated: org/openkoreantext/processor/tokenizer/KoreanChunker$ChunkMatch.class\n",
            " inflated: org/openkoreantext/processor/tokenizer/KoreanChunker.class\n",
            " inflated: org/openkoreantext/processor/tokenizer/KoreanDetokenizer$.class\n",
            " inflated: org/openkoreantext/processor/tokenizer/KoreanDetokenizer.class\n",
            " inflated: org/openkoreantext/processor/tokenizer/KoreanSentenceSplitter$.class\n",
            " inflated: org/openkoreantext/processor/tokenizer/KoreanSentenceSplitter.class\n",
            " inflated: org/openkoreantext/processor/tokenizer/KoreanTokenizer$.class\n",
            " inflated: org/openkoreantext/processor/tokenizer/KoreanTokenizer$CandidateParse$.class\n",
            " inflated: org/openkoreantext/processor/tokenizer/KoreanTokenizer$CandidateParse.class\n",
            " inflated: org/openkoreantext/processor/tokenizer/KoreanTokenizer$KoreanToken$.class\n",
            " inflated: org/openkoreantext/processor/tokenizer/KoreanTokenizer$KoreanToken.class\n",
            " inflated: org/openkoreantext/processor/tokenizer/KoreanTokenizer$PossibleTrie$.class\n",
            " inflated: org/openkoreantext/processor/tokenizer/KoreanTokenizer$PossibleTrie.class\n",
            " inflated: org/openkoreantext/processor/tokenizer/KoreanTokenizer.class\n",
            " inflated: org/openkoreantext/processor/tokenizer/ParsedChunk$.class\n",
            " inflated: org/openkoreantext/processor/tokenizer/ParsedChunk.class\n",
            " inflated: org/openkoreantext/processor/tokenizer/Sentence$.class\n",
            " inflated: org/openkoreantext/processor/tokenizer/Sentence.class\n",
            " inflated: org/openkoreantext/processor/tokenizer/TokenizerProfile$.class\n",
            " inflated: org/openkoreantext/processor/tokenizer/TokenizerProfile.class\n",
            " inflated: org/openkoreantext/processor/tools/CreateChunkParsingCandidates$.class\n",
            " inflated: org/openkoreantext/processor/tools/CreateChunkParsingCandidates.class\n",
            " inflated: org/openkoreantext/processor/tools/CreateConjugationExamples$.class\n",
            " inflated: org/openkoreantext/processor/tools/CreateConjugationExamples$ConjugationExample$.class\n",
            " inflated: org/openkoreantext/processor/tools/CreateConjugationExamples$ConjugationExample.class\n",
            " inflated: org/openkoreantext/processor/tools/CreateConjugationExamples.class\n",
            " inflated: org/openkoreantext/processor/tools/CreateParsingExamples$.class\n",
            " inflated: org/openkoreantext/processor/tools/CreateParsingExamples$ParsingExample$.class\n",
            " inflated: org/openkoreantext/processor/tools/CreateParsingExamples$ParsingExample.class\n",
            " inflated: org/openkoreantext/processor/tools/CreateParsingExamples.class\n",
            " inflated: org/openkoreantext/processor/tools/CreatePhraseExtractionExamples$.class\n",
            " inflated: org/openkoreantext/processor/tools/CreatePhraseExtractionExamples$PhraseExample$.class\n",
            " inflated: org/openkoreantext/processor/tools/CreatePhraseExtractionExamples$PhraseExample.class\n",
            " inflated: org/openkoreantext/processor/tools/CreatePhraseExtractionExamples.class\n",
            " inflated: org/openkoreantext/processor/tools/DeduplicateAndSortDictionaries$.class\n",
            " inflated: org/openkoreantext/processor/tools/DeduplicateAndSortDictionaries.class\n",
            " inflated: org/openkoreantext/processor/tools/Runnable.class\n",
            " inflated: org/openkoreantext/processor/tools/UpdateAllTheExamples$.class\n",
            " inflated: org/openkoreantext/processor/tools/UpdateAllTheExamples.class\n",
            " inflated: org/openkoreantext/processor/util/adjective/adjective.txt\n",
            " inflated: org/openkoreantext/processor/util/adverb/adverb.txt\n",
            " inflated: org/openkoreantext/processor/util/auxiliary/conjunctions.txt\n",
            " inflated: org/openkoreantext/processor/util/auxiliary/determiner.txt\n",
            " inflated: org/openkoreantext/processor/util/auxiliary/exclamation.txt\n",
            " inflated: org/openkoreantext/processor/util/CharacterUtils$CharacterBuffer.class\n",
            " inflated: org/openkoreantext/processor/util/CharacterUtils$Java4CharacterUtils.class\n",
            " inflated: org/openkoreantext/processor/util/CharacterUtils$Java5CharacterUtils.class\n",
            " inflated: org/openkoreantext/processor/util/CharacterUtils.class\n",
            " inflated: org/openkoreantext/processor/util/CharArrayMap$1.class\n",
            " inflated: org/openkoreantext/processor/util/CharArrayMap$EmptyCharArrayMap.class\n",
            " inflated: org/openkoreantext/processor/util/CharArrayMap$EntryIterator.class\n",
            " inflated: org/openkoreantext/processor/util/CharArrayMap$EntrySet.class\n",
            " inflated: org/openkoreantext/processor/util/CharArrayMap$MapEntry.class\n",
            " inflated: org/openkoreantext/processor/util/CharArrayMap$UnmodifiableCharArrayMap.class\n",
            " inflated: org/openkoreantext/processor/util/CharArrayMap.class\n",
            " inflated: org/openkoreantext/processor/util/CharArraySet.class\n",
            " inflated: org/openkoreantext/processor/util/example_chunks.txt\n",
            " inflated: org/openkoreantext/processor/util/example_tweets.txt\n",
            " inflated: org/openkoreantext/processor/util/freq/entity-freq.txt.gz\n",
            " inflated: org/openkoreantext/processor/util/Hangul$.class\n",
            " inflated: org/openkoreantext/processor/util/Hangul$DoubleCoda$.class\n",
            " inflated: org/openkoreantext/processor/util/Hangul$DoubleCoda.class\n",
            " inflated: org/openkoreantext/processor/util/Hangul$HangulChar$.class\n",
            " inflated: org/openkoreantext/processor/util/Hangul$HangulChar.class\n",
            " inflated: org/openkoreantext/processor/util/Hangul.class\n",
            " inflated: org/openkoreantext/processor/util/josa/josa.txt\n",
            " inflated: org/openkoreantext/processor/util/KoreanConjugation$.class\n",
            " inflated: org/openkoreantext/processor/util/KoreanConjugation.class\n",
            " inflated: org/openkoreantext/processor/util/KoreanDictionaryProvider$.class\n",
            " inflated: org/openkoreantext/processor/util/KoreanDictionaryProvider.class\n",
            " inflated: org/openkoreantext/processor/util/KoreanPos$.class\n",
            " inflated: org/openkoreantext/processor/util/KoreanPos$KoreanPosTrie$.class\n",
            " inflated: org/openkoreantext/processor/util/KoreanPos$KoreanPosTrie.class\n",
            " inflated: org/openkoreantext/processor/util/KoreanPos.class\n",
            " inflated: org/openkoreantext/processor/util/KoreanSubstantive$.class\n",
            " inflated: org/openkoreantext/processor/util/KoreanSubstantive.class\n",
            " inflated: org/openkoreantext/processor/util/noun/bible.txt\n",
            " inflated: org/openkoreantext/processor/util/noun/company_names.txt\n",
            " inflated: org/openkoreantext/processor/util/noun/congress.txt\n",
            " inflated: org/openkoreantext/processor/util/noun/entities.txt\n",
            " inflated: org/openkoreantext/processor/util/noun/foreign.txt\n",
            " inflated: org/openkoreantext/processor/util/noun/geolocations.txt\n",
            " inflated: org/openkoreantext/processor/util/noun/kpop.txt\n",
            " inflated: org/openkoreantext/processor/util/noun/lol.txt\n",
            " inflated: org/openkoreantext/processor/util/noun/names.txt\n",
            " inflated: org/openkoreantext/processor/util/noun/nouns.txt\n",
            " inflated: org/openkoreantext/processor/util/noun/pokemon.txt\n",
            " inflated: org/openkoreantext/processor/util/noun/profane.txt\n",
            " inflated: org/openkoreantext/processor/util/noun/slangs.txt\n",
            " inflated: org/openkoreantext/processor/util/noun/spam.txt\n",
            " inflated: org/openkoreantext/processor/util/noun/twitter.txt\n",
            " inflated: org/openkoreantext/processor/util/noun/wikipedia_title_nouns.txt\n",
            " inflated: org/openkoreantext/processor/util/substantives/family_names.txt\n",
            " inflated: org/openkoreantext/processor/util/substantives/given_names.txt\n",
            " inflated: org/openkoreantext/processor/util/substantives/modifier.txt\n",
            " inflated: org/openkoreantext/processor/util/substantives/suffix.txt\n",
            " inflated: org/openkoreantext/processor/util/typos/typos.txt\n",
            " inflated: org/openkoreantext/processor/util/verb/eomi.txt\n",
            " inflated: org/openkoreantext/processor/util/verb/pre_eomi.txt\n",
            " inflated: org/openkoreantext/processor/util/verb/verb.txt\n",
            " inflated: org/openkoreantext/processor/util/verb/verb_prefix.txt\n",
            "  created: META-INF/maven/\n",
            "  created: META-INF/maven/org.openkoreantext/\n",
            "  created: META-INF/maven/org.openkoreantext/open-korean-text/\n",
            " inflated: META-INF/maven/org.openkoreantext/open-korean-text/pom.xml\n",
            " inflated: META-INF/maven/org.openkoreantext/open-korean-text/pom.properties\n"
          ]
        }
      ],
      "source": [
        "#inflated어쩌고 쭉뜨고 맨끝에 에러 없으면 잘된겁니다!\n",
        "!jar xvf ../open-korean-text-2.1.0.jar"
      ]
    },
    {
      "cell_type": "code",
      "execution_count": null,
      "metadata": {
        "id": "5Klmlqrdpp1V",
        "colab": {
          "base_uri": "https://localhost:8080/",
          "height": 108
        },
        "outputId": "279b97ff-20c8-4efb-ac3e-cf50e041d195"
      },
      "outputs": [
        {
          "output_type": "execute_result",
          "data": {
            "text/plain": [
              "'가몽\\n가온\\n갓세븐\\n강새이\\n게임닉가\\n관우\\n귀여미\\n규\\n김유이\\n김준면\\n까까런\\n노컷\\n누너예\\n니노\\n다마고치\\n다이무스\\n대학생\\n데이브\\n도요토미\\n동운\\n동이\\n두주니\\n디시인사이드\\n디오\\n라몹\\n라스\\n라옵\\n멍구\\n메이든\\n명덕\\n명량\\n문민정부\\n미네\\n방엘리\\n병헌\\n붓다\\n비정상회담\\n빼빼로\\n삼풍\\n샤인온미\\n성식\\n성열\\n세라문\\n세라복\\n세종대왕\\n손권\\n손책\\n쇼미더머니\\n쇼챔\\n순규\\n스라소니\\n신동아\\n신쓰패밀리\\n신아라\\n아베\\n안상홍\\n안홍준\\n여누\\n여랑\\n여포\\n연합\\n오꾸닭\\n요섭\\n웃찾사\\n원식\\n유병언\\n유비\\n유이\\n윤기형\\n이나단\\n이명박\\n이완용\\n임창용\\n자괴\\n자니윤\\n자대련\\n자유\\n재중이\\n전교조\\n정윤회\\n제갈량\\n조자룡\\n조조\\n준면\\n지오디\\n지존파\\n진영오\\n차작가\\n차트\\n창섭\\n챠트\\n첸\\n코르사주\\n하무열\\n하용파쿠\\n혁재\\n현이\\n현태\\n혜미\\n'"
            ],
            "application/vnd.google.colaboratory.intrinsic+json": {
              "type": "string"
            }
          },
          "metadata": {},
          "execution_count": 9
        }
      ],
      "source": [
        "# 사용자 사전 열기\n",
        "with open(f\"/usr/local/lib/python3.10/dist-packages/konlpy/java/temp_fix/org/openkoreantext/processor/util/noun/names.txt\") as f:\n",
        "    data = f.read()\n",
        "data"
      ]
    },
    {
      "cell_type": "code",
      "execution_count": null,
      "metadata": {
        "id": "YOHjCgTspypO",
        "colab": {
          "base_uri": "https://localhost:8080/",
          "height": 218
        },
        "outputId": "384681e8-0179-4787-f9e1-505b5f45d2fb"
      },
      "outputs": [
        {
          "output_type": "execute_result",
          "data": {
            "text/plain": [
              "'가몽\\n가온\\n갓세븐\\n강새이\\n게임닉가\\n관우\\n귀여미\\n규\\n김유이\\n김준면\\n까까런\\n노컷\\n누너예\\n니노\\n다마고치\\n다이무스\\n대학생\\n데이브\\n도요토미\\n동운\\n동이\\n두주니\\n디시인사이드\\n디오\\n라몹\\n라스\\n라옵\\n멍구\\n메이든\\n명덕\\n명량\\n문민정부\\n미네\\n방엘리\\n병헌\\n붓다\\n비정상회담\\n빼빼로\\n삼풍\\n샤인온미\\n성식\\n성열\\n세라문\\n세라복\\n세종대왕\\n손권\\n손책\\n쇼미더머니\\n쇼챔\\n순규\\n스라소니\\n신동아\\n신쓰패밀리\\n신아라\\n아베\\n안상홍\\n안홍준\\n여누\\n여랑\\n여포\\n연합\\n오꾸닭\\n요섭\\n웃찾사\\n원식\\n유병언\\n유비\\n유이\\n윤기형\\n이나단\\n이명박\\n이완용\\n임창용\\n자괴\\n자니윤\\n자대련\\n자유\\n재중이\\n전교조\\n정윤회\\n제갈량\\n조자룡\\n조조\\n준면\\n지오디\\n지존파\\n진영오\\n차작가\\n차트\\n창섭\\n챠트\\n첸\\n코르사주\\n하무열\\n하용파쿠\\n혁재\\n현이\\n현태\\n혜미\\n경영대학원\\n사회봉사센터\\n학생상담센터\\n외국어연수평가원\\n공자아카데미\\n다문화교육원\\n원스톱서비스센터\\n종합정보시스템\\n학생지원팀\\n외교통상연구센터\\n학생복지위원회\\n학복위원회\\n국제교류팀\\nEU센터\\nEU연구소\\n글로벌캠퍼스\\n서울캠퍼스\\n행정지원처장\\n국제학사\\n국제학생지원팀\\n정보통신팀\\n정보지원처\\n진로취업지원센터\\n동남아연구소\\n외국문학연구소\\n국제학사\\n학교법인\\n동원육영회\\n학교법인동원육영회\\n언어연구소\\n러시아연구소\\n학사운영팀\\nFLEX센터\\n학생지원장학팀\\n인재개발처\\n세계문화예술경영융합전공\\n세계문화예술경영\\n융합전공\\n영어대학\\nELLT학과\\n영미문학·문화학과\\nEICC학과\\n서양어대학\\n프랑스어학부\\n프랑스응용어문학전공\\nFATI전공\\n프랑스ㆍEU전공\\n독일어과\\n노어과\\n스페인어과\\n이탈리아어과\\n포르투갈어과\\n네덜란드어과\\n스칸디나비아어과\\n아시아언어문화대학\\n말레이ㆍ인도네시아어과\\n아랍어과\\n태국어과\\n베트남어과\\n인도어과\\n터키ㆍ아제르바이잔어과\\n이란어과\\n몽골어과\\n중국어대학\\n중국언어문화학부\\n중국언어문화전공\\n중국외교통상학부\\n중국외교통상전공\\n일본어대학\\n일본언어문화학부\\n일본언어문화전공\\n융합일본지역학부\\n융합일본지역전공\\n사회과학대학\\n정치외교학과\\n행정학과\\n미디어커뮤니케이션학부\\n언론ㆍ정보전공\\n광고ㆍPRㆍ브랜딩전공\\n방송ㆍ영상ㆍ뉴미디어전공\\n상경대학\\n국제통상학과\\n경제학부\\n경제학전공\\n경영대학\\n경영학부\\n경영학전공\\n사범대학\\n영어교육과\\n프랑스어교육과\\n독일어교육과\\n한국어교육과\\n중국어교육과\\n국제학부\\n국제학전공\\nLanguage & Diplomacy학부\\nLanguage & Diplomacy전공\\nLanguage & Trade학부\\nLanguage & Trade전공\\nKFL학부\\n외국어로서의한국어교육전공\\n외국어로서의한국어통번역전공\\n인문대학\\n인문과학계열\\n철학과\\n사학과\\n언어인지과학과\\n지식콘텐츠학부\\n지식콘텐츠전공\\n통번역대학\\n영어통번역학부\\n영어통번역학전공\\n영미권통상통번역전공\\n영미문학ㆍ번역전공\\nTESOL영어학전공\\n독일어통번역학과\\n스페인어통번역학과\\n이탈리아어통번역학과\\n중국어통번역학과\\n일본어통번역학과\\n아랍어통번역학과\\n말레이･인도네시아어통번역학과\\n태국어통번역학과\\n동유럽학대학\\n폴란드어과\\n루마니아어과\\n체코ㆍ슬로바키아어과\\n헝가리어과\\n세르비아ㆍ크로아티아어과\\n우크라이나어과\\n국제지역대학\\n프랑스학과\\n브라질학과\\n그리스ㆍ불가리아학과\\n인도학과\\n중앙아시아학과\\n아프리카학부\\n동아프리카어전공\\n서아프리카어전공\\n남아프리카어전공\\n러시아학과\\n국제스포츠레저학부\\n국제스포츠레저전공\\n한국학과\\n경상대학\\nGlobal Business & Technology학부\\nGlobal Business & Technology전공\\n국제금융학과\\n자연과학대학\\n수학과\\n통계학과\\n전자물리학과\\n환경학과\\n생명공학과\\n화학과\\n공과대학\\n컴퓨터·전자시스템공학부\\n컴퓨터·전자시스템공학전공\\n정보통신공학과\\n전자공학과\\n산업경영공학과\\n9바이오메디컬공학부\\n바이오메디컬공학전공\\n전략기획팀\\n교수학습개발부\\n교육선진화센터\\n디지털서비스팀\\n비상대책위원회\\n임용고시반\\n시설관리팀\\n글로벌정치연구소\\n대학일자리본부\\n서울평생교육원\\n외국어교육센터\\n지식출판원\\n행정지원처장\\n일반대학원\\n통번역대학원\\n국제지역대학원\\n경영대학원(주간)\\n경영대학원(야간)\\n교육대학원\\n정치행정언론대학원\\nTESOL대학원\\n법학전문대학원\\nKFL대학원\\n한국외대학군단\\n학군단\\n전략홍보팀\\n언론정보연구소\\n사법연구실\\n모네EU센터\\n외대교육방송국\\n행정고시연구실\\n역사문화연구소\\n한국외대\\n한국외국어대학교\\n설명회\\n세미오시스\\n학년도\\n인도연구소\\n자기이해\\n게시물\\n한중\\n외국문학연구소장\\n대외협력처\\n발전협력팀\\n국제교류처\\n외국인유학생회\\n지원서\\n소속\\n기관명\\n상영회\\n사이버관\\n소강당\\n정보기록학연구센터\\n동대문구\\n동대문구청\\n모현읍\\n외대로\\n교양관\\n콜로키움\\n한국장학재단\\n1학기\\n2학기\\n2018학년도\\n2018년도\\n2018년\\n2019학년도\\n2019년\\n2019년도\\n2020학년도\\n2020년도\\n2020년\\n2021학년도\\n2021년도\\n2021년\\n2022학년도\\n2022년도\\n2022년\\n2023학년도\\n2023년도\\n2023년\\n2024학년도\\n2024년도\\n2024년\\n이수\\n학기\\n대하여\\n아래\\n수강편람\\n이중전공\\n수강신청함\\n수강신청\\n예비수강신청\\n교무처장\\n수강료\\n등록기간\\n수강신청자\\n미수강신청자\\n납부불가\\n핫링크\\n고지서출력\\n가상계좌\\n붙임파일\\n모바일앱\\n내역\\n인터넷뱅킹\\n텔레뱅킹\\n개시일\\n신청\\n마감\\n마감일\\n수강취소\\n수강변경\\\\종합정보화면\\n계절학기\\n부분환불\\n계절학기\\\\학년도\\n접수일\\n학석사\\n학사\\n석사\\n연계\\n과정생\\n접수처\\n학사종합지원센터\\n양캠퍼스\\n통번역\\n이수\\n미배정\\n부전공\\\\여석\\n이수\\n지원\\n학사종합지원센터\\n한국예술종합학교\\n특성화\\n수강편람\\n실용외국어\\n공동교양\\n여석\\\\졸업\\n사정\\n결과\\n확정자\\n불가자\\n개강일\\n우리대학교\\n우리대학\\n안내문\\n학위\\n학위증\\n코로나바이러스\\n신종코로나바이러스\\nHUFS\\n양캠퍼스\\n서울캠퍼스\\n글로벌캠퍼스\\n서울글로벌캠퍼스\\n서울·글로벌캠퍼스\\n우리은행\\n단과대학\\n졸업시험\\n논문\\n제적\\n졸업요건\\n지역학사\\n지역전문가과정\\n수료졸업대기\\n사회과학전공\\n교직\\n실용외국어\\n군입대\\n입영통지서\\n미비\\n미충족\\n등록휴학\\n휴학\\n전역일\\n증빙서류\\n개강\\n종강\\n학사일정\\n행사명\\n조치사항\\n참고사항\\n공고\\n부서명\\n개설학과\\n학수번호\\\\교과목명\\\\시간\\n교강사명\\n강의시간\\n폐강공고\\n일정\\n단과대\\n배부처\\n문의\\n어문학관\\n학생회관\\n바이오메디컬공학부\\n졸업증명서\\n문의\\n전화\\\\문의전화\\n원스톱서비스센터\\n졸업예정증명서\\n편입생\\n신입생\\n신편입생\\n아래\\nQR코드\\n지양하다\\n투명성\\n공정성\\n외국인교환학생\\n외국인방문학생\\n첫학기\\n영어진단평가\\n원격\\n비대면\\ne-Class\\neclass\\n이클래스\\n안내하다\\n전자출결\\n전자출결시스템\\n체계적인\\n엄정성\\n공고\\n코로나19\\n일반휴학\\n신청\\n별도문의\\nCOVID-19\\nCovid19\\\\covid19\\n중간시험\\\\기말시험\\n응시인원\\nCommunicativeEnglish\\nLS\\nL/S\\n우리대학\\n콜로키움\\nEU연구소\\n인문사회연구사업단\\n온·오프라인\\n온오프라인\\nHK+사업단\\n국제관\\n인도연구소\\n패널티\\n수습국원\\n추가모집\\n게시물\\n외대교육방송국\\n교수학습개발원\\nFBS\\\\주한브라질대사관\\n세계여성의날\\\\스마트도서관\\n휠라아쿠쉬네트홀\\n영화\\n상영\\n한국어자막\\\\대학혁신지원사업\\n아이디어톤\\n수도권역\\n미래대학투모로우솔루션\\n미네르바헬스장\\n교육생\\n휴관\\n금모닝\\n누구나\\n회차별\\n보건실\\n대한적십자사\\n헌혈증\\n헌혈자\\n성격유형검사\\n핵심역량통합관리시스템\\n전임조교\\nHufsability\\n교과\\n비교과\\n서울학생상담센터\\n추후공지\\n청년몽땅정보통\\n마이페이지\\n문의처\\n다산콜센터\\\\특별전형\\n일반전형\\n면접전형\\n등록예치금\\n예치금\\n모집\\n학과\\n전공\\n세미오시스연구센터\\n서울학생상담센터\\n전문\\n경영대학원\\n해당일\\n접수마감일\\n해당학기\\n졸업자\\n졸업예정자\\n외국대학\\n소지자\\n한국어능력시험\\n입증서류\\n출신학교\\n주한공관영사\\n입증서류\\n학사학위\\n학사\\n최종학력\\n증명\\n학위증서\\n개인정보이용및제공동의서\\n기타서류\\n해당자\\n추천서\\n경력증명서\\n외국국적지원자\\n성적증명서\\n총점\\n사이버외대\\n군인공제회직원\\n학교교직원\\n첫학기\\n입학금\\n운영위원회\\n전형료\\n우편접수\\n입학원서\\n본인날인\\n서명함\\n수험표\\n지참\\n제출서류\\n외국어교육센터\\nK-Zone\\nNoshow\\n출석차감\\n1교시\\n2교시\\n3교시\\n4교시\\n5교시\\n6교시\\n7교시\\n8교시\\n9교시\\n10교시\\n11교시\\n12교시\\n작문\\n대학영어\\n중간시험\\n보충수업\\n추가모집\\n창업자\\nAI/SW\\n모집공고\\n모집분야\\n일반창업\\n스펙업\\n졸업대기자\\n수료생\\nSW중심대학사업단\\nAI교육원\\nSW관련학과\\n컴퓨터공학부\\n정보통신공학부\\nGBT전공\\nELLT학과\\nAI융합전공\\n데이터사이언스전공\\n바이오데이터사이언스전공\\nICT&AI세부모듈\\n수혜제외\\n초과학기생\\n초과학기\\n9학기\\n1학기\\n2학기\\n3학기\\n4학기\\n5학기\\n6학기\\n7학기\\n8학기\\n지원사항\\n팀별\\n개인별\\n사업자등록증\\n최종보고서\\n학기말\\n학기초\\n전세계\\n삼성그룹\\nLG그룹\\n주기적\\n인증테스트\\n비교과\\n굿즈\\n코로나19\\n경제적\\n지원\\n타지역\\n이에\\n랜선나눔캠퍼스\\n활동개요\\n신청기간\\n비합격\\n비선발자\\n최종합격자\\n활동불가자\\n활동혜택\\n자기소개서\\n1부\\n학습계획서\\n증빙자료\\n재학증명서\\n1차합격\\n2차합격\\n스캔\\n활동비\\\\소득세\\n지방소득세\\n문의처\\n추후공지\\n공공인재개발원\\n개인사물함\\n행정입법고시\\n2차모의고사\\n수험서적\\n사민재\\n세미나실\\n국제학생회\\n본교생\\n외국인교환학생\\n정기총회\\n뵨교재학생\\n버디프로그램\\n홍보팀\\n 기획컬처팀\\n국제교류처\\n국제교류처장\\n불합격자\\n코로나-19\\n양성판정\\n음성판정\\n양성\\n음성\\n최종합격자\\nQ&A\\n필참\\n퇴출\\n정기활동\\n이메일접수\\n시험일정\\n구분\\n시간\\n비고\\n시험장소\\n입실완료\\n인문과학관\\n졸업유예생\\n학부생들\\n코로나-19\\n학생부종합전형\\n합격수기\\n선배들\\n글로벌창업지원단\\n창업인재양성센터\\n창업동아리\\n미디어커뮤니케이션대학원\\n대학원장\\nCulture&Technology융합대학\\n지원자격\\n지원서\\n접수\\n평가요소\\n영자신문사\\nTheArgus\\n수습기자\\n디아거스\\n공식홈페이지\\n공식인스타그램\\n사회봉사센터\\n국제학사\\n우편접수\\n서울시동대문구이문로107\\n대학안전관리계획\\n붙임팡리\\n안전보건관리팀\\n동원번역상\\n서울시 동대문구 이문로 107\\n등기부등본\\n인감 도장\\n설명회\\n제고\\n임대환경\\n관리비\\n전세\\n가감율\\n서울특별시 테헤란로 98길 11\\n개인정보수집이용제공동의서\\n'"
            ],
            "application/vnd.google.colaboratory.intrinsic+json": {
              "type": "string"
            }
          },
          "metadata": {},
          "execution_count": 10
        }
      ],
      "source": [
        "#데이터추가해주기_\\n으로 이어줘야합니다\n",
        "data +='경영대학원\\n사회봉사센터\\n학생상담센터\\n외국어연수평가원\\n공자아카데미\\n다문화교육원\\n원스톱서비스센터\\n종합정보시스템\\n학생지원팀\\n외교통상연구센터\\n학생복지위원회\\n학복위원회\\n'\n",
        "data +='국제교류팀\\nEU센터\\nEU연구소\\n글로벌캠퍼스\\n서울캠퍼스\\n행정지원처장\\n국제학사\\n국제학생지원팀\\n정보통신팀\\n정보지원처\\n진로취업지원센터\\n동남아연구소\\n외국문학연구소\\n국제학사\\n'\n",
        "data +='학교법인\\n동원육영회\\n학교법인동원육영회\\n언어연구소\\n러시아연구소\\n학사운영팀\\nFLEX센터\\n학생지원장학팀\\n인재개발처\\n세계문화예술경영융합전공\\n세계문화예술경영\\n융합전공\\n'\n",
        "data +='영어대학\\nELLT학과\\n영미문학·문화학과\\nEICC학과\\n서양어대학\\n프랑스어학부\\n프랑스응용어문학전공\\nFATI전공\\n프랑스ㆍEU전공\\n독일어과\\n노어과\\n스페인어과\\n이탈리아어과\\n'\n",
        "data +='포르투갈어과\\n네덜란드어과\\n스칸디나비아어과\\n아시아언어문화대학\\n말레이ㆍ인도네시아어과\\n아랍어과\\n태국어과\\n베트남어과\\n인도어과\\n터키ㆍ아제르바이잔어과\\n이란어과\\n몽골어과\\n'\n",
        "data +='중국어대학\\n중국언어문화학부\\n중국언어문화전공\\n중국외교통상학부\\n중국외교통상전공\\n일본어대학\\n일본언어문화학부\\n일본언어문화전공\\n융합일본지역학부\\n융합일본지역전공\\n'\n",
        "data +='사회과학대학\\n정치외교학과\\n행정학과\\n미디어커뮤니케이션학부\\n언론ㆍ정보전공\\n광고ㆍPRㆍ브랜딩전공\\n방송ㆍ영상ㆍ뉴미디어전공\\n상경대학\\n국제통상학과\\n경제학부\\n경제학전공\\n'\n",
        "data +='경영대학\\n경영학부\\n경영학전공\\n사범대학\\n영어교육과\\n프랑스어교육과\\n독일어교육과\\n한국어교육과\\n중국어교육과\\n국제학부\\n국제학전공\\nLanguage & Diplomacy학부\\n'\n",
        "data +='Language & Diplomacy전공\\nLanguage & Trade학부\\nLanguage & Trade전공\\nKFL학부\\n외국어로서의한국어교육전공\\n외국어로서의한국어통번역전공\\n인문대학\\n인문과학계열\\n철학과\\n사학과\\n'\n",
        "data +='언어인지과학과\\n지식콘텐츠학부\\n지식콘텐츠전공\\n통번역대학\\n영어통번역학부\\n영어통번역학전공\\n영미권통상통번역전공\\n영미문학ㆍ번역전공\\nTESOL영어학전공\\n독일어통번역학과\\n'\n",
        "data +='스페인어통번역학과\\n이탈리아어통번역학과\\n중국어통번역학과\\n일본어통번역학과\\n아랍어통번역학과\\n말레이･인도네시아어통번역학과\\n태국어통번역학과\\n동유럽학대학\\n폴란드어과\\n'\n",
        "data +='루마니아어과\\n체코ㆍ슬로바키아어과\\n헝가리어과\\n세르비아ㆍ크로아티아어과\\n우크라이나어과\\n국제지역대학\\n프랑스학과\\n브라질학과\\n그리스ㆍ불가리아학과\\n인도학과\\n중앙아시아학과\\n'\n",
        "data +='아프리카학부\\n동아프리카어전공\\n서아프리카어전공\\n남아프리카어전공\\n러시아학과\\n국제스포츠레저학부\\n국제스포츠레저전공\\n한국학과\\n경상대학\\nGlobal Business & Technology학부\\n'\n",
        "data +='Global Business & Technology전공\\n국제금융학과\\n자연과학대학\\n수학과\\n통계학과\\n전자물리학과\\n환경학과\\n생명공학과\\n화학과\\n공과대학\\n컴퓨터·전자시스템공학부\\n'\n",
        "data +='컴퓨터·전자시스템공학전공\\n정보통신공학과\\n전자공학과\\n산업경영공학과\\n9바이오메디컬공학부\\n바이오메디컬공학전공\\n전략기획팀\\n교수학습개발부\\n교육선진화센터\\n디지털서비스팀\\n'\n",
        "data +='비상대책위원회\\n임용고시반\\n시설관리팀\\n글로벌정치연구소\\n대학일자리본부\\n서울평생교육원\\n외국어교육센터\\n지식출판원\\n행정지원처장\\n일반대학원\\n통번역대학원\\n국제지역대학원\\n'\n",
        "data +='경영대학원(주간)\\n경영대학원(야간)\\n교육대학원\\n정치행정언론대학원\\nTESOL대학원\\n법학전문대학원\\nKFL대학원\\n한국외대학군단\\n학군단\\n전략홍보팀\\n언론정보연구소\\n사법연구실\\n'\n",
        "data +='모네EU센터\\n외대교육방송국\\n행정고시연구실\\n역사문화연구소\\n한국외대\\n한국외국어대학교\\n설명회\\n세미오시스\\n학년도\\n인도연구소\\n자기이해\\n게시물\\n한중\\n외국문학연구소장\\n'\n",
        "data +='대외협력처\\n발전협력팀\\n국제교류처\\n외국인유학생회\\n지원서\\n소속\\n기관명\\n상영회\\n사이버관\\n소강당\\n정보기록학연구센터\\n동대문구\\n동대문구청\\n모현읍\\n외대로\\n교양관\\n콜로키움\\n'\n",
        "data +='한국장학재단\\n1학기\\n2학기\\n2018학년도\\n2018년도\\n2018년\\n2019학년도\\n2019년\\n2019년도\\n2020학년도\\n2020년도\\n2020년\\n2021학년도\\n2021년도\\n2021년\\n2022학년도\\n2022년도\\n2022년\\n'\n",
        "data +='2023학년도\\n2023년도\\n2023년\\n2024학년도\\n2024년도\\n2024년\\n이수\\n학기\\n대하여\\n아래\\n수강편람\\n이중전공\\n수강신청함\\n수강신청\\n예비수강신청\\n교무처장\\n수강료\\n등록기간\\n'\n",
        "data +=\"수강신청자\\n미수강신청자\\n납부불가\\n핫링크\\n고지서출력\\n가상계좌\\n붙임파일\\n모바일앱\\n내역\\n인터넷뱅킹\\n텔레뱅킹\\n개시일\\n신청\\n마감\\n마감일\\n수강취소\\n수강변경\\종합정보화면\\n\"\n",
        "data +=\"계절학기\\n부분환불\\n계절학기\\학년도\\n접수일\\n학석사\\n학사\\n석사\\n연계\\n과정생\\n접수처\\n학사종합지원센터\\n양캠퍼스\\n통번역\\n이수\\n미배정\\n부전공\\여석\\n이수\\n지원\\n학사종합지원센터\\n\"\n",
        "data +=\"한국예술종합학교\\n특성화\\n수강편람\\n실용외국어\\n공동교양\\n여석\\졸업\\n사정\\n결과\\n확정자\\n불가자\\n개강일\\n우리대학교\\n우리대학\\n안내문\\n학위\\n학위증\\n코로나바이러스\\n\"\n",
        "data +=\"신종코로나바이러스\\nHUFS\\n양캠퍼스\\n서울캠퍼스\\n글로벌캠퍼스\\n서울글로벌캠퍼스\\n서울·글로벌캠퍼스\\n우리은행\\n단과대학\\n졸업시험\\n논문\\n제적\\n졸업요건\\n지역학사\\n지역전문가과정\\n\"\n",
        "data +=\"수료졸업대기\\n사회과학전공\\n교직\\n실용외국어\\n군입대\\n입영통지서\\n미비\\n미충족\\n등록휴학\\n휴학\\n전역일\\n증빙서류\\n개강\\n종강\\n학사일정\\n행사명\\n조치사항\\n참고사항\\n공고\\n부서명\\n\"\n",
        "data +=\"개설학과\\n학수번호\\교과목명\\시간\\n교강사명\\n강의시간\\n폐강공고\\n일정\\n단과대\\n배부처\\n문의\\n어문학관\\n학생회관\\n바이오메디컬공학부\\n졸업증명서\\n문의\\n전화\\문의전화\\n\"\n",
        "data +=\"원스톱서비스센터\\n졸업예정증명서\\n편입생\\n신입생\\n신편입생\\n아래\\nQR코드\\n지양하다\\n투명성\\n공정성\\n외국인교환학생\\n외국인방문학생\\n첫학기\\n영어진단평가\\n원격\\n비대면\\ne-Class\\n\"\n",
        "data +=\"eclass\\n이클래스\\n안내하다\\n전자출결\\n전자출결시스템\\n체계적인\\n엄정성\\n공고\\n코로나19\\n일반휴학\\n신청\\n별도문의\\nCOVID-19\\nCovid19\\covid19\\n중간시험\\기말시험\\n응시인원\\n\"\n",
        "data +=\"CommunicativeEnglish\\nLS\\nL/S\\n우리대학\\n콜로키움\\nEU연구소\\n인문사회연구사업단\\n온·오프라인\\n온오프라인\\nHK+사업단\\n국제관\\n인도연구소\\n패널티\\n수습국원\\n추가모집\\n게시물\\n\"\n",
        "data +=\"외대교육방송국\\n교수학습개발원\\nFBS\\주한브라질대사관\\n세계여성의날\\스마트도서관\\n휠라아쿠쉬네트홀\\n영화\\n상영\\n한국어자막\\대학혁신지원사업\\n아이디어톤\\n수도권역\\n\"\n",
        "data +=\"미래대학투모로우솔루션\\n미네르바헬스장\\n교육생\\n휴관\\n금모닝\\n누구나\\n회차별\\n보건실\\n대한적십자사\\n헌혈증\\n헌혈자\\n성격유형검사\\n핵심역량통합관리시스템\\n전임조교\\n\"\n",
        "data +=\"Hufsability\\n교과\\n비교과\\n서울학생상담센터\\n추후공지\\n청년몽땅정보통\\n마이페이지\\n문의처\\n다산콜센터\\특별전형\\n일반전형\\n면접전형\\n등록예치금\\n예치금\\n모집\\n학과\\n전공\\n\"\n",
        "data +=\"세미오시스연구센터\\n서울학생상담센터\\n전문\\n경영대학원\\n해당일\\n접수마감일\\n해당학기\\n졸업자\\n졸업예정자\\n외국대학\\n소지자\\n한국어능력시험\\n입증서류\\n출신학교\\n주한공관영사\\n\"\n",
        "data +=\"입증서류\\n학사학위\\n학사\\n최종학력\\n증명\\n학위증서\\n개인정보이용및제공동의서\\n기타서류\\n해당자\\n추천서\\n경력증명서\\n외국국적지원자\\n성적증명서\\n총점\\n사이버외대\\n군인공제회직원\\n\"\n",
        "data +=\"학교교직원\\n첫학기\\n입학금\\n운영위원회\\n전형료\\n우편접수\\n입학원서\\n본인날인\\n서명함\\n수험표\\n지참\\n제출서류\\n외국어교육센터\\nK-Zone\\nNoshow\\n출석차감\\n1교시\\n2교시\\n3교시\\n\"\n",
        "data +=\"4교시\\n5교시\\n6교시\\n7교시\\n8교시\\n9교시\\n10교시\\n11교시\\n12교시\\n작문\\n대학영어\\n중간시험\\n보충수업\\n추가모집\\n창업자\\nAI/SW\\n모집공고\\n모집분야\\n일반창업\\n스펙업\\n졸업대기자\\n\"\n",
        "data +=\"수료생\\nSW중심대학사업단\\nAI교육원\\nSW관련학과\\n컴퓨터공학부\\n정보통신공학부\\nGBT전공\\nELLT학과\\nAI융합전공\\n데이터사이언스전공\\n바이오데이터사이언스전공\\nICT&AI세부모듈\\n\"\n",
        "data +=\"수혜제외\\n초과학기생\\n초과학기\\n9학기\\n1학기\\n2학기\\n3학기\\n4학기\\n5학기\\n6학기\\n7학기\\n8학기\\n지원사항\\n팀별\\n개인별\\n사업자등록증\\n최종보고서\\n학기말\\n학기초\\n전세계\\n삼성그룹\\n\"\n",
        "data +=\"LG그룹\\n주기적\\n인증테스트\\n비교과\\n굿즈\\n코로나19\\n경제적\\n지원\\n타지역\\n이에\\n랜선나눔캠퍼스\\n활동개요\\n신청기간\\n비합격\\n비선발자\\n최종합격자\\n활동불가자\\n활동혜택\\n\"\n",
        "data +=\"자기소개서\\n1부\\n학습계획서\\n증빙자료\\n재학증명서\\n1차합격\\n2차합격\\n스캔\\n활동비\\소득세\\n지방소득세\\n문의처\\n추후공지\\n공공인재개발원\\n개인사물함\\n행정입법고시\\n2차모의고사\\n\"\n",
        "data +=\"수험서적\\n사민재\\n세미나실\\n국제학생회\\n본교생\\n외국인교환학생\\n정기총회\\n뵨교재학생\\n버디프로그램\\n홍보팀\\n 기획컬처팀\\n국제교류처\\n국제교류처장\\n불합격자\\n코로나-19\\n양성판정\\n\"\n",
        "data +=\"음성판정\\n양성\\n음성\\n최종합격자\\nQ&A\\n필참\\n퇴출\\n정기활동\\n이메일접수\\n시험일정\\n구분\\n시간\\n비고\\n시험장소\\n입실완료\\n인문과학관\\n졸업유예생\\n학부생들\\n코로나-19\\n\"\n",
        "data +=\"학생부종합전형\\n합격수기\\n선배들\\n글로벌창업지원단\\n창업인재양성센터\\n창업동아리\\n미디어커뮤니케이션대학원\\n대학원장\\nCulture&Technology융합대학\\n지원자격\\n지원서\\n접수\\n\"\n",
        "data +=\"평가요소\\n영자신문사\\nTheArgus\\n수습기자\\n디아거스\\n공식홈페이지\\n공식인스타그램\\n사회봉사센터\\n국제학사\\n우편접수\\n서울시동대문구이문로107\\n대학안전관리계획\\n붙임팡리\\n\"\n",
        "data +=\"안전보건관리팀\\n동원번역상\\n서울시 동대문구 이문로 107\\n등기부등본\\n인감 도장\\n설명회\\n제고\\n임대환경\\n관리비\\n전세\\n가감율\\n서울특별시 테헤란로 98길 11\\n개인정보수집이용제공동의서\\n\"\n",
        "\n",
        "# 파일 새롭게 저장\n",
        "with open(\"/usr/local/lib/python3.10/dist-packages/konlpy/java/temp_fix/org/openkoreantext/processor/util/noun/names.txt\", 'w') as f:\n",
        "    f.write(data)\n",
        "data"
      ]
    },
    {
      "cell_type": "code",
      "execution_count": null,
      "metadata": {
        "id": "16UbTnXWp7zH",
        "colab": {
          "base_uri": "https://localhost:8080/"
        },
        "outputId": "ecfbe5a1-e804-4a29-f167-8c9c625ffc5f"
      },
      "outputs": [
        {
          "output_type": "stream",
          "name": "stdout",
          "text": [
            "added manifest\n",
            "ignoring entry META-INF/\n",
            "ignoring entry META-INF/MANIFEST.MF\n",
            "adding: META-INF/maven/(in = 0) (out= 0)(stored 0%)\n",
            "adding: META-INF/maven/org.openkoreantext/(in = 0) (out= 0)(stored 0%)\n",
            "adding: META-INF/maven/org.openkoreantext/open-korean-text/(in = 0) (out= 0)(stored 0%)\n",
            "adding: META-INF/maven/org.openkoreantext/open-korean-text/pom.xml(in = 9127) (out= 2208)(deflated 75%)\n",
            "adding: META-INF/maven/org.openkoreantext/open-korean-text/pom.properties(in = 119) (out= 110)(deflated 7%)\n",
            "adding: org/(in = 0) (out= 0)(stored 0%)\n",
            "adding: org/openkoreantext/(in = 0) (out= 0)(stored 0%)\n",
            "adding: org/openkoreantext/processor/(in = 0) (out= 0)(stored 0%)\n",
            "adding: org/openkoreantext/processor/KoreanPosJava.class(in = 2457) (out= 1241)(deflated 49%)\n",
            "adding: org/openkoreantext/processor/KoreanTokenJava.class(in = 1976) (out= 931)(deflated 52%)\n",
            "adding: org/openkoreantext/processor/qa/(in = 0) (out= 0)(stored 0%)\n",
            "adding: org/openkoreantext/processor/qa/BatchTokenizeTweets$.class(in = 10867) (out= 4401)(deflated 59%)\n",
            "adding: org/openkoreantext/processor/qa/BatchGetUnknownNouns$.class(in = 8751) (out= 3532)(deflated 59%)\n",
            "adding: org/openkoreantext/processor/qa/KoreanProcessorSandbox$.class(in = 1464) (out= 823)(deflated 43%)\n",
            "adding: org/openkoreantext/processor/qa/BatchTokenizeTweets.class(in = 2720) (out= 2031)(deflated 25%)\n",
            "adding: org/openkoreantext/processor/qa/BatchGetUnknownNouns$ChunkWithTweet.class(in = 3080) (out= 1338)(deflated 56%)\n",
            "adding: org/openkoreantext/processor/qa/KoreanProcessorSandbox.class(in = 824) (out= 575)(deflated 30%)\n",
            "adding: org/openkoreantext/processor/qa/BatchGetUnknownNouns.class(in = 2307) (out= 1702)(deflated 26%)\n",
            "adding: org/openkoreantext/processor/qa/BatchTokenizeTweets$ParseTime$.class(in = 2418) (out= 1015)(deflated 58%)\n",
            "adding: org/openkoreantext/processor/qa/BatchGetUnknownNouns$ChunkWithTweet$.class(in = 2376) (out= 952)(deflated 59%)\n",
            "adding: org/openkoreantext/processor/qa/BatchTokenizeTweets$ParseTime.class(in = 3153) (out= 1446)(deflated 54%)\n",
            "adding: org/openkoreantext/processor/OpenKoreanTextProcessorJava.class(in = 5901) (out= 1995)(deflated 66%)\n",
            "adding: org/openkoreantext/processor/OpenKoreanTextProcessor.class(in = 4428) (out= 1997)(deflated 54%)\n",
            "adding: org/openkoreantext/processor/tokenizer/(in = 0) (out= 0)(stored 0%)\n",
            "adding: org/openkoreantext/processor/tokenizer/KoreanChunker$.class(in = 17975) (out= 6790)(deflated 62%)\n",
            "adding: org/openkoreantext/processor/tokenizer/ParsedChunk.class(in = 20517) (out= 8914)(deflated 56%)\n",
            "adding: org/openkoreantext/processor/tokenizer/KoreanTokenizer$PossibleTrie$.class(in = 2862) (out= 1067)(deflated 62%)\n",
            "adding: org/openkoreantext/processor/tokenizer/KoreanChunker.class(in = 4232) (out= 2887)(deflated 31%)\n",
            "adding: org/openkoreantext/processor/tokenizer/KoreanTokenizer$KoreanToken.class(in = 6336) (out= 2633)(deflated 58%)\n",
            "adding: org/openkoreantext/processor/tokenizer/KoreanSentenceSplitter.class(in = 1092) (out= 712)(deflated 34%)\n",
            "adding: org/openkoreantext/processor/tokenizer/KoreanDetokenizer.class(in = 1660) (out= 1133)(deflated 31%)\n",
            "adding: org/openkoreantext/processor/tokenizer/Sentence.class(in = 5985) (out= 3125)(deflated 47%)\n",
            "adding: org/openkoreantext/processor/tokenizer/KoreanChunker$ChunkMatch$.class(in = 2893) (out= 1136)(deflated 60%)\n",
            "adding: org/openkoreantext/processor/tokenizer/KoreanTokenizer$KoreanToken$.class(in = 3976) (out= 1402)(deflated 64%)\n",
            "adding: org/openkoreantext/processor/tokenizer/KoreanDetokenizer$.class(in = 9889) (out= 4174)(deflated 57%)\n",
            "adding: org/openkoreantext/processor/tokenizer/KoreanSentenceSplitter$.class(in = 3359) (out= 1497)(deflated 55%)\n",
            "adding: org/openkoreantext/processor/tokenizer/KoreanTokenizer.class(in = 6968) (out= 4384)(deflated 37%)\n",
            "adding: org/openkoreantext/processor/tokenizer/KoreanTokenizer$CandidateParse$.class(in = 3459) (out= 1111)(deflated 67%)\n",
            "adding: org/openkoreantext/processor/tokenizer/KoreanChunker$ChunkMatch.class(in = 4043) (out= 1704)(deflated 57%)\n",
            "adding: org/openkoreantext/processor/tokenizer/KoreanTokenizer$.class(in = 25564) (out= 8451)(deflated 66%)\n",
            "adding: org/openkoreantext/processor/tokenizer/TokenizerProfile.class(in = 16403) (out= 6666)(deflated 59%)\n",
            "adding: org/openkoreantext/processor/tokenizer/Sentence$.class(in = 2339) (out= 1012)(deflated 56%)\n",
            "adding: org/openkoreantext/processor/tokenizer/KoreanChunk.class(in = 5611) (out= 2907)(deflated 48%)\n",
            "adding: org/openkoreantext/processor/tokenizer/KoreanChunk$.class(in = 2361) (out= 1010)(deflated 57%)\n",
            "adding: org/openkoreantext/processor/tokenizer/KoreanTokenizer$CandidateParse.class(in = 4616) (out= 1645)(deflated 64%)\n",
            "adding: org/openkoreantext/processor/tokenizer/ParsedChunk$.class(in = 3973) (out= 1500)(deflated 62%)\n",
            "adding: org/openkoreantext/processor/tokenizer/KoreanTokenizer$PossibleTrie.class(in = 3399) (out= 1429)(deflated 57%)\n",
            "adding: org/openkoreantext/processor/tokenizer/TokenizerProfile$.class(in = 8169) (out= 2408)(deflated 70%)\n",
            "adding: org/openkoreantext/processor/util/(in = 0) (out= 0)(stored 0%)\n",
            "adding: org/openkoreantext/processor/util/josa/(in = 0) (out= 0)(stored 0%)\n",
            "adding: org/openkoreantext/processor/util/josa/josa.txt(in = 5219) (out= 1476)(deflated 71%)\n",
            "adding: org/openkoreantext/processor/util/CharArrayMap.class(in = 11923) (out= 4878)(deflated 59%)\n",
            "adding: org/openkoreantext/processor/util/CharArrayMap$MapEntry.class(in = 2433) (out= 1078)(deflated 55%)\n",
            "adding: org/openkoreantext/processor/util/adjective/(in = 0) (out= 0)(stored 0%)\n",
            "adding: org/openkoreantext/processor/util/adjective/adjective.txt(in = 27250) (out= 9357)(deflated 65%)\n",
            "adding: org/openkoreantext/processor/util/CharArrayMap$EntrySet.class(in = 2788) (out= 1181)(deflated 57%)\n",
            "adding: org/openkoreantext/processor/util/auxiliary/(in = 0) (out= 0)(stored 0%)\n",
            "adding: org/openkoreantext/processor/util/auxiliary/determiner.txt(in = 63) (out= 63)(deflated 0%)\n",
            "adding: org/openkoreantext/processor/util/auxiliary/exclamation.txt(in = 1759) (out= 757)(deflated 56%)\n",
            "adding: org/openkoreantext/processor/util/auxiliary/conjunctions.txt(in = 398) (out= 189)(deflated 52%)\n",
            "adding: org/openkoreantext/processor/util/KoreanPos$.class(in = 12173) (out= 4669)(deflated 61%)\n",
            "adding: org/openkoreantext/processor/util/KoreanPos$KoreanPosTrie$.class(in = 3157) (out= 1089)(deflated 65%)\n",
            "adding: org/openkoreantext/processor/util/substantives/(in = 0) (out= 0)(stored 0%)\n",
            "adding: org/openkoreantext/processor/util/substantives/suffix.txt(in = 325) (out= 224)(deflated 31%)\n",
            "adding: org/openkoreantext/processor/util/substantives/family_names.txt(in = 299) (out= 197)(deflated 34%)\n",
            "adding: org/openkoreantext/processor/util/substantives/modifier.txt(in = 3395) (out= 1346)(deflated 60%)\n",
            "adding: org/openkoreantext/processor/util/substantives/given_names.txt(in = 1407) (out= 609)(deflated 56%)\n",
            "adding: org/openkoreantext/processor/util/CharArrayMap$UnmodifiableCharArrayMap.class(in = 3062) (out= 859)(deflated 71%)\n",
            "adding: org/openkoreantext/processor/util/CharArrayMap$EmptyCharArrayMap.class(in = 2053) (out= 725)(deflated 64%)\n",
            "adding: org/openkoreantext/processor/util/KoreanSubstantive.class(in = 1336) (out= 1087)(deflated 18%)\n",
            "adding: org/openkoreantext/processor/util/CharacterUtils$Java5CharacterUtils.class(in = 2824) (out= 1393)(deflated 50%)\n",
            "adding: org/openkoreantext/processor/util/Hangul.class(in = 3981) (out= 2731)(deflated 31%)\n",
            "adding: org/openkoreantext/processor/util/CharArraySet.class(in = 4886) (out= 1944)(deflated 60%)\n",
            "adding: org/openkoreantext/processor/util/KoreanSubstantive$.class(in = 14990) (out= 6195)(deflated 58%)\n",
            "adding: org/openkoreantext/processor/util/KoreanPos.class(in = 6890) (out= 3877)(deflated 43%)\n",
            "adding: org/openkoreantext/processor/util/Hangul$DoubleCoda$.class(in = 2155) (out= 963)(deflated 55%)\n",
            "adding: org/openkoreantext/processor/util/Hangul$.class(in = 7625) (out= 3114)(deflated 59%)\n",
            "adding: org/openkoreantext/processor/util/CharacterUtils.class(in = 3703) (out= 1716)(deflated 53%)\n",
            "adding: org/openkoreantext/processor/util/CharacterUtils$CharacterBuffer.class(in = 1634) (out= 659)(deflated 59%)\n",
            "adding: org/openkoreantext/processor/util/CharacterUtils$Java4CharacterUtils.class(in = 2577) (out= 1282)(deflated 50%)\n",
            "adding: org/openkoreantext/processor/util/CharArrayMap$EntryIterator.class(in = 3118) (out= 1270)(deflated 59%)\n",
            "adding: org/openkoreantext/processor/util/KoreanDictionaryProvider.class(in = 3430) (out= 2003)(deflated 41%)\n",
            "adding: org/openkoreantext/processor/util/example_tweets.txt(in = 86271) (out= 38336)(deflated 55%)\n",
            "adding: org/openkoreantext/processor/util/noun/(in = 0) (out= 0)(stored 0%)\n",
            "adding: org/openkoreantext/processor/util/noun/names.txt(in = 11236) (out= 4727)(deflated 57%)\n",
            "adding: org/openkoreantext/processor/util/noun/company_names.txt(in = 1631) (out= 905)(deflated 44%)\n",
            "adding: org/openkoreantext/processor/util/noun/foreign.txt(in = 10485) (out= 4686)(deflated 55%)\n",
            "adding: org/openkoreantext/processor/util/noun/twitter.txt(in = 254) (out= 162)(deflated 36%)\n",
            "adding: org/openkoreantext/processor/util/noun/bible.txt(in = 2032) (out= 1005)(deflated 50%)\n",
            "adding: org/openkoreantext/processor/util/noun/lol.txt(in = 1337) (out= 744)(deflated 44%)\n",
            "adding: org/openkoreantext/processor/util/noun/entities.txt(in = 108142) (out= 44095)(deflated 59%)\n",
            "adding: org/openkoreantext/processor/util/noun/spam.txt(in = 202) (out= 157)(deflated 22%)\n",
            "adding: org/openkoreantext/processor/util/noun/wikipedia_title_nouns.txt(in = 1971964) (out= 686708)(deflated 65%)\n",
            "adding: org/openkoreantext/processor/util/noun/slangs.txt(in = 1565) (out= 921)(deflated 41%)\n",
            "adding: org/openkoreantext/processor/util/noun/profane.txt(in = 569) (out= 337)(deflated 40%)\n",
            "adding: org/openkoreantext/processor/util/noun/congress.txt(in = 26494) (out= 9351)(deflated 64%)\n",
            "adding: org/openkoreantext/processor/util/noun/kpop.txt(in = 5371) (out= 2495)(deflated 53%)\n",
            "adding: org/openkoreantext/processor/util/noun/pokemon.txt(in = 1781) (out= 965)(deflated 45%)\n",
            "adding: org/openkoreantext/processor/util/noun/geolocations.txt(in = 5423) (out= 2267)(deflated 58%)\n",
            "adding: org/openkoreantext/processor/util/noun/nouns.txt(in = 219319) (out= 84134)(deflated 61%)\n",
            "adding: org/openkoreantext/processor/util/KoreanPos$KoreanPosTrie.class(in = 4390) (out= 1610)(deflated 63%)\n",
            "adding: org/openkoreantext/processor/util/typos/(in = 0) (out= 0)(stored 0%)\n",
            "adding: org/openkoreantext/processor/util/typos/typos.txt(in = 5146) (out= 2300)(deflated 55%)\n",
            "adding: org/openkoreantext/processor/util/Hangul$HangulChar$.class(in = 2389) (out= 1022)(deflated 57%)\n",
            "adding: org/openkoreantext/processor/util/CharArrayMap$1.class(in = 1531) (out= 571)(deflated 62%)\n",
            "adding: org/openkoreantext/processor/util/Hangul$DoubleCoda.class(in = 2930) (out= 1348)(deflated 53%)\n",
            "adding: org/openkoreantext/processor/util/verb/(in = 0) (out= 0)(stored 0%)\n",
            "adding: org/openkoreantext/processor/util/verb/verb.txt(in = 32758) (out= 10723)(deflated 67%)\n",
            "adding: org/openkoreantext/processor/util/verb/pre_eomi.txt(in = 285) (out= 185)(deflated 35%)\n",
            "adding: org/openkoreantext/processor/util/verb/verb_prefix.txt(in = 47) (out= 52)(deflated -10%)\n",
            "adding: org/openkoreantext/processor/util/verb/eomi.txt(in = 12618) (out= 3556)(deflated 71%)\n",
            "adding: org/openkoreantext/processor/util/adverb/(in = 0) (out= 0)(stored 0%)\n",
            "adding: org/openkoreantext/processor/util/adverb/adverb.txt(in = 65572) (out= 18741)(deflated 71%)\n",
            "adding: org/openkoreantext/processor/util/KoreanConjugation.class(in = 1550) (out= 1237)(deflated 20%)\n",
            "adding: org/openkoreantext/processor/util/example_chunks.txt(in = 522978) (out= 163253)(deflated 68%)\n",
            "adding: org/openkoreantext/processor/util/Hangul$HangulChar.class(in = 3185) (out= 1421)(deflated 55%)\n",
            "adding: org/openkoreantext/processor/util/KoreanConjugation$.class(in = 22440) (out= 7972)(deflated 64%)\n",
            "adding: org/openkoreantext/processor/util/KoreanDictionaryProvider$.class(in = 20197) (out= 7488)(deflated 62%)\n",
            "adding: org/openkoreantext/processor/util/freq/(in = 0) (out= 0)(stored 0%)\n",
            "adding: org/openkoreantext/processor/util/freq/entity-freq.txt.gz(in = 385753) (out= 385873)(deflated 0%)\n",
            "adding: org/openkoreantext/processor/normalizer/(in = 0) (out= 0)(stored 0%)\n",
            "adding: org/openkoreantext/processor/normalizer/KoreanNormalizer.class(in = 2980) (out= 2181)(deflated 26%)\n",
            "adding: org/openkoreantext/processor/normalizer/KoreanNormalizer$Segment$.class(in = 2577) (out= 989)(deflated 61%)\n",
            "adding: org/openkoreantext/processor/normalizer/KoreanNormalizer$Segment.class(in = 3470) (out= 1422)(deflated 59%)\n",
            "adding: org/openkoreantext/processor/normalizer/KoreanNormalizer$.class(in = 11553) (out= 5102)(deflated 55%)\n",
            "adding: org/openkoreantext/processor/tools/(in = 0) (out= 0)(stored 0%)\n",
            "adding: org/openkoreantext/processor/tools/DeduplicateAndSortDictionaries$.class(in = 7154) (out= 3133)(deflated 56%)\n",
            "adding: org/openkoreantext/processor/tools/CreateParsingExamples$.class(in = 5517) (out= 2327)(deflated 57%)\n",
            "adding: org/openkoreantext/processor/tools/CreateParsingExamples$ParsingExample.class(in = 3718) (out= 1429)(deflated 61%)\n",
            "adding: org/openkoreantext/processor/tools/CreateConjugationExamples$.class(in = 5881) (out= 2385)(deflated 59%)\n",
            "adding: org/openkoreantext/processor/tools/CreateConjugationExamples.class(in = 2367) (out= 1659)(deflated 29%)\n",
            "adding: org/openkoreantext/processor/tools/UpdateAllTheExamples.class(in = 1089) (out= 756)(deflated 30%)\n",
            "adding: org/openkoreantext/processor/tools/Runnable.class(in = 964) (out= 694)(deflated 28%)\n",
            "adding: org/openkoreantext/processor/tools/CreateConjugationExamples$ConjugationExample.class(in = 3569) (out= 1415)(deflated 60%)\n",
            "adding: org/openkoreantext/processor/tools/CreateChunkParsingCandidates.class(in = 833) (out= 566)(deflated 32%)\n",
            "adding: org/openkoreantext/processor/tools/CreatePhraseExtractionExamples.class(in = 2516) (out= 1784)(deflated 29%)\n",
            "adding: org/openkoreantext/processor/tools/CreatePhraseExtractionExamples$PhraseExample$.class(in = 2974) (out= 1020)(deflated 65%)\n",
            "adding: org/openkoreantext/processor/tools/CreateParsingExamples$ParsingExample$.class(in = 2842) (out= 1010)(deflated 64%)\n",
            "adding: org/openkoreantext/processor/tools/UpdateAllTheExamples$.class(in = 4383) (out= 1794)(deflated 59%)\n",
            "adding: org/openkoreantext/processor/tools/CreateChunkParsingCandidates$.class(in = 5487) (out= 2305)(deflated 57%)\n",
            "adding: org/openkoreantext/processor/tools/CreateConjugationExamples$ConjugationExample$.class(in = 2787) (out= 997)(deflated 64%)\n",
            "adding: org/openkoreantext/processor/tools/DeduplicateAndSortDictionaries.class(in = 1117) (out= 823)(deflated 26%)\n",
            "adding: org/openkoreantext/processor/tools/CreateParsingExamples.class(in = 2427) (out= 1732)(deflated 28%)\n",
            "adding: org/openkoreantext/processor/tools/CreatePhraseExtractionExamples$.class(in = 5989) (out= 2472)(deflated 58%)\n",
            "adding: org/openkoreantext/processor/tools/CreatePhraseExtractionExamples$PhraseExample.class(in = 3825) (out= 1443)(deflated 62%)\n",
            "adding: org/openkoreantext/processor/stemmer/(in = 0) (out= 0)(stored 0%)\n",
            "adding: org/openkoreantext/processor/stemmer/KoreanStemmer$.class(in = 7044) (out= 2892)(deflated 58%)\n",
            "adding: org/openkoreantext/processor/stemmer/KoreanStemmer.class(in = 1439) (out= 972)(deflated 32%)\n",
            "adding: org/openkoreantext/processor/OpenKoreanTextProcessor$.class(in = 7716) (out= 2400)(deflated 68%)\n",
            "adding: org/openkoreantext/processor/phrase_extractor/(in = 0) (out= 0)(stored 0%)\n",
            "adding: org/openkoreantext/processor/phrase_extractor/KoreanPhraseExtractor$PhraseBuffer.class(in = 4857) (out= 1609)(deflated 66%)\n",
            "adding: org/openkoreantext/processor/phrase_extractor/KoreanPhraseExtractor$KoreanPhrase.class(in = 6942) (out= 2591)(deflated 62%)\n",
            "adding: org/openkoreantext/processor/phrase_extractor/KoreanPhraseExtractor.class(in = 6005) (out= 3967)(deflated 33%)\n",
            "adding: org/openkoreantext/processor/phrase_extractor/KoreanPhraseExtractor$.class(in = 37855) (out= 12404)(deflated 67%)\n",
            "adding: org/openkoreantext/processor/phrase_extractor/KoreanPhraseExtractor$KoreanPhrase$.class(in = 3358) (out= 1148)(deflated 65%)\n",
            "adding: org/openkoreantext/processor/phrase_extractor/KoreanPhraseExtractor$PhraseBuffer$.class(in = 3564) (out= 1087)(deflated 69%)\n"
          ]
        }
      ],
      "source": [
        "# 다시압축해주기. 마찬가지로 끝에 notfoundfile에러같은거 없으면 잘된겁니다!\n",
        "# 안되면 pwd로 현재 경로가 temp_fix가 맞는지 확인해주세요\n",
        "!jar cvf ../open-korean-text-2.1.0.jar *"
      ]
    },
    {
      "cell_type": "markdown",
      "metadata": {
        "id": "ctR5B1_iggw1"
      },
      "source": [
        "# 세션 다시 시작"
      ]
    },
    {
      "cell_type": "markdown",
      "metadata": {
        "id": "Bs1_wX0Boo3d"
      },
      "source": [
        "# 구글 드라이브 마운트"
      ]
    },
    {
      "cell_type": "code",
      "execution_count": 1,
      "metadata": {
        "colab": {
          "base_uri": "https://localhost:8080/"
        },
        "id": "1YnKkoWwnaTC",
        "outputId": "6bdf2369-8b9a-4838-d2cc-c21b02200e0b"
      },
      "outputs": [
        {
          "output_type": "stream",
          "name": "stdout",
          "text": [
            "Mounted at /content/drive\n"
          ]
        }
      ],
      "source": [
        "# 구글 드라이브 마운트\n",
        "from google.colab import drive\n",
        "drive.mount('/content/drive')"
      ]
    },
    {
      "cell_type": "markdown",
      "metadata": {
        "id": "r8xXi-nHV7Hn"
      },
      "source": [
        "# csv파일 읽어오기"
      ]
    },
    {
      "cell_type": "code",
      "execution_count": 2,
      "metadata": {
        "id": "O8OWFDmM0qTe",
        "colab": {
          "base_uri": "https://localhost:8080/",
          "height": 0
        },
        "collapsed": true,
        "outputId": "3821ebf0-1c93-4443-a625-8a161f28bb4f"
      },
      "outputs": [
        {
          "output_type": "execute_result",
          "data": {
            "text/plain": [
              "   index        date                                              title  \\\n",
              "0   4597  2024-03-27            [글로벌] 2024-1 명상 집단상담 ＇금모닝 마음챙김＇ 프로그램 안내   \n",
              "1   4596  2024-03-27  [서울] 보건실 - 심폐소생술 교육일정 안내 (2024.04.29(월) 10시 / ...   \n",
              "2   4595  2024-03-26               EU연구소 인문사회연구사업단, '제5회 바우하우스 콜로키움' 개최   \n",
              "\n",
              "                                             content  \n",
              "0  \\n[글로벌] 2024-1 명상 집단상담 ＇금모닝 마음챙김＇ 프로그램 안내\\n\\n학...  \n",
              "1  \\n심폐소생술 교육일정 안내\\n\\n서울캠퍼스 보건실에서는 교내 구성원의 응급처치 능...  \n",
              "2  \\nEU연구소 인문사회연구사업단, '제5회 바우하우스 콜로키움' 개최\\n\\n\\nEU...  "
            ],
            "text/html": [
              "\n",
              "  <div id=\"df-2ed369f4-5425-4553-9dbc-0f522b8d6d53\" class=\"colab-df-container\">\n",
              "    <div>\n",
              "<style scoped>\n",
              "    .dataframe tbody tr th:only-of-type {\n",
              "        vertical-align: middle;\n",
              "    }\n",
              "\n",
              "    .dataframe tbody tr th {\n",
              "        vertical-align: top;\n",
              "    }\n",
              "\n",
              "    .dataframe thead th {\n",
              "        text-align: right;\n",
              "    }\n",
              "</style>\n",
              "<table border=\"1\" class=\"dataframe\">\n",
              "  <thead>\n",
              "    <tr style=\"text-align: right;\">\n",
              "      <th></th>\n",
              "      <th>index</th>\n",
              "      <th>date</th>\n",
              "      <th>title</th>\n",
              "      <th>content</th>\n",
              "    </tr>\n",
              "  </thead>\n",
              "  <tbody>\n",
              "    <tr>\n",
              "      <th>0</th>\n",
              "      <td>4597</td>\n",
              "      <td>2024-03-27</td>\n",
              "      <td>[글로벌] 2024-1 명상 집단상담 ＇금모닝 마음챙김＇ 프로그램 안내</td>\n",
              "      <td>\\n[글로벌] 2024-1 명상 집단상담 ＇금모닝 마음챙김＇ 프로그램 안내\\n\\n학...</td>\n",
              "    </tr>\n",
              "    <tr>\n",
              "      <th>1</th>\n",
              "      <td>4596</td>\n",
              "      <td>2024-03-27</td>\n",
              "      <td>[서울] 보건실 - 심폐소생술 교육일정 안내 (2024.04.29(월) 10시 / ...</td>\n",
              "      <td>\\n심폐소생술 교육일정 안내\\n\\n서울캠퍼스 보건실에서는 교내 구성원의 응급처치 능...</td>\n",
              "    </tr>\n",
              "    <tr>\n",
              "      <th>2</th>\n",
              "      <td>4595</td>\n",
              "      <td>2024-03-26</td>\n",
              "      <td>EU연구소 인문사회연구사업단, '제5회 바우하우스 콜로키움' 개최</td>\n",
              "      <td>\\nEU연구소 인문사회연구사업단, '제5회 바우하우스 콜로키움' 개최\\n\\n\\nEU...</td>\n",
              "    </tr>\n",
              "  </tbody>\n",
              "</table>\n",
              "</div>\n",
              "    <div class=\"colab-df-buttons\">\n",
              "\n",
              "  <div class=\"colab-df-container\">\n",
              "    <button class=\"colab-df-convert\" onclick=\"convertToInteractive('df-2ed369f4-5425-4553-9dbc-0f522b8d6d53')\"\n",
              "            title=\"Convert this dataframe to an interactive table.\"\n",
              "            style=\"display:none;\">\n",
              "\n",
              "  <svg xmlns=\"http://www.w3.org/2000/svg\" height=\"24px\" viewBox=\"0 -960 960 960\">\n",
              "    <path d=\"M120-120v-720h720v720H120Zm60-500h600v-160H180v160Zm220 220h160v-160H400v160Zm0 220h160v-160H400v160ZM180-400h160v-160H180v160Zm440 0h160v-160H620v160ZM180-180h160v-160H180v160Zm440 0h160v-160H620v160Z\"/>\n",
              "  </svg>\n",
              "    </button>\n",
              "\n",
              "  <style>\n",
              "    .colab-df-container {\n",
              "      display:flex;\n",
              "      gap: 12px;\n",
              "    }\n",
              "\n",
              "    .colab-df-convert {\n",
              "      background-color: #E8F0FE;\n",
              "      border: none;\n",
              "      border-radius: 50%;\n",
              "      cursor: pointer;\n",
              "      display: none;\n",
              "      fill: #1967D2;\n",
              "      height: 32px;\n",
              "      padding: 0 0 0 0;\n",
              "      width: 32px;\n",
              "    }\n",
              "\n",
              "    .colab-df-convert:hover {\n",
              "      background-color: #E2EBFA;\n",
              "      box-shadow: 0px 1px 2px rgba(60, 64, 67, 0.3), 0px 1px 3px 1px rgba(60, 64, 67, 0.15);\n",
              "      fill: #174EA6;\n",
              "    }\n",
              "\n",
              "    .colab-df-buttons div {\n",
              "      margin-bottom: 4px;\n",
              "    }\n",
              "\n",
              "    [theme=dark] .colab-df-convert {\n",
              "      background-color: #3B4455;\n",
              "      fill: #D2E3FC;\n",
              "    }\n",
              "\n",
              "    [theme=dark] .colab-df-convert:hover {\n",
              "      background-color: #434B5C;\n",
              "      box-shadow: 0px 1px 3px 1px rgba(0, 0, 0, 0.15);\n",
              "      filter: drop-shadow(0px 1px 2px rgba(0, 0, 0, 0.3));\n",
              "      fill: #FFFFFF;\n",
              "    }\n",
              "  </style>\n",
              "\n",
              "    <script>\n",
              "      const buttonEl =\n",
              "        document.querySelector('#df-2ed369f4-5425-4553-9dbc-0f522b8d6d53 button.colab-df-convert');\n",
              "      buttonEl.style.display =\n",
              "        google.colab.kernel.accessAllowed ? 'block' : 'none';\n",
              "\n",
              "      async function convertToInteractive(key) {\n",
              "        const element = document.querySelector('#df-2ed369f4-5425-4553-9dbc-0f522b8d6d53');\n",
              "        const dataTable =\n",
              "          await google.colab.kernel.invokeFunction('convertToInteractive',\n",
              "                                                    [key], {});\n",
              "        if (!dataTable) return;\n",
              "\n",
              "        const docLinkHtml = 'Like what you see? Visit the ' +\n",
              "          '<a target=\"_blank\" href=https://colab.research.google.com/notebooks/data_table.ipynb>data table notebook</a>'\n",
              "          + ' to learn more about interactive tables.';\n",
              "        element.innerHTML = '';\n",
              "        dataTable['output_type'] = 'display_data';\n",
              "        await google.colab.output.renderOutput(dataTable, element);\n",
              "        const docLink = document.createElement('div');\n",
              "        docLink.innerHTML = docLinkHtml;\n",
              "        element.appendChild(docLink);\n",
              "      }\n",
              "    </script>\n",
              "  </div>\n",
              "\n",
              "\n",
              "<div id=\"df-85e75cda-43f4-4e47-8e69-1571bdb05df5\">\n",
              "  <button class=\"colab-df-quickchart\" onclick=\"quickchart('df-85e75cda-43f4-4e47-8e69-1571bdb05df5')\"\n",
              "            title=\"Suggest charts\"\n",
              "            style=\"display:none;\">\n",
              "\n",
              "<svg xmlns=\"http://www.w3.org/2000/svg\" height=\"24px\"viewBox=\"0 0 24 24\"\n",
              "     width=\"24px\">\n",
              "    <g>\n",
              "        <path d=\"M19 3H5c-1.1 0-2 .9-2 2v14c0 1.1.9 2 2 2h14c1.1 0 2-.9 2-2V5c0-1.1-.9-2-2-2zM9 17H7v-7h2v7zm4 0h-2V7h2v10zm4 0h-2v-4h2v4z\"/>\n",
              "    </g>\n",
              "</svg>\n",
              "  </button>\n",
              "\n",
              "<style>\n",
              "  .colab-df-quickchart {\n",
              "      --bg-color: #E8F0FE;\n",
              "      --fill-color: #1967D2;\n",
              "      --hover-bg-color: #E2EBFA;\n",
              "      --hover-fill-color: #174EA6;\n",
              "      --disabled-fill-color: #AAA;\n",
              "      --disabled-bg-color: #DDD;\n",
              "  }\n",
              "\n",
              "  [theme=dark] .colab-df-quickchart {\n",
              "      --bg-color: #3B4455;\n",
              "      --fill-color: #D2E3FC;\n",
              "      --hover-bg-color: #434B5C;\n",
              "      --hover-fill-color: #FFFFFF;\n",
              "      --disabled-bg-color: #3B4455;\n",
              "      --disabled-fill-color: #666;\n",
              "  }\n",
              "\n",
              "  .colab-df-quickchart {\n",
              "    background-color: var(--bg-color);\n",
              "    border: none;\n",
              "    border-radius: 50%;\n",
              "    cursor: pointer;\n",
              "    display: none;\n",
              "    fill: var(--fill-color);\n",
              "    height: 32px;\n",
              "    padding: 0;\n",
              "    width: 32px;\n",
              "  }\n",
              "\n",
              "  .colab-df-quickchart:hover {\n",
              "    background-color: var(--hover-bg-color);\n",
              "    box-shadow: 0 1px 2px rgba(60, 64, 67, 0.3), 0 1px 3px 1px rgba(60, 64, 67, 0.15);\n",
              "    fill: var(--button-hover-fill-color);\n",
              "  }\n",
              "\n",
              "  .colab-df-quickchart-complete:disabled,\n",
              "  .colab-df-quickchart-complete:disabled:hover {\n",
              "    background-color: var(--disabled-bg-color);\n",
              "    fill: var(--disabled-fill-color);\n",
              "    box-shadow: none;\n",
              "  }\n",
              "\n",
              "  .colab-df-spinner {\n",
              "    border: 2px solid var(--fill-color);\n",
              "    border-color: transparent;\n",
              "    border-bottom-color: var(--fill-color);\n",
              "    animation:\n",
              "      spin 1s steps(1) infinite;\n",
              "  }\n",
              "\n",
              "  @keyframes spin {\n",
              "    0% {\n",
              "      border-color: transparent;\n",
              "      border-bottom-color: var(--fill-color);\n",
              "      border-left-color: var(--fill-color);\n",
              "    }\n",
              "    20% {\n",
              "      border-color: transparent;\n",
              "      border-left-color: var(--fill-color);\n",
              "      border-top-color: var(--fill-color);\n",
              "    }\n",
              "    30% {\n",
              "      border-color: transparent;\n",
              "      border-left-color: var(--fill-color);\n",
              "      border-top-color: var(--fill-color);\n",
              "      border-right-color: var(--fill-color);\n",
              "    }\n",
              "    40% {\n",
              "      border-color: transparent;\n",
              "      border-right-color: var(--fill-color);\n",
              "      border-top-color: var(--fill-color);\n",
              "    }\n",
              "    60% {\n",
              "      border-color: transparent;\n",
              "      border-right-color: var(--fill-color);\n",
              "    }\n",
              "    80% {\n",
              "      border-color: transparent;\n",
              "      border-right-color: var(--fill-color);\n",
              "      border-bottom-color: var(--fill-color);\n",
              "    }\n",
              "    90% {\n",
              "      border-color: transparent;\n",
              "      border-bottom-color: var(--fill-color);\n",
              "    }\n",
              "  }\n",
              "</style>\n",
              "\n",
              "  <script>\n",
              "    async function quickchart(key) {\n",
              "      const quickchartButtonEl =\n",
              "        document.querySelector('#' + key + ' button');\n",
              "      quickchartButtonEl.disabled = true;  // To prevent multiple clicks.\n",
              "      quickchartButtonEl.classList.add('colab-df-spinner');\n",
              "      try {\n",
              "        const charts = await google.colab.kernel.invokeFunction(\n",
              "            'suggestCharts', [key], {});\n",
              "      } catch (error) {\n",
              "        console.error('Error during call to suggestCharts:', error);\n",
              "      }\n",
              "      quickchartButtonEl.classList.remove('colab-df-spinner');\n",
              "      quickchartButtonEl.classList.add('colab-df-quickchart-complete');\n",
              "    }\n",
              "    (() => {\n",
              "      let quickchartButtonEl =\n",
              "        document.querySelector('#df-85e75cda-43f4-4e47-8e69-1571bdb05df5 button');\n",
              "      quickchartButtonEl.style.display =\n",
              "        google.colab.kernel.accessAllowed ? 'block' : 'none';\n",
              "    })();\n",
              "  </script>\n",
              "</div>\n",
              "\n",
              "    </div>\n",
              "  </div>\n"
            ],
            "application/vnd.google.colaboratory.intrinsic+json": {
              "type": "dataframe",
              "variable_name": "gongji",
              "summary": "{\n  \"name\": \"gongji\",\n  \"rows\": 6708,\n  \"fields\": [\n    {\n      \"column\": \"index\",\n      \"properties\": {\n        \"dtype\": \"number\",\n        \"std\": 1286,\n        \"min\": 1,\n        \"max\": 4597,\n        \"num_unique_values\": 4582,\n        \"samples\": [\n          2931,\n          846,\n          1474\n        ],\n        \"semantic_type\": \"\",\n        \"description\": \"\"\n      }\n    },\n    {\n      \"column\": \"date\",\n      \"properties\": {\n        \"dtype\": \"object\",\n        \"num_unique_values\": 1416,\n        \"samples\": [\n          \"2020-08-24\",\n          \"2020-03-23\",\n          \"2022-08-11\"\n        ],\n        \"semantic_type\": \"\",\n        \"description\": \"\"\n      }\n    },\n    {\n      \"column\": \"title\",\n      \"properties\": {\n        \"dtype\": \"string\",\n        \"num_unique_values\": 4255,\n        \"samples\": [\n          \"[\\uc11c\\uc6b8]\\ub300\\uc778\\uad00\\uacc4 \\uc99d\\uc9c4 \\uc9d1\\ub2e8\\uc0c1\\ub2f4 \\uff07\\ub098\\uc640 \\uc6b0\\ub9ac \\ud568\\uaed8\\ud558\\ub294 \\uc2dc\\uac04\\uff07 \\uc2e0\\uccad\\uc548\\ub0b4\",\n          \"\\ucc3d\\uc5c5\\uad50\\uc721\\uc13c\\ud1302022-1\\ud559\\uae30 \\ucc3d\\uc5c5\\uc544\\uce74\\ub370\\ubbf8 \\ud2b9\\uac15(\\uc628\\ub77c\\uc778) \\uac1c\\ucd5c\",\n          \"\\uc2e0\\uc885 \\ucf54\\ub85c\\ub098 \\ubc14\\uc774\\ub7ec\\uc2a4 \\uad00\\ub828 \\ud604\\ud669 \\ubc0f \\uc870\\uce58\\uc0ac\\ud56d(2020.02.11)\"\n        ],\n        \"semantic_type\": \"\",\n        \"description\": \"\"\n      }\n    },\n    {\n      \"column\": \"content\",\n      \"properties\": {\n        \"dtype\": \"string\",\n        \"num_unique_values\": 5268,\n        \"samples\": [\n          \"\\n\\ud55c\\uad6d\\uc678\\ub300\\ubd80\\uc124\\uace0\\ub4f1\\ud559\\uad50 \\ucea0\\ud504(HAFS CAMP) \\uba58\\ud1a0 \\ubaa8\\uc9d1 \\uc548\\ub0b4\\ubb38\\n\\uc6a9\\uc778\\ud55c\\uad6d\\uc678\\ub300\\ubd80\\uc124\\uace0\\ub4f1\\ud559\\uad50\\uc5d0\\uc11c \\uc8fc\\ucd5c\\ud558\\ub294 \\uc81c 18\\ud68c 2020' Winter HAFS CAMP\\uc5d0\\uc11c \\ucc38\\uac00 \\ud559\\uc0dd\\ub4e4\\uc758 \\ub300\\ud559\\uc0dd \\uba58\\ud1a0\\ub97c \\ubaa8\\uc9d1\\ud569\\ub2c8\\ub2e4. \\ub9ce\\uc740 \\uad00\\uc2ec\\uacfc \\ucc38\\uc5ec \\ubd80\\ud0c1\\ub4dc\\ub9bd\\ub2c8\\ub2e4.1. \\ubaa8\\uc9d1\\ubd80\\ubb38 \\ubc0f \\ub300\\uc0c1\\u2460 \\uc804\\ub2f4 \\uba58\\ud1a0 :\\ub300\\ud559\\uc0dd \\ubc0f \\ub300\\ud559\\uc6d0\\uc0dd\\u2461 \\uc0dd\\ud65c \\uba58\\ud1a0 :\\ub300\\ud559\\uc0dd \\ubc0f \\ub300\\ud559\\uc6d0\\uc0dd\\u2462 \\ub098\\uc774\\ud2b8\\uac00\\ub4dc:\\ub300\\ud559\\uc0dd \\ubc0f \\ub300\\ud559\\uc6d0\\uc0dd\\u2463 \\uc218\\uc5c5 \\uba58\\ud1a0 (\\ub514\\ubca0\\uc774\\ud2b8):\\ub300\\ud559\\uc0dd \\ubc0f \\ub300\\ud559\\uc6d0\\uc0dd\\u2464 \\uc218\\uc5c5 \\uba58\\ud1a0 (\\uc5d0\\uc138\\uc774):\\ub300\\ud559\\uc0dd \\ubc0f \\ub300\\ud559\\uc6d0\\uc0dd\\u203b \\uc9c0\\uc6d0\\uc11c \\uc791\\uc131 \\uc2dc \\uc9c0\\uc6d0\\ubd84\\uc57c(\\u2460\\u2461\\u2462\\u2463\\u2464)\\ub97c \\uc815\\ud655\\ud788 \\uba85\\uc2dc\\ud558\\uc5ec \\uc8fc\\uc2dc\\uae30 \\ubc14\\ub78d\\ub2c8\\ub2e4. - \\uc911\\ubcf5\\uc9c0\\uc6d0 \\uac00\\ub2a5\\u203b \\ud734\\ud559\\uc0dd \\ubc0f \\ub300\\ud559\\uc878\\uc5c5\\uc790 \\uc9c0\\uc6d0 \\uac00\\ub2a52. \\uae30 \\uac04 :2020\\ub144 1\\uc6d4 2\\uc77c (\\ubaa9) 14\\uc2dc ~ 2020\\ub144 1\\uc6d4 23\\uc77c (\\ubaa9) 13\\uc2dc [21\\ubc15 22\\uc77c] *\\uad50\\uc721\\uae30\\uac04 2\\ubc15 3\\uc77c \\ud3ec\\ud568\\u203b \\ucea0\\ud504\\uae30\\uac04 \\uad50\\ub0b4\\uc5d0\\uc11c \\uc219\\uc2dd / \\uc678\\ubc15\\u00b7 \\uc678\\ucd9c \\ubd88\\uac00 (\\uc8fc\\ub9d0 \\uc608\\uc678 \\uc5c6\\uc74c)\\u203b \\ub2e8, \\uc218\\uc5c5\\uba58\\ud1a0\\ub294 \\uc544\\ub798 \\uae30\\uac04\\uc5d0 \\uc678\\ucd9c \\uac00\\ub2a5\\ud568.[1\\uc6d4 11\\uc77c (\\ud1a0) 18\\uc2dc ~ 1\\uc6d4 12\\uc77c (\\uc77c) 20\\uc2dc / 1\\uc6d4 18\\uc77c (\\ud1a0) 18\\uc2dc ~ 1\\uc6d4 19\\uc77c (\\uc77c) 20\\uc2dc]3. \\uc9c0\\uc6d0\\uc790\\uaca9 :\\u2460 \\uc804\\ub2f4 \\uba58\\ud1a0 (T.A)/ 00\\uba85? \\ucea0\\ud504\\uae30\\uac04 \\uc911 \\uc77c\\uc0c1\\uc601\\uc5b4\\ud68c\\ud654 \\uac00\\ub2a5\\ud55c \\uc790 ? \\ucc45\\uc784\\uac10\\uacfc \\ubd09\\uc0ac\\uc815\\uc2e0\\uc774 \\ub6f0\\uc5b4\\ub09c \\uc790 ? \\ud559\\uc0dd \\uad00\\ub9ac\\uc5d0 \\uc801\\uadf9\\uc801 \\uc5f4\\uc758\\uac00 \\uc788\\ub294 \\uc790\\u2461 \\uc0dd\\ud65c \\uba58\\ud1a0 (P.A)/ 00\\uba85? \\ud611\\ub3d9\\uc2ec\\uc774 \\ub6f0\\uc5b4\\ub098\\uba70 \\uac74\\uac15\\ud55c \\uc2e0\\uccb4 \\uc18c\\uc720\\uc790? \\ucea0\\ud504\\uc0dd\\ud65c \\uc911 \\uc77c\\uc0c1\\uc601\\uc5b4\\ud68c\\ud654 \\uac00\\ub2a5\\ud55c \\uc790? \\uc6b4\\uc804\\uacbd\\ub825\\uc774 3\\ub144 \\uc774\\uc0c1\\uc774\\uba70, 1\\uc885 \\ubcf4\\ud1b5\\uba74\\ud5c8 \\uc18c\\uc9c0\\uc790 (0\\uba85) - \\ud544\\uc218 \\uc870\\uac74 \\uc544\\ub2d8, \\ud574\\ub2f9\\uc790 \\uae30\\uc7ac\\ubc14\\ub78c? \\ucef4\\ud4e8\\ud130 \\ubc0f \\uc624\\ub514\\uc624 \\ub4f1 \\uac01\\uc885 \\uae30\\uae30 \\ucde8\\uae09 \\uc6b0\\uc218\\uc790 \\uc6b0\\ub300? \\uac04\\ud638\\ud559\\uacfc \\uc6b0\\ub300\\u2462 \\ub098\\uc774\\ud2b8 \\uac00\\ub4dc (N.G)/ 00\\uba85? \\ucc45\\uc784\\uac10\\uc774 \\ub6f0\\uc5b4\\ub098\\uba70 \\uac74\\uac15\\ud55c \\uc2e0\\uccb4 \\uc18c\\uc720\\uc790? \\ucea0\\ud504\\uc0dd\\ud65c \\uc911 \\uc77c\\uc0c1\\uc601\\uc5b4\\ud68c\\ud654 \\uac00\\ub2a5\\ud55c \\uc790? \\uc57c\\uac04\\uadfc\\ubb34\\uac00 \\uac00\\ub2a5\\ud55c \\uc790\\u2463 \\uc218\\uc5c5 \\uba58\\ud1a0 (\\ub514\\ubca0\\uc774\\ud2b8)/ 00\\uba85? \\uc601\\uc5b4\\ub85c \\uc218\\uc5c5\\uc774 \\uac00\\ub2a5\\ud55c \\uc790? \\ucd08\\uc911\\ub4f1 \\ud559\\uc0dd\\uc5d0\\uac8c \\uc601\\uc5b4 \\uc218\\uc5c5\\uc744 \\uc9c4\\ud589\\ud574 \\ubcf8 \\uacbd\\ud5d8\\uc774 \\uc788\\ub294 \\uc790 ? \\ub514\\ubca0\\uc774\\ud2b8 \\ub300\\ud68c\\uc5d0 \\ucc38\\uac00 \\ub610\\ub294 \\ub514\\ubca0\\uc774\\ud2b8 \\uad00\\ub828 \\uc218\\uc5c5\\uc744 \\uc774\\uc218\\ud55c \\uacbd\\ud5d8\\uc774 \\uc788\\ub294 \\uc790 ? \\uc544\\uc2dc\\uc544 \\uc758\\ud68c\\uc2dd(Asian Parliamentary) \\ud1a0\\ub860 \\ud615\\uc2dd\\uc744 \\uc54c\\uace0 \\uc788\\ub294 \\uc790? \\ucc45\\uc784\\uac10\\uacfc \\ubd09\\uc0ac\\uc815\\uc2e0\\uc774 \\ub6f0\\uc5b4\\ub09c \\uc790\\u2464 \\uc218\\uc5c5 \\uba58\\ud1a0 (\\uc5d0\\uc138\\uc774)/ 00\\uba85? \\uc601\\uc5b4\\ub85c \\uc218\\uc5c5\\uc774 \\uac00\\ub2a5\\ud55c \\uc790? \\ucd08\\uc911\\ub4f1 \\ud559\\uc0dd\\uc5d0\\uac8c \\uc5d0\\uc138\\uc774 \\uc218\\uc5c5(\\uc601\\uc5b4\\uc218\\uc5c5)\\uc744 \\uc9c4\\ud589\\ud574 \\ubcf8 \\uacbd\\ud5d8\\uc774 \\uc788\\ub294 \\uc790 ? \\ucc45\\uc784\\uac10\\uacfc \\ubd09\\uc0ac\\uc815\\uc2e0\\uc774 \\ub6f0\\uc5b4\\ub09c \\uc7904. \\uc5c5\\ubb34\\ub0b4\\uc6a9\\u203b \\ucea0\\ud504 \\ud2b9\\uc131 \\uc0c1 \\uba58\\ud1a0\\ubcc4 \\uc5c5\\ubb34\\ub294 \\uc720\\ub3d9\\uc801\\uc73c\\ub85c \\ucd94\\uac00\\ub420 \\uc218 \\uc788\\uc2b5\\ub2c8\\ub2e4.\\u2460 \\uc804\\ub2f4 \\uba58\\ud1a0 (T.A)? \\ucea0\\ud504\\uae30\\uac04 \\uc911, \\ucd08\\u00b7\\uc911\\ud559\\uc0dd \\ud55c \\ubc18(15\\uba85 \\ub0b4\\uc678)\\uc744 \\uc804\\ub2f4\\ud558\\uc5ec \\ucea0\\ud504\\ub97c \\uc798 \\ub9c8\\uce60 \\uc218 \\uc788\\ub3c4\\ub85d \\uc9c0\\ub3c4\\ud558\\uba70\\ud559\\uc0dd\\ub4e4\\uc758 \\ud559\\uc2b5\\uacfc \\uc0dd\\ud65c\\uc5d0 \\uc788\\uc5b4 \\ub2f4\\uc784\\uba58\\ud1a0\\uac00 \\ub418\\uc5b4 \\ud65c\\ub3d9\\ud568.\\u203b \\uc218\\uc5c5\\uc744 \\uc9c4\\ud589\\ud558\\ub294 \\uac83\\uc774 \\uc544\\ub2d8.- \\ub2e8\\uc5b4\\uc2dc\\ud5d8 \\ucc44\\uc810 \\ubc0f \\uc785\\ub825- \\uc26c\\ub294\\uc2dc\\uac04, \\uc2dd\\uc0ac\\uc2dc\\uac04, \\uc0c1\\ub2f4\\uc2dc\\uac04, \\ud648\\ub8f8\\uc2dc\\uac04, \\ud2b9\\uac15\\uc2dc\\uac04, \\uac04\\uc2dd\\uc2dc\\uac04 \\ud559\\uc0dd\\uc778\\uc194 \\ubc0f \\uc784\\uc7a5\\uc9c0\\ub3c4- \\ud559\\uc0dd \\uc0c1\\ub2f4 \\ubc0f \\uc0c1\\ub2f4\\uc77c\\uc9c0 \\uc791\\uc131- \\ud559\\uc0dd \\ud3ec\\ud2b8\\ud3f4\\ub9ac\\uc624 \\uc815\\ub9ac- \\uc8fc\\ub9d0 \\ud504\\ub85c\\uadf8\\ub7a8 \\uc784\\uc7a5\\uc9c0\\ub3c4- \\ud559\\uc0dd \\uc0dd\\ud65c \\uc9c0\\ub3c4- \\ud559\\uc0dd \\uc0ac\\uc9c4 \\uc5c5\\ub85c\\ub4dc\\u2461 \\uc0dd\\ud65c \\uba58\\ud1a0 (P.A)? \\ucea0\\ud504\\uae30\\uac04 \\uc911 \\ud589\\uc0ac \\ubc0f \\ucea0\\ud504\\uc758 \\ud504\\ub85c\\uadf8\\ub7a8\\uc744 \\uc9c0\\uc6d0\\ud558\\uc5ec \\ud559\\uc0dd\\ub4e4\\uc774 \\ucea0\\ud504\\ub97c \\uc798 \\ub9c8\\uce60 \\uc218 \\uc788\\ub3c4\\ub85d \\ub3c4\\uc640\\uc8fc\\uba70, \\uc0dd\\ud65c \\ubc0f \\uc804\\ubc18\\uc801\\uc778 \\ucea0\\ud504 \\ud504\\ub85c\\uadf8\\ub7a8 \\uc9c4\\ud589\\uc5d0 \\uc788\\uc5b4 \\uba58\\ud1a0\\uac00 \\ub418\\uc5b4 \\ud65c\\ub3d9\\ud568? \\uc804\\ub2f4\\uba58\\ud1a0\\ub97c \\ub3c4\\uc640 \\ud55c \\ubc18\\uc758 \\ubd80\\ub2f4\\uc784 \\uc5ed\\ud560(\\ud559\\uc0dd \\uc0c1\\ub2f4 \\ubc0f \\uc0c1\\ub2f4\\uc77c\\uc9c0 \\uc791\\uc131, \\ud648\\ub8f8\\uc2dc\\uac04 \\uc784\\uc7a5\\uc9c0\\ub3c4)\\uc744 \\uc218\\ud589\\ud568.- \\uc8fc\\ub9d0 \\ud504\\ub85c\\uadf8\\ub7a8 \\uae30\\ud68d \\ubc0f \\uc6b4\\uc601- \\uc26c\\ub294\\uc2dc\\uac04, \\uc2dd\\uc0ac\\uc2dc\\uac04, \\uc0c1\\ub2f4\\uc2dc\\uac04, \\ud648\\ub8f8\\uc2dc\\uac04, \\ud2b9\\uac15\\uc2dc\\uac04, \\uac04\\uc2dd\\uc2dc\\uac04 \\ud559\\uc0dd\\uc778\\uc194 \\ubc0f \\uc784\\uc7a5\\uc9c0\\ub3c4- \\ud559\\uc0dd \\uc0c1\\ub2f4 \\ubc0f \\uc0c1\\ub2f4\\uc77c\\uc9c0 \\uc791\\uc131- \\uac01\\uc885 \\ubb38\\uc11c \\uc791\\uc131 \\ubc0f \\uc815\\ub9ac- \\uc138\\ud0c1\\ubb3c \\uc218\\uac70 \\ubc0f \\ubc30\\ubd80- \\ud559\\uc0dd \\ubcd1\\uc6d0 \\uc778\\uc194- \\uc785\\u00b7\\ud1f4\\uc18c\\uc2dd \\uc8fc\\ucc28\\uc548\\ub0b4 \\ubc0f \\uc9d0\\uc815\\ub9ac- \\ud559\\uc0dd \\uc0dd\\ud65c \\uc9c0\\ub3c4\\u2462 \\ub098\\uc774\\ud2b8\\uac00\\ub4dc (N.G)? \\uae30\\uc219\\uc0ac\\uc5d0\\uc11c \\ud559\\uc0dd\\ub4e4\\uc758 \\uc0ac\\uac10\\uc120\\uc0dd\\ub2d8 \\uc5ed\\ud560\\uc744 \\ud558\\uba70 \\ud559\\uc0dd\\ub4e4\\uc758 \\uc548\\uc804\\uacfc \\uac74\\uac15\\uc744 \\ucc45\\uc784\\uc9c0\\ub294 \\uc5ed\\ud560\\uc744 \\ud558\\ub294 \\uba58\\ud1a0\\uac00 \\ub418\\uc5b4 \\ud65c\\ub3d9\\ud568. (\\uc57c\\uac04\\uadfc\\ubb34)- \\uae30\\uc219\\uc0ac \\uc815\\uc219\\uc9c0\\ub3c4- \\uae30\\uc219\\uc0ac\\uc5d0\\uc11c \\ubc1c\\uc0dd\\ud558\\ub294 \\ud559\\uc0dd \\uc0dd\\ud65c\\ubd88\\ud3b8 \\uc0ac\\ud56d \\ucc98\\ub9ac- \\ud559\\uc0dd \\uc0c1\\ub2f4 \\ubc0f \\uc0dd\\ud65c \\uc9c0\\ub3c4- \\ud0dd\\ubc30 \\uc218\\uac70 \\ubc0f \\ubc30\\ubd80- \\uc138\\ud0c1\\ubb3c \\uc218\\uac70 \\ubc0f \\ubc30\\ubd80- \\uc785\\u00b7\\ud1f4\\uc18c\\uc2dd \\uc8fc\\ucc28\\uc548\\ub0b4 \\ubc0f \\uc9d0\\uc815\\ub9ac\\u2463 \\uc218\\uc5c5 \\uba58\\ud1a0 (\\ub514\\ubca0\\uc774\\ud2b8)? \\ucea0\\ud504\\uae30\\uac04 \\uc911 'English Debate' \\uc218\\uc5c5\\uc744 \\ub2f4\\ub2f9\\ud558\\uc5ec \\ucea0\\ud504\\uc5d0 \\ucc38\\uac00\\ud55c \\ud559\\uc0dd\\ub4e4\\uc5d0\\uac8c \\uc218\\uc5c5\\uc744 \\uc9c4\\ud589\\ud558\\ub294 \\uba58\\ud1a0\\uac00 \\ub418\\uc5b4 \\ud65c\\ub3d9\\ud568.? \\ud559\\uc0dd\\ub4e4\\uc758 \\ubc1c\\uc804\\uc815\\ub3c4\\uc5d0 \\ub300\\ud55c \\ud53c\\ub4dc\\ubc31\\uc744 \\uc791\\uc131\\ud558\\uc5ec \\ud559\\uc0dd\\ub4e4\\uc5d0\\uac8c \\ubc30\\ubd80\\ud568.? \\ud1a0\\uc694\\uc77c\\uc5d0 \\uc788\\ub294 English Debate \\ub300\\ud68c\\uc758 \\uc2ec\\uc0ac\\uc704\\uc6d0\\uc774 \\ub418\\uc5b4 \\ub300\\ud68c\\uac00 \\uc798 \\ub9c8\\ubb34\\ub9ac \\ub420 \\uc218 \\uc788\\ub3c4\\ub85d \\uc6b4\\uc601\\ud568.? \\uc804\\ub2f4\\uba58\\ud1a0\\ub97c \\ub3c4\\uc640 \\ud55c \\ubc18\\uc758 \\ubd80\\ub2f4\\uc784 \\uc5ed\\ud560(\\ud559\\uc0dd \\uc0c1\\ub2f4 \\ubc0f \\uc0c1\\ub2f4\\uc77c\\uc9c0 \\uc791\\uc131, \\ud648\\ub8f8\\uc2dc\\uac04 \\uc784\\uc7a5\\uc9c0\\ub3c4)\\uc744 \\uc218\\ud589\\ud568.?\\ucea0\\ud504\\uc785\\uc18c \\uc804 (12\\uc6d4 23\\uc77c \\uc624\\ud6c4 2\\uc2dc)\\uc218\\uc5c5\\uc900\\ube44\\ub97c \\uc704\\ud55c \\uc624\\ub9ac\\uc5d4\\ud14c\\uc774\\uc158\\uc5d0 \\ucc38\\uc11d\\ud574\\uc57c \\ud568 (\\ud544\\uc218). \\u2464 \\uc218\\uc5c5 \\uba58\\ud1a0 (\\uc5d0\\uc138\\uc774)? \\ucea0\\ud504\\uae30\\uac04 \\uc911 'Extended Essay' \\uc218\\uc5c5\\uc744 \\ub2f4\\ub2f9\\ud558\\uc5ec \\ucea0\\ud504\\uc5d0 \\ucc38\\uac00\\ud55c \\ud559\\uc0dd\\ub4e4\\uc5d0\\uac8c \\uc218\\uc5c5\\uc744 \\uc9c4\\ud589\\ud558\\ub294 \\uba58\\ud1a0\\uac00 \\ub418\\uc5b4 \\ud65c\\ub3d9\\ud568.? \\ud559\\uc0dd\\ub4e4\\uc758 \\ubc1c\\uc804\\uc815\\ub3c4\\uc5d0 \\ub300\\ud55c \\ud53c\\ub4dc\\ubc31\\uc744 \\uc791\\uc131\\ud558\\uc5ec \\ud559\\uc0dd\\ub4e4\\uc5d0\\uac8c \\ubc30\\ubd80\\ud568.? \\ud559\\uc0dd\\ub4e4\\uc758 \\uc218\\uc5c5\\uc2dc\\uac04\\uc5d0 \\ubc1c\\uc0dd\\ud55c \\uacb0\\uacfc\\ubb3c\\uc744 \\ucca8\\uc0ad\\ud558\\uc5ec \\ud559\\uc0dd\\ub4e4\\uc5d0\\uac8c \\ubc30\\ubd80\\ud568.? \\uc804\\ub2f4\\uba58\\ud1a0\\ub97c \\ub3c4\\uc640 \\ud55c \\ubc18\\uc758 \\ubd80\\ub2f4\\uc784 \\uc5ed\\ud560(\\ud559\\uc0dd \\uc0c1\\ub2f4 \\ubc0f \\uc0c1\\ub2f4\\uc77c\\uc9c0 \\uc791\\uc131, \\ud648\\ub8f8\\uc2dc\\uac04 \\uc784\\uc7a5\\uc9c0\\ub3c4)\\uc744 \\uc218\\ud589\\ud568.?\\ucea0\\ud504\\uc785\\uc18c \\uc804 (12\\uc6d4 23\\uc77c \\uc624\\ud6c4 4\\uc2dc)\\uc218\\uc5c5\\uc900\\ube44\\ub97c \\uc704\\ud55c \\uc624\\ub9ac\\uc5d4\\ud14c\\uc774\\uc158\\uc5d0 \\ucc38\\uc11d\\ud574\\uc57c \\ud568 (\\ud544\\uc218).5. \\uc9c0\\uc6d0\\ub0b4\\uc6a9- \\ud65c\\ub3d9\\uc778\\uc99d\\uc11c \\ubc1c\\uae09 (\\ub2e8, \\ucea0\\ud504\\uc0dd\\ud65c\\uc744 \\uc131\\uc2e4\\ud788 \\uc774\\uc218\\ud55c \\uc790)- \\uae30\\uc219\\uc0ac \\ubc0f \\uc2dd\\uc0ac(\\uc544\\uce68, \\uc810\\uc2ec, \\uc800\\ub141, \\uac04\\uc2dd)\\uc81c\\uacf5- \\uad6c\\uc870 \\ubc0f \\uc751\\uae09\\ucc98\\uce58 \\uad50\\uc721 \\uc2e4\\uc2dc- \\uc2e4\\uc2b5\\ube44\\uc6a9 : \\u2460 \\uc804\\ub2f4 \\uba58\\ud1a0 (T.A) / \\uc0dd\\ud65c \\uba58\\ud1a0 (P.A) / \\ub098\\uc774\\ud2b8\\uac00\\ub4dc (N.G)- \\uae30\\ubcf8\\uae09 190\\ub9cc\\uc6d0 + \\uc0c1\\uc5ec\\uae0820\\ub9cc\\uc6d0 (3.3%\\uc758 \\uc18c\\ub4dd\\uc138\\uc640 \\uc8fc\\ubbfc\\uc138 \\uacf5\\uc81c)\\u2461 \\uc218\\uc5c5 \\uba58\\ud1a0 (T.A)- \\uae30\\ubcf8\\uae09 220\\ub9cc\\uc6d0 + \\uc0c1\\uc5ec\\uae0820\\ub9cc\\uc6d0 (3.3%\\uc758 \\uc18c\\ub4dd\\uc138\\uc640 \\uc8fc\\ubbfc\\uc138 \\uacf5\\uc81c)\\u203b \\uc0c1\\uc5ec\\uae08\\uc740 \\ucea0\\ud504\\uc6b4\\uc601\\uc9c4\\uc758 \\ud310\\ub2e8 \\ud558\\uc5d0 \\ucea0\\ud504\\uc0dd\\ud65c\\uc744 \\ubaa8\\ubc94\\uc801\\uc73c\\ub85c \\uc774\\ud589\\ud558\\uace0, \\uc815\\ud574\\uc9c4 \\uaddc\\uc815\\uc744 \\uc131\\uc2e4\\ud788 \\uc218\\ud589\\ud55c \\uba58\\ud1a0\\ub9cc \\uc9c0\\uae09. <\\uaddc\\uc815\\uc740 \\uba74\\uc811\\uc77c \\ubc0f \\ucea0\\ud504\\uc624\\ub9ac\\uc5d4\\ud14c\\uc774\\uc158 \\uc2dc \\uacf5\\uc9c0\\ud568>\\u203b \\uc7ac\\ucc38\\uac00 \\uba58\\ud1a0\\uc758 \\uacbd\\uc6b0, \\uc6b4\\uc601\\uc9c4\\uc758 \\ud310\\ub2e8 \\ud558\\uc5d0 \\ucea0\\ud504\\ub97c \\ubaa8\\ubc94\\uc801\\uc73c\\ub85c \\uc774\\ud589\\ud55c \\uba58\\ud1a0\\ub9cc \\ud2b9\\ubcc4 \\uc0c1\\uc5ec\\uae08(10\\ub9cc\\uc6d0) \\uc9c0\\uae09\\ud568.6. \\uc9c0\\uc6d0\\uc808\\ucc28(1) \\uc11c\\ub958\\uc804\\ud615? \\uc9c0\\uc6d0\\uc11c\\ub958 : \\uba58\\ud1a0 \\uc9c0\\uc6d0\\uc11c, \\uc7ac\\ud559\\uc99d\\uba85\\uc11c(\\ud734\\ud559\\uc99d\\uba85\\uc11c),\\uc2dc\\uac15\\ub3d9\\uc601\\uc0c1 (\\uc218\\uc5c5 \\uba58\\ud1a0 \\uc9c0\\uc6d0\\uc790\\ub9cc \\ud574\\ub2f9) \\u3260\\uc9c0\\uc6d0\\uc11c\\ub294 \\ub2e4\\uc6b4\\ub85c\\ub4dc\\ud55c \\uc591\\uc2dd\\ub9cc\\uc744 \\uc0ac\\uc6a9\\ud560 \\uac83, \\uc7ac\\ud559\\uc99d\\uba85\\uc11c\\ub294 jpg\\ud30c\\uc77c \\ud615\\uc2dd\\uc73c\\ub85c \\ucca8\\ubd80.\\u3261\\uc218\\uc5c5\\uba58\\ud1a0 \\uc2dc\\uac15\\ub3d9\\uc601\\uc0c1 \\uc81c\\uc791 \\ubc29\\ubc95 : \\ud574\\ub2f9 \\uc218\\uc5c5\\uc5d0 \\ub300\\ud55c \\uac15\\uc758\\ub97c 5\\ubd84 \\ub0b4\\uc678 \\ub3d9\\uc601\\uc0c1\\uc73c\\ub85c \\uc81c\\uc791\\ud558\\uc5ec \\uc774\\uba54\\uc77c\\ub85c \\ucca8\\ubd80\\ud558\\uc5ec \\ubc1c\\uc1a1 (\\uc8fc\\uc81c, \\ubc29\\ubc95 \\uc790\\uc720. \\ub2e8, 100% \\uc601\\uc5b4\\uc218\\uc5c5)? \\uc9c0\\uc6d0\\uc11c\\uc694\\uccad\\ub9c8\\uac10 :2019\\ub144 11\\uc6d4 11\\uc77c(\\uc6d4) 17\\uc2dc 30\\ubd84 \\uae4c\\uc9c0? \\uc9c0\\uc6d0\\ub9c8\\uac10 :2019\\ub144 11\\uc6d4 11\\uc77c (\\uc6d4) 23\\uc2dc 59\\ubd84 \\uae4c\\uc9c0(2) \\uba74\\uc811\\uc804\\ud615? \\uba74\\uc811\\uc77c\\uc815 :2019\\ub144 11\\uc6d4 20\\uc77c (\\uc218), 21\\uc77c (\\ubaa9), 22\\uc77c (\\uae08) \\u4e2d \\ud558\\ub8e8 \\uc120\\ud0dd (\\uc911\\ubcf5 \\uc120\\ud0dd \\uac00\\ub2a5)? \\uba74\\uc811\\uc7a5\\uc18c : \\ud55c\\uad6d\\uc678\\ub300 \\uae00\\ub85c\\ubc8c\\ucea0\\ud37c\\uc2a4(\\uc6a9\\uc778) \\uad6d\\uc81c\\uc0ac\\ud68c\\uad50\\uc721\\uc6d0 \\uc5f0\\uad6c\\ub3d9 201\\ud638 \\u3260 \\uc11c\\ub958\\uc804\\ud615 \\ud569\\uaca9\\uc790\\uc5d0 \\ud55c\\ud558\\uc5ec 11\\uc6d4 15\\uc77c(\\uae08) \\uc624\\ud6c4 3\\uc2dc \\uac1c\\ubcc4\\uc801(\\ubb38\\uc790 \\uba54\\uc2dc\\uc9c0)\\uc73c\\ub85c \\uba74\\uc811\\uc77c\\uc815 \\ud1b5\\ubcf4\\ud568.\\u3261\\uba74\\uc811\\uc77c\\uc815\\uc740 \\u2018\\ucea0\\ud504\\uc9c0\\uc6d0\\uc11c\\u2019\\uc5d0\\uc11c \\uc120\\ud0dd \\uac00\\ub2a5\\ud568. \\ub2e8, \\uc9c0\\uc6d0\\uc790\\uac00 \\ub9ce\\uc744 \\uacbd\\uc6b0, \\ubcf8\\uc778\\uc774 \\uc6d0\\ud558\\ub294 \\uc694\\uc77c\\uc5d0 \\uba74\\uc811\\uc774 \\ubc30\\uc815\\ub418\\uae30 \\uc5b4\\ub824\\uc6b8 \\uc218 \\uc788\\uc74c. \\uba74\\uc811 \\uc77c\\uc815\\uc740 \\uc9c0\\uc6d0\\uc11c \\uc811\\uc218\\uc77c\\uc774 \\uba3c\\uc800\\uc778 \\uc790\\uac00 \\uc6b0\\uc120 \\ubc30\\uc815\\ub428.\\u3262\\ud55c\\uad6d\\uc678\\ub300 \\uc778\\uc0ac\\uc774\\ud2b8\\ucea0\\ud504\\uc640 \\uc911\\ubcf5\\uc9c0\\uc6d0 \\ud55c \\uacbd\\uc6b0, \\uba74\\uc811 \\uc77c\\uc815\\uc744 \\uac19\\uc740 \\ub0a0 \\ubc30\\uc815\\ud568. \\uc9c0\\uc6d0\\uc11c \\uc791\\uc131 \\uc2dc \\uac19\\uc740 \\ub0a0\\uc9dc \\uc120\\ud0dd \\ubc14\\ub78c.(3) \\uacb0\\uacfc\\ubc1c\\ud45c(\\ud569\\uaca9/\\ubd88\\ud569\\uaca9) :\\uba74\\uc811 \\ud6c4 12\\uc6d4 2\\uc77c (\\uc6d4) \\uc624\\ud6c4 3\\uc2dc \\uac1c\\ubcc4 \\ud1b5\\ubcf4(\\ubb38\\uc790 \\uba54\\uc2dc\\uc9c0) \\uc608\\uc8157. \\ubb38\\uc758 : \\uc678\\ub300\\ubd80\\uace0 \\ucea0\\ud504\\uc0ac\\uc5c5\\ubd80 (031-324-0019) \\ub610\\ub294 \\ud398\\uc774\\uc2a4\\ubd81 \\ud398\\uc774\\uc9c0\\u300c\\uc678\\ub300\\ubd80\\uace0\\ucea0\\ud504\\u300d\\uba54\\uc2dc\\uc9c0\\u203b \\uc720\\uc758\\uc0ac\\ud56d : \\uccad\\uc18c\\ub144\\uc744 \\ub300\\uc0c1\\uc73c\\ub85c \\uc9c4\\ud589\\ub418\\ub294 \\ucea0\\ud504\\uc774\\uae30 \\ub54c\\ubb38\\uc5d0 \\ud761\\uc5f0 \\uc7a5\\uc18c\\uc640 \\uc2dc\\uac04\\uc5d0 \\uc81c\\uc57d\\uc774 \\uc788\\uc2b5\\ub2c8\\ub2e4. \\ud761\\uc5f0\\uc790\\uc758 \\uacbd\\uc6b0, \\uc774\\uc810 \\ub110\\ub9ac \\uc591\\uc9c0\\ud558\\uc2dc\\uae30 \\ubc14\\ub78d\\ub2c8\\ub2e4. \\uc811\\uc218 E-mail :hafscamp@hafs.hs.kr\\ud648\\ud398\\uc774\\uc9c0 (www.hafscamp.com)\\n2019. 10.\\uc678\\ub300\\ubd80\\uace0 \\ucea0\\ud504\\uc0ac\\uc5c5\\ubd80\\n\",\n          \"\\n2019\\ud559\\ub144\\ub3c4 1\\ud559\\uae30 \\ud559\\ubd80 \\uc7ac\\ud559\\uc0dd \\ucd94\\uac00\\ub4f1\\ub85d\\uc548\\ub0b4\\n2019\\ud559\\ub144\\ub3c4 1\\ud559\\uae30 \\ud559\\ubd80 \\uc7ac\\ud559\\uc0dd \\ucd94\\uac00\\ub4f1\\ub85d\\uc548\\ub0b4\\ub97c \\uc544\\ub798\\uc640 \\uac19\\uc774 \\uacf5\\uace0\\ud568.1. \\ub4f1\\ub85d\\uae30\\uac04 : 2019\\ub144 3\\uc6d4 18\\uc77c(\\uc6d4) ~ 2019\\ub144 3\\uc6d4 22\\uc77c(\\uae08)2. \\ub4f1\\ub85d\\uc7a5\\uc18c : \\uc6b0\\ub9ac\\uc740\\ud589, \\uad6d\\ubbfc\\uc740\\ud589, \\ub18d\\ud611 \\uc804\\uad6d\\uc9c0\\uc810\\u203b \\ud0c0\\ud589\\uc5d0\\uc11c\\ub3c4 \\uc6b0\\ub9ac\\uc740\\ud589 \\uac00\\uc0c1\\uacc4\\uc88c(\\ub4f1\\ub85d\\uae08\\uace0\\uc9c0\\uc11c\\uc5d0 \\ubd80\\uc5ec\\ub41c \\ud559\\uc0dd\\uc804\\uc6a9 \\uacc4\\uc88c\\ubc88\\ud638)\\ub85c \\uacc4\\uc88c \\uc774\\uccb4 \\uac00\\ub2a5(\\uc1a1\\uae08 \\uc218\\uc218\\ub8cc \\ub4f1 \\ud559\\uc0dd \\ubcf8\\uc778 \\ubd80\\ub2f4)\\u203b \\uac00\\uc0c1\\uacc4\\uc88c \\uc774\\uc6a9 \\uc2dc\\uac04 : 09:00 ? 17:00 (\\uc774\\uc6a9 \\uc2dc\\uac04\\uc678 \\uc774\\uccb4 \\ubd88\\uac00) \\u203b \\ub2e8, \\uc6b0\\ub9ac\\uc740\\ud589 \\uac00\\uc0c1\\uacc4\\uc88c \\uc785\\uae08\\uc740 1\\ud68c\\ub9cc \\uc0ac\\uc6a9\\uc774 \\uac00\\ub2a5\\ud558\\ubbc0\\ub85c \\uc790\\uce58\\ud68c\\ube44\\ub4f1 \\uae30\\ud0c0\\ub0a9\\uc785\\uae08 \\ub0a9\\ubd80 \\uc2dc \\ub4f1\\ub85d\\uae08\\uc5d0 \\ud569\\uc0b0\\ud558\\uc5ec \\ud55c \\ubc88\\uc5d0 \\ub0a9\\ubd80\\ud558\\uc2dc\\uae30 \\ubc14\\ub78d\\ub2c8\\ub2e4.3. \\ub4f1\\ub85d\\uae08\\uc561 : \\ub4f1\\ub85d\\uae08\\uace0\\uc9c0\\uc11c \\ucc38\\uc8704. \\ub4f1\\ub85d\\uae08 \\ub0a9\\ubd80 \\ud655\\uc778 : \\u2460 \\uc2e4\\uc2dc\\uac04 \\ud655\\uc778 : (\\uc6b0\\ub9ac\\uc740\\ud589 \\uc774\\uc6a9\\ud558\\uc5ec \\uac00\\uc0c1\\uacc4\\uc88c\\ub85c \\ub0a9\\ubd80\\ud55c \\uacbd\\uc6b0\\ub9cc \\uac00\\ub2a5) \\n\\uc6b0\\ub9ac\\uc740\\ud589 \\ud648\\ud398\\uc774\\uc9c0 \\ub610\\ub294 \\uc6b0\\ub9ac\\uc740\\ud589 \\ubaa8\\ubc14\\uc77c\\uc571 (\\uacf5\\uc778\\uc778\\uc99d\\uc11c or ID\\uc640 PW\\ub85c \\ub85c\\uadf8\\uc778) \\u2192\\uc0c1\\ub2e8 \\uba54\\ub274 \\uc911 \\uacf5\\uacfc\\uae08\\u2192\\ub4f1\\ub85d\\uae08\\u2192\\ub0a9\\ubd80\\ub0b4\\uc5ed\\uc870\\ud68c \\ud074\\ub9ad (\\ud559\\uad50\\uba85 : \\ud55c\\uad6d\\uc678\\uad6d\\uc5b4\\ub300\\ud559\\uad50)\\u2192\\uac00\\uc0c1\\uacc4\\uc88c \\uc785\\ub825\\u2192\\ud559\\uc0dd \\ud559\\ubc88 \\uc785\\ub825 \\ud6c4 \\uc870\\ud68c\\u2461 \\ub2e4\\uc74c\\ub0a0\\ubd80\\ud130 \\ud655\\uc778\\n\\ub4f1\\ub85d\\uae08 \\ub0a9\\ubd80\\ud55c \\ub2e4\\uc74c \\ub0a0\\ubd80\\ud130 \\uc885\\ud569\\uc815\\ubcf4\\uc2dc\\uc2a4\\ud15c \\ub4f1\\ub85d/\\uc7a5\\ud559\\uc815\\ubcf4-\\ub4f1\\ub85d\\ub0b4\\uc5ed\\uc5d0\\uc11c \\ud655\\uc778 \\ub610\\ub294 \\uad50\\uc721\\ube44\\ub0a9\\uc785\\uc99d\\uba85\\uc11c \\ucd9c\\ub825\\u203b \\uad50\\uc721\\ube44\\ub0a9\\uc785\\uc99d\\uba85\\uc11c(\\ub4f1\\ub85d\\uae08 \\uc601\\uc218\\uc99d) \\ucd9c\\ub825 \\uc548\\ub0b4\\n\\ud559\\uad50\\ud648\\ud398\\uc774\\uc9c0 \\uc88c\\uce21 \\u2018HUFS SERVICE\\u2019 \\u2192 2\\ud589 \\ub9c8\\uc9c0\\ub9c9 \\uc5f4 \\u2018\\uad50\\uc721\\ube44\\ub0a9\\uc785\\uc99d\\uba85\\uc11c\\u2019 \\u2192 \\uc778\\uc801\\uc0ac\\ud56d \\uc785\\ub825 \\ud6c4 \\ucd9c\\ub8255. \\ub4f1\\ub85d\\uae08 \\uace0\\uc9c0\\uc11c\\ub294 \\ub4f1\\ub85d \\uc774\\ud6c4 \\uc7ac\\ubc1c\\ud589\\ud558\\uc9c0 \\uc54a\\uc73c\\ubbc0\\ub85c \\ud559\\uae30\\ub9d0\\uae4c\\uc9c0 \\ubcf4\\uad00\\ubc14\\ub78c.(\\uc740\\ud589 \\uc218\\ub0a9\\uc778\\uc774 \\ub0a0\\uc778\\ub41c \\uace0\\uc9c0\\uc11c\\ub294 \\uc18c\\ub4dd\\uc138\\ubc95 \\uc2dc\\ud589\\uaddc\\uce59\\uc5d0 \\uc758\\uac70 \\uad50\\uc721\\ube44\\ub0a9\\uc785\\uc99d\\uba85\\uc11c\\ub85c \\uc0ac\\uc6a9\\ud560 \\uc218 \\uc788\\uc74c)\\u203b \\uc81c\\ucd9c\\uc6a9\\uc73c\\ub85c \\uc740\\ud589 \\uc218\\ub0a9\\uc778\\uc774 \\ub0a0\\uc778\\ub41c \\uace0\\uc9c0\\uc11c\\uac00 \\ud544\\uc694\\ud55c \\ud559\\uc0dd\\uc740 \\uc740\\ud589 \\ucc3d\\uad6c\\uc5d0\\uc11c \\ud604\\uc7a5\\uc218\\ub0a9\\ud558\\uc5ec\\uc57c \\ud568.\\n(\\uac00\\uc0c1\\uacc4\\uc88c\\ub85c \\ub0a9\\ubd80 \\ud6c4 \\uace0\\uc9c0\\uc11c \\uc218\\ub0a9\\uc778 \\ub0a0\\uc778 \\ubd88\\uac00)6. \\uc678\\ubd80\\uc7a5\\ud559\\uc0dd\\uc740 \\ud559\\uc0dd\\u00b7\\uc778\\uc7ac\\uac1c\\ubc1c\\ucc98 \\ud559\\uc0dd\\uc9c0\\uc6d0\\ud300\\uc5d0 \\ubb38\\uc758\\uac00. \\uc11c\\uc6b8\\ucea0\\ud37c\\uc2a4 : 02-2173-2137\\ub098. \\uae00\\ub85c\\ubc8c\\ucea0\\ud37c\\uc2a4: 031-330-4037(\\uc804\\uc561\\uc7a5\\ud559\\uc0dd\\ub3c4 \\ubc18\\ub4dc\\uc2dc \\uc740\\ud589\\uc5d0\\uc11c \\ub4f1\\ub85d\\uc808\\ucc28\\ub97c \\ucde8\\ud574\\uc57c \\ud568)7. 9\\ud68c\\uc774\\uc0c1 \\ub4f1\\ub85d\\ub300\\uc0c1\\uc790 \\ub4f1\\ub85d\\ubc29\\ubc95 (\\ubcf5\\uc218\\uc804\\uacf5\\uc790 - 11\\ud68c\\uc774\\uc0c1)\\uac00. 1~3\\ud559\\uc810 \\uc218\\uac15\\uc2e0\\uccad\\uc2dc \\ub4f1\\ub85d\\uae08\\uc758 1/6 \\ub0a9\\ubd80\\ub098. 4~6\\ud559\\uc810 \\uc218\\uac15\\uc2e0\\uccad\\uc2dc \\ub4f1\\ub85d\\uae08\\uc758 1/3 \\ub0a9\\ubd80\\ub2e4. 7~9\\ud559\\uc810 \\uc218\\uac15\\uc2e0\\uccad\\uc2dc \\ub4f1\\ub85d\\uae08\\uc758 1/2 \\ub0a9\\ubd80\\ub77c. 10\\ud559\\uc810 \\uc774\\uc0c1 \\uc218\\uac15\\uc2e0\\uccad\\uc2dc \\ub4f1\\ub85d\\uae08 \\uc804\\uc561 \\ub0a9\\ubd80\\ub9c8. \\uc218\\uac15\\uc2e0\\uccad\\ubcc0\\uacbd\\uae30\\uac04 \\ub9c8\\uac10\\uc77c\\uc778 3\\uc6d4 8\\uc77c(\\uae08) \\uc624\\ud6c4 4\\uc2dc\\uae4c\\uc9c0 \\uc218\\uac15 \\uc2e0\\uccad\\ub41c \\ud559\\uc810\\uc744 \\uae30\\uc900\\uc73c\\ub85c \\ud558\\uc5ec 3\\uc6d4 11\\uc77c(\\uc6d4)\\uc5d0 \\uc77c\\uad04\\uc801\\uc73c\\ub85c \\uac10\\uba74 \\ucc98\\ub9ac\\ub420 \\uc608\\uc815\\uc774\\ubbc0\\ub85c 3\\uc6d4 15\\uc77c(\\uae08)\\ubd80\\ud130 \\ud559\\uad50 \\ud648\\ud398\\uc774\\uc9c0\\uc5d0\\uc11c \\ub4f1\\ub85d\\uae08 \\uace0\\uc9c0\\uc11c\\ub97c \\ucd9c\\ub825\\ud558\\uc5ec \\uc0ac\\uc6a9.(\\ubc18\\ub4dc\\uc2dc \\uc218\\uac15\\uc2e0\\uccad\\uc744 \\uba3c\\uc800 \\ud655\\uc815\\ud574\\uc57c\\ud568)\\ubc14. \\ub0a9\\ubd80\\ubc29\\ubc95: 3\\uc6d4 \\ucd94\\uac00\\ub4f1\\ub85d\\uae30\\uac04\\uc5d0 \\uac00\\uc0c1\\uacc4\\uc88c\\ub97c \\ud1b5\\ud574 \\ub0a9\\ubd80\\uc0ac. 3\\uc6d4 8\\uc77c \\uc774\\ud6c4\\uc5d0 \\uac10\\uba74 \\uc2e0\\uccad\\ud558\\ub294 \\uacbd\\uc6b0 \\uc6b0\\ub9ac\\uc740\\ud589 \\uc678\\ub300\\uc9c0\\uc810\\uc5d0\\uc11c \\ub0a9\\ubd80(\\uac00\\uc0c1\\uacc4\\uc88c\\ub0a9\\ubd80 \\ubd88\\uac00, \\ud559\\uc790\\uae08\\ub300\\ucd9c \\ubd88\\uac00) \\u203b \\ub2e8, 9\\ud68c \\uc774\\uc0c1 \\ub4f1\\ub85d\\uc0dd\\uc758 \\ub4f1\\ub85d\\uae08\\uc740 \\ub9e4\\ud559\\uae30 \\uc218\\uac15\\uc2e0\\uccad\\ubcc0\\uacbd\\uae30\\uac04 \\ub9cc\\ub8cc\\uc77c\\uae4c\\uc9c0\\uc758 \\uc218\\uac15\\uc2e0\\uccad\\ud559\\uc810\\uc744 \\uae30\\uc900\\uc73c\\ub85c \\ud568(\\uc218\\uac15\\uc2e0\\uccad \\ucde8\\uc18c\\uae30\\uac04(3. 25 ~ 3. 29)\\uc758 \\ubcc0\\uacbd\\uc0ac\\ud56d\\uc5d0 \\ub300\\ud558\\uc5ec\\ub294 \\ud658\\ubd88 \\ubd88\\uac00). 8. \\ubcf5\\ud559\\uc0dd \\ub4f1\\ub85d\\uc808\\ucc28 : \\ubcf5\\ud559\\uc0dd\\uc740 \\ubcf5\\ud559\\uc2e0\\uccad \\ud6c4, \\ud559\\uad50 \\ud648\\ud398\\uc774\\uc9c0\\uc5d0\\uc11c \\ub4f1\\ub85d\\uae08 \\uace0\\uc9c0\\uc11c\\ub97c \\ucd9c\\ub825\\ud558\\uc5ec \\ub4f1\\ub85d\\ud574\\uc57c \\ud568(\\ubcf5\\ud559 \\uc2b9\\uc778 \\uc804\\uc5d0\\ub294 \\ub4f1\\ub85d\\uae08\\uace0\\uc9c0\\uc11c \\ubc1c\\uae09 \\ubd88\\uac00).9. 2012\\ud559\\ub144\\ub3c4 1\\ud559\\uae30\\ubd80\\ud130 \\ub4f1\\ub85d\\uae08\\uace0\\uc9c0\\uc11c \\ubc1c\\uc1a1\\uc744 \\uc911\\ub2e8\\ud558\\uc624\\ub2c8, \\uc885\\ud569\\uc815\\ubcf4\\uc2dc\\uc2a4\\ud15c\\uc774\\ub098 \\uacf5\\uc9c0\\uc0ac\\ud56d\\uc5d0\\uc11c \\ucd9c\\ub825\\ud558\\uc5ec \\uc0ac\\uc6a9\\ud558\\uc2dc\\uae30 \\ubc14\\ub78d\\ub2c8\\ub2e4.\\u203b \\ub4f1\\ub85d\\uae08\\uace0\\uc9c0\\uc11c\\ucd9c\\ub825 \\ubc14\\ub85c\\uac00\\uae30http://webs.hufs.ac.kr:8989/jsp/HUFS/stu1/stu1_f0_c0_a0.jsp\\uad6c\\ubd84\\ub4f1\\ub85d \\uc720\\uc758 \\uc0ac\\ud56d\\ube44\\uace0\\uacf5\\ud1b5\\uac00\\uc0c1\\uacc4\\uc88c \\uc774\\uc6a9\\uc2dc\\uac04: 09:00 ~ 17:00 (\\uc774\\uc6a9\\uc2dc\\uac04\\uc678 \\uc774\\uccb4 \\ubd88\\uac00)\\uc790\\uce58\\ud68c\\ube44\\ub4f1 \\uae30\\ud0c0\\ub0a9\\uc785\\uae08 \\ub0a9\\ubd80 \\uc2dc \\ub4f1\\ub85d\\uae08\\uc5d0 \\ud569\\uc0b0\\ud558\\uc5ec \\ud55c\\ubc88\\uc5d0 \\ub0a9\\ubd80\\ud574\\uc57c \\ud568\\n(\\uac00\\uc0c1\\uacc4\\uc88c\\ub294 1\\ud68c\\ub9cc \\uc0ac\\uc6a9 \\uac00\\ub2a5)9\\ud559\\uae30 \\ub4f1\\ub85d*\\ub4f1\\ub85d\\uc21c\\uc11c\\n\\u2460\\uc218\\uac15\\uc2e0\\uccad\\ubcc0\\uacbd\\uae30\\uac04(3.4 ~3.8 16:00)\\uc5d0 \\uc218\\uac15\\uc2e0\\uccad \\ud655\\uc815 \\n\\u24613\\uc6d4 11\\uc77c(\\uc6d4)\\uc5d0 \\ub4f1\\ub85d\\uae08 \\uc790\\ub3d9 \\uac10\\uba74 \\ucc98\\ub9ac\\n\\uc11c\\uc6b8\\ucea0\\ud37c\\uc2a4: 2173-2152\\u223c4, \\uae00\\ub85c\\ubc8c\\ucea0\\ud37c\\uc2a4: 031-330-4634\\n\\u2462\\ub4f1\\ub85d\\uae08\\uc740 3\\uc6d4 \\ucd94\\uac00\\ub4f1\\ub85d\\uae30\\uac04\\uc5d0 \\ub0a9\\ubd80\\n\\u203b \\uc218\\uac15\\uc2e0\\uccad \\ucde8\\uc18c\\uae30\\uac04\\uc758 \\ubcc0\\uacbd\\uc0ac\\ud56d\\uc5d0 \\ub300\\ud558\\uc5ec\\ub294 \\ud658\\ubd88 \\ubd88\\uac00*\\ub4f1\\ub85d\\uae08\\uc561\\n1~3\\ud559\\uc810: 1/6\\n4~6\\ud559\\uc810: 2/6\\n7~9\\ud559\\uc810: 3/6\\n10\\ud559\\uc810\\uc774\\uc0c1: \\uc804\\uc561\\ubcf5\\uc218\\uc804\\uacf5\\uc790\\ub294 11\\ud559\\uae30 \\uc774\\uc0c1 \\uc801\\uc6a9\\uc804\\uc561\\uc7a5\\ud559\\uc0dd\\u203b \\uc804\\uc561\\uc7a5\\ud559\\uc0dd\\ub3c4 \\ubc18\\ub4dc\\uc2dc \\uc544\\ub798\\uc758 \\ub450\\uac00\\uc9c0 \\ubc29\\ubc95 \\uc911 \\ud558\\ub098\\ub85c \\ub4f1\\ub85d\\uc808\\ucc28\\ub97c \\ucde8\\ud574\\uc57c \\ud568\\n\\u2460\\uac00\\uc0c1\\uacc4\\uc88c \\uc774\\uc6a9: \\uc790\\uce58\\ud68c\\ube44 \\ub4f1 \\uae30\\ud0c0 \\ub0a9\\uc785\\uae08 \\uc774\\uccb4\\uc2dc 0\\uc6d0 \\ub4f1\\ub85d\\uae08\\ub3c4 \\ud568\\uaed8 \\uc218\\ub0a9\\ucc98\\ub9ac\\ub428(0\\uc6d0\\uc740 \\uc774\\uccb4 \\ubd88\\uac00).\\n\\u2461\\uc6b0\\ub9ac\\uc740\\ud589 \\uc804\\uad6d \\uc9c0\\uc810 \\ucc3d\\uad6c \\uc774\\uc6a9: \\ub4f1\\ub85d\\uae08 \\uace0\\uc9c0\\uc11c\\ub97c \\ucc3d\\uad6c\\uc5d0 \\uc81c\\ucd9c\\ud55c \\ud6c4(0\\uc6d0 \\ub4f1\\ub85d \\uc694\\uccad) \\uc218\\ub0a9\\uc778 \\ub0a0\\uc778\\ub41c \\uc601\\uc218\\uc99d \\ubcf4\\uad00\\uc678\\ubd80\\uc7a5\\ud559\\uc0dd\\ud559\\uc0dd\\uc9c0\\uc6d0\\ud300\\uc5d0 \\ubb38\\uc758\\n\\u2460\\uc11c\\uc6b8\\ucea0\\ud37c\\uc2a4: 02-2173-2137, \\uae00\\ub85c\\ubc8c\\ucea0\\ud37c\\uc2a4: 031-330-4038\\ubcf5\\ud559\\uc0dd\\uc885\\ud569\\uc815\\ubcf4\\uc2dc\\uc2a4\\ud15c\\uc5d0\\uc11c \\ubcf5\\ud559 \\uc2b9\\uc778 \\ud655\\uc778 \\ud6c4, \\ub4f1\\ub85d\\uae08\\uace0\\uc9c0\\uc11c\\ub97c \\ucd9c\\ub825\\ud558\\uc5ec \\ub4f1\\ub85d\\n\\u203b \\ubcf5\\ud559 \\uc2b9\\uc778 \\uc804\\uc5d0\\ub294 \\ub4f1\\ub85d\\uae08\\uace0\\uc9c0\\uc11c \\ubc1c\\uae09 \\ubd88\\uac002019. 3.\\ud589\\uc815\\uc9c0\\uc6d0\\ucc98\\uc7a5\\n\",\n          \"\\n\\uc548\\ub155\\ud558\\uc138\\uc694 (\\uc11c\\uc6b8)\\ud559\\uc0dd\\uc0c1\\ub2f4\\uc13c\\ud130\\uc785\\ub2c8\\ub2e4.\\ubcf8 \\uae30\\uad00\\uc5d0\\uc11c <\\uc6c0\\uc9c1\\uc784\\uc744 \\ud1b5\\ud55c \\ud68c\\ubcf5> \\uc9d1\\ub2e8\\uc0c1\\ub2f4\\uc744 \\uc9c4\\ud589\\ud560 \\uc608\\uc815\\uc785\\ub2c8\\ub2e4.\\uc7ac\\ud559\\uc0dd\\ub4e4\\uc758 \\ub9ce\\uc740 \\uad00\\uc2ec\\uacfc \\ucc38\\uc5ec \\ubc14\\ub78d\\ub2c8\\ub2e4.\\uac10\\uc0ac\\ud569\\ub2c8\\ub2e4.* \\ubcf8 \\ud504\\ub85c\\uadf8\\ub7a8\\uc740 \\ub300\\uba74\\uc73c\\ub85c \\uc9c4\\ud589\\ub418\\uba70 2\\ud68c\\uae30 \\ubaa8\\ub450 \\ucc38\\uc5ec \\uac00\\ub2a5\\ud558\\uc2e0 \\ud559\\uc0dd\\ub9cc \\uc2e0\\uccad\\ud558\\uc5ec \\uc8fc\\uc2dc\\uae30 \\ubc14\\ub78d\\ub2c8\\ub2e4.* \\uc2e0\\uccad\\uae30\\uac04 : 12\\uc6d4 27\\uc77c (\\ud654) ~ \\uc120\\ucc29\\uc21c \\ub9c8\\uac10* \\ubb38\\uc758 : \\ud559\\uc0dd\\uc0c1\\ub2f4\\uc13c\\ud130 02-2173-2562 / sccs@hufs.ac.kr\\n\\n\\ud55c\\uad6d\\uc678\\uad6d\\uc5b4\\ub300\\ud559\\uad50 (\\uc11c\\uc6b8)\\ud559\\uc0dd\\uc0c1\\ub2f4\\uc13c\\ud130\\n\\uc6c0\\uc9c1\\uc784\\uc744 \\ud1b5\\ud55c \\ud68c\\ubcf5 -\\ubb34\\uc6a9\\ub3d9\\uc791\\uce58\\ub8cc \\uc9d1\\ub2e8\\uc0c1\\ub2f4 -\\n\\n\\uc9c4\\ud589\\uc77c\\uc815\\n23\\ub144 1\\uc6d4 9\\uc77c(\\uc6d4), 1\\uc6d4 10\\uc77c(\\ud654) \\uc624\\ud6c4 3~5\\uc2dc, 2\\ud68c\\uae30, \\ucd1d 4\\uc2dc\\uac04\\n\\n\\ubaa8\\uc9d1\\ub300\\uc0c1\\n- \\uc2e0\\uccb4\\uac10\\uac01, \\uac04\\ub2e8\\ud55c \\uc6c0\\uc9c1\\uc784(\\ub3d9\\uc791) \\ub4f1 \\uc744 \\ud1b5\\ud574 \\uc790\\uc2e0\\uacfc \\ud0c0\\uc778\\uc744 \\uc774\\ud574\\ud574\\ubcf4\\ub294 \\uc2dc \\uac04\\uc744 \\uac16\\uace0 \\uc2f6\\uc740 \\uc7ac\\ud559\\uc0dd\\n- \\uc6c0\\uc9c1\\uc784(\\ub3d9\\uc791)\\uc744 \\ud1b5\\ud574 \\ubab8\\uacfc \\ub9c8\\uc74c\\uc744 \\uc774\\uc644\\ud558\\ub294 \\uacbd\\ud5d8\\uc744 \\ud574\\ubcf4\\uace0 \\uc2f6\\uc740 \\uc7ac\\ud559\\uc0dd\\n\\n\\ud65c\\ub3d9\\ub0b4\\uc6a9\\n-\\ubaa9\\uc18c\\ub9ac, \\ud638\\ud761, \\uc774\\ubbf8\\uc9c0\\ub97c \\ud1b5\\ud574 \\uc790\\uc2e0\\uc758 \\uc2a4\\ud2b8\\ub808\\uc2a4 \\uc218\\uc900, \\ubab8\\uacfc \\ub9c8\\uc74c \\uc0c1\\ud0dc\\ub97c \\uccb4\\ud06c\\ud558\\uae30\\n-\\uac04\\ub2e8\\ud55c \\uc6c0\\uc9c1\\uc784\\uc744 \\ud1b5\\ud574 \\ubab8\\uacfc \\ub9c8\\uc74c\\uc744 \\uc774\\uc644\\ud558\\uae30\\n-\\ube44\\uc5b8\\uc5b4\\uc801\\uc73c\\ub85c \\ub9d0\\ud558\\uace0 \\ub4e4\\uc5b4\\uc8fc\\uba70 \\uc9c0\\uc9c0\\ud558\\uace0 \\uc9c0\\uc9c0 \\ubc1b\\ub294 \\uacbd\\ud5d8\\ud574\\ubcf4\\uae30\\n\\n\\uc2e0\\uccad\\ubc29\\ubc95\\n\\ud559\\uc0dd \\ud575\\uc2ec\\uc5ed\\ub7c9 \\ud1b5\\ud569\\uad00\\ub9ac \\uc2dc\\uc2a4\\ud15c (hufsability)\\uc5d0 \\uc811\\uc18d\\ud558\\uc5ec \\uc2e0\\uccad\\n(\\ub85c\\uadf8\\uc778-\\uad50\\uacfc/\\ube44\\uad50\\uacfc \\ud504\\ub85c\\uadf8\\ub7a8 \\ub9ac\\uc2a4\\ud2b8 / \\uc2e0\\uccad)\\n\\n\\uc7a5\\uc18c\\n\\uad6d\\uc81c\\ud559\\uc0ac(\\uae30\\uc219\\uc0ac) 301\\ud638\\n\\n\\uac15\\uc0ac\\n\\ucd5c\\uc815\\uc544 (\\ubb34\\uc6a9\\ub3d9\\uc791\\uce58\\ub8cc\\uc0ac)\\n\\n\\ubb38\\uc758\\n\\ud559\\uc0dd\\uc0c1\\ub2f4\\uc13c\\ud130 02) 2173-2562\\n\\n\\n\"\n        ],\n        \"semantic_type\": \"\",\n        \"description\": \"\"\n      }\n    }\n  ]\n}"
            }
          },
          "metadata": {},
          "execution_count": 2
        }
      ],
      "source": [
        "# csv파일 읽어오기 - 공지\n",
        "import pandas as pd\n",
        "filename = \"/content/drive/MyDrive/csv_final/final_merged_gongji(0501).csv\"\n",
        "gongji = pd.read_csv(filename)\n",
        "\n",
        "# 확인\n",
        "gongji.head(3)"
      ]
    },
    {
      "cell_type": "code",
      "execution_count": 3,
      "metadata": {
        "colab": {
          "base_uri": "https://localhost:8080/",
          "height": 0
        },
        "id": "S9ZXp9bH1KeO",
        "outputId": "f8d5c7af-bda3-4bee-9bab-7a226479f1ae"
      },
      "outputs": [
        {
          "output_type": "execute_result",
          "data": {
            "text/plain": [
              "   index        date                                  title  \\\n",
              "0      1  2020-01-06         [공통] 2019-2학기 이중전공 변경 배정 확정 공고   \n",
              "1      2  2020-01-13               [공통] 2020학년도 1학기 수강신청 공고   \n",
              "2      3  2020-01-13  [공통] 2020학년도 전기 국제지역대학원 학석사연계과정 모집 안내   \n",
              "\n",
              "                                             content  \n",
              "0  \\n\\n\\n\\n\\n\\n[공통]이중전공변경 배정 확정 공고\\n \\n2019학년도 제2...  \n",
              "1  \\n2020학년도 1학기 수강신청 공고 2020학년도 제1학기 수강신청에 대하여 아...  \n",
              "2  \\n2020학년도 전기 국제지역대학원 학석사연계과정 모집 안내\\n \\n2020학년도...  "
            ],
            "text/html": [
              "\n",
              "  <div id=\"df-29c6fd5a-0bb7-46e2-adaf-8816dd20a61e\" class=\"colab-df-container\">\n",
              "    <div>\n",
              "<style scoped>\n",
              "    .dataframe tbody tr th:only-of-type {\n",
              "        vertical-align: middle;\n",
              "    }\n",
              "\n",
              "    .dataframe tbody tr th {\n",
              "        vertical-align: top;\n",
              "    }\n",
              "\n",
              "    .dataframe thead th {\n",
              "        text-align: right;\n",
              "    }\n",
              "</style>\n",
              "<table border=\"1\" class=\"dataframe\">\n",
              "  <thead>\n",
              "    <tr style=\"text-align: right;\">\n",
              "      <th></th>\n",
              "      <th>index</th>\n",
              "      <th>date</th>\n",
              "      <th>title</th>\n",
              "      <th>content</th>\n",
              "    </tr>\n",
              "  </thead>\n",
              "  <tbody>\n",
              "    <tr>\n",
              "      <th>0</th>\n",
              "      <td>1</td>\n",
              "      <td>2020-01-06</td>\n",
              "      <td>[공통] 2019-2학기 이중전공 변경 배정 확정 공고</td>\n",
              "      <td>\\n\\n\\n\\n\\n\\n[공통]이중전공변경 배정 확정 공고\\n \\n2019학년도 제2...</td>\n",
              "    </tr>\n",
              "    <tr>\n",
              "      <th>1</th>\n",
              "      <td>2</td>\n",
              "      <td>2020-01-13</td>\n",
              "      <td>[공통] 2020학년도 1학기 수강신청 공고</td>\n",
              "      <td>\\n2020학년도 1학기 수강신청 공고 2020학년도 제1학기 수강신청에 대하여 아...</td>\n",
              "    </tr>\n",
              "    <tr>\n",
              "      <th>2</th>\n",
              "      <td>3</td>\n",
              "      <td>2020-01-13</td>\n",
              "      <td>[공통] 2020학년도 전기 국제지역대학원 학석사연계과정 모집 안내</td>\n",
              "      <td>\\n2020학년도 전기 국제지역대학원 학석사연계과정 모집 안내\\n \\n2020학년도...</td>\n",
              "    </tr>\n",
              "  </tbody>\n",
              "</table>\n",
              "</div>\n",
              "    <div class=\"colab-df-buttons\">\n",
              "\n",
              "  <div class=\"colab-df-container\">\n",
              "    <button class=\"colab-df-convert\" onclick=\"convertToInteractive('df-29c6fd5a-0bb7-46e2-adaf-8816dd20a61e')\"\n",
              "            title=\"Convert this dataframe to an interactive table.\"\n",
              "            style=\"display:none;\">\n",
              "\n",
              "  <svg xmlns=\"http://www.w3.org/2000/svg\" height=\"24px\" viewBox=\"0 -960 960 960\">\n",
              "    <path d=\"M120-120v-720h720v720H120Zm60-500h600v-160H180v160Zm220 220h160v-160H400v160Zm0 220h160v-160H400v160ZM180-400h160v-160H180v160Zm440 0h160v-160H620v160ZM180-180h160v-160H180v160Zm440 0h160v-160H620v160Z\"/>\n",
              "  </svg>\n",
              "    </button>\n",
              "\n",
              "  <style>\n",
              "    .colab-df-container {\n",
              "      display:flex;\n",
              "      gap: 12px;\n",
              "    }\n",
              "\n",
              "    .colab-df-convert {\n",
              "      background-color: #E8F0FE;\n",
              "      border: none;\n",
              "      border-radius: 50%;\n",
              "      cursor: pointer;\n",
              "      display: none;\n",
              "      fill: #1967D2;\n",
              "      height: 32px;\n",
              "      padding: 0 0 0 0;\n",
              "      width: 32px;\n",
              "    }\n",
              "\n",
              "    .colab-df-convert:hover {\n",
              "      background-color: #E2EBFA;\n",
              "      box-shadow: 0px 1px 2px rgba(60, 64, 67, 0.3), 0px 1px 3px 1px rgba(60, 64, 67, 0.15);\n",
              "      fill: #174EA6;\n",
              "    }\n",
              "\n",
              "    .colab-df-buttons div {\n",
              "      margin-bottom: 4px;\n",
              "    }\n",
              "\n",
              "    [theme=dark] .colab-df-convert {\n",
              "      background-color: #3B4455;\n",
              "      fill: #D2E3FC;\n",
              "    }\n",
              "\n",
              "    [theme=dark] .colab-df-convert:hover {\n",
              "      background-color: #434B5C;\n",
              "      box-shadow: 0px 1px 3px 1px rgba(0, 0, 0, 0.15);\n",
              "      filter: drop-shadow(0px 1px 2px rgba(0, 0, 0, 0.3));\n",
              "      fill: #FFFFFF;\n",
              "    }\n",
              "  </style>\n",
              "\n",
              "    <script>\n",
              "      const buttonEl =\n",
              "        document.querySelector('#df-29c6fd5a-0bb7-46e2-adaf-8816dd20a61e button.colab-df-convert');\n",
              "      buttonEl.style.display =\n",
              "        google.colab.kernel.accessAllowed ? 'block' : 'none';\n",
              "\n",
              "      async function convertToInteractive(key) {\n",
              "        const element = document.querySelector('#df-29c6fd5a-0bb7-46e2-adaf-8816dd20a61e');\n",
              "        const dataTable =\n",
              "          await google.colab.kernel.invokeFunction('convertToInteractive',\n",
              "                                                    [key], {});\n",
              "        if (!dataTable) return;\n",
              "\n",
              "        const docLinkHtml = 'Like what you see? Visit the ' +\n",
              "          '<a target=\"_blank\" href=https://colab.research.google.com/notebooks/data_table.ipynb>data table notebook</a>'\n",
              "          + ' to learn more about interactive tables.';\n",
              "        element.innerHTML = '';\n",
              "        dataTable['output_type'] = 'display_data';\n",
              "        await google.colab.output.renderOutput(dataTable, element);\n",
              "        const docLink = document.createElement('div');\n",
              "        docLink.innerHTML = docLinkHtml;\n",
              "        element.appendChild(docLink);\n",
              "      }\n",
              "    </script>\n",
              "  </div>\n",
              "\n",
              "\n",
              "<div id=\"df-7963bfef-8310-4774-aa0c-702fadb7bdc6\">\n",
              "  <button class=\"colab-df-quickchart\" onclick=\"quickchart('df-7963bfef-8310-4774-aa0c-702fadb7bdc6')\"\n",
              "            title=\"Suggest charts\"\n",
              "            style=\"display:none;\">\n",
              "\n",
              "<svg xmlns=\"http://www.w3.org/2000/svg\" height=\"24px\"viewBox=\"0 0 24 24\"\n",
              "     width=\"24px\">\n",
              "    <g>\n",
              "        <path d=\"M19 3H5c-1.1 0-2 .9-2 2v14c0 1.1.9 2 2 2h14c1.1 0 2-.9 2-2V5c0-1.1-.9-2-2-2zM9 17H7v-7h2v7zm4 0h-2V7h2v10zm4 0h-2v-4h2v4z\"/>\n",
              "    </g>\n",
              "</svg>\n",
              "  </button>\n",
              "\n",
              "<style>\n",
              "  .colab-df-quickchart {\n",
              "      --bg-color: #E8F0FE;\n",
              "      --fill-color: #1967D2;\n",
              "      --hover-bg-color: #E2EBFA;\n",
              "      --hover-fill-color: #174EA6;\n",
              "      --disabled-fill-color: #AAA;\n",
              "      --disabled-bg-color: #DDD;\n",
              "  }\n",
              "\n",
              "  [theme=dark] .colab-df-quickchart {\n",
              "      --bg-color: #3B4455;\n",
              "      --fill-color: #D2E3FC;\n",
              "      --hover-bg-color: #434B5C;\n",
              "      --hover-fill-color: #FFFFFF;\n",
              "      --disabled-bg-color: #3B4455;\n",
              "      --disabled-fill-color: #666;\n",
              "  }\n",
              "\n",
              "  .colab-df-quickchart {\n",
              "    background-color: var(--bg-color);\n",
              "    border: none;\n",
              "    border-radius: 50%;\n",
              "    cursor: pointer;\n",
              "    display: none;\n",
              "    fill: var(--fill-color);\n",
              "    height: 32px;\n",
              "    padding: 0;\n",
              "    width: 32px;\n",
              "  }\n",
              "\n",
              "  .colab-df-quickchart:hover {\n",
              "    background-color: var(--hover-bg-color);\n",
              "    box-shadow: 0 1px 2px rgba(60, 64, 67, 0.3), 0 1px 3px 1px rgba(60, 64, 67, 0.15);\n",
              "    fill: var(--button-hover-fill-color);\n",
              "  }\n",
              "\n",
              "  .colab-df-quickchart-complete:disabled,\n",
              "  .colab-df-quickchart-complete:disabled:hover {\n",
              "    background-color: var(--disabled-bg-color);\n",
              "    fill: var(--disabled-fill-color);\n",
              "    box-shadow: none;\n",
              "  }\n",
              "\n",
              "  .colab-df-spinner {\n",
              "    border: 2px solid var(--fill-color);\n",
              "    border-color: transparent;\n",
              "    border-bottom-color: var(--fill-color);\n",
              "    animation:\n",
              "      spin 1s steps(1) infinite;\n",
              "  }\n",
              "\n",
              "  @keyframes spin {\n",
              "    0% {\n",
              "      border-color: transparent;\n",
              "      border-bottom-color: var(--fill-color);\n",
              "      border-left-color: var(--fill-color);\n",
              "    }\n",
              "    20% {\n",
              "      border-color: transparent;\n",
              "      border-left-color: var(--fill-color);\n",
              "      border-top-color: var(--fill-color);\n",
              "    }\n",
              "    30% {\n",
              "      border-color: transparent;\n",
              "      border-left-color: var(--fill-color);\n",
              "      border-top-color: var(--fill-color);\n",
              "      border-right-color: var(--fill-color);\n",
              "    }\n",
              "    40% {\n",
              "      border-color: transparent;\n",
              "      border-right-color: var(--fill-color);\n",
              "      border-top-color: var(--fill-color);\n",
              "    }\n",
              "    60% {\n",
              "      border-color: transparent;\n",
              "      border-right-color: var(--fill-color);\n",
              "    }\n",
              "    80% {\n",
              "      border-color: transparent;\n",
              "      border-right-color: var(--fill-color);\n",
              "      border-bottom-color: var(--fill-color);\n",
              "    }\n",
              "    90% {\n",
              "      border-color: transparent;\n",
              "      border-bottom-color: var(--fill-color);\n",
              "    }\n",
              "  }\n",
              "</style>\n",
              "\n",
              "  <script>\n",
              "    async function quickchart(key) {\n",
              "      const quickchartButtonEl =\n",
              "        document.querySelector('#' + key + ' button');\n",
              "      quickchartButtonEl.disabled = true;  // To prevent multiple clicks.\n",
              "      quickchartButtonEl.classList.add('colab-df-spinner');\n",
              "      try {\n",
              "        const charts = await google.colab.kernel.invokeFunction(\n",
              "            'suggestCharts', [key], {});\n",
              "      } catch (error) {\n",
              "        console.error('Error during call to suggestCharts:', error);\n",
              "      }\n",
              "      quickchartButtonEl.classList.remove('colab-df-spinner');\n",
              "      quickchartButtonEl.classList.add('colab-df-quickchart-complete');\n",
              "    }\n",
              "    (() => {\n",
              "      let quickchartButtonEl =\n",
              "        document.querySelector('#df-7963bfef-8310-4774-aa0c-702fadb7bdc6 button');\n",
              "      quickchartButtonEl.style.display =\n",
              "        google.colab.kernel.accessAllowed ? 'block' : 'none';\n",
              "    })();\n",
              "  </script>\n",
              "</div>\n",
              "\n",
              "    </div>\n",
              "  </div>\n"
            ],
            "application/vnd.google.colaboratory.intrinsic+json": {
              "type": "dataframe",
              "variable_name": "haksa",
              "summary": "{\n  \"name\": \"haksa\",\n  \"rows\": 622,\n  \"fields\": [\n    {\n      \"column\": \"index\",\n      \"properties\": {\n        \"dtype\": \"number\",\n        \"std\": 179,\n        \"min\": 1,\n        \"max\": 622,\n        \"num_unique_values\": 622,\n        \"samples\": [\n          249,\n          398,\n          176\n        ],\n        \"semantic_type\": \"\",\n        \"description\": \"\"\n      }\n    },\n    {\n      \"column\": \"date\",\n      \"properties\": {\n        \"dtype\": \"object\",\n        \"num_unique_values\": 414,\n        \"samples\": [\n          \"2023-08-16\",\n          \"2023-07-11\",\n          \"2023-10-27\"\n        ],\n        \"semantic_type\": \"\",\n        \"description\": \"\"\n      }\n    },\n    {\n      \"column\": \"title\",\n      \"properties\": {\n        \"dtype\": \"string\",\n        \"num_unique_values\": 592,\n        \"samples\": [\n          \"[\\uc11c\\uc6b8] \\ud559\\ubd80 \\uc138\\ubd80\\uc804\\uacf5 \\ubc30\\uc815\\ud655\\uc815(\\ud504\\ub791\\uc2a4/\\ubbf8\\ub514\\uc5b4/\\uc911\\uad6d\\uc5b8\\uc5b4\\ubb38\\ud654/KFL\\ud559\\ubd80 \\ud574\\ub2f9)\",\n          \"[\\uacf5\\ud1b5] \\uc0dd\\ub9ac \\uc720\\uace0 \\uc2e0\\uccad \\uc548\\ub0b4\",\n          \"[\\uc11c\\uc6b8] 2021-1\\ud559\\uae30 \\uc774\\uc911\\uc804\\uacf5 \\ubcc0\\uacbd \\uc2e0\\uccad \\uacf5\\uace0\"\n        ],\n        \"semantic_type\": \"\",\n        \"description\": \"\"\n      }\n    },\n    {\n      \"column\": \"content\",\n      \"properties\": {\n        \"dtype\": \"string\",\n        \"num_unique_values\": 622,\n        \"samples\": [\n          \"\\n\\uae00\\ub85c\\ubc8c \\uc9c0\\uc5ed\\ud559 \\uacfc\\uc815 \\uc2e0\\uccad \\uc548\\ub0b42021-2\\ud559\\uae30 \\uae00\\ub85c\\ubc8c \\uc9c0\\uc5ed\\ud559 \\uacfc\\uc815(\\uc9c0\\uc5ed\\uc804\\ubb38\\uac00\\uacfc\\uc815, \\uc9c0\\uc5ed\\ud559\\uc0ac\\uacfc\\uc815) \\uc2e0\\uccad(\\ubcc0\\uacbd \\ubc0f \\ucde8\\uc18c \\ud3ec\\ud568) \\uc77c\\uc815\\uc744 \\uc544\\ub798\\uc640 \\uac19\\uc774 \\uc548\\ub0b4\\ud569\\ub2c8\\ub2e4. \\uc2e0\\uccad\\uae30\\uac04: 2021. 8. 6(\\uae08) ~ 9. 10(\\uae08)\\u203b \\uae00\\ub85c\\ubc8c \\uc9c0\\uc5ed\\ud559 \\uacfc\\uc815\\uc774\\ub780? \\uc138\\uacc4 \\uac01 \\uc9c0\\uc5ed\\uc5d0 \\ub300\\ud55c \\ucd1d\\uccb4\\uc801\\uc774\\uace0 \\ub2e4\\uba74\\uc801\\uc778 \\uc774\\ud574 \\ub2a5\\ub825\\uc744  \\ubc30\\uc591\\ud558\\uc5ec \\uad6d\\uac00\\uacbd\\uc601\\uc804\\ub7b5 \\ubc0f \\uae30\\uc5c5\\uc758 \\ud574\\uc678\\uc2dc\\uc7a5\\uc9c4\\ucd9c\\uacfc \\uad6d\\uc81c \\ube44\\uc988\\ub2c8\\uc2a4 \\uc218\\ud589\\uc5d0 \\ud544\\uc694\\ud55c  \\uc804\\ubb38\\uac00 \\uc591\\uc131\\uc744 \\ubaa9\\ud45c\\ub85c \\uc6b4\\uc601\\ub418\\ub294 \\uad50\\uc721\\uacfc\\uc815\\uc73c\\ub85c \\uc878\\uc5c5\\uc2dc \\ud559\\uc704\\uac00  \\u2018\\ubb38\\ud559\\uc0ac(\\uc9c0\\uc5ed\\uc804\\ubb38\\uac00\\uacfc\\uc815 \\uc774\\uc218)\\u2019, \\u2018\\uc9c0\\uc5ed\\ud559\\uc0ac\\u2019\\ub4f1\\uc73c\\ub85c \\ud45c\\uae30\\ub429\\ub2c8\\ub2e4. \\uc790\\uc138\\ud55c \\uc0ac\\ud56d\\uc740 \\uc544\\ub798 \\ub9c1\\ud06c\\ub97c \\ud074\\ub9ad\\ud558\\uc5ec \\ucc38\\uace0\\ud558\\uc2dc\\uae30 \\ubc14\\ub78d\\ub2c8\\ub2e4. 2021-2\\ud559\\uae30 \\uc218\\uac15\\ud3b8\\ub78c \\uc11c\\uc6b8\\ucea0\\ud37c\\uc2a4 \\uc81c70\\ucabd \\uc774\\ud558, \\uae00\\ub85c\\ubc8c\\ucea0\\ud37c\\uc2a4 \\uc81c68\\ucabd \\uc774\\ud5581. \\uc2e0\\uccad\\uc790\\uaca9: \\uc544\\ub798 \\ud559\\uacfc\\uc758 \\uc804\\uacf5 \\ub610\\ub294 \\uc774\\uc911\\uc804\\uacf5 \\ud559\\uc0dd(\\ud734\\ud559\\uc0dd \\ud3ec\\ud568)\\u203b \\uc9c0\\uc5ed\\ud559\\uacfc\\uc815 \\uac1c\\uc124 \\ud559\\uacfc(\\uc11c\\uc6b8\\ucea0\\ud37c\\uc2a4 \\ud559\\uacfc)? EU \\uc9c0\\uc5ed: \\ud504\\ub791\\uc2a4\\uc5b4\\ud559\\ubd80, \\ub3c5\\uc77c\\uc5b4\\uacfc, \\uc774\\ud0c8\\ub9ac\\uc544\\uc5b4\\uacfc, \\ub124\\ub35c\\ub780\\ub4dc\\uc5b4\\uacfc,\\uc2a4\\uce78\\ub514\\ub098\\ube44\\uc544\\uc5b4\\uacfc? \\ub7ec\\uc2dc\\uc544\\u00b7\\uc911\\uc559\\uc544\\uc2dc\\uc544 \\uc9c0\\uc5ed: \\ub178\\uc5b4\\uacfc, \\ud130\\ud0a4\\u00b7\\uc544\\uc81c\\ub974\\ubc14\\uc774\\uc794\\uc5b4\\uacfc, \\ubabd\\uace8\\uc5b4\\uacfc? \\uc911\\ub0a8\\ubbf8 \\uc9c0\\uc5ed: \\uc2a4\\ud398\\uc778\\uc5b4\\uacfc, \\ud3ec\\ub974\\ud22c\\uac08\\uc5b4\\uacfc? \\uc778\\ub3c4\\u00b7\\ub3d9\\ub0a8\\uc544 \\uc9c0\\uc5ed: \\ub9d0\\ub808\\uc774?\\uc778\\ub3c4\\ub124\\uc2dc\\uc544\\uc5b4\\uacfc, \\ubca0\\ud2b8\\ub0a8\\uc5b4\\uacfc, \\ud0dc\\uad6d\\uc5b4\\uacfc,\\uc778\\ub3c4\\uc5b4\\uacfc? \\uc911\\ub3d9\\u00b7\\ubd81\\uc544\\ud504\\ub9ac\\uce74 \\uc9c0\\uc5ed: \\uc544\\ub78d\\uc5b4\\uacfc, \\ud398\\ub974\\uc2dc\\uc544\\uc5b4?\\uc774\\ub780\\uc5b4\\uacfc(\\uae00\\ub85c\\ubc8c\\ucea0\\ud37c\\uc2a4 \\ud559\\uacfc)? EU \\uc9c0\\uc5ed: \\uadf8\\ub9ac\\uc2a4?\\ubd88\\uac00\\ub9ac\\uc544\\ud559\\uacfc? \\ub3d9\\uc720\\ub7fd\\uc9c0\\uc5ed: \\ub3d9\\uc720\\ub7fd\\ud559\\ub300\\ud559 \\uc18c\\uc18d \\uc804\\ud559\\uacfc? \\uc911\\ub0a8\\ubbf8 \\uc9c0\\uc5ed: \\uc2a4\\ud398\\uc778\\uc5b4\\ud1b5\\ubc88\\uc5ed\\ud559\\uacfc? \\uc911\\ub3d9\\u00b7\\ubd81\\uc544\\ud504\\ub9ac\\uce74 \\uc9c0\\uc5ed: \\uc544\\ub78d\\uc5b4\\ud1b5\\ubc88\\uc5ed\\ud559\\uacfc2. \\uc2e0\\uccad\\uae30\\uac04: 2021. 8. 6(\\uae08) ~ 9. 10(\\uae08) 3. \\ubc29\\ubc95: \\uc885\\ud569\\uc815\\ubcf4\\uc2dc\\uc2a4\\ud15c -> \\uc804\\uacf5/\\uad50\\uc9c1\\uad00\\ub9ac -> \\uc9c0\\uc5ed\\ud559\\uacfc\\uc815 \\uc2e0\\uccad\\ucde8\\uc18c \\uad00\\ub9ac       \\uc9c0\\uc5ed\\ud559\\uacfc\\uc815 \\uc2e0\\uccad \\ubc14\\ub85c\\uac00\\uae304. \\uae30\\ud0c0\\uac00. \\uc9c0\\uc5ed\\uc804\\ubb38\\uac00\\uacfc\\uc815:\\u2018\\ubb38\\ud559\\uc0ac(\\uc9c0\\uc5ed\\uc804\\ubb38\\uac00\\uacfc\\uc815 \\uc774\\uc218)\\u2019\\ub85c \\ud559\\uc704\\uac00 \\ud45c\\uae30\\ub428.\\ub098. \\uc9c0\\uc5ed\\ud559\\uc0ac\\uacfc\\uc815: \\ubb38\\ud559\\uc0ac \\ub300\\uc2e0\\u2018\\uc9c0\\uc5ed\\ud559\\uc0ac\\u2019\\ud559\\uc704\\uac00 \\uc218\\uc5ec\\ub428.\\ub2e4. \\uc878\\uc5c5\\ub17c\\ubb38, \\uc878\\uc5c5\\uc2dc\\ud5d8 \\ub4f1 \\uae30\\ud0c0 \\uc878\\uc5c5 \\uc694\\uac74\\uc740 \\ud559\\uacfc \\uad00\\ub828 \\uaddc\\uc815\\uc5d0 \\uc758\\ud568.2021. 8. 6.\\uad50\\ubb34\\ucc98\\uc7a5\\n\",\n          \"\\n[\\uacf5\\ud1b5]2022\\ud559\\ub144\\ub3c4 \\ud6c4\\uae30 (\\uc77c\\ubc18\\ub300\\ud559\\uc6d0)\\uc11d\\uc0ac\\uc608\\uc57d\\uc81c \\ubc0f \\ud559.\\uc11d\\uc0ac \\uc5f0\\uacc4\\uacfc\\uc815 \\ubaa8\\uc9d1 \\uc548\\ub0b4\\ud55c\\uad6d\\uc678\\uad6d\\uc5b4\\ub300\\ud559\\uad50 \\ub300\\ud559\\uc6d0 (https://gra.hufs.ac.kr/)\\n    \\ubc14\\ub85c\\uac00\\uae302022\\ud559\\ub144\\ub3c4(\\uc77c\\ubc18\\ub300\\ud559\\uc6d0)\\ud6c4\\uae30 \\uc11d\\uc0ac\\uc608\\uc57d\\uc81c \\ubc0f \\ud559.\\uc11d\\uc0ac \\uc5f0\\uacc4\\uacfc\\uc815\\uc0dd\\uc744 \\ubaa8\\uc9d1\\ud558\\uae30\\uc5d0 \\uad00\\uc2ec\\uc788\\ub294 \\ud559\\uc0dd\\ub4e4\\uc758 \\uc2e0\\uccad\\uc744 \\ubc14\\ub78d\\ub2c8\\ub2e4.1.\\uc9c0\\uc6d0\\uc2e0\\uccad\\uc11c \\uc811\\uc218\\uae30\\uac04: 2022. 8. 1(\\uc6d4) ~ 8. 5(\\uae08), 14:00\\uae4c\\uc9c02.\\uc811\\uc218\\ucc98\\uac00.\\uc11c\\uc6b8\\ucea0\\ud37c\\uc2a4: \\ud559\\uc0ac\\uc885\\ud569\\uc9c0\\uc6d0\\uc13c\\ud130(\\uc5ed\\uc0ac\\uad001\\uce35)\\uc5d0\\uc11c \\ud655\\uc778 \\ud6c4, \\ud574\\ub2f9 \\ub300\\ud559\\uc6d0\\uc5d0 \\ubc18\\ub4dc\\uc2dc                    \\uc9c1\\uc811\\uc81c\\ucd9c\\ub098.\\uae00\\ub85c\\ubc8c\\ucea0\\ud37c\\uc2a4: \\ud559\\uc0ac\\uc885\\ud569\\uc9c0\\uc6d0\\uc13c\\ud130(\\ud559\\uc0dd\\ud68c\\uad001\\uce35)3. \\uc11d\\uc0ac\\uc608\\uc57d\\uc81c\\uc640 \\ud559.\\uc11d\\uc0ac \\uc5f0\\uacc4\\uacfc\\uc815 \\ucc28\\uc774\\uc810\\uad6c\\ubd84\\uc11d\\uc0ac\\uc608\\uc57d\\uc81c\\n\\ud559.\\uc11d\\uc0ac\\uc5f0\\uacc4\\uacfc\\uc815\\uc9c0\\uc6d0\\uc2dc\\uae30\\ud559\\ubd80 6\\ud559\\uae30 \\uc774\\uc218 \\uc9c1\\ud6c4\\ud559\\ubd80 5\\ud559\\uae30 \\uc774\\uc218 \\uc9c1\\ud6c4\\ub2e8\\ucd95\\ud559\\uae30\\ub300\\ud559\\uc6d0 1\\uac1c \\ud559\\uae30(\\ucd1d 5.5\\ub144 \\uacfc\\uc815)\\ud559\\ubd80 1\\uac1c \\ud559\\uae30 \\ubc0f \\ub300\\ud559\\uc6d0 1\\uac1c \\ud559\\uae30(\\ucd1d 5\\ub144 \\uacfc\\uc815)\\uc9c0\\uc6d0\\uac00\\ub2a5 \\ud559\\uacfc\\ub300\\ud559\\uc6d0 \\uc804\\uccb4 \\ud559\\uacfc\\uc9c0\\uc6d0\\uc790 \\ud559\\ubd80\\uc640 \\uc5f0\\uacc4\\ub41c \\ub3d9\\uc77c\\uacc4\\uc5f4 \\ub300\\ud559\\uc6d0 \\ud559\\uacfc\\u203b\\uc790\\uc138\\ud55c \\uc0ac\\ud56d\\uc740 \\ud574\\ub2f9 \\uc77c\\ubc18\\ub300\\ud559\\uc6d0 \\ud648\\ud398\\uc774\\uc9c0 \\uacf5\\uc9c0\\uc0ac\\ud56d\\uc744 \\ucc38\\uace0\\ud558\\uc5ec \\uc8fc\\uc2dc\\uae30 \\ubc14\\ub78d\\ub2c8\\ub2e4.(\\uc77c\\ubc18\\ub300\\ud559\\uc6d0 \\ubb38\\uc758\\uc804\\ud654: 02-2173-2386)2022. 7.\\ud55c\\uad6d\\uc678\\uad6d\\uc5b4\\ub300\\ud559\\uad50 \\uc77c\\ubc18\\ub300\\ud559\\uc6d0\\n\",\n          \"\\n\\n\\n\\n\\n\\n\\n\\n\\n2021\\ud559\\ub144\\ub3c4 \\uc81c1\\ud559\\uae30 1\\ucc28 \\ud3d0\\uac15 \\uacf5\\uace0(\\uae00\\ub85c\\ubc8c\\ucea0\\ud37c\\uc2a4)\\n\\n\\n2021\\ud559\\ub144\\ub3c4 \\uc81c1\\ud559\\uae30 \\uc218\\uac15\\uc2e0\\uccad \\uae30\\uac04(2021\\ub144 2\\uc6d4 1\\uc77c[\\uc6d4]~5\\uc77c[\\uae08]) \\ub3d9\\uc548 \\n\\uc218\\uac15\\uc2e0\\uccad\\uc778\\uc6d0\\uc774 0\\uba85\\uc778 \\uac15\\uc88c\\uc5d0 \\ub300\\ud574\\uc11c \\uc544\\ub798\\uc640 \\uac19\\uc774 \\ud3d0\\uac15\\uc744 \\uacf5\\uace0\\ud569\\ub2c8\\ub2e4.\\n \\n- \\uc544 \\ub798 -\\n\\n\\u25a0 2021\\ud559\\ub144\\ub3c4 \\uc81c1\\ud559\\uae30 1\\ucc28 \\ud3d0\\uac15 \\uac15\\uc88c \\ud604\\ud669\\n\\n\\n\\n\\n\\n\\uac1c\\uc124\\ud559\\uacfc\\n\\n\\uc774\\uc218\\n\\uc601\\uc5ed\\n\\n\\ud559\\n\\ub144\\n\\n\\ud559\\uc218\\ubc88\\ud638\\n\\n\\uad50\\uacfc\\ubaa9\\uba85\\n\\n\\ud559\\uc810\\n\\n\\uc2dc\\uac04\\n\\n\\uad50\\uac15\\uc0ac\\uba85\\n\\n\\uac15\\uc758\\uc2dc\\uac04\\n\\n\\n\\uc601\\uc5b4\\ud1b5\\ubc88\\uc5ed\\ud559\\ubd80\\n\\n\\uc774\\uc911(\\ubd80)\\n\\n2\\n\\nN15105104\\n\\n\\ubbf8\\ub514\\uc5b4\\uc601\\uc5b4\\uccad\\ucde81\\n\\n3\\n\\n3\\n\\n\\uc724\\uc601\\uc625\\n\\n\\uc218 456\\n\\n\\n\\uc601\\uc5b4\\ud1b5\\ubc88\\uc5ed\\ud559\\uc804\\uacf5\\n\\n\\uc774\\uc911(\\uc8fc)\\n\\n3\\n\\nN01368103\\n\\n\\uba40\\ud2f0\\ubbf8\\ub514\\uc5b4\\ubc88\\uc5ed\\n\\n2\\n\\n2\\n\\n\\uae40\\ub355\\uc218\\n\\n\\uae08 56\\n\\n\\n\\uadf8\\ub9ac\\uc2a4?\\ubd88\\uac00\\ub9ac\\uc544\\ud559\\uacfc\\n\\n\\uc804\\uacf5\\n\\n4\\n\\nN08439201\\n\\n\\ubd88\\uac00\\ub9ac\\uc544\\uc640\\uc720\\ub7fd\\uc5f0\\ud569\\n\\n2\\n\\n2\\n\\nSpas Angelov Rangelov\\n\\n\\uc218 34\\n\\n\\n\\uc218\\ud559\\uacfc\\n\\n\\uc804\\uacf5\\n\\n4\\n\\nF01405101\\n\\n\\uc0b0\\uc5c5\\uc218\\ud559\\n\\n3\\n\\n3\\n\\n\\ucd5c\\uc77c\\uaddc\\n\\n\\uc6d423 \\uc2187\\n\\n2021. 2. 9.\\n\\n\\uae00\\ub85c\\ubc8c\\ucea0\\ud37c\\uc2a4 \\uad50\\ubb34\\ucc98\\uc7a5\\n\\n\\n\"\n        ],\n        \"semantic_type\": \"\",\n        \"description\": \"\"\n      }\n    }\n  ]\n}"
            }
          },
          "metadata": {},
          "execution_count": 3
        }
      ],
      "source": [
        "# csv파일 읽어오기 - 학사\n",
        "import pandas as pd\n",
        "filename = \"/content/drive/MyDrive/csv_final/merged_haksa.csv\"\n",
        "haksa = pd.read_csv(filename)\n",
        "\n",
        "# 확인\n",
        "haksa.head(3)"
      ]
    },
    {
      "cell_type": "code",
      "execution_count": 4,
      "metadata": {
        "colab": {
          "base_uri": "https://localhost:8080/",
          "height": 0
        },
        "id": "P9teCN4T2EcU",
        "outputId": "f58ed864-832b-47f8-cb73-060543738bcf"
      },
      "outputs": [
        {
          "output_type": "execute_result",
          "data": {
            "text/plain": [
              "   index        date                                              title  \\\n",
              "0      1  2020-01-02          [공통][교외] 2020-1학기 남정장학재단 장학생 모집 안내(~1/10)   \n",
              "1      2  2020-01-02       [공통] [대출] 2020년 1학기 농촌출신대학생 학자금융자(무이자) 지원 안내   \n",
              "2      3  2020-01-07  [공통][교외] 2020년 상반기 시각장애대학생을 위한 [효명장학사업] 안내(~1/23)   \n",
              "\n",
              "                                             content  \n",
              "0  \\n[공통][교외] 2020-1학기 남정장학재단 장학생 모집 안내(~1/10)아래와...  \n",
              "1  \\n\\n2020년 1학기 농촌출신대학생 학자금융자(무이자) 지원 안내\\n\\n \\n사...  \n",
              "2  \\n2020년 상반기 시각장애대학생을 위한 [효명장학사업] 안내 실로암시각장애인복지...  "
            ],
            "text/html": [
              "\n",
              "  <div id=\"df-4b317b94-bf70-4e91-9c13-8156f746b645\" class=\"colab-df-container\">\n",
              "    <div>\n",
              "<style scoped>\n",
              "    .dataframe tbody tr th:only-of-type {\n",
              "        vertical-align: middle;\n",
              "    }\n",
              "\n",
              "    .dataframe tbody tr th {\n",
              "        vertical-align: top;\n",
              "    }\n",
              "\n",
              "    .dataframe thead th {\n",
              "        text-align: right;\n",
              "    }\n",
              "</style>\n",
              "<table border=\"1\" class=\"dataframe\">\n",
              "  <thead>\n",
              "    <tr style=\"text-align: right;\">\n",
              "      <th></th>\n",
              "      <th>index</th>\n",
              "      <th>date</th>\n",
              "      <th>title</th>\n",
              "      <th>content</th>\n",
              "    </tr>\n",
              "  </thead>\n",
              "  <tbody>\n",
              "    <tr>\n",
              "      <th>0</th>\n",
              "      <td>1</td>\n",
              "      <td>2020-01-02</td>\n",
              "      <td>[공통][교외] 2020-1학기 남정장학재단 장학생 모집 안내(~1/10)</td>\n",
              "      <td>\\n[공통][교외] 2020-1학기 남정장학재단 장학생 모집 안내(~1/10)아래와...</td>\n",
              "    </tr>\n",
              "    <tr>\n",
              "      <th>1</th>\n",
              "      <td>2</td>\n",
              "      <td>2020-01-02</td>\n",
              "      <td>[공통] [대출] 2020년 1학기 농촌출신대학생 학자금융자(무이자) 지원 안내</td>\n",
              "      <td>\\n\\n2020년 1학기 농촌출신대학생 학자금융자(무이자) 지원 안내\\n\\n \\n사...</td>\n",
              "    </tr>\n",
              "    <tr>\n",
              "      <th>2</th>\n",
              "      <td>3</td>\n",
              "      <td>2020-01-07</td>\n",
              "      <td>[공통][교외] 2020년 상반기 시각장애대학생을 위한 [효명장학사업] 안내(~1/23)</td>\n",
              "      <td>\\n2020년 상반기 시각장애대학생을 위한 [효명장학사업] 안내 실로암시각장애인복지...</td>\n",
              "    </tr>\n",
              "  </tbody>\n",
              "</table>\n",
              "</div>\n",
              "    <div class=\"colab-df-buttons\">\n",
              "\n",
              "  <div class=\"colab-df-container\">\n",
              "    <button class=\"colab-df-convert\" onclick=\"convertToInteractive('df-4b317b94-bf70-4e91-9c13-8156f746b645')\"\n",
              "            title=\"Convert this dataframe to an interactive table.\"\n",
              "            style=\"display:none;\">\n",
              "\n",
              "  <svg xmlns=\"http://www.w3.org/2000/svg\" height=\"24px\" viewBox=\"0 -960 960 960\">\n",
              "    <path d=\"M120-120v-720h720v720H120Zm60-500h600v-160H180v160Zm220 220h160v-160H400v160Zm0 220h160v-160H400v160ZM180-400h160v-160H180v160Zm440 0h160v-160H620v160ZM180-180h160v-160H180v160Zm440 0h160v-160H620v160Z\"/>\n",
              "  </svg>\n",
              "    </button>\n",
              "\n",
              "  <style>\n",
              "    .colab-df-container {\n",
              "      display:flex;\n",
              "      gap: 12px;\n",
              "    }\n",
              "\n",
              "    .colab-df-convert {\n",
              "      background-color: #E8F0FE;\n",
              "      border: none;\n",
              "      border-radius: 50%;\n",
              "      cursor: pointer;\n",
              "      display: none;\n",
              "      fill: #1967D2;\n",
              "      height: 32px;\n",
              "      padding: 0 0 0 0;\n",
              "      width: 32px;\n",
              "    }\n",
              "\n",
              "    .colab-df-convert:hover {\n",
              "      background-color: #E2EBFA;\n",
              "      box-shadow: 0px 1px 2px rgba(60, 64, 67, 0.3), 0px 1px 3px 1px rgba(60, 64, 67, 0.15);\n",
              "      fill: #174EA6;\n",
              "    }\n",
              "\n",
              "    .colab-df-buttons div {\n",
              "      margin-bottom: 4px;\n",
              "    }\n",
              "\n",
              "    [theme=dark] .colab-df-convert {\n",
              "      background-color: #3B4455;\n",
              "      fill: #D2E3FC;\n",
              "    }\n",
              "\n",
              "    [theme=dark] .colab-df-convert:hover {\n",
              "      background-color: #434B5C;\n",
              "      box-shadow: 0px 1px 3px 1px rgba(0, 0, 0, 0.15);\n",
              "      filter: drop-shadow(0px 1px 2px rgba(0, 0, 0, 0.3));\n",
              "      fill: #FFFFFF;\n",
              "    }\n",
              "  </style>\n",
              "\n",
              "    <script>\n",
              "      const buttonEl =\n",
              "        document.querySelector('#df-4b317b94-bf70-4e91-9c13-8156f746b645 button.colab-df-convert');\n",
              "      buttonEl.style.display =\n",
              "        google.colab.kernel.accessAllowed ? 'block' : 'none';\n",
              "\n",
              "      async function convertToInteractive(key) {\n",
              "        const element = document.querySelector('#df-4b317b94-bf70-4e91-9c13-8156f746b645');\n",
              "        const dataTable =\n",
              "          await google.colab.kernel.invokeFunction('convertToInteractive',\n",
              "                                                    [key], {});\n",
              "        if (!dataTable) return;\n",
              "\n",
              "        const docLinkHtml = 'Like what you see? Visit the ' +\n",
              "          '<a target=\"_blank\" href=https://colab.research.google.com/notebooks/data_table.ipynb>data table notebook</a>'\n",
              "          + ' to learn more about interactive tables.';\n",
              "        element.innerHTML = '';\n",
              "        dataTable['output_type'] = 'display_data';\n",
              "        await google.colab.output.renderOutput(dataTable, element);\n",
              "        const docLink = document.createElement('div');\n",
              "        docLink.innerHTML = docLinkHtml;\n",
              "        element.appendChild(docLink);\n",
              "      }\n",
              "    </script>\n",
              "  </div>\n",
              "\n",
              "\n",
              "<div id=\"df-ba561adc-8a74-4172-b2da-77942bcc1793\">\n",
              "  <button class=\"colab-df-quickchart\" onclick=\"quickchart('df-ba561adc-8a74-4172-b2da-77942bcc1793')\"\n",
              "            title=\"Suggest charts\"\n",
              "            style=\"display:none;\">\n",
              "\n",
              "<svg xmlns=\"http://www.w3.org/2000/svg\" height=\"24px\"viewBox=\"0 0 24 24\"\n",
              "     width=\"24px\">\n",
              "    <g>\n",
              "        <path d=\"M19 3H5c-1.1 0-2 .9-2 2v14c0 1.1.9 2 2 2h14c1.1 0 2-.9 2-2V5c0-1.1-.9-2-2-2zM9 17H7v-7h2v7zm4 0h-2V7h2v10zm4 0h-2v-4h2v4z\"/>\n",
              "    </g>\n",
              "</svg>\n",
              "  </button>\n",
              "\n",
              "<style>\n",
              "  .colab-df-quickchart {\n",
              "      --bg-color: #E8F0FE;\n",
              "      --fill-color: #1967D2;\n",
              "      --hover-bg-color: #E2EBFA;\n",
              "      --hover-fill-color: #174EA6;\n",
              "      --disabled-fill-color: #AAA;\n",
              "      --disabled-bg-color: #DDD;\n",
              "  }\n",
              "\n",
              "  [theme=dark] .colab-df-quickchart {\n",
              "      --bg-color: #3B4455;\n",
              "      --fill-color: #D2E3FC;\n",
              "      --hover-bg-color: #434B5C;\n",
              "      --hover-fill-color: #FFFFFF;\n",
              "      --disabled-bg-color: #3B4455;\n",
              "      --disabled-fill-color: #666;\n",
              "  }\n",
              "\n",
              "  .colab-df-quickchart {\n",
              "    background-color: var(--bg-color);\n",
              "    border: none;\n",
              "    border-radius: 50%;\n",
              "    cursor: pointer;\n",
              "    display: none;\n",
              "    fill: var(--fill-color);\n",
              "    height: 32px;\n",
              "    padding: 0;\n",
              "    width: 32px;\n",
              "  }\n",
              "\n",
              "  .colab-df-quickchart:hover {\n",
              "    background-color: var(--hover-bg-color);\n",
              "    box-shadow: 0 1px 2px rgba(60, 64, 67, 0.3), 0 1px 3px 1px rgba(60, 64, 67, 0.15);\n",
              "    fill: var(--button-hover-fill-color);\n",
              "  }\n",
              "\n",
              "  .colab-df-quickchart-complete:disabled,\n",
              "  .colab-df-quickchart-complete:disabled:hover {\n",
              "    background-color: var(--disabled-bg-color);\n",
              "    fill: var(--disabled-fill-color);\n",
              "    box-shadow: none;\n",
              "  }\n",
              "\n",
              "  .colab-df-spinner {\n",
              "    border: 2px solid var(--fill-color);\n",
              "    border-color: transparent;\n",
              "    border-bottom-color: var(--fill-color);\n",
              "    animation:\n",
              "      spin 1s steps(1) infinite;\n",
              "  }\n",
              "\n",
              "  @keyframes spin {\n",
              "    0% {\n",
              "      border-color: transparent;\n",
              "      border-bottom-color: var(--fill-color);\n",
              "      border-left-color: var(--fill-color);\n",
              "    }\n",
              "    20% {\n",
              "      border-color: transparent;\n",
              "      border-left-color: var(--fill-color);\n",
              "      border-top-color: var(--fill-color);\n",
              "    }\n",
              "    30% {\n",
              "      border-color: transparent;\n",
              "      border-left-color: var(--fill-color);\n",
              "      border-top-color: var(--fill-color);\n",
              "      border-right-color: var(--fill-color);\n",
              "    }\n",
              "    40% {\n",
              "      border-color: transparent;\n",
              "      border-right-color: var(--fill-color);\n",
              "      border-top-color: var(--fill-color);\n",
              "    }\n",
              "    60% {\n",
              "      border-color: transparent;\n",
              "      border-right-color: var(--fill-color);\n",
              "    }\n",
              "    80% {\n",
              "      border-color: transparent;\n",
              "      border-right-color: var(--fill-color);\n",
              "      border-bottom-color: var(--fill-color);\n",
              "    }\n",
              "    90% {\n",
              "      border-color: transparent;\n",
              "      border-bottom-color: var(--fill-color);\n",
              "    }\n",
              "  }\n",
              "</style>\n",
              "\n",
              "  <script>\n",
              "    async function quickchart(key) {\n",
              "      const quickchartButtonEl =\n",
              "        document.querySelector('#' + key + ' button');\n",
              "      quickchartButtonEl.disabled = true;  // To prevent multiple clicks.\n",
              "      quickchartButtonEl.classList.add('colab-df-spinner');\n",
              "      try {\n",
              "        const charts = await google.colab.kernel.invokeFunction(\n",
              "            'suggestCharts', [key], {});\n",
              "      } catch (error) {\n",
              "        console.error('Error during call to suggestCharts:', error);\n",
              "      }\n",
              "      quickchartButtonEl.classList.remove('colab-df-spinner');\n",
              "      quickchartButtonEl.classList.add('colab-df-quickchart-complete');\n",
              "    }\n",
              "    (() => {\n",
              "      let quickchartButtonEl =\n",
              "        document.querySelector('#df-ba561adc-8a74-4172-b2da-77942bcc1793 button');\n",
              "      quickchartButtonEl.style.display =\n",
              "        google.colab.kernel.accessAllowed ? 'block' : 'none';\n",
              "    })();\n",
              "  </script>\n",
              "</div>\n",
              "\n",
              "    </div>\n",
              "  </div>\n"
            ],
            "application/vnd.google.colaboratory.intrinsic+json": {
              "type": "dataframe",
              "variable_name": "janghak",
              "summary": "{\n  \"name\": \"janghak\",\n  \"rows\": 1260,\n  \"fields\": [\n    {\n      \"column\": \"index\",\n      \"properties\": {\n        \"dtype\": \"number\",\n        \"std\": 363,\n        \"min\": 1,\n        \"max\": 1260,\n        \"num_unique_values\": 1259,\n        \"samples\": [\n          76,\n          1031,\n          44\n        ],\n        \"semantic_type\": \"\",\n        \"description\": \"\"\n      }\n    },\n    {\n      \"column\": \"date\",\n      \"properties\": {\n        \"dtype\": \"object\",\n        \"num_unique_values\": 663,\n        \"samples\": [\n          \"2022-02-07\",\n          \"2023-08-11\",\n          \"2023-03-29\"\n        ],\n        \"semantic_type\": \"\",\n        \"description\": \"\"\n      }\n    },\n    {\n      \"column\": \"title\",\n      \"properties\": {\n        \"dtype\": \"string\",\n        \"num_unique_values\": 1249,\n        \"samples\": [\n          \"[\\uacf5\\ud1b5][\\uad50\\ub0b4]2022\\ud559\\ub144\\ub3c4 2\\ud559\\uae30 \\uba74\\ud559\\uc7a5\\ud559\\uae08 \\uc2e0\\uccad \\uc548\\ub0b4\",\n          \"[\\uacf5\\ud1b5][\\uad50\\uc678] JB\\uc120\\ub3c4\\uc0ac\\uc5c5 \\uc721\\uc131\\ubc29\\uc548 \\ud0d0\\uad6c\\uc9c0\\uc6d0\\uc0ac\\uc5c5 \\ucc38\\uac00\\ud300 \\ubaa8\\uc9d1(~7/16)\",\n          \"[\\uacf5\\ud1b5][\\uad50\\uc678] \\uc678\\ubd80\\uc7a5\\ud559\\uc7ac\\ub2e8 \\uc7a5\\ud559\\uc0dd \\uc9c0\\uc6d0 \\uc804 \\uad6d\\uac00\\uc7a5\\ud559\\uae08 \\uc2e0\\uccad\"\n        ],\n        \"semantic_type\": \"\",\n        \"description\": \"\"\n      }\n    },\n    {\n      \"column\": \"content\",\n      \"properties\": {\n        \"dtype\": \"string\",\n        \"num_unique_values\": 1239,\n        \"samples\": [\n          \"\\n1.\\uad6d\\uac00\\uadfc\\ub85c\\uc7a5\\ud559\\uc0dd \\uc120\\ubc1c \\uacb0\\uacfc \\ud655\\uc778 \\uba54\\ub274: 2021. 8. 30(\\uc6d4)\\ubd80\\ud130 \\uc870\\ud68c \\uac00\\ub2a5(\\uc2dc\\uac04\\ud45c \\uc785\\ub825\\uc7409\\uc6d41\\uc77c \\uc790\\uc815\\ubd80\\ud130 \\uac00\\ub2a5\\ud558\\uba70 \\uadfc\\ub85c \\uc804 \\ud574\\ub2f9 \\uadfc\\ub85c\\uc9c0\\uc640 \\uc0ac\\uc804 \\uc870\\uc728 \\ud6c4 \\uadfc\\ub85c \\uc9c4\\ud589 \\ub2e8 \\uadfc\\ub85c \\uc804 \\ubc18\\ub4dc\\uc2dc \\uc2dc\\uac04\\ud45c \\uc785\\ub825 \\uc694\\uccad \\ub4dc\\ub9bc)\\ud55c\\uad6d\\uc7a5\\ud559\\uc7ac\\ub2e8\\uc0ac\\uc774\\ud2b8(http://www.kosaf.go.kr)\\u25b6\\uc7a5\\ud559\\uae08\\u25b6\\uad6d\\uac00\\uadfc\\ub85c \\ubc0f \\ucde8\\uc5c5\\uc5f0\\uacc4 \\uc7a5\\ud559\\uae08\\u25b6\\uad6d\\uac00\\uadfc\\ub85c\\uc7a5\\ud559\\uae08\\u25b6\\uadfc\\ub85c\\uc7a5\\ud559\\uad00\\ub9ac\\u25b6\\ub300\\ud559\\uc790\\uccb4\\uc120\\ubc1c\\uae30\\uc900 \\ubc0f \\uc120\\ubc1c \\ud604\\ud669\\u25b62021\\ub1442\\ud559\\uae30 \\uadfc\\ub85c\\uc720\\ud615'\\ud559\\uae30\\uc911'\\uc73c\\ub85c \\uc120\\ud0dd \\ud6c4 \\uc870\\ud68c(\\uadfc\\ubb34\\uc9c4\\ud589=>\\uc120\\ubc1c)-\\uc120\\ubc1c\\uc790:\\uc120\\ubc1c \\uadfc\\ub85c\\uc9c0 \\ubc0f \\ud574\\ub2f9 \\uadfc\\ub85c\\uc9c0 \\ub2f4\\ub2f9\\uc790 \\uc5f0\\ub77d\\ucc98\\uac00 \\ud45c\\uae30\\ub4282.\\uc2dc\\ud589\\uae30\\uac04: 2021. 9. 1. ~ 2022. 2. 16.-\\uc0c1\\uae30 \\uae30\\uac04 \\ub0b4\\uc5d0\\uc11c \\uadfc\\ub85c\\uc9c0 \\ubc0f \\ud559\\uc0dd \\uc0c1\\ud669\\uc5d0 \\ub530\\ub978 \\uadfc\\ubb34\\uc2dc\\uc791 \\ubc0f \\uc885\\ub8cc\\uc77c \\uc870\\uc815 \\uac00\\ub2a53.\\uadfc\\ub85c\\uc870\\uac74\\uac00.\\uc2dc\\uae09:\\uad50\\ub0b4- 9,000\\uc6d0/\\uad50\\uc678- 11,150\\uc6d0\\ub098.\\ud559\\uae30\\uc911 \\ucd5c\\ub300 \\uadfc\\ub85c\\uac00\\ub2a5\\uc2dc\\uac04:\\uc77c8\\uc2dc\\uac04 \\uc774\\ub0b4/\\uc8fc20\\uc2dc\\uac04 \\uc774\\ub0b4/\\ud559\\uae30\\ub2f9 \\ucd5c\\ub300450\\uc2dc\\uac04 \\uc774\\ub0b4(20\\ub144\\ub3c4 \\ucd5c\\ub300 \\uc2dc\\uac04\\uc73c\\ub85c21\\ub144\\ub3c4 \\ucd5c\\ub300 \\uc2dc\\uac04 \\ubcc0\\ub3d9 \\uc2dc \\ubcc4\\ub3c4 \\uacf5\\uc9c0 \\ud568.)**\\ucf54\\ub85c\\ub098 \\uc0ac\\ud68c\\uc801 \\uac70\\ub9ac \\ub450\\uae30\\uc5d0 \\ub530\\ub978 \\uadfc\\ubb34\\uc2dc\\uac04\\uacfc \\uadfc\\ub85c\\ub294 \\ud574\\ub2f9 \\uae30\\uad00\\uc758 \\uc9c0\\uce68\\uc744 \\ub530\\ub984\\uc608\\ub97c \\ub4e4\\uba74)\\uad50\\ub0b4\\uadfc\\ub85c\\uc9c0\\ub294 \\ubcf8\\uad50 \\uc778\\uc0ac\\ud300\\uc758 \\ucd9c\\ud1f4\\uadfc \\uc2dc\\uac04\\uacfc \\uae30\\uac04 \\uc900\\uc218.\\uad50\\uc678 \\uadfc\\ub85c\\uc9c0 \\uc911 \\ub300\\uc0ac\\uad00 \\ubc0f \\uad6d\\uc81c\\ud611\\ub825\\uae30\\uad00\\uc758 \\uadfc\\ub85c \\ud615\\ud0dc\\uac00 \\uc7ac\\ud0dd\\uadfc\\ub85c\\uc2dc\\uc5d0\\ub294 \\uc7ac\\ud0dd\\uadfc\\ub85c \\uc2e0\\uccad\\uc11c\\ub97c \\ud55c\\uad6d\\uc678\\uad6d\\uc5b4\\ub300\\ud559\\uad50 \\uc7a5\\ud559\\ud300\\uc73c\\ub85c \\uadfc\\ub85c \\uc804 \\uc2b9\\uc778 \\ub4dd\\ud55c \\ud6c4 \\uc7ac\\ud0dd\\uadfc\\ub85c \\uc9c4\\ud589 \\uc774\\uc5d0 \\ub300\\ud55c \\ud55c\\uad6d\\uc7a5\\ud559\\uc7ac\\ub2e8 \\uad00\\ub9ac \\uc9c0\\uce68 \\ucc38\\uc870(\\ud559\\uc0dd\\uc740 \\uc7ac\\ud0dd\\uadfc\\ub85c \\uc77c\\uc77c\\uc5c5\\ubb34\\uc77c\\uc9c0 \\uc791\\uc131,\\uadfc\\ub85c\\uc9c0 \\uae30\\uad00\\uc740 \\ud574\\ub2f9 \\uc77c\\uc77c\\uc5c5\\ubb34\\uc77c\\uc9c0 \\uc218\\uae30\\ucd9c\\uadfc\\ubd80 \\uc5c5\\ub85c\\ub4dc)4.\\uad6d\\uac00\\uadfc\\ub85c\\uc7a5\\ud559\\uc0dd \\uc720\\uc758\\uc0ac\\ud56d\\uac00.\\ucca8\\ubd80\\uc758 \\uc54c\\ub9bc\\uc7a5 \\ubc0f \\uacf5\\uc9c0\\uc0ac\\ud56d(\\uc8fc\\uc694\\uc9c0\\uce68)\\ud544\\ub3c5(21\\ud559\\ub1441\\ud559\\uae30 \\uc790\\ub8cc)* \\uadfc\\ub85c \\ud559\\uc0dd\\uc740 \\ucd9c\\uadfc\\ubd80 \\ub2f9\\uc77c \\uc785\\ub825\\uc774 \\uc6d0\\uce59*\\ucd9c\\uadfc\\ubd803\\uc77c \\uc774\\ub0b4 \\ubbf8\\uc785\\ub825\\uc2dc \\ucd94\\uac00 \\uc785\\ub825\\uc774 \\uc808\\ub300 \\ubd88\\uac00\\ud558\\ubbc0\\ub85c(\\uc785\\ub825\\ub204\\ub77d \\uc0ac\\uc720\\uc11c \\uc81c\\ucd9c \\ud3d0\\uc9c0)\\ubc18\\ub4dc\\uc2dc3\\uc77c \\uc774\\ub0b4 \\ucd9c\\uadfc\\ubd80 \\uc785\\ub825\\ubc14\\ub78d\\ub2c8\\ub2e4.(\\uc774 \\uc0ac\\ud56d\\uc740 \\uadfc\\ub85c\\uc9c0 \\ub2f4\\ub2f9\\uc790 \\uc120\\uc0dd\\ub2d8\\uc758 \\uacbd\\uc6b0\\uc5d0 \\ud574\\ub2f9)(\\ucd9c\\uadfc\\ubd80 \\uc785\\ub825\\uac00\\ub2a5 \\uae30\\uac04 \\ubcc0\\uacbd: 5\\uc77c \\uc774\\ub0b4\\u25b63\\uc77c \\uc774\\ub0b4)\\ub098.\\uc810\\uc2ec\\uc2dc\\uac04\\uc740 \\uadfc\\ub85c\\uc2dc\\uac04 \\ubbf8\\ud3ec\\ud568(\\uad50\\ub0b4\\uadfc\\ub85c12~13\\uc2dc\\ub294 \\uc810\\uc2ec\\uc2dc\\uac04/\\uad50\\uc678\\uadfc\\ub85c\\uc9c0 \\uae30\\uad00\\ubcc4 \\uc0c1\\uc774)\\uc5f0\\uc18d\\uadfc\\ub85c\\uc2dc11\\uc2dc\\uc5d0\\uc11c14\\uc2dc \\uc0ac\\uc774 \\uc911\\uc5d0 \\ucd5c\\uc18c30\\ubd84 \\uc774\\uc0c1\\uc740 \\uc810\\uc2ec\\uc2dc\\uac04\\uc73c\\ub85c \\uc815\\ud558\\uc5ec \\uadfc\\ub85c \\uc2dc\\uac04\\uc5d0\\uc11c \\uc81c\\uc678\\ud560 \\uac83\\ub2e4.\\uc218\\uc5c5\\uc2dc\\uac04\\ud45c\\uc640 \\uc911\\ubcf5\\ub418\\ub294 \\uc2dc\\uac04\\uc5d0\\ub294 \\uc808\\ub300 \\uadfc\\ub85c\\ubd88\\uac00(\\uc784\\uc2dc \\ud734\\uac15\\uc2dc\\uac04\\uc5d0\\ub3c4 \\uadfc\\ub85c\\ubd88\\uac00\\u2013\\ud559\\uc0dd\\uc758 \\uc218\\uc5c5\\uc2dc\\uac04\\ud45c\\ub294 \\uad6d\\uac00\\uadfc\\ub85c\\uad00\\ub9ac \\ud3ec\\ud138(\\ud55c\\uad6d\\uc7a5\\ud559\\uc7ac\\ub2e8 \\ud648\\ud398\\uc774\\uc9c0www.kosaf.go.kr)\\uc5d0 \\ub4f1\\ub85d\\ud574\\uc57c \\ud558\\uba70,\\ud3ec\\ud138\\uc5d0 \\ub4f1\\ub85d\\ub41c \\uc218\\uc5c5\\uc2dc\\uac04\\uacfc \\uac19\\uc740 \\uc2dc\\uac04\\uc5d0\\ub294 \\uadfc\\ub85c \\uc785\\ub825\\uc774 \\ubd88\\uac00\\ud568)**\\ub300\\uc0ac\\uad00 \\ubc0f \\uad6d\\uc81c\\ud611\\ub825\\uae30\\uad00\\uc758 \\uc7ac\\ud0dd\\uadfc\\ub85c\\uc2dc\\uc5d0\\ub294 \\uc774\\uc5d0 \\ub300\\ud55c \\ub0b4\\uc6a9 \\uc0ac\\uc804 \\uc219\\uc9c0 \\uc694\\ud568\\ub77c. 2\\ud559\\uae30 \\uc815\\uaddc \\uc2dc\\uac04\\ud45c\\ub2949. 10(\\uae08)\\uae4c\\uc9c0 \\uc785\\ub825\\ub9c8.\\uc120\\ubc1c\\uae30\\uad00 \\ub2f4\\ub2f9\\uc790\\uc640 \\uac1c\\ubcc4\\uc801\\uc73c\\ub85c \\ud611\\uc758\\ud558\\uc5ec \\uadfc\\ub85c \\uc9c4\\ud589\\ubc14.\\uc7a5\\ud559\\ud300 \\uacf5\\uc9c0 \\ubc0f \\ud55c\\uad6d\\uc7a5\\ud559\\uc7ac\\ub2e8 \\ub9e4\\ub274\\uc5bc\\uc744 \\uc219\\uc9c0\\ud558\\uc9c0 \\uc54a\\uc544 \\ubc1c\\uc0dd\\ud558\\ub294 \\ubd88\\uc774\\uc775\\uc740 \\ud559\\uc0dd \\ubcf8\\uc778\\uc774 \\uac10\\uc218\\ud558\\uc5ec\\uc57c \\ud558\\ubbc0\\ub85c \\ucd9c\\uadfc\\ubd80 \\uad00\\ub9ac \\ubc0f \\uc81c\\ucd9c \\uad00\\ub828 \\uc0ac\\ud56d \\uaf3c\\uaf3c\\ud558\\uac8c \\ud655\\uc778\\ud560 \\uac83.\\uc0ac.\\uc120\\ubc1c\\uc790 \\uba85\\ub2e8 \\ub4f1 \\uc120\\ubc1c \\uacb0\\uacfc\\ub294 \\uac1c\\uc778\\uc815\\ubcf4\\ubcf4\\ud638 \\uad00\\ub828 \\ubbfc\\uc6d0 \\uad00\\uacc4\\ub85c \\uacf5\\uac1c\\uac00 \\ubd88\\uac00\\ud558\\uc5ec \\uac1c\\ubcc4 \\ud1b5\\ubcf4\\ud558\\uc624\\ub2c8 \\uc774\\uc810 \\uc591\\ud574\\ubc14\\ub78d\\ub2c8\\ub2e4.\\uc544.\\ube44\\ub300\\uba74/\\ub179\\ud654\\uac15\\uc758 \\ud559\\uc5c5\\uc2dc\\uac04\\ud45c\\uc5d0 \\uc2dc\\uac04\\uc774 \\ubc30\\uc815\\ub418\\uc5b4 \\uc788\\uc744 \\uacbd\\uc6b0 \\ud574\\ub2f9 \\uc2dc\\uac04 \\uadfc\\ub85c \\ubd88\\uac00.\\ubcf8\\uc778\\uc758 \\uc21c\\uc218 \\uacf5\\uac15\\uc2dc\\uac04\\ub9cc \\uadfc\\ub85c\\ub85c \\uc778\\uc815 \\ub429\\ub2c8\\ub2e4.\\ucc28.\\uadfc\\ub85c\\uc7a5\\ud559\\uc0dd\\ub4e4\\uc740 \\uadfc\\ub85c\\uc7a5\\ud559\\uc0dd \\uc0ac\\uc804 \\uc900\\ube44\\uc0ac\\ud56d\\uadfc\\ub85c\\ud559\\uc0dd:\\ud65c\\ub3d9 \\uc2dc\\uc791\\uc804 \\uc11c\\uc57d\\uc11c \\ub3d9\\uc758(\\ud55c\\uad6d\\uc7a5\\ud559\\uc7ac\\ub2e8 \\ubcc4\\ucca83),\\uc0ac\\uc774\\ubc84\\uc624\\ub9ac\\uc5d4\\ud14c\\uc774\\uc158\\uc218\\uac15,\\uad50\\uc218\\uc774\\uc218\\ubcf4\\uace0\\uc11c \\uc81c\\ucd9c \\ubc0f \\uc5c5\\ubb34\\uc2a4\\ucf00\\uc974 \\ub4f1\\ub85d \\ud544\\uc218(\\uadfc\\ub85c\\uc9c0\\uc640 \\uc870\\uc728 \\ud6c4)\\uadfc\\ub85c4\\uc77c \\ud6c4 \\uadfc\\ub85c\\uc9c0\\ud3c9\\uac00\\uadfc\\ub85c\\uc9c0 \\ub2f4\\ub2f9\\uc790:\\uad50\\uc721\\ub3d9\\uc601\\uc0c1 \\uc2dc\\uccad(\\ud55c\\uad6d\\uc7a5\\ud559\\uc7ac\\ub2e8 \\ud3ec\\ud138 \\ub85c\\uae34->\\uad6d\\uac00\\uadfc\\ub85c\\uc7a5\\ud559\\uae08->\\uad50\\uc721\\ub3d9\\uc601\\uc0c1*\\uadfc\\ub85c4\\uc77c \\uc774\\ub0b4 \\uadfc\\ub85c\\uc7a5\\ud559\\uc0dd\\ud3c9\\uac00 \\uc694\\ud568\\u203b\\ubd99\\uc784\\uc758 \\uc54c\\ub9bc\\uc7a5 \\ubc0f \\uc548\\ub0b4\\uc0ac\\ud56d\\uc744 \\ubc18\\ub4dc\\uc2dc \\uc219\\uc9c0\\ud558\\uc2dc\\uae30 \\ubc14\\ub78d\\ub2c8\\ub2e4.\\uae30\\ud0c0 \\uad81\\uae08\\ud55c \\uc0ac\\ud56d\\uc740 \\uc5f0\\ub77d\\ubc14\\ub78d\\ub2c8\\ub2e4. (02-2173-2136)<\\ucd5c\\uadfc \\ucf54\\ub85c\\ub098-19\\ubc14\\uc774\\ub7ec\\uc2a4 \\uad00\\ub828,\\ub2e4\\uc591\\ud55c \\ubb38\\uc758\\uac00 \\uc788\\uc2b5\\ub2c8\\ub2e4.>1.\\uadfc\\ub85c\\uc778\\uc815\\uc5ec\\ubd80-\\uadfc\\ub85c\\uc7a5\\ud559\\uc0dd\\uc740 \\ubc18\\ub4dc\\uc2dc \\uadfc\\ub85c\\uc9c0\\uad00\\ub9ac\\uc790(\\ub610\\ub294 \\ub2f4\\ub2f9\\uc790)\\uac00 \\uadfc\\ud0dc\\uad00\\ub9ac\\ud560 \\uc218 \\uc788\\uc73c\\uba70,\\ubc30\\uc815\\ub41c \\uadfc\\ub85c\\uc9c0\\uc5d0\\uc11c \\uadfc\\ub85c\\ud558\\uc5ec\\uc57c \\ud569\\ub2c8\\ub2e4.\\uc7ac\\ud0dd\\uadfc\\ubb34,\\uc628\\ub77c\\uc778 \\uadfc\\ub85c,\\uc6d0\\uaca9 \\uad00\\ub9ac \\ub4f1 \\uadfc\\ub85c\\uc7a5\\ud559\\uc0dd\\uc758 \\uadfc\\ud0dc\\uad00\\ub9ac\\uac00 \\ubd88\\uac00\\ub2a5\\ud55c \\uacbd\\uc6b0 \\uadfc\\ub85c\\uc2dc\\uac04 \\ubd88\\uc778\\uc815\\ub428\\uc744 \\uc548\\ub0b4\\ub4dc\\ub9bd\\ub2c8\\ub2e4.(\\ub2e8,\\ub300\\uc0ac\\uad00 \\ubc0f \\uad6d\\uc81c\\ud611\\ub825\\uae30\\uad00 \\uc608\\uc678)(\\uc608-\\uadfc\\ub85c\\uc9c0\\ub2f4\\ub2f9\\uc790\\uc758 \\uc7ac\\ud0dd\\uadfc\\ubb34,\\uadfc\\ub85c\\uc9c0 \\ud3d0\\uc1c4 \\ub4f1\\uc774 \\ubc1c\\uc0dd\\ud560 \\uacbd\\uc6b0 \\uad6d\\uac00\\uadfc\\ub85c\\uc7a5\\ud559\\uc0dd\\ub3c4 \\uadfc\\ub85c\\ubd88\\uac00.\\uad6d\\uac00\\uadfc\\ub85c\\uc7a5\\ud559\\uc0dd\\uc758 \\uc7ac\\ud0dd\\uadfc\\ubb34,\\uc628\\ub77c\\uc778 \\uadfc\\ub85c \\ub4f1 \\ubc30\\uc815\\ub41c \\uadfc\\ub85c\\uc9c0\\ub97c \\ubc97\\uc5b4\\ub098\\uc11c \\uadfc\\ub85c\\ubd88\\uac00.\\ub4f1)2.\\ucf54\\ub85c\\ub098-19\\ubc14\\uc774\\ub7ec\\uc2a4 \\uad00\\ub828 \\uc790\\uac00\\uaca9\\ub9ac\\uc790/\\uc720\\uc99d\\uc0c1\\uc790-\\ucf54\\ub85c\\ub098-19\\ubc14\\uc774\\ub7ec\\uc2a4 \\uad00\\ub828\\uc790\\uc758 \\uacbd\\uc6b0(\\uc790\\uac00\\uaca9\\ub9ac,\\uc720\\uc99d\\uc0c1 \\ub4f1)\\uc228\\uae30\\uc9c0 \\ub9c8\\uc2dc\\uace0 \\uc5f0\\ub77d\\ubc14\\ub78d\\ub2c8\\ub2e4.-\\uc790\\uac00\\uaca9\\ub9ac\\ub85c \\uc778\\ud558\\uc5ec \\uadfc\\ub85c\\ud558\\uc9c0 \\ubabb\\ud558\\uc600\\uc744 \\uacbd\\uc6b0 \\uc774\\uc5d0 \\ub300\\ud55c \\uadfc\\ub85c\\uc7a5\\ud559\\uae08\\uc740 \\uc9c0\\uae09\\ub418\\uc9c0 \\uc54a\\uc2b5\\ub2c8\\ub2e4.-\\ucf54\\ub85c\\ub098-19\\ubc14\\uc774\\ub7ec\\uc2a4 \\uad00\\ub828 \\uc99d\\uc0c1\\uc774 \\uc788\\uc744 \\uc2dc \\uc989\\uc2dc \\uc9c8\\ubcd1\\uad00\\ub9ac\\ubcf8\\ubd80 \\ucf5c\\uc13c\\ud1301339\\uc5d0 \\uc0c1\\ub2f4\\ubc14\\ub78d\\ub2c8\\ub2e4.3.\\uadfc\\ub85c\\uc2dc\\uc791\\uc77c \\uc900\\uc218\\uc5ec\\ubd80-\\uadfc\\ub85c\\uc2dc\\uc791\\uc77c\\uc740 \\ubc18\\ub4dc\\uc2dc \\ubaa8\\ub450\\uac00 \\ub3d9\\uc77c\\ud558\\uac8c \\uc2dc\\uc791\\ud558\\ub294 \\uac83\\uc774 \\uc544\\ub2d9\\ub2c8\\ub2e4.\\uadfc\\ub85c\\uc9c0\\uc640 \\ud559\\uc0dd \\uc0c1\\ud638 \\ud611\\uc758 \\ud558\\uc5d0 \\uc5f0\\uae30 \\uac00\\ub2a5\\ud558\\uc624\\ub2c8 \\ubc29\\ubb38\\uc790\\uac00 \\ub9ce\\uc740 \\uadfc\\ub85c\\uc9c0 \\ub4f1 \\uc704\\ud5d8\\uc694\\uc18c\\uac00 \\uc788\\ub2e4\\uace0 \\ud310\\ub2e8\\ub418\\ub294 \\uadfc\\ub85c\\uc9c0\\uc640 \\uc0ac\\uc804\\uc5d0 \\uc870\\uc728\\ubc14\\ub78d\\ub2c8\\ub2e4.4.\\ucf54\\ub85c\\ub098-19\\ubc14\\uc774\\ub7ec\\uc2a4 \\uc704\\ud5d8\\uc9c0\\uc5ed \\ubc29\\ubb38\\uc774\\ub825\\uc774 \\uc788\\ub294 \\ud559\\uc0dd-\\uadfc\\ub85c \\uc2dc\\uc791 \\uc804 \\ubc18\\ub4dc\\uc2dc \\uadfc\\ub85c\\uc9c0 \\ub2f4\\ub2f9\\uc790\\ub2d8\\uaed8 \\uc54c\\ub9ac\\uace0 \\uadfc\\ub85c \\uc9c4\\ud589 \\ud611\\uc758 \\ubc14\\ub78d\\ub2c8\\ub2e4.\\ubaa8\\ucabc\\ub85d \\uc608\\ubc29\\uc5d0 \\ud798\\uc368\\uc8fc\\uc2dc\\uae38 \\ubc14\\ub77c\\uba70,\\uc704\\uc640 \\uac19\\uc740 \\uc0c1\\ud669 \\ubc1c\\uc0dd \\uc2dc \\uc989\\uc2dc \\uc5f0\\ub77d\\ubc14\\ub78d\\ub2c8\\ub2e4.\\ubd99\\uc784:1. 2021-2\\uad6d\\uac00\\uadfc\\ub85c \\uc54c\\ub9bc\\uc7a5(\\uc548\\uc804\\uad50\\uc721\\uc790\\ub8cc \\ubc0f \\uad50\\uc721\\uc774\\uc218\\uc11c \\uc591\\uc2dd)\\uac011\\ubd80(21-1\\ud559\\uae30 \\ub0b4\\uc6a9 \\ub3d9\\uc77c)2.\\ud55c\\uad6d\\uc7a5\\ud559\\uc7ac\\ub2e8 \\uc7a5\\ud559\\uc0dd \\uac00\\uc774\\ub4dc\\ubd81(21-1\\ud559\\uae30 \\uc790\\ub8cc2\\ud559\\uae30\\uc640 \\ub3d9\\uc77c \\ud568.)\\n\",\n          \"\\n\\n\\uc544\\ub798\\uc640 \\uac19\\uc774 2021-1\\ud559\\uae30 \\ubbf8\\ub798\\uc758 \\ub3d9\\ubc18\\uc790\\uc7ac\\ub2e8 \\uc2e0\\uaddc\\uc7a5\\ud559\\uc0dd \\ubaa8\\uc9d1\\uc548\\ub0b4\\ub97c \\ud558\\ub2c8 \\uc678\\ub300 \\ud559\\uc0dd\\ub4e4\\uc758 \\ub9ce\\uc740 \\uc9c0\\uc6d0 \\ubc14\\ub78d\\ub2c8\\ub2e4.\\n\\n- \\uc544 \\ub798 -\\n\\n1. \\uc7ac\\ub2e8\\uba85: \\ubbf8\\ub798\\uc758 \\ub3d9\\ubc18\\uc790\\uc7ac\\ub2e8\\n\\n2. \\uc7a5\\ud559\\uae08\\uc561: \\ub4f1\\ub85d\\uae08 \\uc804\\uc561(\\ud0c0\\uc7a5\\ud559\\uae08\\uacfc \\uc911\\ubcf5\\uc218\\ud61c \\ubd88\\uac00)\\n\\n3. \\uc9c0\\uc6d0\\uc790\\uaca9(\\uac00~\\ub77c\\ud56d\\ubaa9\\uc744 \\ubaa8\\ub450 \\ucda9\\uc871\\ud574\\uc57c \\ud568)\\n \\uac00.\\uc11c\\uc6b8\\ucea0\\ud37c\\uc2a4 \\uc7ac\\ud559\\uc0dd(\\ucd08\\uacfc\\ud559\\uae30, \\ud734\\ud559\\uc0dd \\ubc0f \\ud734\\ud559\\uc608\\uc815\\uc790\\uc9c0\\uc6d0\\ubd88\\uac00)\\n *\\ub4f1\\ub85d \\ud6c4 \\ud734\\ud559\\ud558\\ub294 \\ud559\\uc0dd\\uc740 \\uc790\\uaca9 \\uc0c1\\uc2e4 \\ub428.\\n \\ub098. \\uc778\\ubb38 \\ubc0f \\uc0c1\\uacbd\\uacc4\\uc5f4 \\uc81c1\\uc804\\uacf5\\uc790\\n \\ub2e4. 20-2\\ud559\\uae30 \\ud3c9\\uc810 \\ubc0f \\ubcf8\\uad50 \\uc804\\uccb4\\ud3c9\\uc810\\uc774 3.5/4.5 \\uc774\\uc0c1\\uc778 \\ud559\\uc0dd\\n \\ub77c. 20-2\\ud559\\uae30\\ud55c\\uad6d\\uc7a5\\ud559\\uc7ac\\ub2e8 \\uc0b0\\uc815 \\uae30\\uc900 \\uc18c\\ub4dd\\ubd84\\uc704 7\\ubd84\\uc704 \\uc774\\ud558\\uc778 \\ud559\\uc0dd\\n\\n4. \\uc9c0\\uc6d0\\uc11c\\ub958\\n \\uac00. \\uc7a5\\ud559\\uae08 \\uc2e0\\uccad\\uc11c(\\ubd99\\uc784\\ud30c\\uc77c)\\n \\ub098. \\ubcf8\\uad50\\uc131\\uc801\\uc99d\\uba85\\uc11c \\uc6d0\\ubcf8 1\\ubd80\\n \\ub2e4. \\ubcf8\\uad50\\uc7ac\\ud559\\uc99d\\uba85\\uc11c \\uc6d0\\ubcf8 1\\ubd80\\n \\ub77c. \\ud55c\\uad6d\\uc7a5\\ud559\\uc7ac\\ub2e8 \\uc18c\\ub4dd\\ubd84\\uc704\\ud655\\uc778\\uc11c 1\\ubd80\\n \\ub9c8. \\uc8fc\\ubbfc\\ub4f1\\ub85d\\ub4f1\\ubcf8 1\\ubd80\\n\\n5. \\uc81c\\ucd9c\\uae30\\uac04: 2021. 2. 4(\\ubaa9) \\uc624\\uc804 11\\uc2dc\\n\\n6. \\uc81c\\ucd9c\\ucc98:\\ub4f1\\uae30\\uc6b0\\ud3b8 \\uc811\\uc218\\n02450 \\uc11c\\uc6b8\\uc2dc \\ub3d9\\ub300\\ubb38\\uad6c \\uc774\\ubb38\\ub85c 107 \\n \\ud55c\\uad6d\\uc678\\ub300\\uad6d\\uc81c\\ud559\\uc0ac 101\\ud638,\\uc7a5\\ud559\\ud300 (02-2173-2795)\\n\\n\\n7. \\uc720\\uc758\\uc0ac\\ud56d \\n \\uac00. \\uc7a5\\ud559\\uc0dd\\uc740 \\ud559\\uae30\\ub2f9 \\ucd5c\\uc18c 12\\ud559\\uc810 \\uc774\\uc0c1 \\uc2e0\\uccad\\ud574\\uc57c \\ud568\\n \\ub098. \\uc7ac\\ub2e8\\uc758 \\uc694\\uccad\\uc774 \\uc788\\uc744 \\uc2dc \\uc7ac\\ub2e8 \\ud589\\uc0ac\\uc5d0 \\ucc38\\uc11d\\ud574 \\ubcf8\\uc778\\uc758 \\uc218\\ud61c \\uc0ac\\ub840 \\ub4f1\\uc744 \\ubc1c\\ud45c\\ud560 \\uc218 \\uc788\\uc74c.\\n \\ub2e4. \\ud6c4\\uc6d0\\uae30\\uc5c5/\\ud6c4\\uc6d0\\uc778\\uc5d0\\uac8c \\ubcf4\\uace0\\uc790\\ub8cc\\ub85c \\uc0ac\\uc6a9\\ud560 \\uac10\\uc0ac\\ud3b8\\uc9c0(MS\\uc6cc\\ub4dc)\\uc640 \\uc7a5\\ud559\\uc99d\\uc11c \\uc804\\ub2ec\\uc2dd \\uc0ac\\uc9c4\\uc790\\ub8cc \\ub4f1\\uc744 \\uc81c\\ucd9c\\ud574\\uc57c \\ud568\\n \\n\\n\\n\\n\",\n          \"\\n \\ucf54\\ub85c\\ub09819\\ub85c \\uc778\\ud55c \\ud2b9\\ubcc4\\uadfc\\ub85c \\uc7a5\\ud559\\uc0dd\\uc744 \\uc544\\ub798\\uc640 \\uac19\\uc774 \\ubaa8\\uc9d1\\ud558\\ub2c8 \\uad00\\uc2ec\\uc788\\ub294 \\ud559\\uc0dd\\ub4e4\\uc758 \\uc2e0\\uccad\\uc744 \\ubc14\\ub78d\\ub2c8\\ub2e4.- \\uc544    \\ub798 -1. \\uc2e0\\uccad \\uc790\\uaca9\\uac00. \\uc7ac\\ub2e8\\uc73c\\ub85c\\ubd80\\ud130 \\ud574\\ub2f9\\ud559\\uc0dd\\uc774\\ub77c\\ub294 \\u2018\\ubb38\\uc790\\u2019\\ub97c \\ubc1b\\uc740\\uc790\\ub098. \\uc7ac\\ub2e8\\uc73c\\ub85c\\ubd80\\ud130 \\ud574\\ub2f9\\ud559\\uc0dd\\uc774\\ub77c\\ub294 \\u2018\\ubb38\\uc790\\u2019\\ub97c \\ubc1b\\uc9c0 \\uc54a\\uc740\\uc790 \\uc911 \\uac00\\uacc4\\uac00\\ub9ce\\uc774\\uace4\\ub780\\ud558\\ub2e4\\uace0 \\uc0dd\\uac01\\ud558\\ub294 \\uc790- \\uc7ac\\ub2e8 \\ud648\\ud398\\uc774\\uc9c0\\uc5d0 \\uc811\\uc18d\\ud558\\uc5ec 2021\\ub144 4\\uc6d4 30(\\uae08) 18\\uc2dc \\uae4c\\uc9c0 \\uac01\\uc885 \\uac00\\uacc4\\uace4\\ub780\\uc744 \\uc99d\\uba85\\ud560 \\uc218 \\uc788\\ub294 \\uc11c\\ub958 \\uc5c5\\ub85c\\ub4dc \\ud560 \\uac83\\u203b \\uacf5\\ud1b5\\uc0ac\\ud56d : \\uc2e0\\uccad\\uc11c(\\ucca8\\ubd80\\uc11c\\ub958) \\uc791\\uc131\\ud558\\uc5ec 2021\\ub144 4\\uc6d4 30(\\uae08) 16\\uc2dc30\\ubd84 \\uae4c\\uc9c0 \\uae00\\ub85c\\ubc8c\\ucea0\\ud37c\\uc2a4 \\ud559\\uc0dd\\uc9c0\\uc6d0\\ud300\\uc5d0 \\uc9c1\\uc811 \\uc81c\\ucd9c \\ud560 \\uac83(\\ub2e8, \\uc6b0\\ud3b8 \\uc811\\uc218 \\uac00\\ub2a5\\ud558\\uba70 4\\uc6d430\\uc77c(\\uae08) \\uae4c\\uc9c0 \\ub3c4\\ucc29\\ud558\\uc5ec\\uc57c \\ud568)2. \\uc120\\ubc1c \\uae30\\uc900\\uac00. 0\\uc21c\\uc704 : \\uc7ac\\ub2e8\\uc73c\\ub85c\\ubd80\\ud130 \\ud574\\ub2f9\\ud559\\uc0dd\\uc774\\ub77c\\ub294 \\ubb38\\uc790\\ub97c \\ubc1b\\uc740 \\uc790(\\uc774 \\uacbd\\uc6b0\\ub3c4\\\"2-\\uac00\\\", \\\"2-\\ub098\\\", 2-\\ub2e4\\\" \\uae30\\uc900\\uc5d0 \\uc758\\ud574 \\uc120\\ubc1c\\ud568)\\ub098. 1\\uc21c\\uc704 : \\ubd80\\ubaa8\\uc758 \\uc2e4\\uc9c1 \\ubc0f \\ud3d0\\uc5c5\\ub2e4. 2\\uc21c\\uc704 : \\uc9c1\\uc804\\ud559\\uae30 \\ud559\\uc5c5\\uc131\\uc801\\ub77c. 3\\uc21c\\uc704 : \\uae30\\ud0c0 \\uac00\\uacc4 \\uace4\\ub780\\uc744 \\uc99d\\uba85\\ud560 \\uc218 \\uc788\\ub294 \\uac01\\uc885 \\uc11c\\ub9583. \\ucc38\\uace0\\uc0ac\\ud56d- \\ud3d0\\uc5c5 \\ubc0f \\uc2e4\\uc9c1 \\uc778\\uc815 \\uae30\\uac04 : 2020.01.20.~2021.04.30. - \\ubcf8\\uc778 \\ud3d0\\uc5c5 \\ubc0f \\uc2e4\\uc9c1 \\uc81c\\uc678- \\uc7a5\\ud559\\uae08 \\uc2dc\\uae09 : \\uad50\\ub0b4 9,000\\uc6d0 / \\uad50\\uc678 11,150\\uc6d0(\\uae30\\uc874 \\uad6d\\uac00\\uadfc\\ub85c\\uc7a5\\ud559\\uae08 \\uc2dc\\uae09\\uacfc \\ub3d9\\uc77c\\ud568)- \\uc120\\ubc1c \\ud655\\uc815 : 2021\\ub144 5\\uc6d4 \\uc911(\\uc7a5\\ud559 \\uacf5\\uc9c0 \\uc0ac\\ud56d \\ubc0f \\ubb38\\uc790 \\uba54\\uc2dc\\uc9c0\\ub85c \\uc548\\ub0b4 \\uc608\\uc815)- \\uadfc\\ubb34 \\uae30\\uac04 : 2021.05\\uc6d4(\\ub0a0\\uc9dc \\ubbf8\\uc815)~2021.09\\uc6d4.4. \\uc720\\uc758\\uc0ac\\ud56d(\\ucca8\\ubd80\\ub41c \\ub9e4\\ub274\\uc5bc \\ubc18\\ub4dc\\uc2dc \\uc219\\uc9c0\\ud560 \\uac83)-\\uad6d\\ubbfc\\uad8c\\uc775\\uc704\\uc6d0\\ud68c\\uc5d0\\uc11c \\uacf5\\uacf5\\uc7ac\\uc815 \\ubd80\\uc815\\uc218\\uae09 \\ubc29\\uc9c0\\ub97c \\uc704\\ud55c \\u300c\\uacf5\\uacf5\\uc7ac\\uc815\\ud658\\uc218\\ubc95\\u300d\\uc744 \\uc2dc\\ud589\\ud558\\uc600\\uc73c\\uba70 2020\\ub144 1\\uc6d4 1\\uc77c \\uc774\\ud6c4 \\ub300\\ud559\\uc0dd \\uadfc\\ub85c\\uc7a5\\ud559\\uc0ac\\uc5c5 \\uc7a5\\ud559\\uae08\\uc774 \\uc9c0\\uae09\\ub41c \\uc0ac\\ud56d\\uc5d0 \\uc801\\uc6a9\\ub418\\uc5c8\\uc2b5\\ub2c8\\ub2e4. \\uc774\\uc5d0 \\ub530\\ub77c \\ud5c8\\uc704\\uadfc\\ub85c \\ubc0f \\ub300\\ub9ac\\uadfc\\ub85c \\uc2dc \\ud658\\uc218\\uae08\\uc561(\\ubd80\\uc815\\uc774\\uc775+\\uc774\\uc790+\\uc81c\\uc7ac\\ubd80\\uac00\\uae08+\\uac00\\uc0b0\\uae08)\\uc774 \\ubc1c\\uc0dd\\ud558\\ubbc0\\ub85c \\uc7a5\\ud559\\uc0dd \\ubd80\\uc815\\uadfc\\ub85c\\uac00 \\ubc1c\\uc0dd\\ud558\\uc9c0 \\uc54a\\ub3c4\\ub85d \\uc720\\uc758\\ubc14\\ub78c.-\\uc218\\uc5c5\\uc2dc\\uac04\\ud45c\\uc640 \\uc911\\ubcf5\\ub41c \\uadfc\\ub85c\\uc2dc\\uac04\\uc5d0\\ub294 \\uc808\\ub300 \\uadfc\\ub85c \\ubd88\\uac00(\\ube44\\ub300\\uba74 \\uc218\\uc5c5 \\uc2dc\\uac04\\ub3c4 \\ub300\\uba74 \\uc218\\uc5c5\\uc2dc\\uac04\\uacfc \\ub3d9\\uc77c\\ud558\\uac8c \\uc801\\uc6a9\\ub418\\uba70 \\uc774\\ub97c \\uc5b4\\uae38 \\uacbd\\uc6b0 \\ubd80\\uc815\\uadfc\\ub85c\\ub85c \\uac04\\uc8fc\\ud568)- \\ud559\\uc801 \\uc0c1\\ud0dc\\uac00 \\u201c\\uc7ac\\ud559\\u201d\\uc5d0\\uc11c \\ud734\\ud559, \\uc790\\ud1f4, \\uc878\\uc5c5 \\ub4f1\\uc73c\\ub85c \\ubcc0\\ub3d9\\ub420 \\uacbd\\uc6b0 \\uadfc\\ub85c \\ubd88\\uac00\\u203b \\ud559\\uc801\\uc774 \\ubcc0\\ub3d9\\ub420 \\uacbd\\uc6b0 \\ubcc0\\ub3d9 \\ub2f9\\uc77c\\uc758 \\ud65c\\ub3d9\\uae4c\\uc9c0\\ub9cc \\uc778\\uc815\\u203b \\ud734\\ud559 \\uc2dc \\ud734\\ud559 \\uc77c\\uc790 \\uc774\\ud6c4 \\uadfc\\ub85c\\ub294 \\uc778\\uc815\\uc774 \\ub418\\uc9c0 \\uc54a\\uc2b5\\ub2c8\\ub2e4.\\u203b \\uc790\\ud1f4 \\ubc0f \\uc81c\\uc801 \\uc2dc \\ud574\\ub2f9 \\uc77c\\uc790 \\uc774\\ud6c4 \\uadfc\\ub85c\\uac00 \\uc778\\uc815\\ub418\\uc9c0 \\uc54a\\uc2b5\\ub2c8\\ub2e4.\\u203b \\ud574\\uc678 \\ucd9c\\uc785\\uad6d \\uae30\\uac04, \\ubcd1\\uc6d0\\uc9c4\\ub8cc \\uae30\\uac04, \\uc878\\uc5c5 \\ud6c4\\uc5d0\\ub294 \\uadfc\\ub85c\\uac00 \\uc778\\uc815\\ub418\\uc9c0 \\uc54a\\uc2b5\\ub2c8\\ub2e4.\\u203b \\uadfc\\ub85c\\uac00 \\uc778\\uc815\\ub418\\uc9c0 \\uc54a\\ub294 \\uae30\\uac04\\uc5d0 \\uadfc\\ub85c\\uc7a5\\ud559\\uae08\\uc774 \\uc785\\uae08 \\ub418\\uc5c8\\uc744 \\uc2dc, \\ud658\\uc218 \\ucc98\\ub9ac\\ub429\\ub2c8\\ub2e4.5. \\ubb38\\uc758: \\ud559\\uc0dd\\uc9c0\\uc6d0\\ud300 \\uad6d\\uac00\\uadfc\\ub85c \\ub2f4\\ub2f9(031-330-4034)\\ubd99\\uc784 1. \\ud2b9\\ubcc4\\uadfc\\ub85c\\uc7a5\\ud559\\uae08 \\ud559\\uc0dd \\uc2e0\\uccad \\ub9e4\\ub274\\uc5bc(\\ud55c\\uad6d\\uc7a5\\ud559\\uc7ac\\ub2e8)2. \\ucf54\\ub85c\\ub09819 \\ud2b9\\ubcc4\\uad6d\\uac00\\uadfc\\ub85c\\uc7a5\\ud559\\uae08 \\uc2e0\\uccad\\uc11c(\\ud559\\uc0dd\\uc9c0\\uc6d0\\ud300) 2021. 04. 26\\ud559\\uc0dd\\uc9c0\\uc6d0\\ud300(\\uae00\\ub85c\\ubc8c) \\n\"\n        ],\n        \"semantic_type\": \"\",\n        \"description\": \"\"\n      }\n    }\n  ]\n}"
            }
          },
          "metadata": {},
          "execution_count": 4
        }
      ],
      "source": [
        "# csv파일 읽어오기 - 장학\n",
        "import pandas as pd\n",
        "filename = \"/content/drive/MyDrive/csv_final/merged_janghak.csv\"\n",
        "janghak = pd.read_csv(filename)\n",
        "\n",
        "# 확인\n",
        "janghak.head(3)"
      ]
    },
    {
      "cell_type": "code",
      "execution_count": 5,
      "metadata": {
        "colab": {
          "base_uri": "https://localhost:8080/",
          "height": 0
        },
        "id": "z-nUesYK2Lzm",
        "outputId": "62426f9a-9f41-4858-e320-bcc39d42e48c"
      },
      "outputs": [
        {
          "output_type": "execute_result",
          "data": {
            "text/plain": [
              "   index        date                   title  \\\n",
              "0   1269  2024.03.28      국제학사 공로봉사장학생 모집 안내   \n",
              "1   1268  2024.03.27  [사이버외대 영어학부] 전임조교 모집공지   \n",
              "2   1267  2024.03.27          중국연구소 전임연구원 모집   \n",
              "\n",
              "                                             content  \n",
              "0  \\n국제학사 사감 모집 공고(여 대학원생) \\n\\n1. 모집 관련 일반사항\\n가. ...  \n",
              "1  \\n[사이버외대 영어학부] 전임조교 모집공지\\n\\n사이버한국외국어대학교 영어학부에서...  \n",
              "2  \\n중국연구소 전임연구원 모집\\n\\n안녕하세요,한국외국어대학교 중국연구소입니다.\\n...  "
            ],
            "text/html": [
              "\n",
              "  <div id=\"df-2838d197-114b-4296-8bf2-be626a083059\" class=\"colab-df-container\">\n",
              "    <div>\n",
              "<style scoped>\n",
              "    .dataframe tbody tr th:only-of-type {\n",
              "        vertical-align: middle;\n",
              "    }\n",
              "\n",
              "    .dataframe tbody tr th {\n",
              "        vertical-align: top;\n",
              "    }\n",
              "\n",
              "    .dataframe thead th {\n",
              "        text-align: right;\n",
              "    }\n",
              "</style>\n",
              "<table border=\"1\" class=\"dataframe\">\n",
              "  <thead>\n",
              "    <tr style=\"text-align: right;\">\n",
              "      <th></th>\n",
              "      <th>index</th>\n",
              "      <th>date</th>\n",
              "      <th>title</th>\n",
              "      <th>content</th>\n",
              "    </tr>\n",
              "  </thead>\n",
              "  <tbody>\n",
              "    <tr>\n",
              "      <th>0</th>\n",
              "      <td>1269</td>\n",
              "      <td>2024.03.28</td>\n",
              "      <td>국제학사 공로봉사장학생 모집 안내</td>\n",
              "      <td>\\n국제학사 사감 모집 공고(여 대학원생) \\n\\n1. 모집 관련 일반사항\\n가. ...</td>\n",
              "    </tr>\n",
              "    <tr>\n",
              "      <th>1</th>\n",
              "      <td>1268</td>\n",
              "      <td>2024.03.27</td>\n",
              "      <td>[사이버외대 영어학부] 전임조교 모집공지</td>\n",
              "      <td>\\n[사이버외대 영어학부] 전임조교 모집공지\\n\\n사이버한국외국어대학교 영어학부에서...</td>\n",
              "    </tr>\n",
              "    <tr>\n",
              "      <th>2</th>\n",
              "      <td>1267</td>\n",
              "      <td>2024.03.27</td>\n",
              "      <td>중국연구소 전임연구원 모집</td>\n",
              "      <td>\\n중국연구소 전임연구원 모집\\n\\n안녕하세요,한국외국어대학교 중국연구소입니다.\\n...</td>\n",
              "    </tr>\n",
              "  </tbody>\n",
              "</table>\n",
              "</div>\n",
              "    <div class=\"colab-df-buttons\">\n",
              "\n",
              "  <div class=\"colab-df-container\">\n",
              "    <button class=\"colab-df-convert\" onclick=\"convertToInteractive('df-2838d197-114b-4296-8bf2-be626a083059')\"\n",
              "            title=\"Convert this dataframe to an interactive table.\"\n",
              "            style=\"display:none;\">\n",
              "\n",
              "  <svg xmlns=\"http://www.w3.org/2000/svg\" height=\"24px\" viewBox=\"0 -960 960 960\">\n",
              "    <path d=\"M120-120v-720h720v720H120Zm60-500h600v-160H180v160Zm220 220h160v-160H400v160Zm0 220h160v-160H400v160ZM180-400h160v-160H180v160Zm440 0h160v-160H620v160ZM180-180h160v-160H180v160Zm440 0h160v-160H620v160Z\"/>\n",
              "  </svg>\n",
              "    </button>\n",
              "\n",
              "  <style>\n",
              "    .colab-df-container {\n",
              "      display:flex;\n",
              "      gap: 12px;\n",
              "    }\n",
              "\n",
              "    .colab-df-convert {\n",
              "      background-color: #E8F0FE;\n",
              "      border: none;\n",
              "      border-radius: 50%;\n",
              "      cursor: pointer;\n",
              "      display: none;\n",
              "      fill: #1967D2;\n",
              "      height: 32px;\n",
              "      padding: 0 0 0 0;\n",
              "      width: 32px;\n",
              "    }\n",
              "\n",
              "    .colab-df-convert:hover {\n",
              "      background-color: #E2EBFA;\n",
              "      box-shadow: 0px 1px 2px rgba(60, 64, 67, 0.3), 0px 1px 3px 1px rgba(60, 64, 67, 0.15);\n",
              "      fill: #174EA6;\n",
              "    }\n",
              "\n",
              "    .colab-df-buttons div {\n",
              "      margin-bottom: 4px;\n",
              "    }\n",
              "\n",
              "    [theme=dark] .colab-df-convert {\n",
              "      background-color: #3B4455;\n",
              "      fill: #D2E3FC;\n",
              "    }\n",
              "\n",
              "    [theme=dark] .colab-df-convert:hover {\n",
              "      background-color: #434B5C;\n",
              "      box-shadow: 0px 1px 3px 1px rgba(0, 0, 0, 0.15);\n",
              "      filter: drop-shadow(0px 1px 2px rgba(0, 0, 0, 0.3));\n",
              "      fill: #FFFFFF;\n",
              "    }\n",
              "  </style>\n",
              "\n",
              "    <script>\n",
              "      const buttonEl =\n",
              "        document.querySelector('#df-2838d197-114b-4296-8bf2-be626a083059 button.colab-df-convert');\n",
              "      buttonEl.style.display =\n",
              "        google.colab.kernel.accessAllowed ? 'block' : 'none';\n",
              "\n",
              "      async function convertToInteractive(key) {\n",
              "        const element = document.querySelector('#df-2838d197-114b-4296-8bf2-be626a083059');\n",
              "        const dataTable =\n",
              "          await google.colab.kernel.invokeFunction('convertToInteractive',\n",
              "                                                    [key], {});\n",
              "        if (!dataTable) return;\n",
              "\n",
              "        const docLinkHtml = 'Like what you see? Visit the ' +\n",
              "          '<a target=\"_blank\" href=https://colab.research.google.com/notebooks/data_table.ipynb>data table notebook</a>'\n",
              "          + ' to learn more about interactive tables.';\n",
              "        element.innerHTML = '';\n",
              "        dataTable['output_type'] = 'display_data';\n",
              "        await google.colab.output.renderOutput(dataTable, element);\n",
              "        const docLink = document.createElement('div');\n",
              "        docLink.innerHTML = docLinkHtml;\n",
              "        element.appendChild(docLink);\n",
              "      }\n",
              "    </script>\n",
              "  </div>\n",
              "\n",
              "\n",
              "<div id=\"df-dd0bfd00-22f8-43aa-bd07-18c72be51f00\">\n",
              "  <button class=\"colab-df-quickchart\" onclick=\"quickchart('df-dd0bfd00-22f8-43aa-bd07-18c72be51f00')\"\n",
              "            title=\"Suggest charts\"\n",
              "            style=\"display:none;\">\n",
              "\n",
              "<svg xmlns=\"http://www.w3.org/2000/svg\" height=\"24px\"viewBox=\"0 0 24 24\"\n",
              "     width=\"24px\">\n",
              "    <g>\n",
              "        <path d=\"M19 3H5c-1.1 0-2 .9-2 2v14c0 1.1.9 2 2 2h14c1.1 0 2-.9 2-2V5c0-1.1-.9-2-2-2zM9 17H7v-7h2v7zm4 0h-2V7h2v10zm4 0h-2v-4h2v4z\"/>\n",
              "    </g>\n",
              "</svg>\n",
              "  </button>\n",
              "\n",
              "<style>\n",
              "  .colab-df-quickchart {\n",
              "      --bg-color: #E8F0FE;\n",
              "      --fill-color: #1967D2;\n",
              "      --hover-bg-color: #E2EBFA;\n",
              "      --hover-fill-color: #174EA6;\n",
              "      --disabled-fill-color: #AAA;\n",
              "      --disabled-bg-color: #DDD;\n",
              "  }\n",
              "\n",
              "  [theme=dark] .colab-df-quickchart {\n",
              "      --bg-color: #3B4455;\n",
              "      --fill-color: #D2E3FC;\n",
              "      --hover-bg-color: #434B5C;\n",
              "      --hover-fill-color: #FFFFFF;\n",
              "      --disabled-bg-color: #3B4455;\n",
              "      --disabled-fill-color: #666;\n",
              "  }\n",
              "\n",
              "  .colab-df-quickchart {\n",
              "    background-color: var(--bg-color);\n",
              "    border: none;\n",
              "    border-radius: 50%;\n",
              "    cursor: pointer;\n",
              "    display: none;\n",
              "    fill: var(--fill-color);\n",
              "    height: 32px;\n",
              "    padding: 0;\n",
              "    width: 32px;\n",
              "  }\n",
              "\n",
              "  .colab-df-quickchart:hover {\n",
              "    background-color: var(--hover-bg-color);\n",
              "    box-shadow: 0 1px 2px rgba(60, 64, 67, 0.3), 0 1px 3px 1px rgba(60, 64, 67, 0.15);\n",
              "    fill: var(--button-hover-fill-color);\n",
              "  }\n",
              "\n",
              "  .colab-df-quickchart-complete:disabled,\n",
              "  .colab-df-quickchart-complete:disabled:hover {\n",
              "    background-color: var(--disabled-bg-color);\n",
              "    fill: var(--disabled-fill-color);\n",
              "    box-shadow: none;\n",
              "  }\n",
              "\n",
              "  .colab-df-spinner {\n",
              "    border: 2px solid var(--fill-color);\n",
              "    border-color: transparent;\n",
              "    border-bottom-color: var(--fill-color);\n",
              "    animation:\n",
              "      spin 1s steps(1) infinite;\n",
              "  }\n",
              "\n",
              "  @keyframes spin {\n",
              "    0% {\n",
              "      border-color: transparent;\n",
              "      border-bottom-color: var(--fill-color);\n",
              "      border-left-color: var(--fill-color);\n",
              "    }\n",
              "    20% {\n",
              "      border-color: transparent;\n",
              "      border-left-color: var(--fill-color);\n",
              "      border-top-color: var(--fill-color);\n",
              "    }\n",
              "    30% {\n",
              "      border-color: transparent;\n",
              "      border-left-color: var(--fill-color);\n",
              "      border-top-color: var(--fill-color);\n",
              "      border-right-color: var(--fill-color);\n",
              "    }\n",
              "    40% {\n",
              "      border-color: transparent;\n",
              "      border-right-color: var(--fill-color);\n",
              "      border-top-color: var(--fill-color);\n",
              "    }\n",
              "    60% {\n",
              "      border-color: transparent;\n",
              "      border-right-color: var(--fill-color);\n",
              "    }\n",
              "    80% {\n",
              "      border-color: transparent;\n",
              "      border-right-color: var(--fill-color);\n",
              "      border-bottom-color: var(--fill-color);\n",
              "    }\n",
              "    90% {\n",
              "      border-color: transparent;\n",
              "      border-bottom-color: var(--fill-color);\n",
              "    }\n",
              "  }\n",
              "</style>\n",
              "\n",
              "  <script>\n",
              "    async function quickchart(key) {\n",
              "      const quickchartButtonEl =\n",
              "        document.querySelector('#' + key + ' button');\n",
              "      quickchartButtonEl.disabled = true;  // To prevent multiple clicks.\n",
              "      quickchartButtonEl.classList.add('colab-df-spinner');\n",
              "      try {\n",
              "        const charts = await google.colab.kernel.invokeFunction(\n",
              "            'suggestCharts', [key], {});\n",
              "      } catch (error) {\n",
              "        console.error('Error during call to suggestCharts:', error);\n",
              "      }\n",
              "      quickchartButtonEl.classList.remove('colab-df-spinner');\n",
              "      quickchartButtonEl.classList.add('colab-df-quickchart-complete');\n",
              "    }\n",
              "    (() => {\n",
              "      let quickchartButtonEl =\n",
              "        document.querySelector('#df-dd0bfd00-22f8-43aa-bd07-18c72be51f00 button');\n",
              "      quickchartButtonEl.style.display =\n",
              "        google.colab.kernel.accessAllowed ? 'block' : 'none';\n",
              "    })();\n",
              "  </script>\n",
              "</div>\n",
              "\n",
              "    </div>\n",
              "  </div>\n"
            ],
            "application/vnd.google.colaboratory.intrinsic+json": {
              "type": "dataframe",
              "variable_name": "hire",
              "summary": "{\n  \"name\": \"hire\",\n  \"rows\": 1269,\n  \"fields\": [\n    {\n      \"column\": \"index\",\n      \"properties\": {\n        \"dtype\": \"number\",\n        \"std\": 366,\n        \"min\": 1,\n        \"max\": 1269,\n        \"num_unique_values\": 1269,\n        \"samples\": [\n          53,\n          463,\n          847\n        ],\n        \"semantic_type\": \"\",\n        \"description\": \"\"\n      }\n    },\n    {\n      \"column\": \"date\",\n      \"properties\": {\n        \"dtype\": \"object\",\n        \"num_unique_values\": 642,\n        \"samples\": [\n          \"2023.09.21\",\n          \"2023.01.16\",\n          \"2021.02.17\"\n        ],\n        \"semantic_type\": \"\",\n        \"description\": \"\"\n      }\n    },\n    {\n      \"column\": \"title\",\n      \"properties\": {\n        \"dtype\": \"string\",\n        \"num_unique_values\": 891,\n        \"samples\": [\n          \"\\ud55c\\uad6d\\uc678\\uad6d\\uc5b4\\ub300\\ud559\\uad50 \\uacc4\\uc57d\\uc9c1 \\ucc44\\uc6a9\\uacf5\\uace0_\\uad50\\uc721\\uc120\\uc9c4\\ud654\\uc13c\\ud130\",\n          \"\\uc911\\uad6d\\uc5f0\\uad6c\\uc18c \\uc804\\uc784\\uc5f0\\uad6c\\uc6d0 \\ubaa8\\uc9d1 \\uacf5\\uace0\\ubb38\",\n          \"\\ud55c\\uad6d\\uc678\\uad6d\\uc5b4\\ub300\\ud559\\uad50 AI\\uad50\\uc721\\uc6d0(SW\\uc911\\uc2ec\\ub300\\ud559\\uc0ac\\uc5c5\\ub2e8) \\uc5f0\\uad6c\\uad50\\uc218 \\ucd08\\ube59\\uacf5\\uace0\"\n        ],\n        \"semantic_type\": \"\",\n        \"description\": \"\"\n      }\n    },\n    {\n      \"column\": \"content\",\n      \"properties\": {\n        \"dtype\": \"string\",\n        \"num_unique_values\": 1257,\n        \"samples\": [\n          \"\\n\\uc911\\ub0a8\\ubbf8\\uc5f0\\uad6c\\uc18c \\uc778\\ubb38\\ud55c\\uad6d\\ud50c\\ub7ec\\uc2a4(HK\\uff0b)\\uc0ac\\uc5c5\\ub2e8 \\ud559\\uc0ac \\uc5f0\\uad6c\\ubcf4\\uc870\\uc6d0 \\ubaa8\\uc9d1(\\uc6a9\\uc778)\\uc911\\ub0a8\\ubbf8\\uc5f0\\uad6c\\uc18c \\uc778\\ubb38\\ud55c\\uad6d\\ud50c\\ub7ec\\uc2a4(HK\\uff0b) \\uc0ac\\uc5c5\\ub2e8\\uc5d0\\uc11c\\ub294 \\uc720\\ud29c\\ube0c \\ub3d9\\uc601\\uc0c1 \\ucd2c\\uc601\\u00b7\\ud3b8\\uc9d1\\u00b7\\uc6f9 \\uad00\\ub9ac \\ub2f4\\ub2f9 \\ubc0f \\uc5f0\\uad6c\\ubcf4\\uc870\\uc6d0\\uc744 \\uae34\\uae09 \\ubaa8\\uc9d1\\ud569\\ub2c8\\ub2e4.(\\u203b \\uacfc\\uc81c\\uba85: 21\\uc138\\uae30 \\ubb38\\uba85\\uc804\\ud658\\uc758 \\ud50c\\ub7ab\\ud3fc, \\ub77c\\ud2f4\\uc544\\uba54\\ub9ac\\uce74 : \\uc0b0\\uc5c5\\ubb38\\uba85\\uc5d0\\uc11c \\uc0dd\\ud0dc\\ubb38\\uba85\\uc73c\\ub85c )1. \\ucc44\\uc6a9\\ubd84\\uc57c \\ubc0f \\uc9c0\\uc6d0\\uc790\\uaca9\\ucc44\\uc6a9\\ubd84\\uc57c\\ucc44\\uc6a9\\uae30\\uac04\\uc778\\uc6d0\\uc9c0\\uc6d0\\uc790\\uaca9\\uc5c5\\ubb34 \\uc6b0\\ub300\\uc0ac\\ud56d\\ud559\\uc0ac\\uae09 \\uc5f0\\uad6c\\ubcf4\\uc870\\uc6d0(\\uc6a9\\uc778\\ucea0\\ud37c\\uc2a4)2022.12~2023.04.301\\ud559\\uc0ac \\uc7ac\\ud559\\uc0dd (\\uc9c0\\uc6d0\\uc77c \\uae30\\uc900 \\ud734\\ud559\\uc0dd,  \\uc878\\uc5c5\\uc0dd \\ubd88\\uac004\\ub300\\ubcf4\\ud5d8 \\uac00\\uc785\\uc790 \\ubd88\\uac00)HK\\uff0b\\uc0ac\\uc5c5\\ub2e8 \\uc5f0\\uad6c\\ud559\\uc220\\ud65c\\ub3d9 \\uc9c0\\uc6d0(\\uc720\\ud29c\\ube0c \\ub3d9\\uc601\\uc0c1 \\ucd2c\\uc601\\u00b7\\ud3b8\\uc9d1\\u00b7\\uc6f9 \\uad00\\ub9ac \\uac00\\ub2a5\\uc790)<\\uacf5\\ud1b5>- \\uc624\\ud53c\\uc2a4 \\ud65c\\uc6a9 \\uac00\\ub2a5\\uc790 - \\uc2a4\\ud398\\uc778\\uc5b4, \\ud3ec\\ub974\\ud22c\\uac08\\uc5b4 \\ud65c\\uc6a9 \\uac00\\ub2a5\\uc790 2022.12~2023.04.301\\ud559\\uc0ac \\uc7ac\\ud559\\uc0dd (\\uc9c0\\uc6d0\\uc77c \\uae30\\uc900 \\ud734\\ud559\\uc0dd,  \\uc878\\uc5c5\\uc0dd \\ubd88\\uac004\\ub300\\ubcf4\\ud5d8 \\uac00\\uc785\\uc790 \\ubd88\\uac00)HK\\uff0b\\uc0ac\\uc5c5\\ub2e8 \\uc5f0\\uad6c\\ud559\\uc220\\ud65c\\ub3d9 \\uc9c0\\uc6d0<\\uacf5\\ud1b5>- \\uc624\\ud53c\\uc2a4 \\ud65c\\uc6a9 \\uac00\\ub2a5\\uc790 - \\uc2a4\\ud398\\uc778\\uc5b4, \\ud3ec\\ub974\\ud22c\\uac08\\uc5b4 \\ud65c\\uc6a9 \\uac00\\ub2a5\\uc790 2. \\ucc44\\uc6a9\\uc870\\uac74\\uac00. \\uadfc\\ubb34\\uc9c0 : \\ud55c\\uad6d\\uc678\\uad6d\\uc5b4\\ub300\\ud559\\uad50 \\uc911\\ub0a8\\ubbf8\\uc5f0\\uad6c\\uc18c (\\uae00\\ub85c\\ubc8c\\ucea0\\ud37c\\uc2a4) \\ub098. \\uacc4\\uc57d\\uae30\\uac04 : \\ucc44\\uc6a9\\uc77c\\ub85c\\ubd80\\ud130 2023\\ub144 4\\uc6d4 30\\uc77c\\uae4c\\uc9c0 \\ub2e4. \\uae09 \\uc5ec : \\ub0b4\\ubd80\\uaddc\\uc815 (\\ucc38\\uc5ec\\uc728\\uc5d0 \\uc900\\ud568)\\ub77c. \\uadfc\\ubb34\\uc2dc\\uac04 : \\ucc38\\uc5ec\\uc728\\uc5d0 \\uc900\\ud568 \\u203b \\ub2e4\\ub978 \\uad50\\ub0b4\\uc678 \\uc7a5\\ud559\\uae08\\uc744 \\ubc1b\\uc9c0 \\uc54a\\uc740 \\ud559\\uc0dd \\uc6b0\\ub300 3.\\uc804\\ud615\\ubc29\\ubc95\\uac00. 1\\ucc28 \\uc804\\ud615 : \\uc11c\\ub958\\uc2ec\\uc0ac\\ub098. 2\\ucc28 \\uc804\\ud615 : \\uba74\\uc811\\uc2ec\\uc0ac (\\ud544\\uc694\\uc2dc)4. \\uc81c\\ucd9c\\uc11c\\ub958\\uac00. \\uc9c0\\uc6d0\\uc11c, \\uac1c\\uc778\\uc815\\ubcf4 \\uc218\\uc9d1\\uc774\\uc6a9 \\ubc0f \\uc81c\\uacf5\\ub3d9\\uc758\\uc11c(\\uc774\\uc0c1 \\ucca8\\ubd80\\ud30c\\uc77c) \\uac01 1\\ubd80\\ub098. \\uc7ac\\ud559\\uc99d\\uba85\\uc11c \\uc131\\uc801\\uc99d\\uba85\\uc11c \\uac01 1\\ubd80\\ub2e4. \\uc0ac\\ud68c \\ubc30\\ub824\\uacc4\\uce35 \\ud574\\ub2f9 \\uc2dc \\uad00\\ub828 \\uc790\\ub8cc \\ucca8\\ubd80 \\u203b \\uc9c0\\uc6d0\\uc790 \\uc911 \\u2018\\ub3d9\\uc601\\uc0c1(\\uc720\\ud29c\\ube0c) \\ud3b8\\uc9d1 \\ubc0f \\uc6f9 \\uad00\\ub9ac \\uac00\\ub2a5\\uc790\\u2019\\uc5d0 \\ud574\\ub2f9\\ud558\\ub294 \\uc790\\ub294 \\uad00\\ub828\\uc99d\\ube59\\uc790\\ub8cc (\\uc2e4\\uc801, \\uacbd\\ub825, \\uc790\\uaca9\\uc99d \\ub4f1 \\uc790\\uc720\\uc591\\uc2dd) \\uc81c\\ucd9c5. \\uc9c0\\uc6d0\\uc11c\\uc81c\\ucd9c\\uac00. \\uc81c\\ucd9c\\uae30\\uac04 : 2023\\ub144 1\\uc6d4 8\\uc77c (\\uc77c) 23:59\\ub098. \\uc81c\\ucd9c\\ubc29\\ubc95 : \\uc774\\uba54\\uc77c \\uc811\\uc218 ilas.hufs@gmail.com 6. \\uae30\\ud0c0\\uc0ac\\ud56d\\uac00. \\uac01 \\ub2e8\\uacc4 \\ubcc4 \\ud569\\uaca9\\uc790\\uc5d0 \\ud55c\\ud574 \\uac1c\\ubcc4 \\uc720\\uc120 \\ud1b5\\ubcf4\\ud568.\\ub098. \\uc81c\\ucd9c\\ub41c \\uc11c\\ub958\\ub294 \\uc77c\\uccb4 \\ubc18\\ud658\\ud558\\uc9c0 \\uc54a\\uc74c.\\ub2e4. \\uad00\\ub828\\ubb38\\uc758 : \\ud55c\\uad6d\\uc678\\uad6d\\uc5b4\\ub300\\ud559\\uad50 \\uc911\\ub0a8\\ubbf8\\uc5f0\\uad6c\\uc18c HK\\uff0b\\uc0ac\\uc5c5\\ub2e8 031-8020-5577 2022. 12. 23 \\uc911\\ub0a8\\ubbf8\\uc5f0\\uad6c\\uc18c HK\\uff0b\\uc0ac\\uc5c5\\ub2e8\\n\",\n          \"\\n\\uc911\\ub0a8\\ubbf8\\uc5f0\\uad6c\\uc18c\\uc5d0\\uc11c\\ub294 \\ud559\\uc0ac \\uc5f0\\uad6c\\ubcf4\\uc870\\uc6d0\\uc744 \\ubaa8\\uc9d1\\ud569\\ub2c8\\ub2e4\\n\\n\\n\\uc911\\ub0a8\\ubbf8\\uc5f0\\uad6c\\uc18c\\uc5d0\\uc11c\\ub294 \\ud559\\uc0ac \\uc5f0\\uad6c\\ubcf4\\uc870\\uc6d0\\uc744 \\ubaa8\\uc9d1\\ud569\\ub2c8\\ub2e4.\\n\\n\\n\\n1. \\uc9c0\\uc6d0\\uc790\\uaca9\\n\\n\\uac00. \\ud559\\uc0ac \\uc7ac\\ud559\\uc0dd (\\uc9c0\\uc6d0\\uc77c \\uae30\\uc900 \\ud734\\ud559\\uc0dd, \\uc878\\uc5c5\\uc0dd \\ubd88\\uac00, 4\\ub300\\ubcf4\\ud5d8 \\uac00\\uc785\\uc790 \\ubd88\\uac00)\\n\\ub098. 2\\uba85\\n\\ub2e4. \\ud559\\uc220\\ud65c\\ub3d9 \\uc9c0\\uc6d0 \\ubc0f \\uc5f0\\uad6c\\uc18c \\uc0ac\\ubb34 \\uc5c5\\ubb34 \\ubcf4\\uc870\\n\\ub77c. \\uc624\\ud53c\\uc2a4 \\ud65c\\uc6a9 \\uac00\\ub2a5\\uc790\\n\\ub9c8. \\uc2a4\\ud398\\uc778\\uc5b4, \\ud3ec\\ub974\\ud22c\\uac08\\uc5b4 \\ud65c\\uc6a9 \\uac00\\ub2a5\\uc790\\n\\n\\n\\n\\n2. \\ucc44\\uc6a9\\uc870\\uac74\\n\\n\\uac00. \\uadfc\\ubb34\\uc9c0 : \\ud55c\\uad6d\\uc678\\uad6d\\uc5b4\\ub300\\ud559\\uad50 \\uc911\\ub0a8\\ubbf8\\uc5f0\\uad6c\\uc18c (\\uc11c\\uc6b8\\ucea0\\ud37c\\uc2a4, \\ubcf8\\uad00 1004\\ud638)\\n\\ub098. \\uacc4\\uc57d\\uae30\\uac04 : \\ucc44\\uc6a9\\uc77c\\ub85c\\ubd80\\ud130 2024\\ub144 4\\uc6d4 30\\uc77c\\uae4c\\uc9c0\\n\\ub2e4. \\uae09 \\uc5ec : \\ub0b4\\ubd80\\uaddc\\uc815 (\\ucc38\\uc5ec\\uc728\\uc5d0 \\uc900\\ud568)\\n\\ub77c. \\uadfc\\ubb34\\uc2dc\\uac04 : \\ucc38\\uc5ec\\uc728\\uc5d0 \\uc900\\ud568\\n\\n\\u203b \\ub2e4\\ub978 \\uad50\\ub0b4\\uc678 \\uc7a5\\ud559\\uae08\\uc744 \\ubc1b\\uc9c0 \\uc54a\\uc740 \\ud559\\uc0dd \\uc6b0\\ub300\\n\\n\\n\\n\\n3.\\uc804\\ud615\\ubc29\\ubc95\\n\\n\\uac00. 1\\ucc28 \\uc804\\ud615 : \\uc11c\\ub958\\uc2ec\\uc0ac\\n\\ub098. 2\\ucc28 \\uc804\\ud615 : \\uba74\\uc811\\uc2ec\\uc0ac (\\ud544\\uc694\\uc2dc)\\n\\n\\n\\n\\n4. \\uc81c\\ucd9c\\uc11c\\ub958\\n\\n\\uac00. \\uc9c0\\uc6d0\\uc11c, \\uac1c\\uc778\\uc815\\ubcf4 \\uc218\\uc9d1\\uc774\\uc6a9 \\ubc0f \\uc81c\\uacf5\\ub3d9\\uc758\\uc11c(\\uc774\\uc0c1 \\ucca8\\ubd80\\ud30c\\uc77c) \\uac01 1\\ubd80\\n\\ub098. \\uc7ac\\ud559\\uc99d\\uba85\\uc11c \\uc131\\uc801\\uc99d\\uba85\\uc11c \\uac01 1\\ubd80\\n\\ub2e4. \\uc0ac\\ud68c \\ubc30\\ub824\\uacc4\\uce35 \\ud574\\ub2f9 \\uc2dc \\uad00\\ub828 \\uc790\\ub8cc \\ucca8\\ubd80\\n\\n\\n\\n5. \\uc9c0\\uc6d0\\uc11c\\uc81c\\ucd9c\\n\\n\\uac00. \\uc81c\\ucd9c\\uae30\\uac04 : 2024\\ub144 1\\uc6d4 3\\uc77c (\\uc218) 23:59\\n\\ub098. \\uc81c\\ucd9c\\ubc29\\ubc95 : \\uc774\\uba54\\uc77c \\uc811\\uc218 ilas.hufs@gmail.com\\n\\n\\n\\n6. \\uae30\\ud0c0\\uc0ac\\ud56d\\n\\n\\uac00. \\uac01 \\ub2e8\\uacc4 \\ubcc4 \\ud569\\uaca9\\uc790\\uc5d0 \\ud55c\\ud574 \\uac1c\\ubcc4 \\uc720\\uc120 \\ud1b5\\ubcf4\\ud568.\\n\\ub098. \\uc81c\\ucd9c\\ub41c \\uc11c\\ub958\\ub294 \\uc77c\\uccb4 \\ubc18\\ud658\\ud558\\uc9c0 \\uc54a\\uc74c.\\n\\ub2e4. \\uad00\\ub828\\ubb38\\uc758 : \\ud55c\\uad6d\\uc678\\uad6d\\uc5b4\\ub300\\ud559\\uad50 \\uc911\\ub0a8\\ubbf8\\uc5f0\\uad6c\\uc18c 02-2173-3927\\n\\n\",\n          \"\\n[\\uc911\\ub0a8\\ubbf8\\uc5f0\\uad6c\\uc18c] \\uc870\\uad50(\\uc11d\\ubc15\\uc0ac\\uacfc\\uc815) \\ubaa8\\uc9d1 \\uacf5\\uace0\\n\\n\\uc911\\ub0a8\\ubbf8\\uc5f0\\uad6c\\uc18c(\\uc11c\\uc6b8\\ucea0\\ud37c\\uc2a4)\\uc5d0\\uc11c\\ub294 \\ub2e4\\uc74c\\uacfc \\uac19\\uc774 \\uc5f0\\uad6c\\uc18c \\uc870\\uad50(\\uc11d\\ubc15\\uc0ac\\uacfc\\uc815)\\ub97c \\ubaa8\\uc9d1\\ud569\\ub2c8\\ub2e4.\\n\\n1. \\uc778\\uc6d0\\n-1\\uba85\\n\\n2. \\uc790\\uaca9 \\uc694\\uac74\\n\\u2022 2024-1\\ud559\\uae30 \\uae30\\uc900 \\u2018\\ud55c\\uad6d\\uc678\\ub300 \\ub300\\ud559\\uc6d0 \\uc7ac\\ud559\\uc0dd (\\uad6d\\uc81c\\uc9c0\\uc5ed\\ub300\\ud559\\uc6d0 \\uc18c\\uc18d) (\\ud734\\ud559\\uc0dd, \\uc218\\ub8cc\\uc0dd \\uc9c0\\uc6d0\\ubd88\\uac00)'\\n\\u2022 \\ud55c\\uae00 \\ud504\\ub85c\\uadf8\\ub7a8 \\uc5c5\\ubb34 \\uc218\\ud589 \\uac00\\ub2a5\\uc790\\n\\n\\n3. \\uadfc\\ubb34 \\uae30\\uac04 \\ubc0f \\uc2dc\\uac04\\n- 2024\\ub144 3\\uc6d4 1\\uc77c \\uc774\\ud6c4 \\uc989\\uc2dc ~ 2025\\ub144 2\\uc6d4 28\\uc77c\\uae4c\\uc9c0 (\\ubc29\\ud559\\uae30\\uac04 \\ud3ec\\ud568) (\\ud559\\uce59\\uc0c1 \\ubb38\\uc81c\\uac00 \\uc5c6\\uace0 \\uc870\\uad50\\uc758 \\uadfc\\ubb34 \\ud0dc\\ub3c4\\uc5d0 \\ubb38\\uc81c\\uac00 \\uc5c6\\uc73c\\uba74 \\uc218\\ub8cc \\uc804\\uae4c\\uc9c0 \\uadfc\\ubb34 \\uac00\\ub2a5)\\n- \\uc8fc\\ub2f9 14\\uc2dc\\uac04\\n- 1, 2\\ud559\\uae30 \\uc9c0\\uc18d \\uadfc\\ubb34 \\uac00\\ub2a5\\uc790 \\uc6b0\\ub300\\n\\n\\n4. \\uadfc\\ubb34\\ucc98\\n-\\ud55c\\uad6d\\uc678\\uad6d\\uc5b4\\ub300 \\ubcf8\\uad00 1004\\ud638 \\uc911\\ub0a8\\ubbf8\\uc5f0\\uad6c\\uc18c\\n\\n\\n5. \\uc5c5\\ubb34\\ub0b4\\uc6a9\\n- \\uc5f0\\uad6c\\uc18c \\uc81c\\ubc18 \\ud589\\uc815 \\ubcf4\\uc870 \\uc5c5\\ubb34\\n- \\ud559\\uc220\\uc9c0 \\ud589\\uc815 \\uc5c5\\ubb34\\n\\n\\n6. \\uae09\\uc5ec\\n- \\ud559\\uae30 \\ub2f9 400\\ub9cc\\uc6d0\\n\\n\\n7. \\uc81c\\ucd9c \\uc11c\\ub958 \\ubc0f \\uc9c0\\uc6d0\\uc811\\uc218\\n- \\uc774\\ub825\\uc11c \\uc790\\uc720\\uc591\\uc2dd, \\uc99d\\uba85\\uc0ac\\uc9c4 \\ud3ec\\ud568.\\n * \\uc774\\uba54\\uc77c \\uc811\\uc218 : \\uc911\\ub0a8\\ubbf8\\uc5f0\\uad6c\\uc18c / latinamerica@hufs.ac.kr\\n- \\ubb38\\uc758: \\uc911\\ub0a8\\ubbf8\\uc5f0\\uad6c\\uc18c (02 2173 3927)\\n * \\uc11c\\ub958 \\ud1b5\\uacfc\\uc790\\uc5d0\\uac8c \\uac1c\\ubcc4 \\uc5f0\\ub77d, (\\uc804\\ud654 \\ub610\\ub294 \\ud654\\uc0c1) \\uba74\\uc811 \\ud6c4 \\uacb0\\uc815\\n\\n\\n8. \\uc9c0\\uc6d0 \\uae30\\uac04\\n- 2024. 2. 14 ~ 2024. 2. 23 (23\\uc2dc 59\\ubd84)\\uae4c\\uc9c0\\n\\n\\n\"\n        ],\n        \"semantic_type\": \"\",\n        \"description\": \"\"\n      }\n    }\n  ]\n}"
            }
          },
          "metadata": {},
          "execution_count": 5
        }
      ],
      "source": [
        "# csv파일 읽어오기 - 채용\n",
        "import pandas as pd\n",
        "filename = \"/content/drive/MyDrive/csv_final/merged_hire.csv\"\n",
        "hire = pd.read_csv(filename)\n",
        "\n",
        "# 확인\n",
        "hire.head(3)"
      ]
    },
    {
      "cell_type": "markdown",
      "source": [
        "# 전처리"
      ],
      "metadata": {
        "id": "SvWPSOgww_Yf"
      }
    },
    {
      "cell_type": "code",
      "source": [
        "import re"
      ],
      "metadata": {
        "id": "i6-T-u01o9Ck"
      },
      "execution_count": 6,
      "outputs": []
    },
    {
      "cell_type": "markdown",
      "source": [
        "- 외국어 비율 확인\n",
        "  - 가영님 코드 참고"
      ],
      "metadata": {
        "id": "XvEXoOWjmM_b"
      }
    },
    {
      "cell_type": "code",
      "source": [
        "def is_foreign_language(text, korean_threshold=0.3):\n",
        "    if isinstance(text, list):\n",
        "        text = ' '.join(text)\n",
        "\n",
        "    text = text.strip()\n",
        "    if not text:\n",
        "        return False\n",
        "\n",
        "    total_chars = len(text)\n",
        "    korean_chars = len(re.findall('[가-힣]', text))\n",
        "\n",
        "    # 한국어 비율이 일정 수준 미만인 경우 True 반환\n",
        "    return korean_chars / total_chars < korean_threshold"
      ],
      "metadata": {
        "id": "z-p8l4I7ldCX"
      },
      "execution_count": 7,
      "outputs": []
    },
    {
      "cell_type": "code",
      "source": [
        "text = \"\"\"韩国外国语大学 政治行政言论大学院(夜间)2022学年度后期硕士招生简章1. 2022学年度后期招生日程补招材料提交2022.6.23.(周四) ~ 2022.7.11.(周一)考场通知2022.7.13.(周三) 14:00面试时间2022.7.16.(周六) 预计10:00 录取通知2022.7.21.(周四) 14:00缴纳全额学费2022-2学期 新生学费缴纳时间(预计2022.8月)2. 招生专业及学科公共监察-政策学科(公共政策，公共监察)外交安保学\"\"\"\n",
        "\n",
        "result = is_foreign_language(text)\n",
        "print(result)"
      ],
      "metadata": {
        "colab": {
          "base_uri": "https://localhost:8080/"
        },
        "id": "2vIkTAYRlgtb",
        "outputId": "4903acb8-b68f-434e-edd5-cb2e9d0cb2ef"
      },
      "execution_count": 8,
      "outputs": [
        {
          "output_type": "stream",
          "name": "stdout",
          "text": [
            "True\n"
          ]
        }
      ]
    },
    {
      "cell_type": "code",
      "source": [
        "def preprocess(text):\n",
        "    if not isinstance(text, str):\n",
        "      return ''\n",
        "\n",
        "    # 링크 제거 (http:// 또는 https:// 로 시작하는 링크)\n",
        "    text = re.sub(r'https?://[\\w\\-.]+(?:/[\\w\\-./?=&%+]*)?', '', text)\n",
        "    # Zoom 회의 참가 ID 제거 _ 작동안함\n",
        "    text = re.sub(r'Zoom 회의 참가 ID \\d{3} \\d{3} \\d{4}', '', text)\n",
        "    # 전화번호 제거 (괄호 선택적으로)\n",
        "    text = re.sub(r'\\(?0\\d{2,3}\\)?[- ]?\\d{3,4}[- ]?\\d{4}', '', text)\n",
        "    # 전번 제거\n",
        "    text = re.sub(r'\\d{2}-\\d{4}-\\d{4}', '', text)\n",
        "    # 팩스번호 제거\n",
        "    text = re.sub(r'FAX\\.\\d{2}-\\d{3}-\\d{4}', '', text)\n",
        "    # 주소 제거\n",
        "    text = re.sub(r'서울시 동대문구 이문로 107', '', text)\n",
        "    # 이메일 제거\n",
        "    text = re.sub(r'\\b[A-Za-z0-9._%+-]+@[A-Za-z0-9.-]+\\.[A-Z|a-z]{2,}\\b', '', text)\n",
        "    # www 링크 제거\n",
        "    text = re.sub(r'\\b(?:https?://)?(?:www\\.)?[-a-zA-Z0-9@:%._\\+~#=]{2,256}\\.[a-z]{2,6}\\b', '', text)\n",
        "    # hufs.ac.kr 링크 제거\n",
        "    text = re.sub(r'hufs\\.ac\\.kr', '', text)\n",
        "    # 마지막 날짜 양식 변형\n",
        "    text = re.sub(r'\\d{4}\\.\\s\\d{2}\\.\\s\\d{2}\\.', '', text)\n",
        "    # 마지막 날짜\n",
        "    text = re.sub(r'\\d{4}\\.\\s\\d{2}\\.', '', text) #과제 제출등에 유의\n",
        "    # 문장부호 제거\n",
        "    text = re.sub(r'[!?\\\\|※‘’”“→○☏☎『』⦁]', '', text)\n",
        "    text = re.sub(r'\\(\\)', '', text)\n",
        "    # 공백 제거\n",
        "    text = re.sub(r'\\n\\n\\n\\n\\n', '\\n', text)\n",
        "    text = re.sub(r'\\n\\n', '\\n',text)\n",
        "    text = re.sub(r'\\n \\n', '\\n', text)\n",
        "    text = re.sub(r'//..', '\\n', text)\n",
        "    text = re.sub(r'[⦁-]', '\\n', text)\n",
        "\n",
        "    return text"
      ],
      "metadata": {
        "id": "Dx4NpEpgOW4T"
      },
      "execution_count": 9,
      "outputs": []
    },
    {
      "cell_type": "code",
      "source": [
        "# 전처리 전 데이터 확인\n",
        "janghak.head(2)"
      ],
      "metadata": {
        "colab": {
          "base_uri": "https://localhost:8080/",
          "height": 0
        },
        "id": "Lgh0FQpCxboE",
        "outputId": "3da55a50-909f-48be-f531-c212272c5964"
      },
      "execution_count": 10,
      "outputs": [
        {
          "output_type": "execute_result",
          "data": {
            "text/plain": [
              "   index        date                                         title  \\\n",
              "0      1  2020-01-02     [공통][교외] 2020-1학기 남정장학재단 장학생 모집 안내(~1/10)   \n",
              "1      2  2020-01-02  [공통] [대출] 2020년 1학기 농촌출신대학생 학자금융자(무이자) 지원 안내   \n",
              "\n",
              "                                             content  \n",
              "0  \\n[공통][교외] 2020-1학기 남정장학재단 장학생 모집 안내(~1/10)아래와...  \n",
              "1  \\n\\n2020년 1학기 농촌출신대학생 학자금융자(무이자) 지원 안내\\n\\n \\n사...  "
            ],
            "text/html": [
              "\n",
              "  <div id=\"df-80323d4a-ef8a-40ab-b3a0-01306c872e69\" class=\"colab-df-container\">\n",
              "    <div>\n",
              "<style scoped>\n",
              "    .dataframe tbody tr th:only-of-type {\n",
              "        vertical-align: middle;\n",
              "    }\n",
              "\n",
              "    .dataframe tbody tr th {\n",
              "        vertical-align: top;\n",
              "    }\n",
              "\n",
              "    .dataframe thead th {\n",
              "        text-align: right;\n",
              "    }\n",
              "</style>\n",
              "<table border=\"1\" class=\"dataframe\">\n",
              "  <thead>\n",
              "    <tr style=\"text-align: right;\">\n",
              "      <th></th>\n",
              "      <th>index</th>\n",
              "      <th>date</th>\n",
              "      <th>title</th>\n",
              "      <th>content</th>\n",
              "    </tr>\n",
              "  </thead>\n",
              "  <tbody>\n",
              "    <tr>\n",
              "      <th>0</th>\n",
              "      <td>1</td>\n",
              "      <td>2020-01-02</td>\n",
              "      <td>[공통][교외] 2020-1학기 남정장학재단 장학생 모집 안내(~1/10)</td>\n",
              "      <td>\\n[공통][교외] 2020-1학기 남정장학재단 장학생 모집 안내(~1/10)아래와...</td>\n",
              "    </tr>\n",
              "    <tr>\n",
              "      <th>1</th>\n",
              "      <td>2</td>\n",
              "      <td>2020-01-02</td>\n",
              "      <td>[공통] [대출] 2020년 1학기 농촌출신대학생 학자금융자(무이자) 지원 안내</td>\n",
              "      <td>\\n\\n2020년 1학기 농촌출신대학생 학자금융자(무이자) 지원 안내\\n\\n \\n사...</td>\n",
              "    </tr>\n",
              "  </tbody>\n",
              "</table>\n",
              "</div>\n",
              "    <div class=\"colab-df-buttons\">\n",
              "\n",
              "  <div class=\"colab-df-container\">\n",
              "    <button class=\"colab-df-convert\" onclick=\"convertToInteractive('df-80323d4a-ef8a-40ab-b3a0-01306c872e69')\"\n",
              "            title=\"Convert this dataframe to an interactive table.\"\n",
              "            style=\"display:none;\">\n",
              "\n",
              "  <svg xmlns=\"http://www.w3.org/2000/svg\" height=\"24px\" viewBox=\"0 -960 960 960\">\n",
              "    <path d=\"M120-120v-720h720v720H120Zm60-500h600v-160H180v160Zm220 220h160v-160H400v160Zm0 220h160v-160H400v160ZM180-400h160v-160H180v160Zm440 0h160v-160H620v160ZM180-180h160v-160H180v160Zm440 0h160v-160H620v160Z\"/>\n",
              "  </svg>\n",
              "    </button>\n",
              "\n",
              "  <style>\n",
              "    .colab-df-container {\n",
              "      display:flex;\n",
              "      gap: 12px;\n",
              "    }\n",
              "\n",
              "    .colab-df-convert {\n",
              "      background-color: #E8F0FE;\n",
              "      border: none;\n",
              "      border-radius: 50%;\n",
              "      cursor: pointer;\n",
              "      display: none;\n",
              "      fill: #1967D2;\n",
              "      height: 32px;\n",
              "      padding: 0 0 0 0;\n",
              "      width: 32px;\n",
              "    }\n",
              "\n",
              "    .colab-df-convert:hover {\n",
              "      background-color: #E2EBFA;\n",
              "      box-shadow: 0px 1px 2px rgba(60, 64, 67, 0.3), 0px 1px 3px 1px rgba(60, 64, 67, 0.15);\n",
              "      fill: #174EA6;\n",
              "    }\n",
              "\n",
              "    .colab-df-buttons div {\n",
              "      margin-bottom: 4px;\n",
              "    }\n",
              "\n",
              "    [theme=dark] .colab-df-convert {\n",
              "      background-color: #3B4455;\n",
              "      fill: #D2E3FC;\n",
              "    }\n",
              "\n",
              "    [theme=dark] .colab-df-convert:hover {\n",
              "      background-color: #434B5C;\n",
              "      box-shadow: 0px 1px 3px 1px rgba(0, 0, 0, 0.15);\n",
              "      filter: drop-shadow(0px 1px 2px rgba(0, 0, 0, 0.3));\n",
              "      fill: #FFFFFF;\n",
              "    }\n",
              "  </style>\n",
              "\n",
              "    <script>\n",
              "      const buttonEl =\n",
              "        document.querySelector('#df-80323d4a-ef8a-40ab-b3a0-01306c872e69 button.colab-df-convert');\n",
              "      buttonEl.style.display =\n",
              "        google.colab.kernel.accessAllowed ? 'block' : 'none';\n",
              "\n",
              "      async function convertToInteractive(key) {\n",
              "        const element = document.querySelector('#df-80323d4a-ef8a-40ab-b3a0-01306c872e69');\n",
              "        const dataTable =\n",
              "          await google.colab.kernel.invokeFunction('convertToInteractive',\n",
              "                                                    [key], {});\n",
              "        if (!dataTable) return;\n",
              "\n",
              "        const docLinkHtml = 'Like what you see? Visit the ' +\n",
              "          '<a target=\"_blank\" href=https://colab.research.google.com/notebooks/data_table.ipynb>data table notebook</a>'\n",
              "          + ' to learn more about interactive tables.';\n",
              "        element.innerHTML = '';\n",
              "        dataTable['output_type'] = 'display_data';\n",
              "        await google.colab.output.renderOutput(dataTable, element);\n",
              "        const docLink = document.createElement('div');\n",
              "        docLink.innerHTML = docLinkHtml;\n",
              "        element.appendChild(docLink);\n",
              "      }\n",
              "    </script>\n",
              "  </div>\n",
              "\n",
              "\n",
              "<div id=\"df-a226bc06-ce66-4535-bcc8-31244a9115a9\">\n",
              "  <button class=\"colab-df-quickchart\" onclick=\"quickchart('df-a226bc06-ce66-4535-bcc8-31244a9115a9')\"\n",
              "            title=\"Suggest charts\"\n",
              "            style=\"display:none;\">\n",
              "\n",
              "<svg xmlns=\"http://www.w3.org/2000/svg\" height=\"24px\"viewBox=\"0 0 24 24\"\n",
              "     width=\"24px\">\n",
              "    <g>\n",
              "        <path d=\"M19 3H5c-1.1 0-2 .9-2 2v14c0 1.1.9 2 2 2h14c1.1 0 2-.9 2-2V5c0-1.1-.9-2-2-2zM9 17H7v-7h2v7zm4 0h-2V7h2v10zm4 0h-2v-4h2v4z\"/>\n",
              "    </g>\n",
              "</svg>\n",
              "  </button>\n",
              "\n",
              "<style>\n",
              "  .colab-df-quickchart {\n",
              "      --bg-color: #E8F0FE;\n",
              "      --fill-color: #1967D2;\n",
              "      --hover-bg-color: #E2EBFA;\n",
              "      --hover-fill-color: #174EA6;\n",
              "      --disabled-fill-color: #AAA;\n",
              "      --disabled-bg-color: #DDD;\n",
              "  }\n",
              "\n",
              "  [theme=dark] .colab-df-quickchart {\n",
              "      --bg-color: #3B4455;\n",
              "      --fill-color: #D2E3FC;\n",
              "      --hover-bg-color: #434B5C;\n",
              "      --hover-fill-color: #FFFFFF;\n",
              "      --disabled-bg-color: #3B4455;\n",
              "      --disabled-fill-color: #666;\n",
              "  }\n",
              "\n",
              "  .colab-df-quickchart {\n",
              "    background-color: var(--bg-color);\n",
              "    border: none;\n",
              "    border-radius: 50%;\n",
              "    cursor: pointer;\n",
              "    display: none;\n",
              "    fill: var(--fill-color);\n",
              "    height: 32px;\n",
              "    padding: 0;\n",
              "    width: 32px;\n",
              "  }\n",
              "\n",
              "  .colab-df-quickchart:hover {\n",
              "    background-color: var(--hover-bg-color);\n",
              "    box-shadow: 0 1px 2px rgba(60, 64, 67, 0.3), 0 1px 3px 1px rgba(60, 64, 67, 0.15);\n",
              "    fill: var(--button-hover-fill-color);\n",
              "  }\n",
              "\n",
              "  .colab-df-quickchart-complete:disabled,\n",
              "  .colab-df-quickchart-complete:disabled:hover {\n",
              "    background-color: var(--disabled-bg-color);\n",
              "    fill: var(--disabled-fill-color);\n",
              "    box-shadow: none;\n",
              "  }\n",
              "\n",
              "  .colab-df-spinner {\n",
              "    border: 2px solid var(--fill-color);\n",
              "    border-color: transparent;\n",
              "    border-bottom-color: var(--fill-color);\n",
              "    animation:\n",
              "      spin 1s steps(1) infinite;\n",
              "  }\n",
              "\n",
              "  @keyframes spin {\n",
              "    0% {\n",
              "      border-color: transparent;\n",
              "      border-bottom-color: var(--fill-color);\n",
              "      border-left-color: var(--fill-color);\n",
              "    }\n",
              "    20% {\n",
              "      border-color: transparent;\n",
              "      border-left-color: var(--fill-color);\n",
              "      border-top-color: var(--fill-color);\n",
              "    }\n",
              "    30% {\n",
              "      border-color: transparent;\n",
              "      border-left-color: var(--fill-color);\n",
              "      border-top-color: var(--fill-color);\n",
              "      border-right-color: var(--fill-color);\n",
              "    }\n",
              "    40% {\n",
              "      border-color: transparent;\n",
              "      border-right-color: var(--fill-color);\n",
              "      border-top-color: var(--fill-color);\n",
              "    }\n",
              "    60% {\n",
              "      border-color: transparent;\n",
              "      border-right-color: var(--fill-color);\n",
              "    }\n",
              "    80% {\n",
              "      border-color: transparent;\n",
              "      border-right-color: var(--fill-color);\n",
              "      border-bottom-color: var(--fill-color);\n",
              "    }\n",
              "    90% {\n",
              "      border-color: transparent;\n",
              "      border-bottom-color: var(--fill-color);\n",
              "    }\n",
              "  }\n",
              "</style>\n",
              "\n",
              "  <script>\n",
              "    async function quickchart(key) {\n",
              "      const quickchartButtonEl =\n",
              "        document.querySelector('#' + key + ' button');\n",
              "      quickchartButtonEl.disabled = true;  // To prevent multiple clicks.\n",
              "      quickchartButtonEl.classList.add('colab-df-spinner');\n",
              "      try {\n",
              "        const charts = await google.colab.kernel.invokeFunction(\n",
              "            'suggestCharts', [key], {});\n",
              "      } catch (error) {\n",
              "        console.error('Error during call to suggestCharts:', error);\n",
              "      }\n",
              "      quickchartButtonEl.classList.remove('colab-df-spinner');\n",
              "      quickchartButtonEl.classList.add('colab-df-quickchart-complete');\n",
              "    }\n",
              "    (() => {\n",
              "      let quickchartButtonEl =\n",
              "        document.querySelector('#df-a226bc06-ce66-4535-bcc8-31244a9115a9 button');\n",
              "      quickchartButtonEl.style.display =\n",
              "        google.colab.kernel.accessAllowed ? 'block' : 'none';\n",
              "    })();\n",
              "  </script>\n",
              "</div>\n",
              "\n",
              "    </div>\n",
              "  </div>\n"
            ],
            "application/vnd.google.colaboratory.intrinsic+json": {
              "type": "dataframe",
              "variable_name": "janghak",
              "summary": "{\n  \"name\": \"janghak\",\n  \"rows\": 1260,\n  \"fields\": [\n    {\n      \"column\": \"index\",\n      \"properties\": {\n        \"dtype\": \"number\",\n        \"std\": 363,\n        \"min\": 1,\n        \"max\": 1260,\n        \"num_unique_values\": 1259,\n        \"samples\": [\n          76,\n          1031,\n          44\n        ],\n        \"semantic_type\": \"\",\n        \"description\": \"\"\n      }\n    },\n    {\n      \"column\": \"date\",\n      \"properties\": {\n        \"dtype\": \"object\",\n        \"num_unique_values\": 663,\n        \"samples\": [\n          \"2022-02-07\",\n          \"2023-08-11\",\n          \"2023-03-29\"\n        ],\n        \"semantic_type\": \"\",\n        \"description\": \"\"\n      }\n    },\n    {\n      \"column\": \"title\",\n      \"properties\": {\n        \"dtype\": \"string\",\n        \"num_unique_values\": 1249,\n        \"samples\": [\n          \"[\\uacf5\\ud1b5][\\uad50\\ub0b4]2022\\ud559\\ub144\\ub3c4 2\\ud559\\uae30 \\uba74\\ud559\\uc7a5\\ud559\\uae08 \\uc2e0\\uccad \\uc548\\ub0b4\",\n          \"[\\uacf5\\ud1b5][\\uad50\\uc678] JB\\uc120\\ub3c4\\uc0ac\\uc5c5 \\uc721\\uc131\\ubc29\\uc548 \\ud0d0\\uad6c\\uc9c0\\uc6d0\\uc0ac\\uc5c5 \\ucc38\\uac00\\ud300 \\ubaa8\\uc9d1(~7/16)\",\n          \"[\\uacf5\\ud1b5][\\uad50\\uc678] \\uc678\\ubd80\\uc7a5\\ud559\\uc7ac\\ub2e8 \\uc7a5\\ud559\\uc0dd \\uc9c0\\uc6d0 \\uc804 \\uad6d\\uac00\\uc7a5\\ud559\\uae08 \\uc2e0\\uccad\"\n        ],\n        \"semantic_type\": \"\",\n        \"description\": \"\"\n      }\n    },\n    {\n      \"column\": \"content\",\n      \"properties\": {\n        \"dtype\": \"string\",\n        \"num_unique_values\": 1239,\n        \"samples\": [\n          \"\\n1.\\uad6d\\uac00\\uadfc\\ub85c\\uc7a5\\ud559\\uc0dd \\uc120\\ubc1c \\uacb0\\uacfc \\ud655\\uc778 \\uba54\\ub274: 2021. 8. 30(\\uc6d4)\\ubd80\\ud130 \\uc870\\ud68c \\uac00\\ub2a5(\\uc2dc\\uac04\\ud45c \\uc785\\ub825\\uc7409\\uc6d41\\uc77c \\uc790\\uc815\\ubd80\\ud130 \\uac00\\ub2a5\\ud558\\uba70 \\uadfc\\ub85c \\uc804 \\ud574\\ub2f9 \\uadfc\\ub85c\\uc9c0\\uc640 \\uc0ac\\uc804 \\uc870\\uc728 \\ud6c4 \\uadfc\\ub85c \\uc9c4\\ud589 \\ub2e8 \\uadfc\\ub85c \\uc804 \\ubc18\\ub4dc\\uc2dc \\uc2dc\\uac04\\ud45c \\uc785\\ub825 \\uc694\\uccad \\ub4dc\\ub9bc)\\ud55c\\uad6d\\uc7a5\\ud559\\uc7ac\\ub2e8\\uc0ac\\uc774\\ud2b8(http://www.kosaf.go.kr)\\u25b6\\uc7a5\\ud559\\uae08\\u25b6\\uad6d\\uac00\\uadfc\\ub85c \\ubc0f \\ucde8\\uc5c5\\uc5f0\\uacc4 \\uc7a5\\ud559\\uae08\\u25b6\\uad6d\\uac00\\uadfc\\ub85c\\uc7a5\\ud559\\uae08\\u25b6\\uadfc\\ub85c\\uc7a5\\ud559\\uad00\\ub9ac\\u25b6\\ub300\\ud559\\uc790\\uccb4\\uc120\\ubc1c\\uae30\\uc900 \\ubc0f \\uc120\\ubc1c \\ud604\\ud669\\u25b62021\\ub1442\\ud559\\uae30 \\uadfc\\ub85c\\uc720\\ud615'\\ud559\\uae30\\uc911'\\uc73c\\ub85c \\uc120\\ud0dd \\ud6c4 \\uc870\\ud68c(\\uadfc\\ubb34\\uc9c4\\ud589=>\\uc120\\ubc1c)-\\uc120\\ubc1c\\uc790:\\uc120\\ubc1c \\uadfc\\ub85c\\uc9c0 \\ubc0f \\ud574\\ub2f9 \\uadfc\\ub85c\\uc9c0 \\ub2f4\\ub2f9\\uc790 \\uc5f0\\ub77d\\ucc98\\uac00 \\ud45c\\uae30\\ub4282.\\uc2dc\\ud589\\uae30\\uac04: 2021. 9. 1. ~ 2022. 2. 16.-\\uc0c1\\uae30 \\uae30\\uac04 \\ub0b4\\uc5d0\\uc11c \\uadfc\\ub85c\\uc9c0 \\ubc0f \\ud559\\uc0dd \\uc0c1\\ud669\\uc5d0 \\ub530\\ub978 \\uadfc\\ubb34\\uc2dc\\uc791 \\ubc0f \\uc885\\ub8cc\\uc77c \\uc870\\uc815 \\uac00\\ub2a53.\\uadfc\\ub85c\\uc870\\uac74\\uac00.\\uc2dc\\uae09:\\uad50\\ub0b4- 9,000\\uc6d0/\\uad50\\uc678- 11,150\\uc6d0\\ub098.\\ud559\\uae30\\uc911 \\ucd5c\\ub300 \\uadfc\\ub85c\\uac00\\ub2a5\\uc2dc\\uac04:\\uc77c8\\uc2dc\\uac04 \\uc774\\ub0b4/\\uc8fc20\\uc2dc\\uac04 \\uc774\\ub0b4/\\ud559\\uae30\\ub2f9 \\ucd5c\\ub300450\\uc2dc\\uac04 \\uc774\\ub0b4(20\\ub144\\ub3c4 \\ucd5c\\ub300 \\uc2dc\\uac04\\uc73c\\ub85c21\\ub144\\ub3c4 \\ucd5c\\ub300 \\uc2dc\\uac04 \\ubcc0\\ub3d9 \\uc2dc \\ubcc4\\ub3c4 \\uacf5\\uc9c0 \\ud568.)**\\ucf54\\ub85c\\ub098 \\uc0ac\\ud68c\\uc801 \\uac70\\ub9ac \\ub450\\uae30\\uc5d0 \\ub530\\ub978 \\uadfc\\ubb34\\uc2dc\\uac04\\uacfc \\uadfc\\ub85c\\ub294 \\ud574\\ub2f9 \\uae30\\uad00\\uc758 \\uc9c0\\uce68\\uc744 \\ub530\\ub984\\uc608\\ub97c \\ub4e4\\uba74)\\uad50\\ub0b4\\uadfc\\ub85c\\uc9c0\\ub294 \\ubcf8\\uad50 \\uc778\\uc0ac\\ud300\\uc758 \\ucd9c\\ud1f4\\uadfc \\uc2dc\\uac04\\uacfc \\uae30\\uac04 \\uc900\\uc218.\\uad50\\uc678 \\uadfc\\ub85c\\uc9c0 \\uc911 \\ub300\\uc0ac\\uad00 \\ubc0f \\uad6d\\uc81c\\ud611\\ub825\\uae30\\uad00\\uc758 \\uadfc\\ub85c \\ud615\\ud0dc\\uac00 \\uc7ac\\ud0dd\\uadfc\\ub85c\\uc2dc\\uc5d0\\ub294 \\uc7ac\\ud0dd\\uadfc\\ub85c \\uc2e0\\uccad\\uc11c\\ub97c \\ud55c\\uad6d\\uc678\\uad6d\\uc5b4\\ub300\\ud559\\uad50 \\uc7a5\\ud559\\ud300\\uc73c\\ub85c \\uadfc\\ub85c \\uc804 \\uc2b9\\uc778 \\ub4dd\\ud55c \\ud6c4 \\uc7ac\\ud0dd\\uadfc\\ub85c \\uc9c4\\ud589 \\uc774\\uc5d0 \\ub300\\ud55c \\ud55c\\uad6d\\uc7a5\\ud559\\uc7ac\\ub2e8 \\uad00\\ub9ac \\uc9c0\\uce68 \\ucc38\\uc870(\\ud559\\uc0dd\\uc740 \\uc7ac\\ud0dd\\uadfc\\ub85c \\uc77c\\uc77c\\uc5c5\\ubb34\\uc77c\\uc9c0 \\uc791\\uc131,\\uadfc\\ub85c\\uc9c0 \\uae30\\uad00\\uc740 \\ud574\\ub2f9 \\uc77c\\uc77c\\uc5c5\\ubb34\\uc77c\\uc9c0 \\uc218\\uae30\\ucd9c\\uadfc\\ubd80 \\uc5c5\\ub85c\\ub4dc)4.\\uad6d\\uac00\\uadfc\\ub85c\\uc7a5\\ud559\\uc0dd \\uc720\\uc758\\uc0ac\\ud56d\\uac00.\\ucca8\\ubd80\\uc758 \\uc54c\\ub9bc\\uc7a5 \\ubc0f \\uacf5\\uc9c0\\uc0ac\\ud56d(\\uc8fc\\uc694\\uc9c0\\uce68)\\ud544\\ub3c5(21\\ud559\\ub1441\\ud559\\uae30 \\uc790\\ub8cc)* \\uadfc\\ub85c \\ud559\\uc0dd\\uc740 \\ucd9c\\uadfc\\ubd80 \\ub2f9\\uc77c \\uc785\\ub825\\uc774 \\uc6d0\\uce59*\\ucd9c\\uadfc\\ubd803\\uc77c \\uc774\\ub0b4 \\ubbf8\\uc785\\ub825\\uc2dc \\ucd94\\uac00 \\uc785\\ub825\\uc774 \\uc808\\ub300 \\ubd88\\uac00\\ud558\\ubbc0\\ub85c(\\uc785\\ub825\\ub204\\ub77d \\uc0ac\\uc720\\uc11c \\uc81c\\ucd9c \\ud3d0\\uc9c0)\\ubc18\\ub4dc\\uc2dc3\\uc77c \\uc774\\ub0b4 \\ucd9c\\uadfc\\ubd80 \\uc785\\ub825\\ubc14\\ub78d\\ub2c8\\ub2e4.(\\uc774 \\uc0ac\\ud56d\\uc740 \\uadfc\\ub85c\\uc9c0 \\ub2f4\\ub2f9\\uc790 \\uc120\\uc0dd\\ub2d8\\uc758 \\uacbd\\uc6b0\\uc5d0 \\ud574\\ub2f9)(\\ucd9c\\uadfc\\ubd80 \\uc785\\ub825\\uac00\\ub2a5 \\uae30\\uac04 \\ubcc0\\uacbd: 5\\uc77c \\uc774\\ub0b4\\u25b63\\uc77c \\uc774\\ub0b4)\\ub098.\\uc810\\uc2ec\\uc2dc\\uac04\\uc740 \\uadfc\\ub85c\\uc2dc\\uac04 \\ubbf8\\ud3ec\\ud568(\\uad50\\ub0b4\\uadfc\\ub85c12~13\\uc2dc\\ub294 \\uc810\\uc2ec\\uc2dc\\uac04/\\uad50\\uc678\\uadfc\\ub85c\\uc9c0 \\uae30\\uad00\\ubcc4 \\uc0c1\\uc774)\\uc5f0\\uc18d\\uadfc\\ub85c\\uc2dc11\\uc2dc\\uc5d0\\uc11c14\\uc2dc \\uc0ac\\uc774 \\uc911\\uc5d0 \\ucd5c\\uc18c30\\ubd84 \\uc774\\uc0c1\\uc740 \\uc810\\uc2ec\\uc2dc\\uac04\\uc73c\\ub85c \\uc815\\ud558\\uc5ec \\uadfc\\ub85c \\uc2dc\\uac04\\uc5d0\\uc11c \\uc81c\\uc678\\ud560 \\uac83\\ub2e4.\\uc218\\uc5c5\\uc2dc\\uac04\\ud45c\\uc640 \\uc911\\ubcf5\\ub418\\ub294 \\uc2dc\\uac04\\uc5d0\\ub294 \\uc808\\ub300 \\uadfc\\ub85c\\ubd88\\uac00(\\uc784\\uc2dc \\ud734\\uac15\\uc2dc\\uac04\\uc5d0\\ub3c4 \\uadfc\\ub85c\\ubd88\\uac00\\u2013\\ud559\\uc0dd\\uc758 \\uc218\\uc5c5\\uc2dc\\uac04\\ud45c\\ub294 \\uad6d\\uac00\\uadfc\\ub85c\\uad00\\ub9ac \\ud3ec\\ud138(\\ud55c\\uad6d\\uc7a5\\ud559\\uc7ac\\ub2e8 \\ud648\\ud398\\uc774\\uc9c0www.kosaf.go.kr)\\uc5d0 \\ub4f1\\ub85d\\ud574\\uc57c \\ud558\\uba70,\\ud3ec\\ud138\\uc5d0 \\ub4f1\\ub85d\\ub41c \\uc218\\uc5c5\\uc2dc\\uac04\\uacfc \\uac19\\uc740 \\uc2dc\\uac04\\uc5d0\\ub294 \\uadfc\\ub85c \\uc785\\ub825\\uc774 \\ubd88\\uac00\\ud568)**\\ub300\\uc0ac\\uad00 \\ubc0f \\uad6d\\uc81c\\ud611\\ub825\\uae30\\uad00\\uc758 \\uc7ac\\ud0dd\\uadfc\\ub85c\\uc2dc\\uc5d0\\ub294 \\uc774\\uc5d0 \\ub300\\ud55c \\ub0b4\\uc6a9 \\uc0ac\\uc804 \\uc219\\uc9c0 \\uc694\\ud568\\ub77c. 2\\ud559\\uae30 \\uc815\\uaddc \\uc2dc\\uac04\\ud45c\\ub2949. 10(\\uae08)\\uae4c\\uc9c0 \\uc785\\ub825\\ub9c8.\\uc120\\ubc1c\\uae30\\uad00 \\ub2f4\\ub2f9\\uc790\\uc640 \\uac1c\\ubcc4\\uc801\\uc73c\\ub85c \\ud611\\uc758\\ud558\\uc5ec \\uadfc\\ub85c \\uc9c4\\ud589\\ubc14.\\uc7a5\\ud559\\ud300 \\uacf5\\uc9c0 \\ubc0f \\ud55c\\uad6d\\uc7a5\\ud559\\uc7ac\\ub2e8 \\ub9e4\\ub274\\uc5bc\\uc744 \\uc219\\uc9c0\\ud558\\uc9c0 \\uc54a\\uc544 \\ubc1c\\uc0dd\\ud558\\ub294 \\ubd88\\uc774\\uc775\\uc740 \\ud559\\uc0dd \\ubcf8\\uc778\\uc774 \\uac10\\uc218\\ud558\\uc5ec\\uc57c \\ud558\\ubbc0\\ub85c \\ucd9c\\uadfc\\ubd80 \\uad00\\ub9ac \\ubc0f \\uc81c\\ucd9c \\uad00\\ub828 \\uc0ac\\ud56d \\uaf3c\\uaf3c\\ud558\\uac8c \\ud655\\uc778\\ud560 \\uac83.\\uc0ac.\\uc120\\ubc1c\\uc790 \\uba85\\ub2e8 \\ub4f1 \\uc120\\ubc1c \\uacb0\\uacfc\\ub294 \\uac1c\\uc778\\uc815\\ubcf4\\ubcf4\\ud638 \\uad00\\ub828 \\ubbfc\\uc6d0 \\uad00\\uacc4\\ub85c \\uacf5\\uac1c\\uac00 \\ubd88\\uac00\\ud558\\uc5ec \\uac1c\\ubcc4 \\ud1b5\\ubcf4\\ud558\\uc624\\ub2c8 \\uc774\\uc810 \\uc591\\ud574\\ubc14\\ub78d\\ub2c8\\ub2e4.\\uc544.\\ube44\\ub300\\uba74/\\ub179\\ud654\\uac15\\uc758 \\ud559\\uc5c5\\uc2dc\\uac04\\ud45c\\uc5d0 \\uc2dc\\uac04\\uc774 \\ubc30\\uc815\\ub418\\uc5b4 \\uc788\\uc744 \\uacbd\\uc6b0 \\ud574\\ub2f9 \\uc2dc\\uac04 \\uadfc\\ub85c \\ubd88\\uac00.\\ubcf8\\uc778\\uc758 \\uc21c\\uc218 \\uacf5\\uac15\\uc2dc\\uac04\\ub9cc \\uadfc\\ub85c\\ub85c \\uc778\\uc815 \\ub429\\ub2c8\\ub2e4.\\ucc28.\\uadfc\\ub85c\\uc7a5\\ud559\\uc0dd\\ub4e4\\uc740 \\uadfc\\ub85c\\uc7a5\\ud559\\uc0dd \\uc0ac\\uc804 \\uc900\\ube44\\uc0ac\\ud56d\\uadfc\\ub85c\\ud559\\uc0dd:\\ud65c\\ub3d9 \\uc2dc\\uc791\\uc804 \\uc11c\\uc57d\\uc11c \\ub3d9\\uc758(\\ud55c\\uad6d\\uc7a5\\ud559\\uc7ac\\ub2e8 \\ubcc4\\ucca83),\\uc0ac\\uc774\\ubc84\\uc624\\ub9ac\\uc5d4\\ud14c\\uc774\\uc158\\uc218\\uac15,\\uad50\\uc218\\uc774\\uc218\\ubcf4\\uace0\\uc11c \\uc81c\\ucd9c \\ubc0f \\uc5c5\\ubb34\\uc2a4\\ucf00\\uc974 \\ub4f1\\ub85d \\ud544\\uc218(\\uadfc\\ub85c\\uc9c0\\uc640 \\uc870\\uc728 \\ud6c4)\\uadfc\\ub85c4\\uc77c \\ud6c4 \\uadfc\\ub85c\\uc9c0\\ud3c9\\uac00\\uadfc\\ub85c\\uc9c0 \\ub2f4\\ub2f9\\uc790:\\uad50\\uc721\\ub3d9\\uc601\\uc0c1 \\uc2dc\\uccad(\\ud55c\\uad6d\\uc7a5\\ud559\\uc7ac\\ub2e8 \\ud3ec\\ud138 \\ub85c\\uae34->\\uad6d\\uac00\\uadfc\\ub85c\\uc7a5\\ud559\\uae08->\\uad50\\uc721\\ub3d9\\uc601\\uc0c1*\\uadfc\\ub85c4\\uc77c \\uc774\\ub0b4 \\uadfc\\ub85c\\uc7a5\\ud559\\uc0dd\\ud3c9\\uac00 \\uc694\\ud568\\u203b\\ubd99\\uc784\\uc758 \\uc54c\\ub9bc\\uc7a5 \\ubc0f \\uc548\\ub0b4\\uc0ac\\ud56d\\uc744 \\ubc18\\ub4dc\\uc2dc \\uc219\\uc9c0\\ud558\\uc2dc\\uae30 \\ubc14\\ub78d\\ub2c8\\ub2e4.\\uae30\\ud0c0 \\uad81\\uae08\\ud55c \\uc0ac\\ud56d\\uc740 \\uc5f0\\ub77d\\ubc14\\ub78d\\ub2c8\\ub2e4. (02-2173-2136)<\\ucd5c\\uadfc \\ucf54\\ub85c\\ub098-19\\ubc14\\uc774\\ub7ec\\uc2a4 \\uad00\\ub828,\\ub2e4\\uc591\\ud55c \\ubb38\\uc758\\uac00 \\uc788\\uc2b5\\ub2c8\\ub2e4.>1.\\uadfc\\ub85c\\uc778\\uc815\\uc5ec\\ubd80-\\uadfc\\ub85c\\uc7a5\\ud559\\uc0dd\\uc740 \\ubc18\\ub4dc\\uc2dc \\uadfc\\ub85c\\uc9c0\\uad00\\ub9ac\\uc790(\\ub610\\ub294 \\ub2f4\\ub2f9\\uc790)\\uac00 \\uadfc\\ud0dc\\uad00\\ub9ac\\ud560 \\uc218 \\uc788\\uc73c\\uba70,\\ubc30\\uc815\\ub41c \\uadfc\\ub85c\\uc9c0\\uc5d0\\uc11c \\uadfc\\ub85c\\ud558\\uc5ec\\uc57c \\ud569\\ub2c8\\ub2e4.\\uc7ac\\ud0dd\\uadfc\\ubb34,\\uc628\\ub77c\\uc778 \\uadfc\\ub85c,\\uc6d0\\uaca9 \\uad00\\ub9ac \\ub4f1 \\uadfc\\ub85c\\uc7a5\\ud559\\uc0dd\\uc758 \\uadfc\\ud0dc\\uad00\\ub9ac\\uac00 \\ubd88\\uac00\\ub2a5\\ud55c \\uacbd\\uc6b0 \\uadfc\\ub85c\\uc2dc\\uac04 \\ubd88\\uc778\\uc815\\ub428\\uc744 \\uc548\\ub0b4\\ub4dc\\ub9bd\\ub2c8\\ub2e4.(\\ub2e8,\\ub300\\uc0ac\\uad00 \\ubc0f \\uad6d\\uc81c\\ud611\\ub825\\uae30\\uad00 \\uc608\\uc678)(\\uc608-\\uadfc\\ub85c\\uc9c0\\ub2f4\\ub2f9\\uc790\\uc758 \\uc7ac\\ud0dd\\uadfc\\ubb34,\\uadfc\\ub85c\\uc9c0 \\ud3d0\\uc1c4 \\ub4f1\\uc774 \\ubc1c\\uc0dd\\ud560 \\uacbd\\uc6b0 \\uad6d\\uac00\\uadfc\\ub85c\\uc7a5\\ud559\\uc0dd\\ub3c4 \\uadfc\\ub85c\\ubd88\\uac00.\\uad6d\\uac00\\uadfc\\ub85c\\uc7a5\\ud559\\uc0dd\\uc758 \\uc7ac\\ud0dd\\uadfc\\ubb34,\\uc628\\ub77c\\uc778 \\uadfc\\ub85c \\ub4f1 \\ubc30\\uc815\\ub41c \\uadfc\\ub85c\\uc9c0\\ub97c \\ubc97\\uc5b4\\ub098\\uc11c \\uadfc\\ub85c\\ubd88\\uac00.\\ub4f1)2.\\ucf54\\ub85c\\ub098-19\\ubc14\\uc774\\ub7ec\\uc2a4 \\uad00\\ub828 \\uc790\\uac00\\uaca9\\ub9ac\\uc790/\\uc720\\uc99d\\uc0c1\\uc790-\\ucf54\\ub85c\\ub098-19\\ubc14\\uc774\\ub7ec\\uc2a4 \\uad00\\ub828\\uc790\\uc758 \\uacbd\\uc6b0(\\uc790\\uac00\\uaca9\\ub9ac,\\uc720\\uc99d\\uc0c1 \\ub4f1)\\uc228\\uae30\\uc9c0 \\ub9c8\\uc2dc\\uace0 \\uc5f0\\ub77d\\ubc14\\ub78d\\ub2c8\\ub2e4.-\\uc790\\uac00\\uaca9\\ub9ac\\ub85c \\uc778\\ud558\\uc5ec \\uadfc\\ub85c\\ud558\\uc9c0 \\ubabb\\ud558\\uc600\\uc744 \\uacbd\\uc6b0 \\uc774\\uc5d0 \\ub300\\ud55c \\uadfc\\ub85c\\uc7a5\\ud559\\uae08\\uc740 \\uc9c0\\uae09\\ub418\\uc9c0 \\uc54a\\uc2b5\\ub2c8\\ub2e4.-\\ucf54\\ub85c\\ub098-19\\ubc14\\uc774\\ub7ec\\uc2a4 \\uad00\\ub828 \\uc99d\\uc0c1\\uc774 \\uc788\\uc744 \\uc2dc \\uc989\\uc2dc \\uc9c8\\ubcd1\\uad00\\ub9ac\\ubcf8\\ubd80 \\ucf5c\\uc13c\\ud1301339\\uc5d0 \\uc0c1\\ub2f4\\ubc14\\ub78d\\ub2c8\\ub2e4.3.\\uadfc\\ub85c\\uc2dc\\uc791\\uc77c \\uc900\\uc218\\uc5ec\\ubd80-\\uadfc\\ub85c\\uc2dc\\uc791\\uc77c\\uc740 \\ubc18\\ub4dc\\uc2dc \\ubaa8\\ub450\\uac00 \\ub3d9\\uc77c\\ud558\\uac8c \\uc2dc\\uc791\\ud558\\ub294 \\uac83\\uc774 \\uc544\\ub2d9\\ub2c8\\ub2e4.\\uadfc\\ub85c\\uc9c0\\uc640 \\ud559\\uc0dd \\uc0c1\\ud638 \\ud611\\uc758 \\ud558\\uc5d0 \\uc5f0\\uae30 \\uac00\\ub2a5\\ud558\\uc624\\ub2c8 \\ubc29\\ubb38\\uc790\\uac00 \\ub9ce\\uc740 \\uadfc\\ub85c\\uc9c0 \\ub4f1 \\uc704\\ud5d8\\uc694\\uc18c\\uac00 \\uc788\\ub2e4\\uace0 \\ud310\\ub2e8\\ub418\\ub294 \\uadfc\\ub85c\\uc9c0\\uc640 \\uc0ac\\uc804\\uc5d0 \\uc870\\uc728\\ubc14\\ub78d\\ub2c8\\ub2e4.4.\\ucf54\\ub85c\\ub098-19\\ubc14\\uc774\\ub7ec\\uc2a4 \\uc704\\ud5d8\\uc9c0\\uc5ed \\ubc29\\ubb38\\uc774\\ub825\\uc774 \\uc788\\ub294 \\ud559\\uc0dd-\\uadfc\\ub85c \\uc2dc\\uc791 \\uc804 \\ubc18\\ub4dc\\uc2dc \\uadfc\\ub85c\\uc9c0 \\ub2f4\\ub2f9\\uc790\\ub2d8\\uaed8 \\uc54c\\ub9ac\\uace0 \\uadfc\\ub85c \\uc9c4\\ud589 \\ud611\\uc758 \\ubc14\\ub78d\\ub2c8\\ub2e4.\\ubaa8\\ucabc\\ub85d \\uc608\\ubc29\\uc5d0 \\ud798\\uc368\\uc8fc\\uc2dc\\uae38 \\ubc14\\ub77c\\uba70,\\uc704\\uc640 \\uac19\\uc740 \\uc0c1\\ud669 \\ubc1c\\uc0dd \\uc2dc \\uc989\\uc2dc \\uc5f0\\ub77d\\ubc14\\ub78d\\ub2c8\\ub2e4.\\ubd99\\uc784:1. 2021-2\\uad6d\\uac00\\uadfc\\ub85c \\uc54c\\ub9bc\\uc7a5(\\uc548\\uc804\\uad50\\uc721\\uc790\\ub8cc \\ubc0f \\uad50\\uc721\\uc774\\uc218\\uc11c \\uc591\\uc2dd)\\uac011\\ubd80(21-1\\ud559\\uae30 \\ub0b4\\uc6a9 \\ub3d9\\uc77c)2.\\ud55c\\uad6d\\uc7a5\\ud559\\uc7ac\\ub2e8 \\uc7a5\\ud559\\uc0dd \\uac00\\uc774\\ub4dc\\ubd81(21-1\\ud559\\uae30 \\uc790\\ub8cc2\\ud559\\uae30\\uc640 \\ub3d9\\uc77c \\ud568.)\\n\",\n          \"\\n\\n\\uc544\\ub798\\uc640 \\uac19\\uc774 2021-1\\ud559\\uae30 \\ubbf8\\ub798\\uc758 \\ub3d9\\ubc18\\uc790\\uc7ac\\ub2e8 \\uc2e0\\uaddc\\uc7a5\\ud559\\uc0dd \\ubaa8\\uc9d1\\uc548\\ub0b4\\ub97c \\ud558\\ub2c8 \\uc678\\ub300 \\ud559\\uc0dd\\ub4e4\\uc758 \\ub9ce\\uc740 \\uc9c0\\uc6d0 \\ubc14\\ub78d\\ub2c8\\ub2e4.\\n\\n- \\uc544 \\ub798 -\\n\\n1. \\uc7ac\\ub2e8\\uba85: \\ubbf8\\ub798\\uc758 \\ub3d9\\ubc18\\uc790\\uc7ac\\ub2e8\\n\\n2. \\uc7a5\\ud559\\uae08\\uc561: \\ub4f1\\ub85d\\uae08 \\uc804\\uc561(\\ud0c0\\uc7a5\\ud559\\uae08\\uacfc \\uc911\\ubcf5\\uc218\\ud61c \\ubd88\\uac00)\\n\\n3. \\uc9c0\\uc6d0\\uc790\\uaca9(\\uac00~\\ub77c\\ud56d\\ubaa9\\uc744 \\ubaa8\\ub450 \\ucda9\\uc871\\ud574\\uc57c \\ud568)\\n \\uac00.\\uc11c\\uc6b8\\ucea0\\ud37c\\uc2a4 \\uc7ac\\ud559\\uc0dd(\\ucd08\\uacfc\\ud559\\uae30, \\ud734\\ud559\\uc0dd \\ubc0f \\ud734\\ud559\\uc608\\uc815\\uc790\\uc9c0\\uc6d0\\ubd88\\uac00)\\n *\\ub4f1\\ub85d \\ud6c4 \\ud734\\ud559\\ud558\\ub294 \\ud559\\uc0dd\\uc740 \\uc790\\uaca9 \\uc0c1\\uc2e4 \\ub428.\\n \\ub098. \\uc778\\ubb38 \\ubc0f \\uc0c1\\uacbd\\uacc4\\uc5f4 \\uc81c1\\uc804\\uacf5\\uc790\\n \\ub2e4. 20-2\\ud559\\uae30 \\ud3c9\\uc810 \\ubc0f \\ubcf8\\uad50 \\uc804\\uccb4\\ud3c9\\uc810\\uc774 3.5/4.5 \\uc774\\uc0c1\\uc778 \\ud559\\uc0dd\\n \\ub77c. 20-2\\ud559\\uae30\\ud55c\\uad6d\\uc7a5\\ud559\\uc7ac\\ub2e8 \\uc0b0\\uc815 \\uae30\\uc900 \\uc18c\\ub4dd\\ubd84\\uc704 7\\ubd84\\uc704 \\uc774\\ud558\\uc778 \\ud559\\uc0dd\\n\\n4. \\uc9c0\\uc6d0\\uc11c\\ub958\\n \\uac00. \\uc7a5\\ud559\\uae08 \\uc2e0\\uccad\\uc11c(\\ubd99\\uc784\\ud30c\\uc77c)\\n \\ub098. \\ubcf8\\uad50\\uc131\\uc801\\uc99d\\uba85\\uc11c \\uc6d0\\ubcf8 1\\ubd80\\n \\ub2e4. \\ubcf8\\uad50\\uc7ac\\ud559\\uc99d\\uba85\\uc11c \\uc6d0\\ubcf8 1\\ubd80\\n \\ub77c. \\ud55c\\uad6d\\uc7a5\\ud559\\uc7ac\\ub2e8 \\uc18c\\ub4dd\\ubd84\\uc704\\ud655\\uc778\\uc11c 1\\ubd80\\n \\ub9c8. \\uc8fc\\ubbfc\\ub4f1\\ub85d\\ub4f1\\ubcf8 1\\ubd80\\n\\n5. \\uc81c\\ucd9c\\uae30\\uac04: 2021. 2. 4(\\ubaa9) \\uc624\\uc804 11\\uc2dc\\n\\n6. \\uc81c\\ucd9c\\ucc98:\\ub4f1\\uae30\\uc6b0\\ud3b8 \\uc811\\uc218\\n02450 \\uc11c\\uc6b8\\uc2dc \\ub3d9\\ub300\\ubb38\\uad6c \\uc774\\ubb38\\ub85c 107 \\n \\ud55c\\uad6d\\uc678\\ub300\\uad6d\\uc81c\\ud559\\uc0ac 101\\ud638,\\uc7a5\\ud559\\ud300 (02-2173-2795)\\n\\n\\n7. \\uc720\\uc758\\uc0ac\\ud56d \\n \\uac00. \\uc7a5\\ud559\\uc0dd\\uc740 \\ud559\\uae30\\ub2f9 \\ucd5c\\uc18c 12\\ud559\\uc810 \\uc774\\uc0c1 \\uc2e0\\uccad\\ud574\\uc57c \\ud568\\n \\ub098. \\uc7ac\\ub2e8\\uc758 \\uc694\\uccad\\uc774 \\uc788\\uc744 \\uc2dc \\uc7ac\\ub2e8 \\ud589\\uc0ac\\uc5d0 \\ucc38\\uc11d\\ud574 \\ubcf8\\uc778\\uc758 \\uc218\\ud61c \\uc0ac\\ub840 \\ub4f1\\uc744 \\ubc1c\\ud45c\\ud560 \\uc218 \\uc788\\uc74c.\\n \\ub2e4. \\ud6c4\\uc6d0\\uae30\\uc5c5/\\ud6c4\\uc6d0\\uc778\\uc5d0\\uac8c \\ubcf4\\uace0\\uc790\\ub8cc\\ub85c \\uc0ac\\uc6a9\\ud560 \\uac10\\uc0ac\\ud3b8\\uc9c0(MS\\uc6cc\\ub4dc)\\uc640 \\uc7a5\\ud559\\uc99d\\uc11c \\uc804\\ub2ec\\uc2dd \\uc0ac\\uc9c4\\uc790\\ub8cc \\ub4f1\\uc744 \\uc81c\\ucd9c\\ud574\\uc57c \\ud568\\n \\n\\n\\n\\n\",\n          \"\\n \\ucf54\\ub85c\\ub09819\\ub85c \\uc778\\ud55c \\ud2b9\\ubcc4\\uadfc\\ub85c \\uc7a5\\ud559\\uc0dd\\uc744 \\uc544\\ub798\\uc640 \\uac19\\uc774 \\ubaa8\\uc9d1\\ud558\\ub2c8 \\uad00\\uc2ec\\uc788\\ub294 \\ud559\\uc0dd\\ub4e4\\uc758 \\uc2e0\\uccad\\uc744 \\ubc14\\ub78d\\ub2c8\\ub2e4.- \\uc544    \\ub798 -1. \\uc2e0\\uccad \\uc790\\uaca9\\uac00. \\uc7ac\\ub2e8\\uc73c\\ub85c\\ubd80\\ud130 \\ud574\\ub2f9\\ud559\\uc0dd\\uc774\\ub77c\\ub294 \\u2018\\ubb38\\uc790\\u2019\\ub97c \\ubc1b\\uc740\\uc790\\ub098. \\uc7ac\\ub2e8\\uc73c\\ub85c\\ubd80\\ud130 \\ud574\\ub2f9\\ud559\\uc0dd\\uc774\\ub77c\\ub294 \\u2018\\ubb38\\uc790\\u2019\\ub97c \\ubc1b\\uc9c0 \\uc54a\\uc740\\uc790 \\uc911 \\uac00\\uacc4\\uac00\\ub9ce\\uc774\\uace4\\ub780\\ud558\\ub2e4\\uace0 \\uc0dd\\uac01\\ud558\\ub294 \\uc790- \\uc7ac\\ub2e8 \\ud648\\ud398\\uc774\\uc9c0\\uc5d0 \\uc811\\uc18d\\ud558\\uc5ec 2021\\ub144 4\\uc6d4 30(\\uae08) 18\\uc2dc \\uae4c\\uc9c0 \\uac01\\uc885 \\uac00\\uacc4\\uace4\\ub780\\uc744 \\uc99d\\uba85\\ud560 \\uc218 \\uc788\\ub294 \\uc11c\\ub958 \\uc5c5\\ub85c\\ub4dc \\ud560 \\uac83\\u203b \\uacf5\\ud1b5\\uc0ac\\ud56d : \\uc2e0\\uccad\\uc11c(\\ucca8\\ubd80\\uc11c\\ub958) \\uc791\\uc131\\ud558\\uc5ec 2021\\ub144 4\\uc6d4 30(\\uae08) 16\\uc2dc30\\ubd84 \\uae4c\\uc9c0 \\uae00\\ub85c\\ubc8c\\ucea0\\ud37c\\uc2a4 \\ud559\\uc0dd\\uc9c0\\uc6d0\\ud300\\uc5d0 \\uc9c1\\uc811 \\uc81c\\ucd9c \\ud560 \\uac83(\\ub2e8, \\uc6b0\\ud3b8 \\uc811\\uc218 \\uac00\\ub2a5\\ud558\\uba70 4\\uc6d430\\uc77c(\\uae08) \\uae4c\\uc9c0 \\ub3c4\\ucc29\\ud558\\uc5ec\\uc57c \\ud568)2. \\uc120\\ubc1c \\uae30\\uc900\\uac00. 0\\uc21c\\uc704 : \\uc7ac\\ub2e8\\uc73c\\ub85c\\ubd80\\ud130 \\ud574\\ub2f9\\ud559\\uc0dd\\uc774\\ub77c\\ub294 \\ubb38\\uc790\\ub97c \\ubc1b\\uc740 \\uc790(\\uc774 \\uacbd\\uc6b0\\ub3c4\\\"2-\\uac00\\\", \\\"2-\\ub098\\\", 2-\\ub2e4\\\" \\uae30\\uc900\\uc5d0 \\uc758\\ud574 \\uc120\\ubc1c\\ud568)\\ub098. 1\\uc21c\\uc704 : \\ubd80\\ubaa8\\uc758 \\uc2e4\\uc9c1 \\ubc0f \\ud3d0\\uc5c5\\ub2e4. 2\\uc21c\\uc704 : \\uc9c1\\uc804\\ud559\\uae30 \\ud559\\uc5c5\\uc131\\uc801\\ub77c. 3\\uc21c\\uc704 : \\uae30\\ud0c0 \\uac00\\uacc4 \\uace4\\ub780\\uc744 \\uc99d\\uba85\\ud560 \\uc218 \\uc788\\ub294 \\uac01\\uc885 \\uc11c\\ub9583. \\ucc38\\uace0\\uc0ac\\ud56d- \\ud3d0\\uc5c5 \\ubc0f \\uc2e4\\uc9c1 \\uc778\\uc815 \\uae30\\uac04 : 2020.01.20.~2021.04.30. - \\ubcf8\\uc778 \\ud3d0\\uc5c5 \\ubc0f \\uc2e4\\uc9c1 \\uc81c\\uc678- \\uc7a5\\ud559\\uae08 \\uc2dc\\uae09 : \\uad50\\ub0b4 9,000\\uc6d0 / \\uad50\\uc678 11,150\\uc6d0(\\uae30\\uc874 \\uad6d\\uac00\\uadfc\\ub85c\\uc7a5\\ud559\\uae08 \\uc2dc\\uae09\\uacfc \\ub3d9\\uc77c\\ud568)- \\uc120\\ubc1c \\ud655\\uc815 : 2021\\ub144 5\\uc6d4 \\uc911(\\uc7a5\\ud559 \\uacf5\\uc9c0 \\uc0ac\\ud56d \\ubc0f \\ubb38\\uc790 \\uba54\\uc2dc\\uc9c0\\ub85c \\uc548\\ub0b4 \\uc608\\uc815)- \\uadfc\\ubb34 \\uae30\\uac04 : 2021.05\\uc6d4(\\ub0a0\\uc9dc \\ubbf8\\uc815)~2021.09\\uc6d4.4. \\uc720\\uc758\\uc0ac\\ud56d(\\ucca8\\ubd80\\ub41c \\ub9e4\\ub274\\uc5bc \\ubc18\\ub4dc\\uc2dc \\uc219\\uc9c0\\ud560 \\uac83)-\\uad6d\\ubbfc\\uad8c\\uc775\\uc704\\uc6d0\\ud68c\\uc5d0\\uc11c \\uacf5\\uacf5\\uc7ac\\uc815 \\ubd80\\uc815\\uc218\\uae09 \\ubc29\\uc9c0\\ub97c \\uc704\\ud55c \\u300c\\uacf5\\uacf5\\uc7ac\\uc815\\ud658\\uc218\\ubc95\\u300d\\uc744 \\uc2dc\\ud589\\ud558\\uc600\\uc73c\\uba70 2020\\ub144 1\\uc6d4 1\\uc77c \\uc774\\ud6c4 \\ub300\\ud559\\uc0dd \\uadfc\\ub85c\\uc7a5\\ud559\\uc0ac\\uc5c5 \\uc7a5\\ud559\\uae08\\uc774 \\uc9c0\\uae09\\ub41c \\uc0ac\\ud56d\\uc5d0 \\uc801\\uc6a9\\ub418\\uc5c8\\uc2b5\\ub2c8\\ub2e4. \\uc774\\uc5d0 \\ub530\\ub77c \\ud5c8\\uc704\\uadfc\\ub85c \\ubc0f \\ub300\\ub9ac\\uadfc\\ub85c \\uc2dc \\ud658\\uc218\\uae08\\uc561(\\ubd80\\uc815\\uc774\\uc775+\\uc774\\uc790+\\uc81c\\uc7ac\\ubd80\\uac00\\uae08+\\uac00\\uc0b0\\uae08)\\uc774 \\ubc1c\\uc0dd\\ud558\\ubbc0\\ub85c \\uc7a5\\ud559\\uc0dd \\ubd80\\uc815\\uadfc\\ub85c\\uac00 \\ubc1c\\uc0dd\\ud558\\uc9c0 \\uc54a\\ub3c4\\ub85d \\uc720\\uc758\\ubc14\\ub78c.-\\uc218\\uc5c5\\uc2dc\\uac04\\ud45c\\uc640 \\uc911\\ubcf5\\ub41c \\uadfc\\ub85c\\uc2dc\\uac04\\uc5d0\\ub294 \\uc808\\ub300 \\uadfc\\ub85c \\ubd88\\uac00(\\ube44\\ub300\\uba74 \\uc218\\uc5c5 \\uc2dc\\uac04\\ub3c4 \\ub300\\uba74 \\uc218\\uc5c5\\uc2dc\\uac04\\uacfc \\ub3d9\\uc77c\\ud558\\uac8c \\uc801\\uc6a9\\ub418\\uba70 \\uc774\\ub97c \\uc5b4\\uae38 \\uacbd\\uc6b0 \\ubd80\\uc815\\uadfc\\ub85c\\ub85c \\uac04\\uc8fc\\ud568)- \\ud559\\uc801 \\uc0c1\\ud0dc\\uac00 \\u201c\\uc7ac\\ud559\\u201d\\uc5d0\\uc11c \\ud734\\ud559, \\uc790\\ud1f4, \\uc878\\uc5c5 \\ub4f1\\uc73c\\ub85c \\ubcc0\\ub3d9\\ub420 \\uacbd\\uc6b0 \\uadfc\\ub85c \\ubd88\\uac00\\u203b \\ud559\\uc801\\uc774 \\ubcc0\\ub3d9\\ub420 \\uacbd\\uc6b0 \\ubcc0\\ub3d9 \\ub2f9\\uc77c\\uc758 \\ud65c\\ub3d9\\uae4c\\uc9c0\\ub9cc \\uc778\\uc815\\u203b \\ud734\\ud559 \\uc2dc \\ud734\\ud559 \\uc77c\\uc790 \\uc774\\ud6c4 \\uadfc\\ub85c\\ub294 \\uc778\\uc815\\uc774 \\ub418\\uc9c0 \\uc54a\\uc2b5\\ub2c8\\ub2e4.\\u203b \\uc790\\ud1f4 \\ubc0f \\uc81c\\uc801 \\uc2dc \\ud574\\ub2f9 \\uc77c\\uc790 \\uc774\\ud6c4 \\uadfc\\ub85c\\uac00 \\uc778\\uc815\\ub418\\uc9c0 \\uc54a\\uc2b5\\ub2c8\\ub2e4.\\u203b \\ud574\\uc678 \\ucd9c\\uc785\\uad6d \\uae30\\uac04, \\ubcd1\\uc6d0\\uc9c4\\ub8cc \\uae30\\uac04, \\uc878\\uc5c5 \\ud6c4\\uc5d0\\ub294 \\uadfc\\ub85c\\uac00 \\uc778\\uc815\\ub418\\uc9c0 \\uc54a\\uc2b5\\ub2c8\\ub2e4.\\u203b \\uadfc\\ub85c\\uac00 \\uc778\\uc815\\ub418\\uc9c0 \\uc54a\\ub294 \\uae30\\uac04\\uc5d0 \\uadfc\\ub85c\\uc7a5\\ud559\\uae08\\uc774 \\uc785\\uae08 \\ub418\\uc5c8\\uc744 \\uc2dc, \\ud658\\uc218 \\ucc98\\ub9ac\\ub429\\ub2c8\\ub2e4.5. \\ubb38\\uc758: \\ud559\\uc0dd\\uc9c0\\uc6d0\\ud300 \\uad6d\\uac00\\uadfc\\ub85c \\ub2f4\\ub2f9(031-330-4034)\\ubd99\\uc784 1. \\ud2b9\\ubcc4\\uadfc\\ub85c\\uc7a5\\ud559\\uae08 \\ud559\\uc0dd \\uc2e0\\uccad \\ub9e4\\ub274\\uc5bc(\\ud55c\\uad6d\\uc7a5\\ud559\\uc7ac\\ub2e8)2. \\ucf54\\ub85c\\ub09819 \\ud2b9\\ubcc4\\uad6d\\uac00\\uadfc\\ub85c\\uc7a5\\ud559\\uae08 \\uc2e0\\uccad\\uc11c(\\ud559\\uc0dd\\uc9c0\\uc6d0\\ud300) 2021. 04. 26\\ud559\\uc0dd\\uc9c0\\uc6d0\\ud300(\\uae00\\ub85c\\ubc8c) \\n\"\n        ],\n        \"semantic_type\": \"\",\n        \"description\": \"\"\n      }\n    }\n  ]\n}"
            }
          },
          "metadata": {},
          "execution_count": 10
        }
      ]
    },
    {
      "cell_type": "code",
      "source": [
        "# 전처리 함수 적용 - 장학\n",
        "janghak['content'] = janghak['content'].apply(preprocess)"
      ],
      "metadata": {
        "id": "QH56TqXnxkK5"
      },
      "execution_count": 11,
      "outputs": []
    },
    {
      "cell_type": "code",
      "source": [
        "# 전처리 확인\n",
        "janghak.head(2)"
      ],
      "metadata": {
        "colab": {
          "base_uri": "https://localhost:8080/",
          "height": 0
        },
        "id": "Bx0n5i2ZxowT",
        "outputId": "906c150a-d40a-43ee-9461-898fbb798e89"
      },
      "execution_count": 12,
      "outputs": [
        {
          "output_type": "execute_result",
          "data": {
            "text/plain": [
              "   index        date                                         title  \\\n",
              "0      1  2020-01-02     [공통][교외] 2020-1학기 남정장학재단 장학생 모집 안내(~1/10)   \n",
              "1      2  2020-01-02  [공통] [대출] 2020년 1학기 농촌출신대학생 학자금융자(무이자) 지원 안내   \n",
              "\n",
              "                                             content  \n",
              "0  \\n[공통][교외] 2020\\n1학기 남정장학재단 장학생 모집 안내(~1/10)아래...  \n",
              "1  \\n2020년 1학기 농촌출신대학생 학자금융자(무이자) 지원 안내\\n사업개요\\n지원...  "
            ],
            "text/html": [
              "\n",
              "  <div id=\"df-757ed041-17be-47f4-b706-7f9f66d3e0b2\" class=\"colab-df-container\">\n",
              "    <div>\n",
              "<style scoped>\n",
              "    .dataframe tbody tr th:only-of-type {\n",
              "        vertical-align: middle;\n",
              "    }\n",
              "\n",
              "    .dataframe tbody tr th {\n",
              "        vertical-align: top;\n",
              "    }\n",
              "\n",
              "    .dataframe thead th {\n",
              "        text-align: right;\n",
              "    }\n",
              "</style>\n",
              "<table border=\"1\" class=\"dataframe\">\n",
              "  <thead>\n",
              "    <tr style=\"text-align: right;\">\n",
              "      <th></th>\n",
              "      <th>index</th>\n",
              "      <th>date</th>\n",
              "      <th>title</th>\n",
              "      <th>content</th>\n",
              "    </tr>\n",
              "  </thead>\n",
              "  <tbody>\n",
              "    <tr>\n",
              "      <th>0</th>\n",
              "      <td>1</td>\n",
              "      <td>2020-01-02</td>\n",
              "      <td>[공통][교외] 2020-1학기 남정장학재단 장학생 모집 안내(~1/10)</td>\n",
              "      <td>\\n[공통][교외] 2020\\n1학기 남정장학재단 장학생 모집 안내(~1/10)아래...</td>\n",
              "    </tr>\n",
              "    <tr>\n",
              "      <th>1</th>\n",
              "      <td>2</td>\n",
              "      <td>2020-01-02</td>\n",
              "      <td>[공통] [대출] 2020년 1학기 농촌출신대학생 학자금융자(무이자) 지원 안내</td>\n",
              "      <td>\\n2020년 1학기 농촌출신대학생 학자금융자(무이자) 지원 안내\\n사업개요\\n지원...</td>\n",
              "    </tr>\n",
              "  </tbody>\n",
              "</table>\n",
              "</div>\n",
              "    <div class=\"colab-df-buttons\">\n",
              "\n",
              "  <div class=\"colab-df-container\">\n",
              "    <button class=\"colab-df-convert\" onclick=\"convertToInteractive('df-757ed041-17be-47f4-b706-7f9f66d3e0b2')\"\n",
              "            title=\"Convert this dataframe to an interactive table.\"\n",
              "            style=\"display:none;\">\n",
              "\n",
              "  <svg xmlns=\"http://www.w3.org/2000/svg\" height=\"24px\" viewBox=\"0 -960 960 960\">\n",
              "    <path d=\"M120-120v-720h720v720H120Zm60-500h600v-160H180v160Zm220 220h160v-160H400v160Zm0 220h160v-160H400v160ZM180-400h160v-160H180v160Zm440 0h160v-160H620v160ZM180-180h160v-160H180v160Zm440 0h160v-160H620v160Z\"/>\n",
              "  </svg>\n",
              "    </button>\n",
              "\n",
              "  <style>\n",
              "    .colab-df-container {\n",
              "      display:flex;\n",
              "      gap: 12px;\n",
              "    }\n",
              "\n",
              "    .colab-df-convert {\n",
              "      background-color: #E8F0FE;\n",
              "      border: none;\n",
              "      border-radius: 50%;\n",
              "      cursor: pointer;\n",
              "      display: none;\n",
              "      fill: #1967D2;\n",
              "      height: 32px;\n",
              "      padding: 0 0 0 0;\n",
              "      width: 32px;\n",
              "    }\n",
              "\n",
              "    .colab-df-convert:hover {\n",
              "      background-color: #E2EBFA;\n",
              "      box-shadow: 0px 1px 2px rgba(60, 64, 67, 0.3), 0px 1px 3px 1px rgba(60, 64, 67, 0.15);\n",
              "      fill: #174EA6;\n",
              "    }\n",
              "\n",
              "    .colab-df-buttons div {\n",
              "      margin-bottom: 4px;\n",
              "    }\n",
              "\n",
              "    [theme=dark] .colab-df-convert {\n",
              "      background-color: #3B4455;\n",
              "      fill: #D2E3FC;\n",
              "    }\n",
              "\n",
              "    [theme=dark] .colab-df-convert:hover {\n",
              "      background-color: #434B5C;\n",
              "      box-shadow: 0px 1px 3px 1px rgba(0, 0, 0, 0.15);\n",
              "      filter: drop-shadow(0px 1px 2px rgba(0, 0, 0, 0.3));\n",
              "      fill: #FFFFFF;\n",
              "    }\n",
              "  </style>\n",
              "\n",
              "    <script>\n",
              "      const buttonEl =\n",
              "        document.querySelector('#df-757ed041-17be-47f4-b706-7f9f66d3e0b2 button.colab-df-convert');\n",
              "      buttonEl.style.display =\n",
              "        google.colab.kernel.accessAllowed ? 'block' : 'none';\n",
              "\n",
              "      async function convertToInteractive(key) {\n",
              "        const element = document.querySelector('#df-757ed041-17be-47f4-b706-7f9f66d3e0b2');\n",
              "        const dataTable =\n",
              "          await google.colab.kernel.invokeFunction('convertToInteractive',\n",
              "                                                    [key], {});\n",
              "        if (!dataTable) return;\n",
              "\n",
              "        const docLinkHtml = 'Like what you see? Visit the ' +\n",
              "          '<a target=\"_blank\" href=https://colab.research.google.com/notebooks/data_table.ipynb>data table notebook</a>'\n",
              "          + ' to learn more about interactive tables.';\n",
              "        element.innerHTML = '';\n",
              "        dataTable['output_type'] = 'display_data';\n",
              "        await google.colab.output.renderOutput(dataTable, element);\n",
              "        const docLink = document.createElement('div');\n",
              "        docLink.innerHTML = docLinkHtml;\n",
              "        element.appendChild(docLink);\n",
              "      }\n",
              "    </script>\n",
              "  </div>\n",
              "\n",
              "\n",
              "<div id=\"df-9c9d9d31-31c4-4b7b-87fb-f0b93de4bd9a\">\n",
              "  <button class=\"colab-df-quickchart\" onclick=\"quickchart('df-9c9d9d31-31c4-4b7b-87fb-f0b93de4bd9a')\"\n",
              "            title=\"Suggest charts\"\n",
              "            style=\"display:none;\">\n",
              "\n",
              "<svg xmlns=\"http://www.w3.org/2000/svg\" height=\"24px\"viewBox=\"0 0 24 24\"\n",
              "     width=\"24px\">\n",
              "    <g>\n",
              "        <path d=\"M19 3H5c-1.1 0-2 .9-2 2v14c0 1.1.9 2 2 2h14c1.1 0 2-.9 2-2V5c0-1.1-.9-2-2-2zM9 17H7v-7h2v7zm4 0h-2V7h2v10zm4 0h-2v-4h2v4z\"/>\n",
              "    </g>\n",
              "</svg>\n",
              "  </button>\n",
              "\n",
              "<style>\n",
              "  .colab-df-quickchart {\n",
              "      --bg-color: #E8F0FE;\n",
              "      --fill-color: #1967D2;\n",
              "      --hover-bg-color: #E2EBFA;\n",
              "      --hover-fill-color: #174EA6;\n",
              "      --disabled-fill-color: #AAA;\n",
              "      --disabled-bg-color: #DDD;\n",
              "  }\n",
              "\n",
              "  [theme=dark] .colab-df-quickchart {\n",
              "      --bg-color: #3B4455;\n",
              "      --fill-color: #D2E3FC;\n",
              "      --hover-bg-color: #434B5C;\n",
              "      --hover-fill-color: #FFFFFF;\n",
              "      --disabled-bg-color: #3B4455;\n",
              "      --disabled-fill-color: #666;\n",
              "  }\n",
              "\n",
              "  .colab-df-quickchart {\n",
              "    background-color: var(--bg-color);\n",
              "    border: none;\n",
              "    border-radius: 50%;\n",
              "    cursor: pointer;\n",
              "    display: none;\n",
              "    fill: var(--fill-color);\n",
              "    height: 32px;\n",
              "    padding: 0;\n",
              "    width: 32px;\n",
              "  }\n",
              "\n",
              "  .colab-df-quickchart:hover {\n",
              "    background-color: var(--hover-bg-color);\n",
              "    box-shadow: 0 1px 2px rgba(60, 64, 67, 0.3), 0 1px 3px 1px rgba(60, 64, 67, 0.15);\n",
              "    fill: var(--button-hover-fill-color);\n",
              "  }\n",
              "\n",
              "  .colab-df-quickchart-complete:disabled,\n",
              "  .colab-df-quickchart-complete:disabled:hover {\n",
              "    background-color: var(--disabled-bg-color);\n",
              "    fill: var(--disabled-fill-color);\n",
              "    box-shadow: none;\n",
              "  }\n",
              "\n",
              "  .colab-df-spinner {\n",
              "    border: 2px solid var(--fill-color);\n",
              "    border-color: transparent;\n",
              "    border-bottom-color: var(--fill-color);\n",
              "    animation:\n",
              "      spin 1s steps(1) infinite;\n",
              "  }\n",
              "\n",
              "  @keyframes spin {\n",
              "    0% {\n",
              "      border-color: transparent;\n",
              "      border-bottom-color: var(--fill-color);\n",
              "      border-left-color: var(--fill-color);\n",
              "    }\n",
              "    20% {\n",
              "      border-color: transparent;\n",
              "      border-left-color: var(--fill-color);\n",
              "      border-top-color: var(--fill-color);\n",
              "    }\n",
              "    30% {\n",
              "      border-color: transparent;\n",
              "      border-left-color: var(--fill-color);\n",
              "      border-top-color: var(--fill-color);\n",
              "      border-right-color: var(--fill-color);\n",
              "    }\n",
              "    40% {\n",
              "      border-color: transparent;\n",
              "      border-right-color: var(--fill-color);\n",
              "      border-top-color: var(--fill-color);\n",
              "    }\n",
              "    60% {\n",
              "      border-color: transparent;\n",
              "      border-right-color: var(--fill-color);\n",
              "    }\n",
              "    80% {\n",
              "      border-color: transparent;\n",
              "      border-right-color: var(--fill-color);\n",
              "      border-bottom-color: var(--fill-color);\n",
              "    }\n",
              "    90% {\n",
              "      border-color: transparent;\n",
              "      border-bottom-color: var(--fill-color);\n",
              "    }\n",
              "  }\n",
              "</style>\n",
              "\n",
              "  <script>\n",
              "    async function quickchart(key) {\n",
              "      const quickchartButtonEl =\n",
              "        document.querySelector('#' + key + ' button');\n",
              "      quickchartButtonEl.disabled = true;  // To prevent multiple clicks.\n",
              "      quickchartButtonEl.classList.add('colab-df-spinner');\n",
              "      try {\n",
              "        const charts = await google.colab.kernel.invokeFunction(\n",
              "            'suggestCharts', [key], {});\n",
              "      } catch (error) {\n",
              "        console.error('Error during call to suggestCharts:', error);\n",
              "      }\n",
              "      quickchartButtonEl.classList.remove('colab-df-spinner');\n",
              "      quickchartButtonEl.classList.add('colab-df-quickchart-complete');\n",
              "    }\n",
              "    (() => {\n",
              "      let quickchartButtonEl =\n",
              "        document.querySelector('#df-9c9d9d31-31c4-4b7b-87fb-f0b93de4bd9a button');\n",
              "      quickchartButtonEl.style.display =\n",
              "        google.colab.kernel.accessAllowed ? 'block' : 'none';\n",
              "    })();\n",
              "  </script>\n",
              "</div>\n",
              "\n",
              "    </div>\n",
              "  </div>\n"
            ],
            "application/vnd.google.colaboratory.intrinsic+json": {
              "type": "dataframe",
              "variable_name": "janghak",
              "summary": "{\n  \"name\": \"janghak\",\n  \"rows\": 1260,\n  \"fields\": [\n    {\n      \"column\": \"index\",\n      \"properties\": {\n        \"dtype\": \"number\",\n        \"std\": 363,\n        \"min\": 1,\n        \"max\": 1260,\n        \"num_unique_values\": 1259,\n        \"samples\": [\n          76,\n          1031,\n          44\n        ],\n        \"semantic_type\": \"\",\n        \"description\": \"\"\n      }\n    },\n    {\n      \"column\": \"date\",\n      \"properties\": {\n        \"dtype\": \"object\",\n        \"num_unique_values\": 663,\n        \"samples\": [\n          \"2022-02-07\",\n          \"2023-08-11\",\n          \"2023-03-29\"\n        ],\n        \"semantic_type\": \"\",\n        \"description\": \"\"\n      }\n    },\n    {\n      \"column\": \"title\",\n      \"properties\": {\n        \"dtype\": \"string\",\n        \"num_unique_values\": 1249,\n        \"samples\": [\n          \"[\\uacf5\\ud1b5][\\uad50\\ub0b4]2022\\ud559\\ub144\\ub3c4 2\\ud559\\uae30 \\uba74\\ud559\\uc7a5\\ud559\\uae08 \\uc2e0\\uccad \\uc548\\ub0b4\",\n          \"[\\uacf5\\ud1b5][\\uad50\\uc678] JB\\uc120\\ub3c4\\uc0ac\\uc5c5 \\uc721\\uc131\\ubc29\\uc548 \\ud0d0\\uad6c\\uc9c0\\uc6d0\\uc0ac\\uc5c5 \\ucc38\\uac00\\ud300 \\ubaa8\\uc9d1(~7/16)\",\n          \"[\\uacf5\\ud1b5][\\uad50\\uc678] \\uc678\\ubd80\\uc7a5\\ud559\\uc7ac\\ub2e8 \\uc7a5\\ud559\\uc0dd \\uc9c0\\uc6d0 \\uc804 \\uad6d\\uac00\\uc7a5\\ud559\\uae08 \\uc2e0\\uccad\"\n        ],\n        \"semantic_type\": \"\",\n        \"description\": \"\"\n      }\n    },\n    {\n      \"column\": \"content\",\n      \"properties\": {\n        \"dtype\": \"string\",\n        \"num_unique_values\": 1239,\n        \"samples\": [\n          \"\\n1.\\uad6d\\uac00\\uadfc\\ub85c\\uc7a5\\ud559\\uc0dd \\uc120\\ubc1c \\uacb0\\uacfc \\ud655\\uc778 \\uba54\\ub274: 2021. 8. 30(\\uc6d4)\\ubd80\\ud130 \\uc870\\ud68c \\uac00\\ub2a5(\\uc2dc\\uac04\\ud45c \\uc785\\ub825\\uc7409\\uc6d41\\uc77c \\uc790\\uc815\\ubd80\\ud130 \\uac00\\ub2a5\\ud558\\uba70 \\uadfc\\ub85c \\uc804 \\ud574\\ub2f9 \\uadfc\\ub85c\\uc9c0\\uc640 \\uc0ac\\uc804 \\uc870\\uc728 \\ud6c4 \\uadfc\\ub85c \\uc9c4\\ud589 \\ub2e8 \\uadfc\\ub85c \\uc804 \\ubc18\\ub4dc\\uc2dc \\uc2dc\\uac04\\ud45c \\uc785\\ub825 \\uc694\\uccad \\ub4dc\\ub9bc)\\ud55c\\uad6d\\uc7a5\\ud559\\uc7ac\\ub2e8\\uc0ac\\uc774\\ud2b8\\u25b6\\uc7a5\\ud559\\uae08\\u25b6\\uad6d\\uac00\\uadfc\\ub85c \\ubc0f \\ucde8\\uc5c5\\uc5f0\\uacc4 \\uc7a5\\ud559\\uae08\\u25b6\\uad6d\\uac00\\uadfc\\ub85c\\uc7a5\\ud559\\uae08\\u25b6\\uadfc\\ub85c\\uc7a5\\ud559\\uad00\\ub9ac\\u25b6\\ub300\\ud559\\uc790\\uccb4\\uc120\\ubc1c\\uae30\\uc900 \\ubc0f \\uc120\\ubc1c \\ud604\\ud669\\u25b62021\\ub1442\\ud559\\uae30 \\uadfc\\ub85c\\uc720\\ud615'\\ud559\\uae30\\uc911'\\uc73c\\ub85c \\uc120\\ud0dd \\ud6c4 \\uc870\\ud68c(\\uadfc\\ubb34\\uc9c4\\ud589=>\\uc120\\ubc1c)\\n\\uc120\\ubc1c\\uc790:\\uc120\\ubc1c \\uadfc\\ub85c\\uc9c0 \\ubc0f \\ud574\\ub2f9 \\uadfc\\ub85c\\uc9c0 \\ub2f4\\ub2f9\\uc790 \\uc5f0\\ub77d\\ucc98\\uac00 \\ud45c\\uae30\\ub4282.\\uc2dc\\ud589\\uae30\\uac04: 2021. 9. 1. ~ 2022. 2. 16.\\n\\uc0c1\\uae30 \\uae30\\uac04 \\ub0b4\\uc5d0\\uc11c \\uadfc\\ub85c\\uc9c0 \\ubc0f \\ud559\\uc0dd \\uc0c1\\ud669\\uc5d0 \\ub530\\ub978 \\uadfc\\ubb34\\uc2dc\\uc791 \\ubc0f \\uc885\\ub8cc\\uc77c \\uc870\\uc815 \\uac00\\ub2a53.\\uadfc\\ub85c\\uc870\\uac74\\uac00.\\uc2dc\\uae09:\\uad50\\ub0b4\\n 9,000\\uc6d0/\\uad50\\uc678\\n 11,150\\uc6d0\\ub098.\\ud559\\uae30\\uc911 \\ucd5c\\ub300 \\uadfc\\ub85c\\uac00\\ub2a5\\uc2dc\\uac04:\\uc77c8\\uc2dc\\uac04 \\uc774\\ub0b4/\\uc8fc20\\uc2dc\\uac04 \\uc774\\ub0b4/\\ud559\\uae30\\ub2f9 \\ucd5c\\ub300450\\uc2dc\\uac04 \\uc774\\ub0b4(20\\ub144\\ub3c4 \\ucd5c\\ub300 \\uc2dc\\uac04\\uc73c\\ub85c21\\ub144\\ub3c4 \\ucd5c\\ub300 \\uc2dc\\uac04 \\ubcc0\\ub3d9 \\uc2dc \\ubcc4\\ub3c4 \\uacf5\\uc9c0 \\ud568.)**\\ucf54\\ub85c\\ub098 \\uc0ac\\ud68c\\uc801 \\uac70\\ub9ac \\ub450\\uae30\\uc5d0 \\ub530\\ub978 \\uadfc\\ubb34\\uc2dc\\uac04\\uacfc \\uadfc\\ub85c\\ub294 \\ud574\\ub2f9 \\uae30\\uad00\\uc758 \\uc9c0\\uce68\\uc744 \\ub530\\ub984\\uc608\\ub97c \\ub4e4\\uba74)\\uad50\\ub0b4\\uadfc\\ub85c\\uc9c0\\ub294 \\ubcf8\\uad50 \\uc778\\uc0ac\\ud300\\uc758 \\ucd9c\\ud1f4\\uadfc \\uc2dc\\uac04\\uacfc \\uae30\\uac04 \\uc900\\uc218.\\uad50\\uc678 \\uadfc\\ub85c\\uc9c0 \\uc911 \\ub300\\uc0ac\\uad00 \\ubc0f \\uad6d\\uc81c\\ud611\\ub825\\uae30\\uad00\\uc758 \\uadfc\\ub85c \\ud615\\ud0dc\\uac00 \\uc7ac\\ud0dd\\uadfc\\ub85c\\uc2dc\\uc5d0\\ub294 \\uc7ac\\ud0dd\\uadfc\\ub85c \\uc2e0\\uccad\\uc11c\\ub97c \\ud55c\\uad6d\\uc678\\uad6d\\uc5b4\\ub300\\ud559\\uad50 \\uc7a5\\ud559\\ud300\\uc73c\\ub85c \\uadfc\\ub85c \\uc804 \\uc2b9\\uc778 \\ub4dd\\ud55c \\ud6c4 \\uc7ac\\ud0dd\\uadfc\\ub85c \\uc9c4\\ud589 \\uc774\\uc5d0 \\ub300\\ud55c \\ud55c\\uad6d\\uc7a5\\ud559\\uc7ac\\ub2e8 \\uad00\\ub9ac \\uc9c0\\uce68 \\ucc38\\uc870(\\ud559\\uc0dd\\uc740 \\uc7ac\\ud0dd\\uadfc\\ub85c \\uc77c\\uc77c\\uc5c5\\ubb34\\uc77c\\uc9c0 \\uc791\\uc131,\\uadfc\\ub85c\\uc9c0 \\uae30\\uad00\\uc740 \\ud574\\ub2f9 \\uc77c\\uc77c\\uc5c5\\ubb34\\uc77c\\uc9c0 \\uc218\\uae30\\ucd9c\\uadfc\\ubd80 \\uc5c5\\ub85c\\ub4dc)4.\\uad6d\\uac00\\uadfc\\ub85c\\uc7a5\\ud559\\uc0dd \\uc720\\uc758\\uc0ac\\ud56d\\uac00.\\ucca8\\ubd80\\uc758 \\uc54c\\ub9bc\\uc7a5 \\ubc0f \\uacf5\\uc9c0\\uc0ac\\ud56d(\\uc8fc\\uc694\\uc9c0\\uce68)\\ud544\\ub3c5(21\\ud559\\ub1441\\ud559\\uae30 \\uc790\\ub8cc)* \\uadfc\\ub85c \\ud559\\uc0dd\\uc740 \\ucd9c\\uadfc\\ubd80 \\ub2f9\\uc77c \\uc785\\ub825\\uc774 \\uc6d0\\uce59*\\ucd9c\\uadfc\\ubd803\\uc77c \\uc774\\ub0b4 \\ubbf8\\uc785\\ub825\\uc2dc \\ucd94\\uac00 \\uc785\\ub825\\uc774 \\uc808\\ub300 \\ubd88\\uac00\\ud558\\ubbc0\\ub85c(\\uc785\\ub825\\ub204\\ub77d \\uc0ac\\uc720\\uc11c \\uc81c\\ucd9c \\ud3d0\\uc9c0)\\ubc18\\ub4dc\\uc2dc3\\uc77c \\uc774\\ub0b4 \\ucd9c\\uadfc\\ubd80 \\uc785\\ub825\\ubc14\\ub78d\\ub2c8\\ub2e4.(\\uc774 \\uc0ac\\ud56d\\uc740 \\uadfc\\ub85c\\uc9c0 \\ub2f4\\ub2f9\\uc790 \\uc120\\uc0dd\\ub2d8\\uc758 \\uacbd\\uc6b0\\uc5d0 \\ud574\\ub2f9)(\\ucd9c\\uadfc\\ubd80 \\uc785\\ub825\\uac00\\ub2a5 \\uae30\\uac04 \\ubcc0\\uacbd: 5\\uc77c \\uc774\\ub0b4\\u25b63\\uc77c \\uc774\\ub0b4)\\ub098.\\uc810\\uc2ec\\uc2dc\\uac04\\uc740 \\uadfc\\ub85c\\uc2dc\\uac04 \\ubbf8\\ud3ec\\ud568(\\uad50\\ub0b4\\uadfc\\ub85c12~13\\uc2dc\\ub294 \\uc810\\uc2ec\\uc2dc\\uac04/\\uad50\\uc678\\uadfc\\ub85c\\uc9c0 \\uae30\\uad00\\ubcc4 \\uc0c1\\uc774)\\uc5f0\\uc18d\\uadfc\\ub85c\\uc2dc11\\uc2dc\\uc5d0\\uc11c14\\uc2dc \\uc0ac\\uc774 \\uc911\\uc5d0 \\ucd5c\\uc18c30\\ubd84 \\uc774\\uc0c1\\uc740 \\uc810\\uc2ec\\uc2dc\\uac04\\uc73c\\ub85c \\uc815\\ud558\\uc5ec \\uadfc\\ub85c \\uc2dc\\uac04\\uc5d0\\uc11c \\uc81c\\uc678\\ud560 \\uac83\\ub2e4.\\uc218\\uc5c5\\uc2dc\\uac04\\ud45c\\uc640 \\uc911\\ubcf5\\ub418\\ub294 \\uc2dc\\uac04\\uc5d0\\ub294 \\uc808\\ub300 \\uadfc\\ub85c\\ubd88\\uac00(\\uc784\\uc2dc \\ud734\\uac15\\uc2dc\\uac04\\uc5d0\\ub3c4 \\uadfc\\ub85c\\ubd88\\uac00\\u2013\\ud559\\uc0dd\\uc758 \\uc218\\uc5c5\\uc2dc\\uac04\\ud45c\\ub294 \\uad6d\\uac00\\uadfc\\ub85c\\uad00\\ub9ac \\ud3ec\\ud138(\\ud55c\\uad6d\\uc7a5\\ud559\\uc7ac\\ub2e8 \\ud648\\ud398\\uc774\\uc9c0www)\\uc5d0 \\ub4f1\\ub85d\\ud574\\uc57c \\ud558\\uba70,\\ud3ec\\ud138\\uc5d0 \\ub4f1\\ub85d\\ub41c \\uc218\\uc5c5\\uc2dc\\uac04\\uacfc \\uac19\\uc740 \\uc2dc\\uac04\\uc5d0\\ub294 \\uadfc\\ub85c \\uc785\\ub825\\uc774 \\ubd88\\uac00\\ud568)**\\ub300\\uc0ac\\uad00 \\ubc0f \\uad6d\\uc81c\\ud611\\ub825\\uae30\\uad00\\uc758 \\uc7ac\\ud0dd\\uadfc\\ub85c\\uc2dc\\uc5d0\\ub294 \\uc774\\uc5d0 \\ub300\\ud55c \\ub0b4\\uc6a9 \\uc0ac\\uc804 \\uc219\\uc9c0 \\uc694\\ud568\\ub77c. 2\\ud559\\uae30 \\uc815\\uaddc \\uc2dc\\uac04\\ud45c\\ub2949. 10(\\uae08)\\uae4c\\uc9c0 \\uc785\\ub825\\ub9c8.\\uc120\\ubc1c\\uae30\\uad00 \\ub2f4\\ub2f9\\uc790\\uc640 \\uac1c\\ubcc4\\uc801\\uc73c\\ub85c \\ud611\\uc758\\ud558\\uc5ec \\uadfc\\ub85c \\uc9c4\\ud589\\ubc14.\\uc7a5\\ud559\\ud300 \\uacf5\\uc9c0 \\ubc0f \\ud55c\\uad6d\\uc7a5\\ud559\\uc7ac\\ub2e8 \\ub9e4\\ub274\\uc5bc\\uc744 \\uc219\\uc9c0\\ud558\\uc9c0 \\uc54a\\uc544 \\ubc1c\\uc0dd\\ud558\\ub294 \\ubd88\\uc774\\uc775\\uc740 \\ud559\\uc0dd \\ubcf8\\uc778\\uc774 \\uac10\\uc218\\ud558\\uc5ec\\uc57c \\ud558\\ubbc0\\ub85c \\ucd9c\\uadfc\\ubd80 \\uad00\\ub9ac \\ubc0f \\uc81c\\ucd9c \\uad00\\ub828 \\uc0ac\\ud56d \\uaf3c\\uaf3c\\ud558\\uac8c \\ud655\\uc778\\ud560 \\uac83.\\uc0ac.\\uc120\\ubc1c\\uc790 \\uba85\\ub2e8 \\ub4f1 \\uc120\\ubc1c \\uacb0\\uacfc\\ub294 \\uac1c\\uc778\\uc815\\ubcf4\\ubcf4\\ud638 \\uad00\\ub828 \\ubbfc\\uc6d0 \\uad00\\uacc4\\ub85c \\uacf5\\uac1c\\uac00 \\ubd88\\uac00\\ud558\\uc5ec \\uac1c\\ubcc4 \\ud1b5\\ubcf4\\ud558\\uc624\\ub2c8 \\uc774\\uc810 \\uc591\\ud574\\ubc14\\ub78d\\ub2c8\\ub2e4.\\uc544.\\ube44\\ub300\\uba74/\\ub179\\ud654\\uac15\\uc758 \\ud559\\uc5c5\\uc2dc\\uac04\\ud45c\\uc5d0 \\uc2dc\\uac04\\uc774 \\ubc30\\uc815\\ub418\\uc5b4 \\uc788\\uc744 \\uacbd\\uc6b0 \\ud574\\ub2f9 \\uc2dc\\uac04 \\uadfc\\ub85c \\ubd88\\uac00.\\ubcf8\\uc778\\uc758 \\uc21c\\uc218 \\uacf5\\uac15\\uc2dc\\uac04\\ub9cc \\uadfc\\ub85c\\ub85c \\uc778\\uc815 \\ub429\\ub2c8\\ub2e4.\\ucc28.\\uadfc\\ub85c\\uc7a5\\ud559\\uc0dd\\ub4e4\\uc740 \\uadfc\\ub85c\\uc7a5\\ud559\\uc0dd \\uc0ac\\uc804 \\uc900\\ube44\\uc0ac\\ud56d\\uadfc\\ub85c\\ud559\\uc0dd:\\ud65c\\ub3d9 \\uc2dc\\uc791\\uc804 \\uc11c\\uc57d\\uc11c \\ub3d9\\uc758(\\ud55c\\uad6d\\uc7a5\\ud559\\uc7ac\\ub2e8 \\ubcc4\\ucca83),\\uc0ac\\uc774\\ubc84\\uc624\\ub9ac\\uc5d4\\ud14c\\uc774\\uc158\\uc218\\uac15,\\uad50\\uc218\\uc774\\uc218\\ubcf4\\uace0\\uc11c \\uc81c\\ucd9c \\ubc0f \\uc5c5\\ubb34\\uc2a4\\ucf00\\uc974 \\ub4f1\\ub85d \\ud544\\uc218(\\uadfc\\ub85c\\uc9c0\\uc640 \\uc870\\uc728 \\ud6c4)\\uadfc\\ub85c4\\uc77c \\ud6c4 \\uadfc\\ub85c\\uc9c0\\ud3c9\\uac00\\uadfc\\ub85c\\uc9c0 \\ub2f4\\ub2f9\\uc790:\\uad50\\uc721\\ub3d9\\uc601\\uc0c1 \\uc2dc\\uccad(\\ud55c\\uad6d\\uc7a5\\ud559\\uc7ac\\ub2e8 \\ud3ec\\ud138 \\ub85c\\uae34\\n>\\uad6d\\uac00\\uadfc\\ub85c\\uc7a5\\ud559\\uae08\\n>\\uad50\\uc721\\ub3d9\\uc601\\uc0c1*\\uadfc\\ub85c4\\uc77c \\uc774\\ub0b4 \\uadfc\\ub85c\\uc7a5\\ud559\\uc0dd\\ud3c9\\uac00 \\uc694\\ud568\\ubd99\\uc784\\uc758 \\uc54c\\ub9bc\\uc7a5 \\ubc0f \\uc548\\ub0b4\\uc0ac\\ud56d\\uc744 \\ubc18\\ub4dc\\uc2dc \\uc219\\uc9c0\\ud558\\uc2dc\\uae30 \\ubc14\\ub78d\\ub2c8\\ub2e4.\\uae30\\ud0c0 \\uad81\\uae08\\ud55c \\uc0ac\\ud56d\\uc740 \\uc5f0\\ub77d\\ubc14\\ub78d\\ub2c8\\ub2e4. <\\ucd5c\\uadfc \\ucf54\\ub85c\\ub098\\n19\\ubc14\\uc774\\ub7ec\\uc2a4 \\uad00\\ub828,\\ub2e4\\uc591\\ud55c \\ubb38\\uc758\\uac00 \\uc788\\uc2b5\\ub2c8\\ub2e4.>1.\\uadfc\\ub85c\\uc778\\uc815\\uc5ec\\ubd80\\n\\uadfc\\ub85c\\uc7a5\\ud559\\uc0dd\\uc740 \\ubc18\\ub4dc\\uc2dc \\uadfc\\ub85c\\uc9c0\\uad00\\ub9ac\\uc790(\\ub610\\ub294 \\ub2f4\\ub2f9\\uc790)\\uac00 \\uadfc\\ud0dc\\uad00\\ub9ac\\ud560 \\uc218 \\uc788\\uc73c\\uba70,\\ubc30\\uc815\\ub41c \\uadfc\\ub85c\\uc9c0\\uc5d0\\uc11c \\uadfc\\ub85c\\ud558\\uc5ec\\uc57c \\ud569\\ub2c8\\ub2e4.\\uc7ac\\ud0dd\\uadfc\\ubb34,\\uc628\\ub77c\\uc778 \\uadfc\\ub85c,\\uc6d0\\uaca9 \\uad00\\ub9ac \\ub4f1 \\uadfc\\ub85c\\uc7a5\\ud559\\uc0dd\\uc758 \\uadfc\\ud0dc\\uad00\\ub9ac\\uac00 \\ubd88\\uac00\\ub2a5\\ud55c \\uacbd\\uc6b0 \\uadfc\\ub85c\\uc2dc\\uac04 \\ubd88\\uc778\\uc815\\ub428\\uc744 \\uc548\\ub0b4\\ub4dc\\ub9bd\\ub2c8\\ub2e4.(\\ub2e8,\\ub300\\uc0ac\\uad00 \\ubc0f \\uad6d\\uc81c\\ud611\\ub825\\uae30\\uad00 \\uc608\\uc678)(\\uc608\\n\\uadfc\\ub85c\\uc9c0\\ub2f4\\ub2f9\\uc790\\uc758 \\uc7ac\\ud0dd\\uadfc\\ubb34,\\uadfc\\ub85c\\uc9c0 \\ud3d0\\uc1c4 \\ub4f1\\uc774 \\ubc1c\\uc0dd\\ud560 \\uacbd\\uc6b0 \\uad6d\\uac00\\uadfc\\ub85c\\uc7a5\\ud559\\uc0dd\\ub3c4 \\uadfc\\ub85c\\ubd88\\uac00.\\uad6d\\uac00\\uadfc\\ub85c\\uc7a5\\ud559\\uc0dd\\uc758 \\uc7ac\\ud0dd\\uadfc\\ubb34,\\uc628\\ub77c\\uc778 \\uadfc\\ub85c \\ub4f1 \\ubc30\\uc815\\ub41c \\uadfc\\ub85c\\uc9c0\\ub97c \\ubc97\\uc5b4\\ub098\\uc11c \\uadfc\\ub85c\\ubd88\\uac00.\\ub4f1)2.\\ucf54\\ub85c\\ub098\\n19\\ubc14\\uc774\\ub7ec\\uc2a4 \\uad00\\ub828 \\uc790\\uac00\\uaca9\\ub9ac\\uc790/\\uc720\\uc99d\\uc0c1\\uc790\\n\\ucf54\\ub85c\\ub098\\n19\\ubc14\\uc774\\ub7ec\\uc2a4 \\uad00\\ub828\\uc790\\uc758 \\uacbd\\uc6b0(\\uc790\\uac00\\uaca9\\ub9ac,\\uc720\\uc99d\\uc0c1 \\ub4f1)\\uc228\\uae30\\uc9c0 \\ub9c8\\uc2dc\\uace0 \\uc5f0\\ub77d\\ubc14\\ub78d\\ub2c8\\ub2e4.\\n\\uc790\\uac00\\uaca9\\ub9ac\\ub85c \\uc778\\ud558\\uc5ec \\uadfc\\ub85c\\ud558\\uc9c0 \\ubabb\\ud558\\uc600\\uc744 \\uacbd\\uc6b0 \\uc774\\uc5d0 \\ub300\\ud55c \\uadfc\\ub85c\\uc7a5\\ud559\\uae08\\uc740 \\uc9c0\\uae09\\ub418\\uc9c0 \\uc54a\\uc2b5\\ub2c8\\ub2e4.\\n\\ucf54\\ub85c\\ub098\\n19\\ubc14\\uc774\\ub7ec\\uc2a4 \\uad00\\ub828 \\uc99d\\uc0c1\\uc774 \\uc788\\uc744 \\uc2dc \\uc989\\uc2dc \\uc9c8\\ubcd1\\uad00\\ub9ac\\ubcf8\\ubd80 \\ucf5c\\uc13c\\ud1301339\\uc5d0 \\uc0c1\\ub2f4\\ubc14\\ub78d\\ub2c8\\ub2e4.3.\\uadfc\\ub85c\\uc2dc\\uc791\\uc77c \\uc900\\uc218\\uc5ec\\ubd80\\n\\uadfc\\ub85c\\uc2dc\\uc791\\uc77c\\uc740 \\ubc18\\ub4dc\\uc2dc \\ubaa8\\ub450\\uac00 \\ub3d9\\uc77c\\ud558\\uac8c \\uc2dc\\uc791\\ud558\\ub294 \\uac83\\uc774 \\uc544\\ub2d9\\ub2c8\\ub2e4.\\uadfc\\ub85c\\uc9c0\\uc640 \\ud559\\uc0dd \\uc0c1\\ud638 \\ud611\\uc758 \\ud558\\uc5d0 \\uc5f0\\uae30 \\uac00\\ub2a5\\ud558\\uc624\\ub2c8 \\ubc29\\ubb38\\uc790\\uac00 \\ub9ce\\uc740 \\uadfc\\ub85c\\uc9c0 \\ub4f1 \\uc704\\ud5d8\\uc694\\uc18c\\uac00 \\uc788\\ub2e4\\uace0 \\ud310\\ub2e8\\ub418\\ub294 \\uadfc\\ub85c\\uc9c0\\uc640 \\uc0ac\\uc804\\uc5d0 \\uc870\\uc728\\ubc14\\ub78d\\ub2c8\\ub2e4.4.\\ucf54\\ub85c\\ub098\\n19\\ubc14\\uc774\\ub7ec\\uc2a4 \\uc704\\ud5d8\\uc9c0\\uc5ed \\ubc29\\ubb38\\uc774\\ub825\\uc774 \\uc788\\ub294 \\ud559\\uc0dd\\n\\uadfc\\ub85c \\uc2dc\\uc791 \\uc804 \\ubc18\\ub4dc\\uc2dc \\uadfc\\ub85c\\uc9c0 \\ub2f4\\ub2f9\\uc790\\ub2d8\\uaed8 \\uc54c\\ub9ac\\uace0 \\uadfc\\ub85c \\uc9c4\\ud589 \\ud611\\uc758 \\ubc14\\ub78d\\ub2c8\\ub2e4.\\ubaa8\\ucabc\\ub85d \\uc608\\ubc29\\uc5d0 \\ud798\\uc368\\uc8fc\\uc2dc\\uae38 \\ubc14\\ub77c\\uba70,\\uc704\\uc640 \\uac19\\uc740 \\uc0c1\\ud669 \\ubc1c\\uc0dd \\uc2dc \\uc989\\uc2dc \\uc5f0\\ub77d\\ubc14\\ub78d\\ub2c8\\ub2e4.\\ubd99\\uc784:1. 2021\\n2\\uad6d\\uac00\\uadfc\\ub85c \\uc54c\\ub9bc\\uc7a5(\\uc548\\uc804\\uad50\\uc721\\uc790\\ub8cc \\ubc0f \\uad50\\uc721\\uc774\\uc218\\uc11c \\uc591\\uc2dd)\\uac011\\ubd80(21\\n1\\ud559\\uae30 \\ub0b4\\uc6a9 \\ub3d9\\uc77c)2.\\ud55c\\uad6d\\uc7a5\\ud559\\uc7ac\\ub2e8 \\uc7a5\\ud559\\uc0dd \\uac00\\uc774\\ub4dc\\ubd81(21\\n1\\ud559\\uae30 \\uc790\\ub8cc2\\ud559\\uae30\\uc640 \\ub3d9\\uc77c \\ud568.)\\n\",\n          \"\\n\\uc544\\ub798\\uc640 \\uac19\\uc774 2021\\n1\\ud559\\uae30 \\ubbf8\\ub798\\uc758 \\ub3d9\\ubc18\\uc790\\uc7ac\\ub2e8 \\uc2e0\\uaddc\\uc7a5\\ud559\\uc0dd \\ubaa8\\uc9d1\\uc548\\ub0b4\\ub97c \\ud558\\ub2c8 \\uc678\\ub300 \\ud559\\uc0dd\\ub4e4\\uc758 \\ub9ce\\uc740 \\uc9c0\\uc6d0 \\ubc14\\ub78d\\ub2c8\\ub2e4.\\n\\n \\uc544 \\ub798 \\n\\n1. \\uc7ac\\ub2e8\\uba85: \\ubbf8\\ub798\\uc758 \\ub3d9\\ubc18\\uc790\\uc7ac\\ub2e8\\n2. \\uc7a5\\ud559\\uae08\\uc561: \\ub4f1\\ub85d\\uae08 \\uc804\\uc561(\\ud0c0\\uc7a5\\ud559\\uae08\\uacfc \\uc911\\ubcf5\\uc218\\ud61c \\ubd88\\uac00)\\n3. \\uc9c0\\uc6d0\\uc790\\uaca9(\\uac00~\\ub77c\\ud56d\\ubaa9\\uc744 \\ubaa8\\ub450 \\ucda9\\uc871\\ud574\\uc57c \\ud568)\\n \\uac00.\\uc11c\\uc6b8\\ucea0\\ud37c\\uc2a4 \\uc7ac\\ud559\\uc0dd(\\ucd08\\uacfc\\ud559\\uae30, \\ud734\\ud559\\uc0dd \\ubc0f \\ud734\\ud559\\uc608\\uc815\\uc790\\uc9c0\\uc6d0\\ubd88\\uac00)\\n *\\ub4f1\\ub85d \\ud6c4 \\ud734\\ud559\\ud558\\ub294 \\ud559\\uc0dd\\uc740 \\uc790\\uaca9 \\uc0c1\\uc2e4 \\ub428.\\n \\ub098. \\uc778\\ubb38 \\ubc0f \\uc0c1\\uacbd\\uacc4\\uc5f4 \\uc81c1\\uc804\\uacf5\\uc790\\n \\ub2e4. 20\\n2\\ud559\\uae30 \\ud3c9\\uc810 \\ubc0f \\ubcf8\\uad50 \\uc804\\uccb4\\ud3c9\\uc810\\uc774 3.5/4.5 \\uc774\\uc0c1\\uc778 \\ud559\\uc0dd\\n \\ub77c. 20\\n2\\ud559\\uae30\\ud55c\\uad6d\\uc7a5\\ud559\\uc7ac\\ub2e8 \\uc0b0\\uc815 \\uae30\\uc900 \\uc18c\\ub4dd\\ubd84\\uc704 7\\ubd84\\uc704 \\uc774\\ud558\\uc778 \\ud559\\uc0dd\\n4. \\uc9c0\\uc6d0\\uc11c\\ub958\\n \\uac00. \\uc7a5\\ud559\\uae08 \\uc2e0\\uccad\\uc11c(\\ubd99\\uc784\\ud30c\\uc77c)\\n \\ub098. \\ubcf8\\uad50\\uc131\\uc801\\uc99d\\uba85\\uc11c \\uc6d0\\ubcf8 1\\ubd80\\n \\ub2e4. \\ubcf8\\uad50\\uc7ac\\ud559\\uc99d\\uba85\\uc11c \\uc6d0\\ubcf8 1\\ubd80\\n \\ub77c. \\ud55c\\uad6d\\uc7a5\\ud559\\uc7ac\\ub2e8 \\uc18c\\ub4dd\\ubd84\\uc704\\ud655\\uc778\\uc11c 1\\ubd80\\n \\ub9c8. \\uc8fc\\ubbfc\\ub4f1\\ub85d\\ub4f1\\ubcf8 1\\ubd80\\n5. \\uc81c\\ucd9c\\uae30\\uac04: 2021. 2. 4(\\ubaa9) \\uc624\\uc804 11\\uc2dc\\n6. \\uc81c\\ucd9c\\ucc98:\\ub4f1\\uae30\\uc6b0\\ud3b8 \\uc811\\uc218\\n02450  \\n \\ud55c\\uad6d\\uc678\\ub300\\uad6d\\uc81c\\ud559\\uc0ac 101\\ud638,\\uc7a5\\ud559\\ud300 \\n\\n7. \\uc720\\uc758\\uc0ac\\ud56d \\n \\uac00. \\uc7a5\\ud559\\uc0dd\\uc740 \\ud559\\uae30\\ub2f9 \\ucd5c\\uc18c 12\\ud559\\uc810 \\uc774\\uc0c1 \\uc2e0\\uccad\\ud574\\uc57c \\ud568\\n \\ub098. \\uc7ac\\ub2e8\\uc758 \\uc694\\uccad\\uc774 \\uc788\\uc744 \\uc2dc \\uc7ac\\ub2e8 \\ud589\\uc0ac\\uc5d0 \\ucc38\\uc11d\\ud574 \\ubcf8\\uc778\\uc758 \\uc218\\ud61c \\uc0ac\\ub840 \\ub4f1\\uc744 \\ubc1c\\ud45c\\ud560 \\uc218 \\uc788\\uc74c.\\n \\ub2e4. \\ud6c4\\uc6d0\\uae30\\uc5c5/\\ud6c4\\uc6d0\\uc778\\uc5d0\\uac8c \\ubcf4\\uace0\\uc790\\ub8cc\\ub85c \\uc0ac\\uc6a9\\ud560 \\uac10\\uc0ac\\ud3b8\\uc9c0(MS\\uc6cc\\ub4dc)\\uc640 \\uc7a5\\ud559\\uc99d\\uc11c \\uc804\\ub2ec\\uc2dd \\uc0ac\\uc9c4\\uc790\\ub8cc \\ub4f1\\uc744 \\uc81c\\ucd9c\\ud574\\uc57c \\ud568\\n\\n\",\n          \"\\n \\ucf54\\ub85c\\ub09819\\ub85c \\uc778\\ud55c \\ud2b9\\ubcc4\\uadfc\\ub85c \\uc7a5\\ud559\\uc0dd\\uc744 \\uc544\\ub798\\uc640 \\uac19\\uc774 \\ubaa8\\uc9d1\\ud558\\ub2c8 \\uad00\\uc2ec\\uc788\\ub294 \\ud559\\uc0dd\\ub4e4\\uc758 \\uc2e0\\uccad\\uc744 \\ubc14\\ub78d\\ub2c8\\ub2e4.\\n \\uc544    \\ub798 \\n1. \\uc2e0\\uccad \\uc790\\uaca9\\uac00. \\uc7ac\\ub2e8\\uc73c\\ub85c\\ubd80\\ud130 \\ud574\\ub2f9\\ud559\\uc0dd\\uc774\\ub77c\\ub294 \\ubb38\\uc790\\ub97c \\ubc1b\\uc740\\uc790\\ub098. \\uc7ac\\ub2e8\\uc73c\\ub85c\\ubd80\\ud130 \\ud574\\ub2f9\\ud559\\uc0dd\\uc774\\ub77c\\ub294 \\ubb38\\uc790\\ub97c \\ubc1b\\uc9c0 \\uc54a\\uc740\\uc790 \\uc911 \\uac00\\uacc4\\uac00\\ub9ce\\uc774\\uace4\\ub780\\ud558\\ub2e4\\uace0 \\uc0dd\\uac01\\ud558\\ub294 \\uc790\\n \\uc7ac\\ub2e8 \\ud648\\ud398\\uc774\\uc9c0\\uc5d0 \\uc811\\uc18d\\ud558\\uc5ec 2021\\ub144 4\\uc6d4 30(\\uae08) 18\\uc2dc \\uae4c\\uc9c0 \\uac01\\uc885 \\uac00\\uacc4\\uace4\\ub780\\uc744 \\uc99d\\uba85\\ud560 \\uc218 \\uc788\\ub294 \\uc11c\\ub958 \\uc5c5\\ub85c\\ub4dc \\ud560 \\uac83 \\uacf5\\ud1b5\\uc0ac\\ud56d : \\uc2e0\\uccad\\uc11c(\\ucca8\\ubd80\\uc11c\\ub958) \\uc791\\uc131\\ud558\\uc5ec 2021\\ub144 4\\uc6d4 30(\\uae08) 16\\uc2dc30\\ubd84 \\uae4c\\uc9c0 \\uae00\\ub85c\\ubc8c\\ucea0\\ud37c\\uc2a4 \\ud559\\uc0dd\\uc9c0\\uc6d0\\ud300\\uc5d0 \\uc9c1\\uc811 \\uc81c\\ucd9c \\ud560 \\uac83(\\ub2e8, \\uc6b0\\ud3b8 \\uc811\\uc218 \\uac00\\ub2a5\\ud558\\uba70 4\\uc6d430\\uc77c(\\uae08) \\uae4c\\uc9c0 \\ub3c4\\ucc29\\ud558\\uc5ec\\uc57c \\ud568)2. \\uc120\\ubc1c \\uae30\\uc900\\uac00. 0\\uc21c\\uc704 : \\uc7ac\\ub2e8\\uc73c\\ub85c\\ubd80\\ud130 \\ud574\\ub2f9\\ud559\\uc0dd\\uc774\\ub77c\\ub294 \\ubb38\\uc790\\ub97c \\ubc1b\\uc740 \\uc790(\\uc774 \\uacbd\\uc6b0\\ub3c4\\\"2\\n\\uac00\\\", \\\"2\\n\\ub098\\\", 2\\n\\ub2e4\\\" \\uae30\\uc900\\uc5d0 \\uc758\\ud574 \\uc120\\ubc1c\\ud568)\\ub098. 1\\uc21c\\uc704 : \\ubd80\\ubaa8\\uc758 \\uc2e4\\uc9c1 \\ubc0f \\ud3d0\\uc5c5\\ub2e4. 2\\uc21c\\uc704 : \\uc9c1\\uc804\\ud559\\uae30 \\ud559\\uc5c5\\uc131\\uc801\\ub77c. 3\\uc21c\\uc704 : \\uae30\\ud0c0 \\uac00\\uacc4 \\uace4\\ub780\\uc744 \\uc99d\\uba85\\ud560 \\uc218 \\uc788\\ub294 \\uac01\\uc885 \\uc11c\\ub9583. \\ucc38\\uace0\\uc0ac\\ud56d\\n \\ud3d0\\uc5c5 \\ubc0f \\uc2e4\\uc9c1 \\uc778\\uc815 \\uae30\\uac04 : 2020.01.20.~2021.04.30. \\n \\ubcf8\\uc778 \\ud3d0\\uc5c5 \\ubc0f \\uc2e4\\uc9c1 \\uc81c\\uc678\\n \\uc7a5\\ud559\\uae08 \\uc2dc\\uae09 : \\uad50\\ub0b4 9,000\\uc6d0 / \\uad50\\uc678 11,150\\uc6d0(\\uae30\\uc874 \\uad6d\\uac00\\uadfc\\ub85c\\uc7a5\\ud559\\uae08 \\uc2dc\\uae09\\uacfc \\ub3d9\\uc77c\\ud568)\\n \\uc120\\ubc1c \\ud655\\uc815 : 2021\\ub144 5\\uc6d4 \\uc911(\\uc7a5\\ud559 \\uacf5\\uc9c0 \\uc0ac\\ud56d \\ubc0f \\ubb38\\uc790 \\uba54\\uc2dc\\uc9c0\\ub85c \\uc548\\ub0b4 \\uc608\\uc815)\\n \\uadfc\\ubb34 \\uae30\\uac04 : 2021.05\\uc6d4(\\ub0a0\\uc9dc \\ubbf8\\uc815)~2021.09\\uc6d4.4. \\uc720\\uc758\\uc0ac\\ud56d(\\ucca8\\ubd80\\ub41c \\ub9e4\\ub274\\uc5bc \\ubc18\\ub4dc\\uc2dc \\uc219\\uc9c0\\ud560 \\uac83)\\n\\uad6d\\ubbfc\\uad8c\\uc775\\uc704\\uc6d0\\ud68c\\uc5d0\\uc11c \\uacf5\\uacf5\\uc7ac\\uc815 \\ubd80\\uc815\\uc218\\uae09 \\ubc29\\uc9c0\\ub97c \\uc704\\ud55c \\u300c\\uacf5\\uacf5\\uc7ac\\uc815\\ud658\\uc218\\ubc95\\u300d\\uc744 \\uc2dc\\ud589\\ud558\\uc600\\uc73c\\uba70 2020\\ub144 1\\uc6d4 1\\uc77c \\uc774\\ud6c4 \\ub300\\ud559\\uc0dd \\uadfc\\ub85c\\uc7a5\\ud559\\uc0ac\\uc5c5 \\uc7a5\\ud559\\uae08\\uc774 \\uc9c0\\uae09\\ub41c \\uc0ac\\ud56d\\uc5d0 \\uc801\\uc6a9\\ub418\\uc5c8\\uc2b5\\ub2c8\\ub2e4. \\uc774\\uc5d0 \\ub530\\ub77c \\ud5c8\\uc704\\uadfc\\ub85c \\ubc0f \\ub300\\ub9ac\\uadfc\\ub85c \\uc2dc \\ud658\\uc218\\uae08\\uc561(\\ubd80\\uc815\\uc774\\uc775+\\uc774\\uc790+\\uc81c\\uc7ac\\ubd80\\uac00\\uae08+\\uac00\\uc0b0\\uae08)\\uc774 \\ubc1c\\uc0dd\\ud558\\ubbc0\\ub85c \\uc7a5\\ud559\\uc0dd \\ubd80\\uc815\\uadfc\\ub85c\\uac00 \\ubc1c\\uc0dd\\ud558\\uc9c0 \\uc54a\\ub3c4\\ub85d \\uc720\\uc758\\ubc14\\ub78c.\\n\\uc218\\uc5c5\\uc2dc\\uac04\\ud45c\\uc640 \\uc911\\ubcf5\\ub41c \\uadfc\\ub85c\\uc2dc\\uac04\\uc5d0\\ub294 \\uc808\\ub300 \\uadfc\\ub85c \\ubd88\\uac00(\\ube44\\ub300\\uba74 \\uc218\\uc5c5 \\uc2dc\\uac04\\ub3c4 \\ub300\\uba74 \\uc218\\uc5c5\\uc2dc\\uac04\\uacfc \\ub3d9\\uc77c\\ud558\\uac8c \\uc801\\uc6a9\\ub418\\uba70 \\uc774\\ub97c \\uc5b4\\uae38 \\uacbd\\uc6b0 \\ubd80\\uc815\\uadfc\\ub85c\\ub85c \\uac04\\uc8fc\\ud568)\\n \\ud559\\uc801 \\uc0c1\\ud0dc\\uac00 \\uc7ac\\ud559\\uc5d0\\uc11c \\ud734\\ud559, \\uc790\\ud1f4, \\uc878\\uc5c5 \\ub4f1\\uc73c\\ub85c \\ubcc0\\ub3d9\\ub420 \\uacbd\\uc6b0 \\uadfc\\ub85c \\ubd88\\uac00 \\ud559\\uc801\\uc774 \\ubcc0\\ub3d9\\ub420 \\uacbd\\uc6b0 \\ubcc0\\ub3d9 \\ub2f9\\uc77c\\uc758 \\ud65c\\ub3d9\\uae4c\\uc9c0\\ub9cc \\uc778\\uc815 \\ud734\\ud559 \\uc2dc \\ud734\\ud559 \\uc77c\\uc790 \\uc774\\ud6c4 \\uadfc\\ub85c\\ub294 \\uc778\\uc815\\uc774 \\ub418\\uc9c0 \\uc54a\\uc2b5\\ub2c8\\ub2e4. \\uc790\\ud1f4 \\ubc0f \\uc81c\\uc801 \\uc2dc \\ud574\\ub2f9 \\uc77c\\uc790 \\uc774\\ud6c4 \\uadfc\\ub85c\\uac00 \\uc778\\uc815\\ub418\\uc9c0 \\uc54a\\uc2b5\\ub2c8\\ub2e4. \\ud574\\uc678 \\ucd9c\\uc785\\uad6d \\uae30\\uac04, \\ubcd1\\uc6d0\\uc9c4\\ub8cc \\uae30\\uac04, \\uc878\\uc5c5 \\ud6c4\\uc5d0\\ub294 \\uadfc\\ub85c\\uac00 \\uc778\\uc815\\ub418\\uc9c0 \\uc54a\\uc2b5\\ub2c8\\ub2e4. \\uadfc\\ub85c\\uac00 \\uc778\\uc815\\ub418\\uc9c0 \\uc54a\\ub294 \\uae30\\uac04\\uc5d0 \\uadfc\\ub85c\\uc7a5\\ud559\\uae08\\uc774 \\uc785\\uae08 \\ub418\\uc5c8\\uc744 \\uc2dc, \\ud658\\uc218 \\ucc98\\ub9ac\\ub429\\ub2c8\\ub2e4.5. \\ubb38\\uc758: \\ud559\\uc0dd\\uc9c0\\uc6d0\\ud300 \\uad6d\\uac00\\uadfc\\ub85c \\ub2f4\\ub2f9)\\ubd99\\uc784 1. \\ud2b9\\ubcc4\\uadfc\\ub85c\\uc7a5\\ud559\\uae08 \\ud559\\uc0dd \\uc2e0\\uccad \\ub9e4\\ub274\\uc5bc(\\ud55c\\uad6d\\uc7a5\\ud559\\uc7ac\\ub2e8)2. \\ucf54\\ub85c\\ub09819 \\ud2b9\\ubcc4\\uad6d\\uac00\\uadfc\\ub85c\\uc7a5\\ud559\\uae08 \\uc2e0\\uccad\\uc11c(\\ud559\\uc0dd\\uc9c0\\uc6d0\\ud300)  26\\ud559\\uc0dd\\uc9c0\\uc6d0\\ud300(\\uae00\\ub85c\\ubc8c) \\n\"\n        ],\n        \"semantic_type\": \"\",\n        \"description\": \"\"\n      }\n    }\n  ]\n}"
            }
          },
          "metadata": {},
          "execution_count": 12
        }
      ]
    },
    {
      "cell_type": "code",
      "source": [
        "# 전처리 함수 적용 - 공지\n",
        "gongji['content'] = gongji['content'].apply(preprocess)"
      ],
      "metadata": {
        "id": "A-DJSx5TyITY"
      },
      "execution_count": 13,
      "outputs": []
    },
    {
      "cell_type": "code",
      "source": [
        "# 전처리 함수 적용 - 학사\n",
        "haksa['content'] = haksa['content'].apply(preprocess)"
      ],
      "metadata": {
        "id": "xt2ZIbQExt98"
      },
      "execution_count": 14,
      "outputs": []
    },
    {
      "cell_type": "code",
      "source": [
        "# 전처리 함수 적용 - 채용\n",
        "hire['content'] = hire['content'].apply(preprocess)"
      ],
      "metadata": {
        "id": "shf3bLdtxGD5"
      },
      "execution_count": 15,
      "outputs": []
    },
    {
      "cell_type": "markdown",
      "source": [
        "# textrank"
      ],
      "metadata": {
        "id": "JsRQX1LMEl0w"
      }
    },
    {
      "cell_type": "code",
      "source": [
        "# 패키지 인스톨\n",
        "!pip install git+https://github.com/lovit/textrank.git"
      ],
      "metadata": {
        "colab": {
          "base_uri": "https://localhost:8080/"
        },
        "id": "3jwHZl7SnDn1",
        "outputId": "5ae12b9a-d718-4da6-e203-2e52c8811bfc"
      },
      "execution_count": 16,
      "outputs": [
        {
          "output_type": "stream",
          "name": "stdout",
          "text": [
            "Collecting git+https://github.com/lovit/textrank.git\n",
            "  Cloning https://github.com/lovit/textrank.git to /tmp/pip-req-build-piiu6n4g\n",
            "  Running command git clone --filter=blob:none --quiet https://github.com/lovit/textrank.git /tmp/pip-req-build-piiu6n4g\n",
            "  Resolved https://github.com/lovit/textrank.git to commit 578c7fbbb22b24561b1bd4bab9a9ecc2dc9515e1\n",
            "  Preparing metadata (setup.py) ... \u001b[?25l\u001b[?25hdone\n",
            "Building wheels for collected packages: textrank\n",
            "  Building wheel for textrank (setup.py) ... \u001b[?25l\u001b[?25hdone\n",
            "  Created wheel for textrank: filename=textrank-0.1.2-py3-none-any.whl size=11142 sha256=1df4fa1d28635a72ca339fb25e58db796f73095d63e39b6304774e59a9646169\n",
            "  Stored in directory: /tmp/pip-ephem-wheel-cache-lp6i5_sl/wheels/8d/d1/ef/7c6abc0d5bbb64f01bd86b0ad967911d4b7f21bb44813b3239\n",
            "Successfully built textrank\n",
            "Installing collected packages: textrank\n",
            "Successfully installed textrank-0.1.2\n"
          ]
        }
      ]
    },
    {
      "cell_type": "code",
      "source": [
        "# 깃 클론\n",
        "!git clone https://github.com/lovit/textrank.git"
      ],
      "metadata": {
        "colab": {
          "base_uri": "https://localhost:8080/"
        },
        "id": "U8J1wOzaEwH9",
        "outputId": "6527aeb3-3a09-4abc-9655-c6c94940faf0"
      },
      "execution_count": 17,
      "outputs": [
        {
          "output_type": "stream",
          "name": "stdout",
          "text": [
            "Cloning into 'textrank'...\n",
            "remote: Enumerating objects: 232, done.\u001b[K\n",
            "remote: Counting objects: 100% (7/7), done.\u001b[K\n",
            "remote: Compressing objects: 100% (7/7), done.\u001b[K\n",
            "remote: Total 232 (delta 1), reused 1 (delta 0), pack-reused 225\u001b[K\n",
            "Receiving objects: 100% (232/232), 1.21 MiB | 1.91 MiB/s, done.\n",
            "Resolving deltas: 100% (133/133), done.\n"
          ]
        }
      ]
    },
    {
      "cell_type": "code",
      "source": [
        "# 해당 디렉토리로 이동\n",
        "%cd textrank"
      ],
      "metadata": {
        "colab": {
          "base_uri": "https://localhost:8080/"
        },
        "id": "13MVILi1IXsm",
        "outputId": "2459e5dc-8305-4c93-c832-a3f4bc6d7899"
      },
      "execution_count": 18,
      "outputs": [
        {
          "output_type": "stream",
          "name": "stdout",
          "text": [
            "/content/textrank\n"
          ]
        }
      ]
    },
    {
      "cell_type": "code",
      "source": [
        "# 이제 리포지토리의 코드를 사용할 수 있습니다.\n",
        "from textrank import KeywordSummarizer, KeysentenceSummarizer\n",
        "\n",
        "# 예시 코드\n",
        "def example_tokenize(sentence):\n",
        "    return sentence.split()"
      ],
      "metadata": {
        "id": "GSxY4t2QIhep"
      },
      "execution_count": 19,
      "outputs": []
    },
    {
      "cell_type": "markdown",
      "source": [
        "# Okt"
      ],
      "metadata": {
        "id": "Jfx2a8RFKqDe"
      }
    },
    {
      "cell_type": "code",
      "source": [
        "!pip install konlpy"
      ],
      "metadata": {
        "colab": {
          "base_uri": "https://localhost:8080/"
        },
        "id": "3lm5YpA4Bbvl",
        "outputId": "32ea4d12-2a4d-4e0e-9201-9fb9e2d0cbcf"
      },
      "execution_count": 20,
      "outputs": [
        {
          "output_type": "stream",
          "name": "stdout",
          "text": [
            "Collecting konlpy\n",
            "  Downloading konlpy-0.6.0-py2.py3-none-any.whl (19.4 MB)\n",
            "\u001b[2K     \u001b[90m━━━━━━━━━━━━━━━━━━━━━━━━━━━━━━━━━━━━━━━━\u001b[0m \u001b[32m19.4/19.4 MB\u001b[0m \u001b[31m60.0 MB/s\u001b[0m eta \u001b[36m0:00:00\u001b[0m\n",
            "\u001b[?25hCollecting JPype1>=0.7.0 (from konlpy)\n",
            "  Downloading JPype1-1.5.0-cp310-cp310-manylinux_2_17_x86_64.manylinux2014_x86_64.whl (488 kB)\n",
            "\u001b[2K     \u001b[90m━━━━━━━━━━━━━━━━━━━━━━━━━━━━━━━━━━━━━━━━\u001b[0m \u001b[32m488.6/488.6 kB\u001b[0m \u001b[31m46.8 MB/s\u001b[0m eta \u001b[36m0:00:00\u001b[0m\n",
            "\u001b[?25hRequirement already satisfied: lxml>=4.1.0 in /usr/local/lib/python3.10/dist-packages (from konlpy) (4.9.4)\n",
            "Requirement already satisfied: numpy>=1.6 in /usr/local/lib/python3.10/dist-packages (from konlpy) (1.25.2)\n",
            "Requirement already satisfied: packaging in /usr/local/lib/python3.10/dist-packages (from JPype1>=0.7.0->konlpy) (24.0)\n",
            "Installing collected packages: JPype1, konlpy\n",
            "Successfully installed JPype1-1.5.0 konlpy-0.6.0\n"
          ]
        }
      ]
    },
    {
      "cell_type": "code",
      "source": [
        "import re"
      ],
      "metadata": {
        "id": "LLFnnf5DCiR2"
      },
      "execution_count": 21,
      "outputs": []
    },
    {
      "cell_type": "code",
      "execution_count": 22,
      "metadata": {
        "id": "iIUfSrihjtbO"
      },
      "outputs": [],
      "source": [
        "# 한국어 불용어 리스트\n",
        "ko_stop_words = ['가', '가까스로', '가령', '각', '각각', '각자', '각종', '갖고말하자면', '같다', '같이', '개의치않고', '거니와', '거바', '거의', '것', '것과 같이', '것들', '게다가',\n",
        "                 '게우다', '겨우', '견지에서', '결과에 이르다', '결국', '결론을 낼 수 있다', '겸사겸사', '고려하면', '고로', '곧', '공동으로', '과', '과연', '관계가 있다', '관계없이',\n",
        "                 '관련이 있다', '관하여', '관한', '관해서는', '구', '구체적으로', '구토하다', '그', '그들', '그때', '그래', '그래도', '그래서', '그러나', '그러니', '그러니까', '그러면',\n",
        "                 '그러므로', '그러한즉', '그런 까닭에', '그런데', '그런즉', '그럼', '그럼에도 불구하고', '그렇게 함으로써', '그렇지', '그렇지 않다면', '그렇지 않으면', '그렇지만',\n",
        "                 '그렇지않으면', '그리고', '그리하여', '그만이다', '그에 따르는', '그위에', '그저', '그중에서', '그치지 않다', '근거로', '근거하여', '기대여', '기점으로', '기준으로',\n",
        "                 '기타', '까닭으로', '까악', '까지', '까지 미치다', '까지도', '꽈당', '끙끙', '끼익', '나', '나머지는', '남들', '남짓', '너', '너희', '너희들', '네', '넷', '년',\n",
        "                 '논하지 않다', '놀라다', '누가 알겠는가', '누구', '다른', '다른 방면으로', '다만', '다섯', '다소', '다수', '다시 말하자면', '다시말하면', '다음', '다음에', '다음으로',\n",
        "                 '단지', '답다', '당신', '당장', '대로 하다', '대하면', '대하여', '대해 말하자면', '대해서', '댕그', '더구나', '더군다나', '더라도', '더불어', '더욱더', '더욱이는',\n",
        "                 '도달하다', '도착하다', '동시에', '동안', '된바에야', '된이상', '두번째로', '둘', '둥둥', '뒤따라', '뒤이어', '든간에', '들', '등', '등등', '딩동', '따라', '따라서',\n",
        "                 '따위', '따지지 않다', '딱', '때', '때가 되어', '때문에', '또', '또한', '뚝뚝', '라 해도', '령', '로', '로 인하여', '로부터', '로써', '륙', '를', '마음대로', '마저',\n",
        "                 '마저도', '마치', '막론하고', '만 못하다', '만약', '만약에', '만은 아니다', '만이 아니다', '만일', '만큼', '말하자면', '말할것도 없고', '매', '매번', '메쓰겁다', '몇',\n",
        "                 '모', '모두', '무렵', '무릎쓰고', '무슨', '무엇', '무엇때문에', '물론', '및', '바꾸어말하면', '바꾸어말하자면', '바꾸어서 말하면', '바꾸어서 한다면', '바꿔 말하면',\n",
        "                 '바로', '바와같이', '밖에 안된다', '반대로', '반대로 말하자면', '반드시', '버금', '보는데서', '보다더', '보드득', '본대로', '봐', '봐라', '부류의 사람들', '부터',\n",
        "                 '불구하고', '불문하고', '붕붕', '비걱거리다', '비교적', '비길수 없다', '비로소', '비록', '비슷하다', '비추어 보아', '비하면', '뿐만 아니라', '뿐만아니라', '뿐이다',\n",
        "                 '삐걱', '삐걱거리다', '사', '삼', '상대적으로 말하자면', '생각한대로', '설령', '설마', '설사', '셋', '소생', '소인', '솨', '쉿', '습니까', '습니다', '시각', '시간',\n",
        "                 '시작하여', '시초에', '시키다', '실로', '심지어', '아', '아니', '아니나다를가', '아니라면', '아니면', '아니었다면', '아래윗', '아무거나', '아무도', '아야', '아울러',\n",
        "                 '아이', '아이고', '아이구', '아이야', '아이쿠', '아하', '아홉', '안 그러면', '않기 위하여', '않기 위해서', '알 수 있다', '알았어', '앗', '앞에서', '앞의것', '야',\n",
        "                 '약간', '양자', '어', '어기여차', '어느', '어느 년도', '어느것', '어느곳', '어느때', '어느쪽', '어느해', '어디', '어때', '어떠한', '어떤', '어떤것', '어떤것들', '어떻게',\n",
        "                 '어떻해', '어이', '어째서', '어쨋든', '어쩔수 없다', '어찌', '어찌됏든', '어찌됏어', '어찌하든지', '어찌하여', '언제', '언젠가', '얼마', '얼마 안 되는 것', '얼마간',\n",
        "                 '얼마나', '얼마든지', '얼마만큼', '얼마큼', '엉엉', '에', '에 가서', '에 달려 있다', '에 대해', '에 있다', '에 한하다', '에게', '에서', '여', '여기', '여덟', '여러분',\n",
        "                 '여보시오', '여부', '여섯', '여전히', '여차', '연관되다', '연이서', '영', '영차', '옆사람', '예', '예를 들면', '예를 들자면', '예컨대', '예하면', '오', '오로지',\n",
        "                 '오르다', '오자마자', '오직', '오호', '오히려', '와', '와 같은 사람들', '와르르', '와아', '왜', '왜냐하면', '외에도', '요만큼', '요만한 것', '요만한걸', '요컨대',\n",
        "                 '우르르', '우리', '우리들', '우선', '우에 종합한것과같이', '운운', '월', '위에서 서술한바와같이', '위하여', '위해서', '윙윙', '육', '으로', '으로 인하여', '으로부터',\n",
        "                 '으로써', '을', '응', '응당', '의', '의거하여', '의지하여', '의해', '의해되다', '의해서', '이', '이 되다', '이 때문에', '이 밖에', '이 외에', '이 정도의', '이것', '이곳',\n",
        "                 '이때', '이라면', '이래', '이러이러하다', '이러한', '이런', '이럴정도로', '이렇게 많은 것', '이렇게되면', '이렇게말하자면', '이렇구나', '이로 인하여', '이르기까지',\n",
        "                 '이리하여', '이만큼', '이번', '이봐', '이상', '이어서', '이었다', '이와 같다', '이와 같은', '이와 반대로', '이와같다면', '이외에도', '이용하여', '이유만으로', '이젠',\n",
        "                 '이지만', '이쪽', '이천구', '이천육', '이천칠', '이천팔', '인 듯하다', '인젠', '일', '일것이다', '일곱', '일단', '일때', '일반적으로', '일지라도', '임에 틀림없다',\n",
        "                 '입각하여', '입장에서', '잇따라', '있다', '자', '자기', '자기집', '자마자', '자신', '잠깐', '잠시', '저', '저것', '저것만큼', '저기', '저쪽', '저희', '전부', '전자',\n",
        "                 '전후', '점에서 보아', '정도에 이르다', '제', '제각기', '제외하고', '조금', '조차', '조차도', '졸졸', '좀', '좋아', '좍좍', '주룩주룩', '주저하지 않고', '줄은 몰랏다',\n",
        "                 '줄은모른다', '중에서', '중의하나', '즈음하여', '즉', '즉시', '지든지', '지만', '지말고', '진짜로', '쪽으로', '차라리', '참', '참나', '첫번째로', '쳇', '총적으로',\n",
        "                 '총적으로 말하면', '총적으로 보면', '칠', '콸콸', '쾅쾅', '쿵', '타다', '타인', '탕탕', '토하다', '통하여', '툭', '퉤', '틈타', '팍', '팔', '퍽', '펄렁', '하',\n",
        "                 '하게될것이다', '하게하다', '하겠는가', '하고 있다', '하고있었다', '하곤하였다', '하구나', '하기 때문에', '하기 위하여', '하기는한데', '하기만 하면', '하기보다는',\n",
        "                 '하기에', '하나', '하느니', '하는 김에', '하는 편이 낫다', '하는것도', '하는것만 못하다', '하는것이 낫다', '하는바', '하더라도', '하도다', '하도록시키다', '하도록하다',\n",
        "                 '하든지', '하려고하다', '하마터면', '하면 할수록', '하면된다', '하면서', '하물며', '하여금', '하여야', '하자마자', '하지 않는다면', '하지 않도록', '하지마', '하지마라',\n",
        "                 '하지만', '하하', '한 까닭에', '한 이유는', '한 후', '한다면', '한다면 몰라도', '한데', '한마디', '한적이있다', '한켠으로는', '한항목', '할 따름이다', '할 생각이다',\n",
        "                 '할 줄 안다', '할 지경이다', '할 힘이 있다', '할때', '할만하다', '할망정', '할뿐', '할수있다', '할수있어', '할줄알다', '할지라도', '할지언정', '함께', '해도된다',\n",
        "                 '해도좋다', '해봐요', '해서는 안된다', '해야한다', '해요', '했어요', '향하다', '향하여', '향해서', '허', '허걱', '허허', '헉', '헉헉', '헐떡헐떡', '형식으로 쓰여',\n",
        "                 '혹시', '혹은', '혼자', '훨씬', '휘익', '휴', '흐흐', '흥', '힘입어', '안녕하십니까', '아니다', '어렵다', '간단하다', '적절하다']"
      ]
    },
    {
      "cell_type": "code",
      "source": [
        "from konlpy.tag import Okt\n",
        "\n",
        "okt = Okt()\n",
        "\n",
        "def okt_tokenize(sent):\n",
        "    words = okt.pos(sent, join=True)\n",
        "    words = [w for w in words if ('/Noun' in w or '/Adjective' in w or '/Verb' in w)]\n",
        "    words = [w for w in words if w.split('/')[0] not in ko_stop_words]\n",
        "    return words"
      ],
      "metadata": {
        "id": "qmeDuQYnL73Z"
      },
      "execution_count": 23,
      "outputs": []
    },
    {
      "cell_type": "code",
      "source": [
        "print(okt.morphs(\"한국외국어대학교에서 안내 드립니다. 한국외대에서도 안내 합니다. 프랑스어학부에서 이중전공의 2학기 수강신청은 취소되었습니다.\", stem = True))"
      ],
      "metadata": {
        "colab": {
          "base_uri": "https://localhost:8080/"
        },
        "id": "8DPd7y1n24Rh",
        "outputId": "6e117e35-98e4-4724-bc4e-364d0b25b4b8"
      },
      "execution_count": 24,
      "outputs": [
        {
          "output_type": "stream",
          "name": "stdout",
          "text": [
            "['한국', '외국어', '대학교', '에서', '안내', '드리다', '.', '한', '국외', '대', '에서도', '안내', '하다', '.', '프랑스어', '학부', '에서', '이중', '전공', '의', '2', '학기', '수강신청', '은', '취소', '되어다', '.']\n"
          ]
        }
      ]
    },
    {
      "cell_type": "code",
      "source": [
        "# 'janghak' n째 행 'content' 추출\n",
        "str4 = janghak.loc[0, 'content']\n",
        "print(str4)\n",
        "print()"
      ],
      "metadata": {
        "id": "mL7l3qm63fZU",
        "colab": {
          "base_uri": "https://localhost:8080/"
        },
        "outputId": "44f2caa9-26f6-4410-bd75-90fb95c3d3b8"
      },
      "execution_count": 25,
      "outputs": [
        {
          "output_type": "stream",
          "name": "stdout",
          "text": [
            "\n",
            "[공통][교외] 2020\n",
            "1학기 남정장학재단 장학생 모집 안내(~1/10)아래와 같이 2020\n",
            "1학기 남정장학재단 신규장학생 모집 안내를 하니 관심있는 학생들의 많은 지원 바랍니다.\n",
            " 아 래 \n",
            "1. 재단명: 남정장학재단2. 장학금액: 1학기 당 250만원(지원자격 충족시 8학기 까지)3. 지원자격가. 2020\n",
            "1학기 재학생(8학기 이내)나. 직전 학기 및 전체평점 3.5/4.5 이상인 학생다. 등록금 범위 내 지급 가능한 장학금임(부모의 회사에서 지급하는 자녀 학자금을 받고 있는 자는 지원 불가)(** 선발 분아 : 인문. 사회계열)4. 제출서류가. 장학생 신청서(붙임파일 참조, 남정장학재단 홈페이지 다운로드 가능)나. 장학생 추천서(붙임파일 참조, 남정장학재단 홈페이지 다운로드 가능, 추천소견 및 총장 직인공란으로 두고본인 작성 부분만 작성 후 제출)다. 성적증명서(2019\n",
            "2학기 성적 포함, 1월 7일 이후 발급 시 2학기 성적 반영)라. 자기소개서: 전공분야 학습계획과 졸업 후 진로계획을 중심으로 작성(자유양식, A4 2 페이지 이내)마. 주민등록등본(개인정보보호 위하여 뒷자리 *** 표시, 부모님과 거주지가 다른 경우 본인 및 부모님 각 1통 씩)5. 가계 곤란 증명서류가. 기초생활 수급권자: 수급자 증명서나. 차상위 계층으로 모자가정/부자가정: 주민센터 발행 한부모가정 증명서다. 가. 나에 해당되지 않는 자는 다음의 서류 모두 준비 바랍니다.1) 재산세 납세증명서(2018, 2019년) : 지방세 세목별 과세증명서 부, 모 각 1통(납부분 없을 경우, 납부분 없음 기재하여 발급 요청)2) 건강보험료 납부확인서(2018, 2019년) : 부, 모 각 1통(한 분만 납부하실 경우, 건강보험증 사본 또는 건강보험 자격확인서 함께 제출 요망)3) 소득세관련서류가) 소득세 과세자 중 급여 생활자의 경우: 근로소득 원천징수 영수증 부,모 각 1통(근무처 발행)나) 소득세 과세자 중 자영업자 등의 경우: 소득금액증명원 부,모 각 1통(세무서 발행)다) 소득세 미과세 자인 경우: 비사업자 사실증명 부,모 각 1통(세무서 발행)6. 기타서류: 해당되는 자에 한해 추가적으로 제출 가능함.\n",
            " 입상경력증명서 : 본인의 경력사항과 각종 대회 수상 내역을 증빙할 수 있는 서류(Ex. 어학성적사본, 전국대회 입상경력증명서 등)\n",
            " 자원봉사활동내역 확인서\n",
            " 심신장애증명서, 장애인 등록수첩 사본, 장애인 카드 사본(본인, 직계가족)\n",
            " 직계가족의 장기입원 및 요양 시 병원에서 발급하는 입원확인 증명원 또는 진단서\n",
            " 파산선고 결정문 및 경매(등기부등본) 증명(법원 발행)\n",
            " 전월세 임대차계약서 사본7. 제출기한: 1. 10(금) 14:00 까지8. 제출 및 문의처가. 서울캠퍼스 재학생: 국제학사 101호 장학팀나. 글로벌캠퍼스 재학생: 학생회관 108호 학생지원팀)2020. 1.서울/글로벌캠퍼스 학생.인재개발처장\n",
            "\n",
            "\n"
          ]
        }
      ]
    },
    {
      "cell_type": "code",
      "source": [
        "# 줄바꿈을 기준으로 문자열 분리하여 리스트에 저장\n",
        "# sents = str4.split('\\n')\n",
        "sents = re.split(r'[.\\n]+', str4)\n",
        "print(type(sents), sents)"
      ],
      "metadata": {
        "id": "vlmo3e5o3fZU",
        "colab": {
          "base_uri": "https://localhost:8080/"
        },
        "outputId": "f2e9f411-6e68-404f-c54b-78ab50a7cecd"
      },
      "execution_count": 26,
      "outputs": [
        {
          "output_type": "stream",
          "name": "stdout",
          "text": [
            "<class 'list'> ['', '[공통][교외] 2020', '1학기 남정장학재단 장학생 모집 안내(~1/10)아래와 같이 2020', '1학기 남정장학재단 신규장학생 모집 안내를 하니 관심있는 학생들의 많은 지원 바랍니다', ' 아 래 ', '1', ' 재단명: 남정장학재단2', ' 장학금액: 1학기 당 250만원(지원자격 충족시 8학기 까지)3', ' 지원자격가', ' 2020', '1학기 재학생(8학기 이내)나', ' 직전 학기 및 전체평점 3', '5/4', '5 이상인 학생다', ' 등록금 범위 내 지급 가능한 장학금임(부모의 회사에서 지급하는 자녀 학자금을 받고 있는 자는 지원 불가)(** 선발 분아 : 인문', ' 사회계열)4', ' 제출서류가', ' 장학생 신청서(붙임파일 참조, 남정장학재단 홈페이지 다운로드 가능)나', ' 장학생 추천서(붙임파일 참조, 남정장학재단 홈페이지 다운로드 가능, 추천소견 및 총장 직인공란으로 두고본인 작성 부분만 작성 후 제출)다', ' 성적증명서(2019', '2학기 성적 포함, 1월 7일 이후 발급 시 2학기 성적 반영)라', ' 자기소개서: 전공분야 학습계획과 졸업 후 진로계획을 중심으로 작성(자유양식, A4 2 페이지 이내)마', ' 주민등록등본(개인정보보호 위하여 뒷자리 *** 표시, 부모님과 거주지가 다른 경우 본인 및 부모님 각 1통 씩)5', ' 가계 곤란 증명서류가', ' 기초생활 수급권자: 수급자 증명서나', ' 차상위 계층으로 모자가정/부자가정: 주민센터 발행 한부모가정 증명서다', ' 가', ' 나에 해당되지 않는 자는 다음의 서류 모두 준비 바랍니다', '1) 재산세 납세증명서(2018, 2019년) : 지방세 세목별 과세증명서 부, 모 각 1통(납부분 없을 경우, 납부분 없음 기재하여 발급 요청)2) 건강보험료 납부확인서(2018, 2019년) : 부, 모 각 1통(한 분만 납부하실 경우, 건강보험증 사본 또는 건강보험 자격확인서 함께 제출 요망)3) 소득세관련서류가) 소득세 과세자 중 급여 생활자의 경우: 근로소득 원천징수 영수증 부,모 각 1통(근무처 발행)나) 소득세 과세자 중 자영업자 등의 경우: 소득금액증명원 부,모 각 1통(세무서 발행)다) 소득세 미과세 자인 경우: 비사업자 사실증명 부,모 각 1통(세무서 발행)6', ' 기타서류: 해당되는 자에 한해 추가적으로 제출 가능함', ' 입상경력증명서 : 본인의 경력사항과 각종 대회 수상 내역을 증빙할 수 있는 서류(Ex', ' 어학성적사본, 전국대회 입상경력증명서 등)', ' 자원봉사활동내역 확인서', ' 심신장애증명서, 장애인 등록수첩 사본, 장애인 카드 사본(본인, 직계가족)', ' 직계가족의 장기입원 및 요양 시 병원에서 발급하는 입원확인 증명원 또는 진단서', ' 파산선고 결정문 및 경매(등기부등본) 증명(법원 발행)', ' 전월세 임대차계약서 사본7', ' 제출기한: 1', ' 10(금) 14:00 까지8', ' 제출 및 문의처가', ' 서울캠퍼스 재학생: 국제학사 101호 장학팀나', ' 글로벌캠퍼스 재학생: 학생회관 108호 학생지원팀)2020', ' 1', '서울/글로벌캠퍼스 학생', '인재개발처장', '']\n"
          ]
        }
      ]
    },
    {
      "cell_type": "code",
      "source": [
        "# 빈 문자열 제거\n",
        "sents = list(filter(None, sents))\n",
        "print(sents)"
      ],
      "metadata": {
        "id": "V-YN4DdD3fZU",
        "colab": {
          "base_uri": "https://localhost:8080/"
        },
        "outputId": "8a541df6-7846-46aa-87a4-c5474d9f9559"
      },
      "execution_count": 27,
      "outputs": [
        {
          "output_type": "stream",
          "name": "stdout",
          "text": [
            "['[공통][교외] 2020', '1학기 남정장학재단 장학생 모집 안내(~1/10)아래와 같이 2020', '1학기 남정장학재단 신규장학생 모집 안내를 하니 관심있는 학생들의 많은 지원 바랍니다', ' 아 래 ', '1', ' 재단명: 남정장학재단2', ' 장학금액: 1학기 당 250만원(지원자격 충족시 8학기 까지)3', ' 지원자격가', ' 2020', '1학기 재학생(8학기 이내)나', ' 직전 학기 및 전체평점 3', '5/4', '5 이상인 학생다', ' 등록금 범위 내 지급 가능한 장학금임(부모의 회사에서 지급하는 자녀 학자금을 받고 있는 자는 지원 불가)(** 선발 분아 : 인문', ' 사회계열)4', ' 제출서류가', ' 장학생 신청서(붙임파일 참조, 남정장학재단 홈페이지 다운로드 가능)나', ' 장학생 추천서(붙임파일 참조, 남정장학재단 홈페이지 다운로드 가능, 추천소견 및 총장 직인공란으로 두고본인 작성 부분만 작성 후 제출)다', ' 성적증명서(2019', '2학기 성적 포함, 1월 7일 이후 발급 시 2학기 성적 반영)라', ' 자기소개서: 전공분야 학습계획과 졸업 후 진로계획을 중심으로 작성(자유양식, A4 2 페이지 이내)마', ' 주민등록등본(개인정보보호 위하여 뒷자리 *** 표시, 부모님과 거주지가 다른 경우 본인 및 부모님 각 1통 씩)5', ' 가계 곤란 증명서류가', ' 기초생활 수급권자: 수급자 증명서나', ' 차상위 계층으로 모자가정/부자가정: 주민센터 발행 한부모가정 증명서다', ' 가', ' 나에 해당되지 않는 자는 다음의 서류 모두 준비 바랍니다', '1) 재산세 납세증명서(2018, 2019년) : 지방세 세목별 과세증명서 부, 모 각 1통(납부분 없을 경우, 납부분 없음 기재하여 발급 요청)2) 건강보험료 납부확인서(2018, 2019년) : 부, 모 각 1통(한 분만 납부하실 경우, 건강보험증 사본 또는 건강보험 자격확인서 함께 제출 요망)3) 소득세관련서류가) 소득세 과세자 중 급여 생활자의 경우: 근로소득 원천징수 영수증 부,모 각 1통(근무처 발행)나) 소득세 과세자 중 자영업자 등의 경우: 소득금액증명원 부,모 각 1통(세무서 발행)다) 소득세 미과세 자인 경우: 비사업자 사실증명 부,모 각 1통(세무서 발행)6', ' 기타서류: 해당되는 자에 한해 추가적으로 제출 가능함', ' 입상경력증명서 : 본인의 경력사항과 각종 대회 수상 내역을 증빙할 수 있는 서류(Ex', ' 어학성적사본, 전국대회 입상경력증명서 등)', ' 자원봉사활동내역 확인서', ' 심신장애증명서, 장애인 등록수첩 사본, 장애인 카드 사본(본인, 직계가족)', ' 직계가족의 장기입원 및 요양 시 병원에서 발급하는 입원확인 증명원 또는 진단서', ' 파산선고 결정문 및 경매(등기부등본) 증명(법원 발행)', ' 전월세 임대차계약서 사본7', ' 제출기한: 1', ' 10(금) 14:00 까지8', ' 제출 및 문의처가', ' 서울캠퍼스 재학생: 국제학사 101호 장학팀나', ' 글로벌캠퍼스 재학생: 학생회관 108호 학생지원팀)2020', ' 1', '서울/글로벌캠퍼스 학생', '인재개발처장']\n"
          ]
        }
      ]
    },
    {
      "cell_type": "code",
      "source": [
        "sents.append('-')\n",
        "sents.append('-')\n",
        "print(sents)"
      ],
      "metadata": {
        "id": "aCgHaWtF3fZU",
        "colab": {
          "base_uri": "https://localhost:8080/"
        },
        "outputId": "6d11887b-3adb-4b61-d018-bce813849baa"
      },
      "execution_count": 28,
      "outputs": [
        {
          "output_type": "stream",
          "name": "stdout",
          "text": [
            "['[공통][교외] 2020', '1학기 남정장학재단 장학생 모집 안내(~1/10)아래와 같이 2020', '1학기 남정장학재단 신규장학생 모집 안내를 하니 관심있는 학생들의 많은 지원 바랍니다', ' 아 래 ', '1', ' 재단명: 남정장학재단2', ' 장학금액: 1학기 당 250만원(지원자격 충족시 8학기 까지)3', ' 지원자격가', ' 2020', '1학기 재학생(8학기 이내)나', ' 직전 학기 및 전체평점 3', '5/4', '5 이상인 학생다', ' 등록금 범위 내 지급 가능한 장학금임(부모의 회사에서 지급하는 자녀 학자금을 받고 있는 자는 지원 불가)(** 선발 분아 : 인문', ' 사회계열)4', ' 제출서류가', ' 장학생 신청서(붙임파일 참조, 남정장학재단 홈페이지 다운로드 가능)나', ' 장학생 추천서(붙임파일 참조, 남정장학재단 홈페이지 다운로드 가능, 추천소견 및 총장 직인공란으로 두고본인 작성 부분만 작성 후 제출)다', ' 성적증명서(2019', '2학기 성적 포함, 1월 7일 이후 발급 시 2학기 성적 반영)라', ' 자기소개서: 전공분야 학습계획과 졸업 후 진로계획을 중심으로 작성(자유양식, A4 2 페이지 이내)마', ' 주민등록등본(개인정보보호 위하여 뒷자리 *** 표시, 부모님과 거주지가 다른 경우 본인 및 부모님 각 1통 씩)5', ' 가계 곤란 증명서류가', ' 기초생활 수급권자: 수급자 증명서나', ' 차상위 계층으로 모자가정/부자가정: 주민센터 발행 한부모가정 증명서다', ' 가', ' 나에 해당되지 않는 자는 다음의 서류 모두 준비 바랍니다', '1) 재산세 납세증명서(2018, 2019년) : 지방세 세목별 과세증명서 부, 모 각 1통(납부분 없을 경우, 납부분 없음 기재하여 발급 요청)2) 건강보험료 납부확인서(2018, 2019년) : 부, 모 각 1통(한 분만 납부하실 경우, 건강보험증 사본 또는 건강보험 자격확인서 함께 제출 요망)3) 소득세관련서류가) 소득세 과세자 중 급여 생활자의 경우: 근로소득 원천징수 영수증 부,모 각 1통(근무처 발행)나) 소득세 과세자 중 자영업자 등의 경우: 소득금액증명원 부,모 각 1통(세무서 발행)다) 소득세 미과세 자인 경우: 비사업자 사실증명 부,모 각 1통(세무서 발행)6', ' 기타서류: 해당되는 자에 한해 추가적으로 제출 가능함', ' 입상경력증명서 : 본인의 경력사항과 각종 대회 수상 내역을 증빙할 수 있는 서류(Ex', ' 어학성적사본, 전국대회 입상경력증명서 등)', ' 자원봉사활동내역 확인서', ' 심신장애증명서, 장애인 등록수첩 사본, 장애인 카드 사본(본인, 직계가족)', ' 직계가족의 장기입원 및 요양 시 병원에서 발급하는 입원확인 증명원 또는 진단서', ' 파산선고 결정문 및 경매(등기부등본) 증명(법원 발행)', ' 전월세 임대차계약서 사본7', ' 제출기한: 1', ' 10(금) 14:00 까지8', ' 제출 및 문의처가', ' 서울캠퍼스 재학생: 국제학사 101호 장학팀나', ' 글로벌캠퍼스 재학생: 학생회관 108호 학생지원팀)2020', ' 1', '서울/글로벌캠퍼스 학생', '인재개발처장', '-', '-']\n"
          ]
        }
      ]
    },
    {
      "cell_type": "code",
      "source": [
        "# 공백만 있는 문자열 제거\n",
        "sents = [sent for sent in sents if sent.strip()]\n",
        "print(sents)"
      ],
      "metadata": {
        "id": "9elS_SP_3fZU",
        "colab": {
          "base_uri": "https://localhost:8080/"
        },
        "outputId": "b18b01f1-d739-4624-c006-8171a18770bb"
      },
      "execution_count": 29,
      "outputs": [
        {
          "output_type": "stream",
          "name": "stdout",
          "text": [
            "['[공통][교외] 2020', '1학기 남정장학재단 장학생 모집 안내(~1/10)아래와 같이 2020', '1학기 남정장학재단 신규장학생 모집 안내를 하니 관심있는 학생들의 많은 지원 바랍니다', ' 아 래 ', '1', ' 재단명: 남정장학재단2', ' 장학금액: 1학기 당 250만원(지원자격 충족시 8학기 까지)3', ' 지원자격가', ' 2020', '1학기 재학생(8학기 이내)나', ' 직전 학기 및 전체평점 3', '5/4', '5 이상인 학생다', ' 등록금 범위 내 지급 가능한 장학금임(부모의 회사에서 지급하는 자녀 학자금을 받고 있는 자는 지원 불가)(** 선발 분아 : 인문', ' 사회계열)4', ' 제출서류가', ' 장학생 신청서(붙임파일 참조, 남정장학재단 홈페이지 다운로드 가능)나', ' 장학생 추천서(붙임파일 참조, 남정장학재단 홈페이지 다운로드 가능, 추천소견 및 총장 직인공란으로 두고본인 작성 부분만 작성 후 제출)다', ' 성적증명서(2019', '2학기 성적 포함, 1월 7일 이후 발급 시 2학기 성적 반영)라', ' 자기소개서: 전공분야 학습계획과 졸업 후 진로계획을 중심으로 작성(자유양식, A4 2 페이지 이내)마', ' 주민등록등본(개인정보보호 위하여 뒷자리 *** 표시, 부모님과 거주지가 다른 경우 본인 및 부모님 각 1통 씩)5', ' 가계 곤란 증명서류가', ' 기초생활 수급권자: 수급자 증명서나', ' 차상위 계층으로 모자가정/부자가정: 주민센터 발행 한부모가정 증명서다', ' 가', ' 나에 해당되지 않는 자는 다음의 서류 모두 준비 바랍니다', '1) 재산세 납세증명서(2018, 2019년) : 지방세 세목별 과세증명서 부, 모 각 1통(납부분 없을 경우, 납부분 없음 기재하여 발급 요청)2) 건강보험료 납부확인서(2018, 2019년) : 부, 모 각 1통(한 분만 납부하실 경우, 건강보험증 사본 또는 건강보험 자격확인서 함께 제출 요망)3) 소득세관련서류가) 소득세 과세자 중 급여 생활자의 경우: 근로소득 원천징수 영수증 부,모 각 1통(근무처 발행)나) 소득세 과세자 중 자영업자 등의 경우: 소득금액증명원 부,모 각 1통(세무서 발행)다) 소득세 미과세 자인 경우: 비사업자 사실증명 부,모 각 1통(세무서 발행)6', ' 기타서류: 해당되는 자에 한해 추가적으로 제출 가능함', ' 입상경력증명서 : 본인의 경력사항과 각종 대회 수상 내역을 증빙할 수 있는 서류(Ex', ' 어학성적사본, 전국대회 입상경력증명서 등)', ' 자원봉사활동내역 확인서', ' 심신장애증명서, 장애인 등록수첩 사본, 장애인 카드 사본(본인, 직계가족)', ' 직계가족의 장기입원 및 요양 시 병원에서 발급하는 입원확인 증명원 또는 진단서', ' 파산선고 결정문 및 경매(등기부등본) 증명(법원 발행)', ' 전월세 임대차계약서 사본7', ' 제출기한: 1', ' 10(금) 14:00 까지8', ' 제출 및 문의처가', ' 서울캠퍼스 재학생: 국제학사 101호 장학팀나', ' 글로벌캠퍼스 재학생: 학생회관 108호 학생지원팀)2020', ' 1', '서울/글로벌캠퍼스 학생', '인재개발처장', '-', '-']\n"
          ]
        }
      ]
    },
    {
      "cell_type": "code",
      "source": [
        "# 문장 요약-----------------------\n",
        "\n",
        "# KeywordSummarizer 인스턴스 생성\n",
        "summarizer = KeysentenceSummarizer(tokenize = okt_tokenize, min_sim = 0.3)\n",
        "\n",
        "# 핵심 3문장 요약 실행\n",
        "keysents = summarizer.summarize(sents, topk=3)\n",
        "\n",
        "# 출력\n",
        "print(keysents)"
      ],
      "metadata": {
        "id": "zSyDV19xL965",
        "colab": {
          "base_uri": "https://localhost:8080/"
        },
        "outputId": "8f5b1906-0116-40c8-edff-853695e92e6f"
      },
      "execution_count": 30,
      "outputs": [
        {
          "output_type": "stream",
          "name": "stdout",
          "text": [
            "[(27, 1.6723883083599813, '1) 재산세 납세증명서(2018, 2019년) : 지방세 세목별 과세증명서 부, 모 각 1통(납부분 없을 경우, 납부분 없음 기재하여 발급 요청)2) 건강보험료 납부확인서(2018, 2019년) : 부, 모 각 1통(한 분만 납부하실 경우, 건강보험증 사본 또는 건강보험 자격확인서 함께 제출 요망)3) 소득세관련서류가) 소득세 과세자 중 급여 생활자의 경우: 근로소득 원천징수 영수증 부,모 각 1통(근무처 발행)나) 소득세 과세자 중 자영업자 등의 경우: 소득금액증명원 부,모 각 1통(세무서 발행)다) 소득세 미과세 자인 경우: 비사업자 사실증명 부,모 각 1통(세무서 발행)6'), (2, 1.4592578681866293, '1학기 남정장학재단 신규장학생 모집 안내를 하니 관심있는 학생들의 많은 지원 바랍니다'), (17, 1.3333182655890892, ' 장학생 추천서(붙임파일 참조, 남정장학재단 홈페이지 다운로드 가능, 추천소견 및 총장 직인공란으로 두고본인 작성 부분만 작성 후 제출)다')]\n"
          ]
        }
      ]
    },
    {
      "cell_type": "code",
      "source": [
        "# 문장만 출력\n",
        "print(keysents[0][2])\n",
        "print(keysents[1][2])\n",
        "print(keysents[2][2])"
      ],
      "metadata": {
        "id": "DIvtHXFXMLk3",
        "colab": {
          "base_uri": "https://localhost:8080/"
        },
        "outputId": "15e0a083-35ec-4281-93ee-605ddca7e9f3"
      },
      "execution_count": 31,
      "outputs": [
        {
          "output_type": "stream",
          "name": "stdout",
          "text": [
            "1) 재산세 납세증명서(2018, 2019년) : 지방세 세목별 과세증명서 부, 모 각 1통(납부분 없을 경우, 납부분 없음 기재하여 발급 요청)2) 건강보험료 납부확인서(2018, 2019년) : 부, 모 각 1통(한 분만 납부하실 경우, 건강보험증 사본 또는 건강보험 자격확인서 함께 제출 요망)3) 소득세관련서류가) 소득세 과세자 중 급여 생활자의 경우: 근로소득 원천징수 영수증 부,모 각 1통(근무처 발행)나) 소득세 과세자 중 자영업자 등의 경우: 소득금액증명원 부,모 각 1통(세무서 발행)다) 소득세 미과세 자인 경우: 비사업자 사실증명 부,모 각 1통(세무서 발행)6\n",
            "1학기 남정장학재단 신규장학생 모집 안내를 하니 관심있는 학생들의 많은 지원 바랍니다\n",
            " 장학생 추천서(붙임파일 참조, 남정장학재단 홈페이지 다운로드 가능, 추천소견 및 총장 직인공란으로 두고본인 작성 부분만 작성 후 제출)다\n"
          ]
        }
      ]
    },
    {
      "cell_type": "markdown",
      "source": [
        "# Okt_key_sents"
      ],
      "metadata": {
        "id": "hTarn1E6eSxn"
      }
    },
    {
      "cell_type": "code",
      "source": [
        "import re"
      ],
      "metadata": {
        "id": "Y5uKVmJSeP2B"
      },
      "execution_count": 32,
      "outputs": []
    },
    {
      "cell_type": "code",
      "source": [
        "def okt_key_sents(df, row):\n",
        "  # content가 빈 문자열이면 빈 리스트를 반환\n",
        "  if df.loc[row, 'content'] == '':\n",
        "      return ['자세한 내용은 공지 본문을 확인해 주십시오.']\n",
        "\n",
        "  # 외국어 비율 확인\n",
        "  if is_foreign_language(df.loc[row, 'content']):\n",
        "    return ['자세한 내용은 공지 본문을 확인해 주십시오.']\n",
        "\n",
        "  # df 데이터프레임의 row번째 행의 content를 문자열로 저장\n",
        "  cont = df.loc[row, 'content']\n",
        "\n",
        "  # 줄바꿈, 온점(.)을 기준으로 문자열 분리하여 리스트에 저장\n",
        "  sents = re.split(r'[.\\n]+', cont)\n",
        "  # print(sents)\n",
        "\n",
        "  # 공백만 있는 공지에 대비하여 추가\n",
        "  sents.append('-')\n",
        "\n",
        "  # 빈 문자열 제거\n",
        "  sents = list(filter(None, sents))\n",
        "  # print(sents)\n",
        "\n",
        "  # 공백만 있는 문자열 제거\n",
        "  sents = [sent for sent in sents if sent.strip()]\n",
        "  # print(sents)\n",
        "\n",
        "  # 숫자로만 구성된 문자열이 포함되어 있는지 확인\n",
        "  if any(element.isdigit() for element in sents):\n",
        "    # 숫자로만 구성된 문자열을 리스트에서 삭제\n",
        "    sents = [element for element in sents if not element.isdigit()]\n",
        "\n",
        "  # 결과가 빈 리스트 일 때, 리스트를 그대로 반환\n",
        "  if sents == []:\n",
        "    return ['자세한 내용은 공지 본문을 확인해 주십시오.']\n",
        "\n",
        "  # 리스트 내의 요소가 2개 이하라면 리스트를 그대로 반환\n",
        "  elif len(sents) <= 2:\n",
        "    return sents\n",
        "\n",
        "  try:\n",
        "    # KeywordSummarizer 인스턴스 생성\n",
        "    summarizer = KeysentenceSummarizer(tokenize = okt_tokenize, min_sim = 0.3)\n",
        "\n",
        "    # 핵심 3문장 요약 실행\n",
        "    keysents = summarizer.summarize(sents, topk=3)\n",
        "\n",
        "  except Exception as e:\n",
        "    if '-' in sents:\n",
        "      sents.remove('-')\n",
        "      sents.append('자세한 내용은 공지 본문을 확인해 주십시오.')\n",
        "\n",
        "    return [sents[0], sents[1], sents[2]]\n",
        "\n",
        "  # 반환\n",
        "  return [keysents[0][2], keysents[1][2], keysents[2][2]]"
      ],
      "metadata": {
        "id": "miHftvjoMZOq"
      },
      "execution_count": 33,
      "outputs": []
    },
    {
      "cell_type": "markdown",
      "source": [
        "# 오류 확인"
      ],
      "metadata": {
        "id": "xjj1EaKUkvBs"
      }
    },
    {
      "cell_type": "code",
      "source": [
        "# 반복문을 사용하여 각 행에 대해 okt_key_sents 함수를 적용 - 장학\n",
        "# 오류 : 33 -> 33 -> 22 -> 13 -> 7\n",
        "error = 0\n",
        "for i in range(len(janghak)):\n",
        "    try:\n",
        "        okt_key_sents(janghak, i)\n",
        "    except Exception as e:\n",
        "        print(f\"오류 발생: {e} - 인덱스: {i}\")\n",
        "        error += 1\n",
        "        continue\n",
        "print(f'총 오류 수 : {error}')"
      ],
      "metadata": {
        "colab": {
          "base_uri": "https://localhost:8080/"
        },
        "id": "vazo20pPuOG0",
        "outputId": "4260d841-87d0-45a7-b6ca-7838c258bd01"
      },
      "execution_count": null,
      "outputs": [
        {
          "output_type": "stream",
          "name": "stdout",
          "text": [
            "총 오류 수 : 0\n"
          ]
        }
      ]
    },
    {
      "cell_type": "code",
      "source": [
        "# 반복문을 사용하여 각 행에 대해 okt_key_sents 함수를 적용 - 학사: 4 -> 4 -> 2\n",
        "error = 0\n",
        "for i in range(len(haksa)):\n",
        "    try:\n",
        "        okt_key_sents(haksa, i)\n",
        "    except Exception as e:\n",
        "        print(f\"오류 발생: {e} - 인덱스: {i}\")\n",
        "        error += 1\n",
        "        continue\n",
        "print(f'총 오류 수 : {error}')"
      ],
      "metadata": {
        "id": "kftEfswKk0BF"
      },
      "execution_count": null,
      "outputs": []
    },
    {
      "cell_type": "code",
      "source": [
        "# 반복문을 사용하여 각 행에 대해 okt_key_sents 함수를 적용 - 채용: 16 -> 16 -> 15\n",
        "error = 0\n",
        "for i in range(len(hire)):\n",
        "    try:\n",
        "        okt_key_sents(hire, i)\n",
        "    except Exception as e:\n",
        "        print(f\"오류 발생: {e} - 인덱스: {i}\")\n",
        "        error += 1\n",
        "        continue\n",
        "print(f'총 오류 수 : {error}')"
      ],
      "metadata": {
        "colab": {
          "base_uri": "https://localhost:8080/"
        },
        "id": "1MARlcYuvAh-",
        "outputId": "5dc59221-48be-43f6-9eb2-947fe3152e32"
      },
      "execution_count": null,
      "outputs": [
        {
          "output_type": "stream",
          "name": "stdout",
          "text": [
            "총 오류 수 : 0\n"
          ]
        }
      ]
    },
    {
      "cell_type": "code",
      "source": [
        "# 반복문을 사용하여 각 행에 대해 okt_key_sents 함수를 적용 - 공지\n",
        "# 오류: 9\n",
        "error = 0\n",
        "for i in range(len(gongji)):\n",
        "    try:\n",
        "        okt_key_sents(gongji, i)\n",
        "    except Exception as e:\n",
        "        print(f\"오류 발생: {e} - 인덱스: {i}\")\n",
        "        error += 1\n",
        "        continue\n",
        "print(f'총 오류 수 : {error}')"
      ],
      "metadata": {
        "colab": {
          "base_uri": "https://localhost:8080/",
          "height": 370
        },
        "id": "Bf_zH4r5yQqZ",
        "outputId": "f827a9e5-8a91-4bcb-e53d-426d12c1f807"
      },
      "execution_count": null,
      "outputs": [
        {
          "output_type": "error",
          "ename": "KeyboardInterrupt",
          "evalue": "",
          "traceback": [
            "\u001b[0;31m---------------------------------------------------------------------------\u001b[0m",
            "\u001b[0;31mKeyboardInterrupt\u001b[0m                         Traceback (most recent call last)",
            "\u001b[0;32m<ipython-input-107-cc95e0ad75b8>\u001b[0m in \u001b[0;36m<cell line: 4>\u001b[0;34m()\u001b[0m\n\u001b[1;32m      4\u001b[0m \u001b[0;32mfor\u001b[0m \u001b[0mi\u001b[0m \u001b[0;32min\u001b[0m \u001b[0mrange\u001b[0m\u001b[0;34m(\u001b[0m\u001b[0mlen\u001b[0m\u001b[0;34m(\u001b[0m\u001b[0mgongji\u001b[0m\u001b[0;34m)\u001b[0m\u001b[0;34m)\u001b[0m\u001b[0;34m:\u001b[0m\u001b[0;34m\u001b[0m\u001b[0;34m\u001b[0m\u001b[0m\n\u001b[1;32m      5\u001b[0m     \u001b[0;32mtry\u001b[0m\u001b[0;34m:\u001b[0m\u001b[0;34m\u001b[0m\u001b[0;34m\u001b[0m\u001b[0m\n\u001b[0;32m----> 6\u001b[0;31m         \u001b[0mokt_key_sents\u001b[0m\u001b[0;34m(\u001b[0m\u001b[0mgongji\u001b[0m\u001b[0;34m,\u001b[0m \u001b[0mi\u001b[0m\u001b[0;34m)\u001b[0m\u001b[0;34m\u001b[0m\u001b[0;34m\u001b[0m\u001b[0m\n\u001b[0m\u001b[1;32m      7\u001b[0m     \u001b[0;32mexcept\u001b[0m \u001b[0mException\u001b[0m \u001b[0;32mas\u001b[0m \u001b[0me\u001b[0m\u001b[0;34m:\u001b[0m\u001b[0;34m\u001b[0m\u001b[0;34m\u001b[0m\u001b[0m\n\u001b[1;32m      8\u001b[0m         \u001b[0mprint\u001b[0m\u001b[0;34m(\u001b[0m\u001b[0;34mf\"오류 발생: {e} - 인덱스: {i}\"\u001b[0m\u001b[0;34m)\u001b[0m\u001b[0;34m\u001b[0m\u001b[0;34m\u001b[0m\u001b[0m\n",
            "\u001b[0;32m<ipython-input-95-b57137374644>\u001b[0m in \u001b[0;36mokt_key_sents\u001b[0;34m(df, row)\u001b[0m\n\u001b[1;32m     40\u001b[0m \u001b[0;34m\u001b[0m\u001b[0m\n\u001b[1;32m     41\u001b[0m     \u001b[0;31m# 핵심 3문장 요약 실행\u001b[0m\u001b[0;34m\u001b[0m\u001b[0;34m\u001b[0m\u001b[0m\n\u001b[0;32m---> 42\u001b[0;31m     \u001b[0mkeysents\u001b[0m \u001b[0;34m=\u001b[0m \u001b[0msummarizer\u001b[0m\u001b[0;34m.\u001b[0m\u001b[0msummarize\u001b[0m\u001b[0;34m(\u001b[0m\u001b[0msents\u001b[0m\u001b[0;34m,\u001b[0m \u001b[0mtopk\u001b[0m\u001b[0;34m=\u001b[0m\u001b[0;36m3\u001b[0m\u001b[0;34m)\u001b[0m\u001b[0;34m\u001b[0m\u001b[0;34m\u001b[0m\u001b[0m\n\u001b[0m\u001b[1;32m     43\u001b[0m   \u001b[0;32mexcept\u001b[0m \u001b[0mException\u001b[0m \u001b[0;32mas\u001b[0m \u001b[0me\u001b[0m\u001b[0;34m:\u001b[0m\u001b[0;34m\u001b[0m\u001b[0;34m\u001b[0m\u001b[0m\n\u001b[1;32m     44\u001b[0m     \u001b[0;32mreturn\u001b[0m \u001b[0;34m[\u001b[0m\u001b[0msents\u001b[0m\u001b[0;34m[\u001b[0m\u001b[0;36m0\u001b[0m\u001b[0;34m]\u001b[0m\u001b[0;34m,\u001b[0m \u001b[0msents\u001b[0m\u001b[0;34m[\u001b[0m\u001b[0;36m1\u001b[0m\u001b[0;34m]\u001b[0m\u001b[0;34m,\u001b[0m \u001b[0msents\u001b[0m\u001b[0;34m[\u001b[0m\u001b[0;36m2\u001b[0m\u001b[0;34m]\u001b[0m\u001b[0;34m]\u001b[0m\u001b[0;34m\u001b[0m\u001b[0;34m\u001b[0m\u001b[0m\n",
            "\u001b[0;32m/content/textrank/textrank/summarizer.py\u001b[0m in \u001b[0;36msummarize\u001b[0;34m(self, sents, topk, bias)\u001b[0m\n\u001b[1;32m    192\u001b[0m             \u001b[0;32mraise\u001b[0m \u001b[0mValueError\u001b[0m\u001b[0;34m(\u001b[0m\u001b[0;34m'The type of bias must be None or numpy.ndarray but the type is {}'\u001b[0m\u001b[0;34m.\u001b[0m\u001b[0mformat\u001b[0m\u001b[0;34m(\u001b[0m\u001b[0mtype\u001b[0m\u001b[0;34m(\u001b[0m\u001b[0mbias\u001b[0m\u001b[0;34m)\u001b[0m\u001b[0;34m)\u001b[0m\u001b[0;34m)\u001b[0m\u001b[0;34m\u001b[0m\u001b[0;34m\u001b[0m\u001b[0m\n\u001b[1;32m    193\u001b[0m \u001b[0;34m\u001b[0m\u001b[0m\n\u001b[0;32m--> 194\u001b[0;31m         \u001b[0mself\u001b[0m\u001b[0;34m.\u001b[0m\u001b[0mtrain_textrank\u001b[0m\u001b[0;34m(\u001b[0m\u001b[0msents\u001b[0m\u001b[0;34m,\u001b[0m \u001b[0mbias\u001b[0m\u001b[0;34m)\u001b[0m\u001b[0;34m\u001b[0m\u001b[0;34m\u001b[0m\u001b[0m\n\u001b[0m\u001b[1;32m    195\u001b[0m         \u001b[0midxs\u001b[0m \u001b[0;34m=\u001b[0m \u001b[0mself\u001b[0m\u001b[0;34m.\u001b[0m\u001b[0mR\u001b[0m\u001b[0;34m.\u001b[0m\u001b[0margsort\u001b[0m\u001b[0;34m(\u001b[0m\u001b[0;34m)\u001b[0m\u001b[0;34m[\u001b[0m\u001b[0;34m-\u001b[0m\u001b[0mtopk\u001b[0m\u001b[0;34m:\u001b[0m\u001b[0;34m]\u001b[0m\u001b[0;34m\u001b[0m\u001b[0;34m\u001b[0m\u001b[0m\n\u001b[1;32m    196\u001b[0m         \u001b[0mkeysents\u001b[0m \u001b[0;34m=\u001b[0m \u001b[0;34m[\u001b[0m\u001b[0;34m(\u001b[0m\u001b[0midx\u001b[0m\u001b[0;34m,\u001b[0m \u001b[0mself\u001b[0m\u001b[0;34m.\u001b[0m\u001b[0mR\u001b[0m\u001b[0;34m[\u001b[0m\u001b[0midx\u001b[0m\u001b[0;34m]\u001b[0m\u001b[0;34m,\u001b[0m \u001b[0msents\u001b[0m\u001b[0;34m[\u001b[0m\u001b[0midx\u001b[0m\u001b[0;34m]\u001b[0m\u001b[0;34m)\u001b[0m \u001b[0;32mfor\u001b[0m \u001b[0midx\u001b[0m \u001b[0;32min\u001b[0m \u001b[0mreversed\u001b[0m\u001b[0;34m(\u001b[0m\u001b[0midxs\u001b[0m\u001b[0;34m)\u001b[0m\u001b[0;34m]\u001b[0m\u001b[0;34m\u001b[0m\u001b[0;34m\u001b[0m\u001b[0m\n",
            "\u001b[0;32m/content/textrank/textrank/summarizer.py\u001b[0m in \u001b[0;36mtrain_textrank\u001b[0;34m(self, sents, bias)\u001b[0m\n\u001b[1;32m    155\u001b[0m         \u001b[0;32mNone\u001b[0m\u001b[0;34m\u001b[0m\u001b[0;34m\u001b[0m\u001b[0m\n\u001b[1;32m    156\u001b[0m         \"\"\"\n\u001b[0;32m--> 157\u001b[0;31m         g = sent_graph(sents, self.tokenize, self.min_count,\n\u001b[0m\u001b[1;32m    158\u001b[0m             self.min_sim, self.similarity, self.vocab_to_idx, self.verbose)\n\u001b[1;32m    159\u001b[0m         \u001b[0mself\u001b[0m\u001b[0;34m.\u001b[0m\u001b[0mR\u001b[0m \u001b[0;34m=\u001b[0m \u001b[0mpagerank\u001b[0m\u001b[0;34m(\u001b[0m\u001b[0mg\u001b[0m\u001b[0;34m,\u001b[0m \u001b[0mself\u001b[0m\u001b[0;34m.\u001b[0m\u001b[0mdf\u001b[0m\u001b[0;34m,\u001b[0m \u001b[0mself\u001b[0m\u001b[0;34m.\u001b[0m\u001b[0mmax_iter\u001b[0m\u001b[0;34m,\u001b[0m \u001b[0mbias\u001b[0m\u001b[0;34m)\u001b[0m\u001b[0;34m.\u001b[0m\u001b[0mreshape\u001b[0m\u001b[0;34m(\u001b[0m\u001b[0;34m-\u001b[0m\u001b[0;36m1\u001b[0m\u001b[0;34m)\u001b[0m\u001b[0;34m\u001b[0m\u001b[0;34m\u001b[0m\u001b[0m\n",
            "\u001b[0;32m/content/textrank/textrank/sentence.py\u001b[0m in \u001b[0;36msent_graph\u001b[0;34m(sents, tokenize, min_count, min_sim, similarity, vocab_to_idx, verbose)\u001b[0m\n\u001b[1;32m     44\u001b[0m         \u001b[0midx_to_vocab\u001b[0m \u001b[0;34m=\u001b[0m \u001b[0;34m[\u001b[0m\u001b[0mvocab\u001b[0m \u001b[0;32mfor\u001b[0m \u001b[0mvocab\u001b[0m\u001b[0;34m,\u001b[0m \u001b[0m_\u001b[0m \u001b[0;32min\u001b[0m \u001b[0msorted\u001b[0m\u001b[0;34m(\u001b[0m\u001b[0mvocab_to_idx\u001b[0m\u001b[0;34m.\u001b[0m\u001b[0mitems\u001b[0m\u001b[0;34m(\u001b[0m\u001b[0;34m)\u001b[0m\u001b[0;34m,\u001b[0m \u001b[0mkey\u001b[0m\u001b[0;34m=\u001b[0m\u001b[0;32mlambda\u001b[0m \u001b[0mx\u001b[0m\u001b[0;34m:\u001b[0m\u001b[0mx\u001b[0m\u001b[0;34m[\u001b[0m\u001b[0;36m1\u001b[0m\u001b[0;34m]\u001b[0m\u001b[0;34m)\u001b[0m\u001b[0;34m]\u001b[0m\u001b[0;34m\u001b[0m\u001b[0;34m\u001b[0m\u001b[0m\n\u001b[1;32m     45\u001b[0m \u001b[0;34m\u001b[0m\u001b[0m\n\u001b[0;32m---> 46\u001b[0;31m     \u001b[0mx\u001b[0m \u001b[0;34m=\u001b[0m \u001b[0mvectorize_sents\u001b[0m\u001b[0;34m(\u001b[0m\u001b[0msents\u001b[0m\u001b[0;34m,\u001b[0m \u001b[0mtokenize\u001b[0m\u001b[0;34m,\u001b[0m \u001b[0mvocab_to_idx\u001b[0m\u001b[0;34m)\u001b[0m\u001b[0;34m\u001b[0m\u001b[0;34m\u001b[0m\u001b[0m\n\u001b[0m\u001b[1;32m     47\u001b[0m     \u001b[0;32mif\u001b[0m \u001b[0msimilarity\u001b[0m \u001b[0;34m==\u001b[0m \u001b[0;34m'cosine'\u001b[0m\u001b[0;34m:\u001b[0m\u001b[0;34m\u001b[0m\u001b[0;34m\u001b[0m\u001b[0m\n\u001b[1;32m     48\u001b[0m         \u001b[0mx\u001b[0m \u001b[0;34m=\u001b[0m \u001b[0mnumpy_cosine_similarity_matrix\u001b[0m\u001b[0;34m(\u001b[0m\u001b[0mx\u001b[0m\u001b[0;34m,\u001b[0m \u001b[0mmin_sim\u001b[0m\u001b[0;34m,\u001b[0m \u001b[0mverbose\u001b[0m\u001b[0;34m,\u001b[0m \u001b[0mbatch_size\u001b[0m\u001b[0;34m=\u001b[0m\u001b[0;36m1000\u001b[0m\u001b[0;34m)\u001b[0m\u001b[0;34m\u001b[0m\u001b[0;34m\u001b[0m\u001b[0m\n",
            "\u001b[0;32m/content/textrank/textrank/sentence.py\u001b[0m in \u001b[0;36mvectorize_sents\u001b[0;34m(sents, tokenize, vocab_to_idx)\u001b[0m\n\u001b[1;32m     54\u001b[0m     \u001b[0mrows\u001b[0m\u001b[0;34m,\u001b[0m \u001b[0mcols\u001b[0m\u001b[0;34m,\u001b[0m \u001b[0mdata\u001b[0m \u001b[0;34m=\u001b[0m \u001b[0;34m[\u001b[0m\u001b[0;34m]\u001b[0m\u001b[0;34m,\u001b[0m \u001b[0;34m[\u001b[0m\u001b[0;34m]\u001b[0m\u001b[0;34m,\u001b[0m \u001b[0;34m[\u001b[0m\u001b[0;34m]\u001b[0m\u001b[0;34m\u001b[0m\u001b[0;34m\u001b[0m\u001b[0m\n\u001b[1;32m     55\u001b[0m     \u001b[0;32mfor\u001b[0m \u001b[0mi\u001b[0m\u001b[0;34m,\u001b[0m \u001b[0msent\u001b[0m \u001b[0;32min\u001b[0m \u001b[0menumerate\u001b[0m\u001b[0;34m(\u001b[0m\u001b[0msents\u001b[0m\u001b[0;34m)\u001b[0m\u001b[0;34m:\u001b[0m\u001b[0;34m\u001b[0m\u001b[0;34m\u001b[0m\u001b[0m\n\u001b[0;32m---> 56\u001b[0;31m         \u001b[0mcounter\u001b[0m \u001b[0;34m=\u001b[0m \u001b[0mCounter\u001b[0m\u001b[0;34m(\u001b[0m\u001b[0mtokenize\u001b[0m\u001b[0;34m(\u001b[0m\u001b[0msent\u001b[0m\u001b[0;34m)\u001b[0m\u001b[0;34m)\u001b[0m\u001b[0;34m\u001b[0m\u001b[0;34m\u001b[0m\u001b[0m\n\u001b[0m\u001b[1;32m     57\u001b[0m         \u001b[0;32mfor\u001b[0m \u001b[0mtoken\u001b[0m\u001b[0;34m,\u001b[0m \u001b[0mcount\u001b[0m \u001b[0;32min\u001b[0m \u001b[0mcounter\u001b[0m\u001b[0;34m.\u001b[0m\u001b[0mitems\u001b[0m\u001b[0;34m(\u001b[0m\u001b[0;34m)\u001b[0m\u001b[0;34m:\u001b[0m\u001b[0;34m\u001b[0m\u001b[0;34m\u001b[0m\u001b[0m\n\u001b[1;32m     58\u001b[0m             \u001b[0mj\u001b[0m \u001b[0;34m=\u001b[0m \u001b[0mvocab_to_idx\u001b[0m\u001b[0;34m.\u001b[0m\u001b[0mget\u001b[0m\u001b[0;34m(\u001b[0m\u001b[0mtoken\u001b[0m\u001b[0;34m,\u001b[0m \u001b[0;34m-\u001b[0m\u001b[0;36m1\u001b[0m\u001b[0;34m)\u001b[0m\u001b[0;34m\u001b[0m\u001b[0;34m\u001b[0m\u001b[0m\n",
            "\u001b[0;32m<ipython-input-64-567b6cda867c>\u001b[0m in \u001b[0;36mokt_tokenize\u001b[0;34m(sent)\u001b[0m\n\u001b[1;32m      4\u001b[0m \u001b[0;34m\u001b[0m\u001b[0m\n\u001b[1;32m      5\u001b[0m \u001b[0;32mdef\u001b[0m \u001b[0mokt_tokenize\u001b[0m\u001b[0;34m(\u001b[0m\u001b[0msent\u001b[0m\u001b[0;34m)\u001b[0m\u001b[0;34m:\u001b[0m\u001b[0;34m\u001b[0m\u001b[0;34m\u001b[0m\u001b[0m\n\u001b[0;32m----> 6\u001b[0;31m     \u001b[0mwords\u001b[0m \u001b[0;34m=\u001b[0m \u001b[0mokt\u001b[0m\u001b[0;34m.\u001b[0m\u001b[0mpos\u001b[0m\u001b[0;34m(\u001b[0m\u001b[0msent\u001b[0m\u001b[0;34m,\u001b[0m \u001b[0mjoin\u001b[0m\u001b[0;34m=\u001b[0m\u001b[0;32mTrue\u001b[0m\u001b[0;34m)\u001b[0m\u001b[0;34m\u001b[0m\u001b[0;34m\u001b[0m\u001b[0m\n\u001b[0m\u001b[1;32m      7\u001b[0m     \u001b[0mwords\u001b[0m \u001b[0;34m=\u001b[0m \u001b[0;34m[\u001b[0m\u001b[0mw\u001b[0m \u001b[0;32mfor\u001b[0m \u001b[0mw\u001b[0m \u001b[0;32min\u001b[0m \u001b[0mwords\u001b[0m \u001b[0;32mif\u001b[0m \u001b[0;34m(\u001b[0m\u001b[0;34m'/Noun'\u001b[0m \u001b[0;32min\u001b[0m \u001b[0mw\u001b[0m \u001b[0;32mor\u001b[0m \u001b[0;34m'/Adjective'\u001b[0m \u001b[0;32min\u001b[0m \u001b[0mw\u001b[0m \u001b[0;32mor\u001b[0m \u001b[0;34m'/Verb'\u001b[0m \u001b[0;32min\u001b[0m \u001b[0mw\u001b[0m\u001b[0;34m)\u001b[0m\u001b[0;34m]\u001b[0m\u001b[0;34m\u001b[0m\u001b[0;34m\u001b[0m\u001b[0m\n\u001b[1;32m      8\u001b[0m     \u001b[0mwords\u001b[0m \u001b[0;34m=\u001b[0m \u001b[0;34m[\u001b[0m\u001b[0mw\u001b[0m \u001b[0;32mfor\u001b[0m \u001b[0mw\u001b[0m \u001b[0;32min\u001b[0m \u001b[0mwords\u001b[0m \u001b[0;32mif\u001b[0m \u001b[0mw\u001b[0m\u001b[0;34m.\u001b[0m\u001b[0msplit\u001b[0m\u001b[0;34m(\u001b[0m\u001b[0;34m'/'\u001b[0m\u001b[0;34m)\u001b[0m\u001b[0;34m[\u001b[0m\u001b[0;36m0\u001b[0m\u001b[0;34m]\u001b[0m \u001b[0;32mnot\u001b[0m \u001b[0;32min\u001b[0m \u001b[0mko_stop_words\u001b[0m\u001b[0;34m]\u001b[0m\u001b[0;34m\u001b[0m\u001b[0;34m\u001b[0m\u001b[0m\n",
            "\u001b[0;32m/usr/local/lib/python3.10/dist-packages/konlpy/tag/_okt.py\u001b[0m in \u001b[0;36mpos\u001b[0;34m(self, phrase, norm, stem, join)\u001b[0m\n\u001b[1;32m     69\u001b[0m         \u001b[0mvalidate_phrase_inputs\u001b[0m\u001b[0;34m(\u001b[0m\u001b[0mphrase\u001b[0m\u001b[0;34m)\u001b[0m\u001b[0;34m\u001b[0m\u001b[0;34m\u001b[0m\u001b[0m\n\u001b[1;32m     70\u001b[0m \u001b[0;34m\u001b[0m\u001b[0m\n\u001b[0;32m---> 71\u001b[0;31m         tokens = self.jki.tokenize(\n\u001b[0m\u001b[1;32m     72\u001b[0m                     \u001b[0mphrase\u001b[0m\u001b[0;34m,\u001b[0m\u001b[0;34m\u001b[0m\u001b[0;34m\u001b[0m\u001b[0m\n\u001b[1;32m     73\u001b[0m                     \u001b[0mjpype\u001b[0m\u001b[0;34m.\u001b[0m\u001b[0mjava\u001b[0m\u001b[0;34m.\u001b[0m\u001b[0mlang\u001b[0m\u001b[0;34m.\u001b[0m\u001b[0mBoolean\u001b[0m\u001b[0;34m(\u001b[0m\u001b[0mnorm\u001b[0m\u001b[0;34m)\u001b[0m\u001b[0;34m,\u001b[0m\u001b[0;34m\u001b[0m\u001b[0;34m\u001b[0m\u001b[0m\n",
            "\u001b[0;31mKeyboardInterrupt\u001b[0m: "
          ]
        }
      ]
    },
    {
      "cell_type": "markdown",
      "source": [
        "# 오류 목록"
      ],
      "metadata": {
        "id": "W_XvF4-5laHF"
      }
    },
    {
      "cell_type": "markdown",
      "source": [
        "- 공지 : 129 208 415 532 720 833 881 986 994 1009 1187 1413 1689 ..."
      ],
      "metadata": {
        "id": "Z7lIMaGcou_r"
      }
    },
    {
      "cell_type": "markdown",
      "source": [
        "- 장학 : 299 531 437 1065 1083 1085 1128"
      ],
      "metadata": {
        "id": "igB-APC4lRh6"
      }
    },
    {
      "cell_type": "markdown",
      "source": [
        "- 학사 : 115 133"
      ],
      "metadata": {
        "id": "0_Y0eSxzoF6l"
      }
    },
    {
      "cell_type": "markdown",
      "source": [
        "- 채용 : 137 154 312 457 556 598 774 791 908 1047 1048 1055 1072 1118 1199"
      ],
      "metadata": {
        "id": "7pa4KANZoH5o"
      }
    },
    {
      "cell_type": "markdown",
      "source": [
        "# 오류 출력"
      ],
      "metadata": {
        "id": "Gghyu8hpJ9JV"
      }
    },
    {
      "cell_type": "markdown",
      "source": [
        "- 채용\n"
      ],
      "metadata": {
        "id": "X6L2L13pNTB2"
      }
    },
    {
      "cell_type": "code",
      "source": [
        "# 전처리 전\n",
        "for i in (137, 154, 312, 457, 556, 598, 774, 791, 908, 1047, 1048, 1055, 1072, 1118, 1199):\n",
        "  print(i, okt_key_sents(hire, i))"
      ],
      "metadata": {
        "colab": {
          "base_uri": "https://localhost:8080/"
        },
        "id": "5YXnDng7pqux",
        "outputId": "8fee1345-d38f-4191-b32f-0344ba01af24"
      },
      "execution_count": null,
      "outputs": [
        {
          "output_type": "stream",
          "name": "stdout",
          "text": [
            "137 ['Additioinal Faculty Position Announcement for Spring 2024 (Foreign Faculty)', ' Job Openings by Departments and Specializations', '1) Global Campus (Yong-in)']\n",
            "154 ['Faculty Position Announcement for Spring 2024', '(Foreign Faculty)1', ' Job Openings by Departments and Specializations 1) Seoul CampusCollegeDepartmentOpeningsSpecializationCollege ofOccidentalLanguagesDepartment of Dutch1Dutch LanguageCollege of Asian Languages & CulturesDepartment of Thai1Thai Language/LiteratureDepartment of Vietnamese1Vietnam Linguistics and LiteratureDepartment of Turkish and Azerbaijani1Turkish Language and LiteratureDepartment of Persian and Iranian Studies1Persian Language & Iranian StudiesCollege of BusinessBusiness Administration Division1All Areas in businessForeign Language Education Center3Communicative EnglishTotal9* The newly appointed professor at the Foreign Language Education Center(Seoul) may be subject to reassignment in accordance with future organizational restructuring, and they may be required to teach at both campuses (Seoul and Global campus)']\n",
            "312 ['Faculty Position Announcement for Fall 2023(Foreign Faculty)', ' Job Openings by Departments and Specializations 1) Seoul Campus', 'CollegeDepartmentOpeningsSpecializationCollege ofEnglishDepartment of English Literature1English Literature & CultureCollege ofOccidentalLanguagesDepartment of German1DaFlerDepartment of Dutch1Dutch LanguageCollege of Asian Languages & CulturesDepartment of Vietnamese1Linguistics or LiteratureDepartment of Hindi1Indian Linguistics and LiteraturesCollege ofChineseDivision of Chinese Language, Literature and Culture1Chinese linguistics and literatureCollege of BusinessBusiness Administration Division1All AreasGraduate School of Interpretation andTranslationDepartment of Korean-Arabic1Arabic Language & Literature, Arabic Interpretation & Translation Graduate School of International and Area StudiesDepartment of International Studies1Comparative Socio-cultural studiesTotal9 2) Global Campus (Yong-in)']\n",
            "457 ['Faculty Position Announcement for Spring 2023(Foreign Faculty)1', ' Job Openings by Departments and Specializations1) Seoul CampusCollegeDepartmentOpeningsSpecializationCollege of', 'Occidental']\n",
            "556 ['사단법인‘쌀람누리’에서 첨부파일 내용과 같이 채용을공모하오니,많은관심과지원부탁드립니다', '감사합니다', '-']\n",
            "598 ['Faculty Position Announcement for Fall 2022 (Foreign Faculty)1', ' Job Openings by Departments and Specializations 1) Seoul CampusCollegeDepartmentOpeningsSpecializationCollege of Asian Languages &Cultures Department of Malay-Indonesian1Malay-Indonesian LanguageDepartment of Thai1Thai Language/LiteratureDepartment of Vietnamese1Linguistics or LiteratureCollege ofJapaneseStudiesDivision of Japanese Language, Literature and Culture1Japanese Language Education, Japanese LinguisticsTotal4 2) Global Campus (Yong-in)CollegeDepartmentOpeningsSpecializationCollege of Interpretationand TranslationDepartment of Malay-Indonesian Interpretation and Translation1Linguistics and LiteratureDepartment of Thai Interpretation and Translation2Thai Literature or Linguistics (1)Thai-Korean Interpretation and Translation (1) College of Central and East EuropeanStudiesDepartment of Romanian1Studies of Romanian HumanitiesDepartment of Hungarian1Hungarian LanguageDepartment of South Slavic Studies1Croatian Language & LiteratureCollege of International and Area StudiesDepartment of Central Asian Studies1Kazakhstan StudiesTotal72', ' How to Apply ○ To submit the required application documents :  ⇒ Contact the department with the job opening of your academic interest for all inquiries including the due date for the application and the general questions about the application documents']\n",
            "774 ['Faculty Position Announcement for Spring 2022 (Foreign Faculty) ', ' Job Openings by Departments and Specializations1) Seoul CampusCollegeDepartmentOpeningsSpecializationCollege of Occidental LanguagesDepartment of Scandinavian Languages1SwedishCollege of Asian Languages & Cultures Department of Vietnamese1LinguisticsCollege of BusinessBusiness Administration Division1Operations ManagementCollege of Education Department of French Education1French EducationTotal42) Global Campus (Yong-in)CollegeDepartmentOpeningsSpecializationCollege of Interpretation and TranslationDepartment of Chinese Interpretation and Translation2Chinese Linguistics(Syntax) (1),Chinese Linguistics&Literature (1)Department of Japanese Interpretation and Translation1Japanese Linguistics/TeachingCollege of Central and East European StudiesDepartment of South Slavic Studies1Serbian Language and LiteratureCollege of International and Area StudiesDepartment of Brazilian Studies1Portugues(Linguistics)Department of Korean Studies1Korean Culture (Anthropology, Sociology, Cultural Studies, Media Studies)College of EngineeringDivision of Computer Engineering1All Fields of Computer Science(Artificial Intelligence Preferred)Ingenium College of Convergence StudiesFaculty of Convergence Studies1Korean & Chinese Cultural ContentsForeign Language Education CenterForeign Language Education Center1Academic English/Residential College EnglishTotal92', ' How to Apply ○ To submit the required application documents :  ⇒ Contact the department with the job opening of your academic interest for all inquiries including the due date for the application and the general questions about the application documents']\n",
            "791 ['Job Opening Announcement for HK Research Professor for HK+ ‘Great Transition in India’ Project at Institute of Indian Studies, H', ' Position · Opening and QualificationsPositionOpeningsFieldSpecializationWorking placeQualificationsHKResearch Professor0Religion and PhilosophyIndian Philosophy(including Indian Buddhism)Institute   of Indian Studies ① A doctoral degree is required', '② Appropriate for the Institute’s HK + research agenda③ Those who can actively participate in the Institute’s HK + project④ Those who can participate in the interdisciplinary research of the  HK+ project⑤ Those who can contribute to HK+ research agenda- English Language Proficiency preferredHistoryIndian History2']\n",
            "908 [' Faculty Position Announcement for Fall 2021 (Foreign Faculty)', ' Job Openings by Departments and Specializations 1) Seoul CampusCollegeDepartmentOpeningsSpecializationCollege of Occidental LanguagesDepartment of Russian1Teaching Russian as a Foreign Language Department of Spanish1Spanish Linguistics, Literature, Teaching Spanish as a Foreign Language(ELE)Department of Scandinavian Languages1Danish/NorwegianCollege of Asian Languages & Cultures Department of Thai1Thai Language/LiteratureDepartment of Vietnamese1LinguisticsCollege of Chinese StudiesDivision of Chinese Language, Literature and Culture2Chinese LinguisticsCollege of BusinessBusiness Administration Division1Operations ManagementTotal8 2) Global Campus (Yong-in)CollegeDepartmentOpeningsSpecializationCollege of Interpretation and TranslationDepartment of Chinese Interpretation and Translation1Chinese LiteratureDepartment of Malay-Indonesian Interpretation and Translation1Indonesian Linguistics or LiteratureDepartment of Thai Interpretation and Translation2Thai Language/Literature(2)College of Central and East European StudiesDepartment of Polish1Linguistics/Teaching Polish as a Foreign LanguageDepartment of Czech and Slovak Studies2Czech Language(1)Slovak Language(1)Department of Hungarian1Hungarian Linguistics/ Hungarian LiteratureDepartment of South Slavic Studies1Croatian Linguistics/LiteratureDepartment of Ukrainian Studies1Ukrainian Language and LiteratureCollege of International and Area StudiesDepartment of Korean Studies1Korean CultureTotal112', ' How to Apply ○ To submit the required application documents :  ⇒ Contact the department with the job opening of your academic interest for all inquiries including the due date for the application and the general questions about the application documents']\n",
            "1047 [' 한국외국어대학교 신입직원 채용 인터넷 접수  바로가기', ' 12', '행 정 지 원 처 장']\n",
            "1048 [' 한국외국어대학교 입학사정관 채용 인터넷 접수  바로가기', ' 12', '행 정 지 원 처 장']\n",
            "1055 ['<2021 Online International Summer Session (ISS) Instructor Recruitment Announcement>', 'HUFS‘s Office of International Admissions and Management (OIAM) plans to conduct its 2021 ISS program online in response to COVID-19', ' We are searching for interested full-time HUFS faculty (both Korean and non-Korean) who would like to participate as instructors']\n",
            "1072 ['Faculty Position Announcement for Spring 2021', '  (Foreign Faculty)1', ' Job Openings by Departments and Specializations1) Seoul CampusCollegeDepartmentOpeningsSpecializationCollege of Occidental LanguagesDepartment of Russian1Russian as a Foreign LanguageDepartment of Spanish1Spanish Linguistics, Literature, Teaching Spanish as a Foreign Language(ELE)College of Asian Languages & Cultures Department of Vietnamese1LinguisticsDepartment of Turkish and Azerbaijani1Turkish LinguisticsCollege of Education Department of Chinese Education1Chinese LinguisticsTotal52) Global Campus (Yong-in)CollegeDepartmentOpeningsSpecializationCollege of Interpretation and TranslationDepartment of Italian Interpretation and Translation1ItalianDepartment of Chinese Interpretation and Translation2Chinese Literature (1)']\n",
            "1118 [\"2020 International Youth Leader Exchange Support Program Participant Recruiting AnnouncementAs part of the '2020 International Youth Leader Exchange Support Project' hosted by the Ministry of Gender and Family Equality, the Korea Youth Workers Association (KYWA), Hankuk Univeristy of Foreign Studies (HUFS) aims to promote the growth of global citizenship and intercultural understanding by fostering interaction and exchanges between Korean and international students\", ' The KYWA and HUFS have developed this program together, and we look forward to seeing both HUFS’ Korean and international students’ interest and participation', ' TopicGlobal Cultural Exchange in the Age of Ontact (On+Untact): On & Off K-Culture Activitation Plan - “Welcome to Ontact K-Culture: Is it your first time?”2']\n",
            "1199 ['Faculty Position Announcement for Fall 2020(Foreign Faculty)', ' Job Openings by Departments and Specializations1) Seoul CampusCollegeDepartmentOpeningsSpecializationCollege of Occidental LanguagesDepartment of Portuguese1Portuguese Linguistics, Literature, Teaching of Portuguese as a Foreign LanguageDepartment of Russian1Russian as a Foreign LanguageCollege of Asian Languages & CulturesDepartment of Thai1Thai Language / LiteratureDepartment of Hindi1Languages in IndiaCollege of ChineseDivision of Chinese Language, Literature and Culture1Chinese Language, Literature & CultureTotal52) Global Campus (Yong-in)CollegeDepartmentOpeningsSpecializationCollege of Economics and BusinessDivision of Global Business & Technology1International BusinessCollege of Interpretation and TranslationDepartment of Italian Interpretation and Translation1ItalianDepartment of Japanese Interpretation and Translation1Japanese Linguistics/TeachingDepartment of Malay-Indonesian Interpretation and Translation2Indonesian Linguistics and Literature(1)', 'Indonesian Area Studies(1)Department of Thai Interpretation and Translation2Thai Language(1)']\n"
          ]
        }
      ]
    },
    {
      "cell_type": "code",
      "source": [
        "# '-' -> '자세한 내용은 공지 본문을 확인해 주십시오.'로 변경\n",
        "for i in (137, 154, 312, 457, 556, 598, 774, 791, 908, 1047, 1048, 1055, 1072, 1118, 1199):\n",
        "  print(i, okt_key_sents(hire, i))"
      ],
      "metadata": {
        "colab": {
          "base_uri": "https://localhost:8080/"
        },
        "id": "Wyyo-N_0tohz",
        "outputId": "0dccf86d-e255-4295-c92c-1555142c7d26"
      },
      "execution_count": null,
      "outputs": [
        {
          "output_type": "stream",
          "name": "stdout",
          "text": [
            "137 ['Additioinal Faculty Position Announcement for Spring 2024 (Foreign Faculty)', ' Job Openings by Departments and Specializations', '1) Global Campus (Yong-in)']\n",
            "154 ['Faculty Position Announcement for Spring 2024', '(Foreign Faculty)1', ' Job Openings by Departments and Specializations 1) Seoul CampusCollegeDepartmentOpeningsSpecializationCollege ofOccidentalLanguagesDepartment of Dutch1Dutch LanguageCollege of Asian Languages & CulturesDepartment of Thai1Thai Language/LiteratureDepartment of Vietnamese1Vietnam Linguistics and LiteratureDepartment of Turkish and Azerbaijani1Turkish Language and LiteratureDepartment of Persian and Iranian Studies1Persian Language & Iranian StudiesCollege of BusinessBusiness Administration Division1All Areas in businessForeign Language Education Center3Communicative EnglishTotal9* The newly appointed professor at the Foreign Language Education Center(Seoul) may be subject to reassignment in accordance with future organizational restructuring, and they may be required to teach at both campuses (Seoul and Global campus)']\n",
            "312 ['Faculty Position Announcement for Fall 2023(Foreign Faculty)', ' Job Openings by Departments and Specializations 1) Seoul Campus', 'CollegeDepartmentOpeningsSpecializationCollege ofEnglishDepartment of English Literature1English Literature & CultureCollege ofOccidentalLanguagesDepartment of German1DaFlerDepartment of Dutch1Dutch LanguageCollege of Asian Languages & CulturesDepartment of Vietnamese1Linguistics or LiteratureDepartment of Hindi1Indian Linguistics and LiteraturesCollege ofChineseDivision of Chinese Language, Literature and Culture1Chinese linguistics and literatureCollege of BusinessBusiness Administration Division1All AreasGraduate School of Interpretation andTranslationDepartment of Korean-Arabic1Arabic Language & Literature, Arabic Interpretation & Translation Graduate School of International and Area StudiesDepartment of International Studies1Comparative Socio-cultural studiesTotal9 2) Global Campus (Yong-in)']\n",
            "457 ['Faculty Position Announcement for Spring 2023(Foreign Faculty)1', ' Job Openings by Departments and Specializations1) Seoul CampusCollegeDepartmentOpeningsSpecializationCollege of', 'Occidental']\n",
            "556 ['사단법인‘쌀람누리’에서 첨부파일 내용과 같이 채용을공모하오니,많은관심과지원부탁드립니다', '감사합니다', '자세한 내용은 공지 본문을 확인해 주십시오.']\n",
            "598 ['Faculty Position Announcement for Fall 2022 (Foreign Faculty)1', ' Job Openings by Departments and Specializations 1) Seoul CampusCollegeDepartmentOpeningsSpecializationCollege of Asian Languages &Cultures Department of Malay-Indonesian1Malay-Indonesian LanguageDepartment of Thai1Thai Language/LiteratureDepartment of Vietnamese1Linguistics or LiteratureCollege ofJapaneseStudiesDivision of Japanese Language, Literature and Culture1Japanese Language Education, Japanese LinguisticsTotal4 2) Global Campus (Yong-in)CollegeDepartmentOpeningsSpecializationCollege of Interpretationand TranslationDepartment of Malay-Indonesian Interpretation and Translation1Linguistics and LiteratureDepartment of Thai Interpretation and Translation2Thai Literature or Linguistics (1)Thai-Korean Interpretation and Translation (1) College of Central and East EuropeanStudiesDepartment of Romanian1Studies of Romanian HumanitiesDepartment of Hungarian1Hungarian LanguageDepartment of South Slavic Studies1Croatian Language & LiteratureCollege of International and Area StudiesDepartment of Central Asian Studies1Kazakhstan StudiesTotal72', ' How to Apply ○ To submit the required application documents :  ⇒ Contact the department with the job opening of your academic interest for all inquiries including the due date for the application and the general questions about the application documents']\n",
            "774 ['Faculty Position Announcement for Spring 2022 (Foreign Faculty) ', ' Job Openings by Departments and Specializations1) Seoul CampusCollegeDepartmentOpeningsSpecializationCollege of Occidental LanguagesDepartment of Scandinavian Languages1SwedishCollege of Asian Languages & Cultures Department of Vietnamese1LinguisticsCollege of BusinessBusiness Administration Division1Operations ManagementCollege of Education Department of French Education1French EducationTotal42) Global Campus (Yong-in)CollegeDepartmentOpeningsSpecializationCollege of Interpretation and TranslationDepartment of Chinese Interpretation and Translation2Chinese Linguistics(Syntax) (1),Chinese Linguistics&Literature (1)Department of Japanese Interpretation and Translation1Japanese Linguistics/TeachingCollege of Central and East European StudiesDepartment of South Slavic Studies1Serbian Language and LiteratureCollege of International and Area StudiesDepartment of Brazilian Studies1Portugues(Linguistics)Department of Korean Studies1Korean Culture (Anthropology, Sociology, Cultural Studies, Media Studies)College of EngineeringDivision of Computer Engineering1All Fields of Computer Science(Artificial Intelligence Preferred)Ingenium College of Convergence StudiesFaculty of Convergence Studies1Korean & Chinese Cultural ContentsForeign Language Education CenterForeign Language Education Center1Academic English/Residential College EnglishTotal92', ' How to Apply ○ To submit the required application documents :  ⇒ Contact the department with the job opening of your academic interest for all inquiries including the due date for the application and the general questions about the application documents']\n",
            "791 ['Job Opening Announcement for HK Research Professor for HK+ ‘Great Transition in India’ Project at Institute of Indian Studies, H', ' Position · Opening and QualificationsPositionOpeningsFieldSpecializationWorking placeQualificationsHKResearch Professor0Religion and PhilosophyIndian Philosophy(including Indian Buddhism)Institute   of Indian Studies ① A doctoral degree is required', '② Appropriate for the Institute’s HK + research agenda③ Those who can actively participate in the Institute’s HK + project④ Those who can participate in the interdisciplinary research of the  HK+ project⑤ Those who can contribute to HK+ research agenda- English Language Proficiency preferredHistoryIndian History2']\n",
            "908 [' Faculty Position Announcement for Fall 2021 (Foreign Faculty)', ' Job Openings by Departments and Specializations 1) Seoul CampusCollegeDepartmentOpeningsSpecializationCollege of Occidental LanguagesDepartment of Russian1Teaching Russian as a Foreign Language Department of Spanish1Spanish Linguistics, Literature, Teaching Spanish as a Foreign Language(ELE)Department of Scandinavian Languages1Danish/NorwegianCollege of Asian Languages & Cultures Department of Thai1Thai Language/LiteratureDepartment of Vietnamese1LinguisticsCollege of Chinese StudiesDivision of Chinese Language, Literature and Culture2Chinese LinguisticsCollege of BusinessBusiness Administration Division1Operations ManagementTotal8 2) Global Campus (Yong-in)CollegeDepartmentOpeningsSpecializationCollege of Interpretation and TranslationDepartment of Chinese Interpretation and Translation1Chinese LiteratureDepartment of Malay-Indonesian Interpretation and Translation1Indonesian Linguistics or LiteratureDepartment of Thai Interpretation and Translation2Thai Language/Literature(2)College of Central and East European StudiesDepartment of Polish1Linguistics/Teaching Polish as a Foreign LanguageDepartment of Czech and Slovak Studies2Czech Language(1)Slovak Language(1)Department of Hungarian1Hungarian Linguistics/ Hungarian LiteratureDepartment of South Slavic Studies1Croatian Linguistics/LiteratureDepartment of Ukrainian Studies1Ukrainian Language and LiteratureCollege of International and Area StudiesDepartment of Korean Studies1Korean CultureTotal112', ' How to Apply ○ To submit the required application documents :  ⇒ Contact the department with the job opening of your academic interest for all inquiries including the due date for the application and the general questions about the application documents']\n",
            "1047 [' 한국외국어대학교 신입직원 채용 인터넷 접수  바로가기', ' 12', '행 정 지 원 처 장']\n",
            "1048 [' 한국외국어대학교 입학사정관 채용 인터넷 접수  바로가기', ' 12', '행 정 지 원 처 장']\n",
            "1055 ['<2021 Online International Summer Session (ISS) Instructor Recruitment Announcement>', 'HUFS‘s Office of International Admissions and Management (OIAM) plans to conduct its 2021 ISS program online in response to COVID-19', ' We are searching for interested full-time HUFS faculty (both Korean and non-Korean) who would like to participate as instructors']\n",
            "1072 ['Faculty Position Announcement for Spring 2021', '  (Foreign Faculty)1', ' Job Openings by Departments and Specializations1) Seoul CampusCollegeDepartmentOpeningsSpecializationCollege of Occidental LanguagesDepartment of Russian1Russian as a Foreign LanguageDepartment of Spanish1Spanish Linguistics, Literature, Teaching Spanish as a Foreign Language(ELE)College of Asian Languages & Cultures Department of Vietnamese1LinguisticsDepartment of Turkish and Azerbaijani1Turkish LinguisticsCollege of Education Department of Chinese Education1Chinese LinguisticsTotal52) Global Campus (Yong-in)CollegeDepartmentOpeningsSpecializationCollege of Interpretation and TranslationDepartment of Italian Interpretation and Translation1ItalianDepartment of Chinese Interpretation and Translation2Chinese Literature (1)']\n",
            "1118 [\"2020 International Youth Leader Exchange Support Program Participant Recruiting AnnouncementAs part of the '2020 International Youth Leader Exchange Support Project' hosted by the Ministry of Gender and Family Equality, the Korea Youth Workers Association (KYWA), Hankuk Univeristy of Foreign Studies (HUFS) aims to promote the growth of global citizenship and intercultural understanding by fostering interaction and exchanges between Korean and international students\", ' The KYWA and HUFS have developed this program together, and we look forward to seeing both HUFS’ Korean and international students’ interest and participation', ' TopicGlobal Cultural Exchange in the Age of Ontact (On+Untact): On & Off K-Culture Activitation Plan - “Welcome to Ontact K-Culture: Is it your first time?”2']\n",
            "1199 ['Faculty Position Announcement for Fall 2020(Foreign Faculty)', ' Job Openings by Departments and Specializations1) Seoul CampusCollegeDepartmentOpeningsSpecializationCollege of Occidental LanguagesDepartment of Portuguese1Portuguese Linguistics, Literature, Teaching of Portuguese as a Foreign LanguageDepartment of Russian1Russian as a Foreign LanguageCollege of Asian Languages & CulturesDepartment of Thai1Thai Language / LiteratureDepartment of Hindi1Languages in IndiaCollege of ChineseDivision of Chinese Language, Literature and Culture1Chinese Language, Literature & CultureTotal52) Global Campus (Yong-in)CollegeDepartmentOpeningsSpecializationCollege of Economics and BusinessDivision of Global Business & Technology1International BusinessCollege of Interpretation and TranslationDepartment of Italian Interpretation and Translation1ItalianDepartment of Japanese Interpretation and Translation1Japanese Linguistics/TeachingDepartment of Malay-Indonesian Interpretation and Translation2Indonesian Linguistics and Literature(1)', 'Indonesian Area Studies(1)Department of Thai Interpretation and Translation2Thai Language(1)']\n"
          ]
        }
      ]
    },
    {
      "cell_type": "code",
      "source": [
        "# 외국어 삭제\n",
        "for i in (137, 154, 312, 457, 556, 598, 774, 791, 908, 1047, 1048, 1055, 1072, 1118, 1199):\n",
        "  print(i, okt_key_sents(hire, i))"
      ],
      "metadata": {
        "colab": {
          "base_uri": "https://localhost:8080/"
        },
        "id": "_cnKk56pNK0U",
        "outputId": "c23fed53-7e1b-4d51-b22d-db598bb18910"
      },
      "execution_count": null,
      "outputs": [
        {
          "output_type": "stream",
          "name": "stdout",
          "text": [
            "137 ['      2024 ( )', '1)   (', ')']\n",
            "154 ['     2024', '( )1', '       1)     1     &   1 /  1       1        1  &      1      3 9*                     ,           (   )']\n",
            "312 ['     2023( )', '       1)  ', '    1  &    1  1     &   1    1       ,   1       1       ']\n",
            "457 ['     2023( )1', '      1)   ', '  1   1     &   ']\n",
            "556 ['사단법인쌀람누리에서 첨부파일 내용과 같이 채용을공모하오니,많은관심과지원부탁드립니다', '감사합니다', '-']\n",
            "598 ['     2022 ( )1', '       1)      &   ', '   1 /  1      ,   1  ,  4 2)   (']\n",
            "774 ['     2022 ( ) ', '      1)        1    &    1    1       1 42)   (', ')         2  (1), & (1)     1 /          1           1   1  (, ,  ,  )     1    (  )       1 &         1 /  92']\n",
            "791 ['        +          , ', '  ·     0   (  )      ①     ', '②      +  ③          + ④            + ⑤      +  ']\n",
            "908 ['      2021 ( )', '       1)       1        1 , ,         1/    &    1 /  1      ,   2     1 8 2)   (', ')         1   ']\n",
            "1047 [' 한국외국어대학교 신입직원 채용 인터넷 접수  바로가기', '행 정 지 원 처 장', '-']\n",
            "1048 [' 한국외국어대학교 입학사정관 채용 인터넷 접수  바로가기', '행 정 지 원 처 장', '-']\n",
            "1055 ['<2021        >', '            2021       ', '   (   ']\n",
            "1072 ['     2021', '  ( )1', '      1)       1      1 , ,          &    1    1       1 52)   (']\n",
            "1118 [\"2020             '2020      '         ,      ,                           \", '         ,               ', '         (+):  &  ']\n",
            "1199 ['     2020( )', '      1)       1 , ,         1        &   1  /   1       ,   1 ,  & 52)   (', ')        & 1          1     1 /  ']\n"
          ]
        }
      ]
    },
    {
      "cell_type": "code",
      "source": [
        "# 외국어 비율 확인 후 전처리\n",
        "for i in (137, 154, 312, 457, 556, 598, 774, 791, 908, 1047, 1048, 1055, 1072, 1118, 1199):\n",
        "  print(i, okt_key_sents(hire, i))"
      ],
      "metadata": {
        "colab": {
          "base_uri": "https://localhost:8080/"
        },
        "id": "CU_881K-nJzu",
        "outputId": "3a77bb87-b131-401a-a672-a107043fc5b7"
      },
      "execution_count": null,
      "outputs": [
        {
          "output_type": "stream",
          "name": "stdout",
          "text": [
            "137 ['자세한 내용은 공지 본문을 확인해 주십시오.']\n",
            "154 ['자세한 내용은 공지 본문을 확인해 주십시오.']\n",
            "312 ['자세한 내용은 공지 본문을 확인해 주십시오.']\n",
            "457 ['자세한 내용은 공지 본문을 확인해 주십시오.']\n",
            "556 ['사단법인쌀람누리에서 첨부파일 내용과 같이 채용을공모하오니,많은관심과지원부탁드립니다', '감사합니다', '자세한 내용은 공지 본문을 확인해 주십시오.']\n",
            "598 ['자세한 내용은 공지 본문을 확인해 주십시오.']\n",
            "774 ['자세한 내용은 공지 본문을 확인해 주십시오.']\n",
            "791 ['자세한 내용은 공지 본문을 확인해 주십시오.']\n",
            "908 ['자세한 내용은 공지 본문을 확인해 주십시오.']\n",
            "1047 [' 한국외국어대학교 신입직원 채용 인터넷 접수  바로가기', '행 정 지 원 처 장', '자세한 내용은 공지 본문을 확인해 주십시오.']\n",
            "1048 [' 한국외국어대학교 입학사정관 채용 인터넷 접수  바로가기', '행 정 지 원 처 장', '자세한 내용은 공지 본문을 확인해 주십시오.']\n",
            "1055 ['자세한 내용은 공지 본문을 확인해 주십시오.']\n",
            "1072 ['자세한 내용은 공지 본문을 확인해 주십시오.']\n",
            "1118 ['자세한 내용은 공지 본문을 확인해 주십시오.']\n",
            "1199 ['자세한 내용은 공지 본문을 확인해 주십시오.']\n"
          ]
        }
      ]
    },
    {
      "cell_type": "markdown",
      "source": [
        "- 공지"
      ],
      "metadata": {
        "id": "H30LxJv0o2Ps"
      }
    },
    {
      "cell_type": "code",
      "source": [
        "for i in (129, 208, 415, 532, 720, 833, 881, 986, 994, 1009, 1187, 1413, 1689):\n",
        "  print(i, okt_key_sents(gongji, i))"
      ],
      "metadata": {
        "colab": {
          "base_uri": "https://localhost:8080/"
        },
        "id": "_nCnCDwLo_zz",
        "outputId": "90a67749-1a92-4df1-b82b-eb79a337be8f"
      },
      "execution_count": null,
      "outputs": [
        {
          "output_type": "stream",
          "name": "stdout",
          "text": [
            "129 ['자세한 내용은 공지 본문을 확인해 주십시오.']\n",
            "208 ['자세한 내용은 공지 본문을 확인해 주십시오.']\n",
            "415 ['자세한 내용은 공지 본문을 확인해 주십시오.']\n",
            "532 ['자세한 내용은 공지 본문을 확인해 주십시오.']\n",
            "720 ['한국외국어대학교 EU연구소 인문사회연구사업단', '제 1회 바우 하우스 콜로키움', '유럽 에너지 위기 최근 현황과 전망']\n",
            "833 ['산학협력프로젝트참여인력 선발이 완료되어 합격자 명단을 아래와 같이 공지합니다', '(합격자 대상 오리엔테이션 일정은 개별 연락 예정)', '학번  이름']\n",
            "881 ['자세한 내용은 공지 본문을 확인해 주십시오.']\n",
            "986 ['2022년도 상반기 분실물입니다', '사무실 운영시간 내 방문하셔서 찾아가시길 바랍니다', '하계방학 원스톱서비스센터 운영시간09:00 ~ 15:00 (점심시간 12:00 ~ 13:00)']\n",
            "994 ['사단법인쌀람누리에서 첨부파일 내용과 같이 채용을공모하오니,많은관심과지원부탁드립니다', '감사합니다', '자세한 내용은 공지 본문을 확인해 주십시오.']\n",
            "1009 ['자세한 내용은 공지 본문을 확인해 주십시오.']\n",
            "1187 ['개교 68주년 기념식은 코로나19로 인해 소수의 학교 관계자, 수상자 대표들만 모시고 진행하며, 행사 장면은 실시간 스트리밍으로 아래와 같이 중계되오니 많은 시청 바랍니다', '일시: 2022', ' 19(화) 10:30']\n",
            "1413 ['자세한 내용은 공지 본문을 확인해 주십시오.']\n",
            "1689 ['자세한 내용은 공지 본문을 확인해 주십시오.']\n"
          ]
        }
      ]
    },
    {
      "cell_type": "markdown",
      "source": [
        "- 장학"
      ],
      "metadata": {
        "id": "pPt6DP_1KYHP"
      }
    },
    {
      "cell_type": "code",
      "source": [
        "for i in (299, 531, 437, 1065, 1083, 1085, 1128):\n",
        "  print(i, okt_key_sents(janghak, i))"
      ],
      "metadata": {
        "colab": {
          "base_uri": "https://localhost:8080/"
        },
        "id": "sfbg5F2-J-1d",
        "outputId": "d59a67e7-984b-4c38-9123-51d5bff34fda"
      },
      "execution_count": null,
      "outputs": [
        {
          "output_type": "stream",
          "name": "stdout",
          "text": [
            "299 ['붙임의 서류를 갖추어 21년도 제29기세아해암 학술장학재단 장학생 모집안내를 하외 외대 학생들의 많은 지원 바랍니다', '붙 임 모집요강 1부', ' 끝']\n",
            "531 ['푸른등대 한국장학재단', \"'22년 1학기 국가장학금 1차 신청\", '12월 30일 18시 마감']\n",
            "437 ['* 자세한 사항은 첨부된 공고문을 참조바랍니다', ' 세부내용은 공고문을 반드시 확인해주시기 바랍니다', '선발인원 총 104명  지원자격공고일 현재 광주광역시 서구에 1년이상 계속 주소를 둔 주민과 그 자녀로서 유형별 요건을 갖춘 자 1인당지원금액고등학생 50만원,학교 밖 청소년 50만원 대학생 150만원 대학생 생활비 지원 100만원 장학생 선발유형성적우수, 행복(저소득), 코로나19 재난지원, 특기, 특별(다자녀, 장애인, 봉사, 다문화) 자격요건은 유형별로 상이합니다']\n",
            "1065 ['붙임의 서류를 갖추어 2023 소나무장학금 장학생 선발안내를 하니 한국외대 학생들의많은 지원 바랍니다', '붙 임 모집공고, 지원서 및 프로그램 안내문 각 1부', ' 끝']\n",
            "1083 ['붙임의 서류를 갖추어 2023년 정읍시민장학재단 장학생 선발안내를 하니 한국외대 학생들의많은 지원 바랍니다', '붙 임 선발 공고문 1부', ' 끝']\n",
            "1085 ['붙임의 서류를 갖추어 재단법인 서울장학재단의 2023년 서울희망 대학 진로 장학금 장학생 선발안내를 하니 한국외대 학생들의많은 지원 바랍니다', '붙 임 공고문 및 장학금 신청 자기소개서 양식 각 1부', ' 끝']\n",
            "1128 ['붙임의 서류를 갖추어 재단법인 춘천시민장학재단의 2023년도 하반기 장학생 선발안내를 하니 한국외대 학생들의많은 지원 바랍니다', '붙 임 선발 공고문 1부', ' 끝']\n"
          ]
        }
      ]
    },
    {
      "cell_type": "markdown",
      "source": [
        "- 학사"
      ],
      "metadata": {
        "id": "7H5LoOVHMz2x"
      }
    },
    {
      "cell_type": "code",
      "source": [
        "for i in (115, 133):\n",
        "  print(i, okt_key_sents(haksa, i))"
      ],
      "metadata": {
        "colab": {
          "base_uri": "https://localhost:8080/"
        },
        "id": "1JeqpFf4M1Nl",
        "outputId": "55d7e2a0-8d01-4ee4-9429-56c5583f24f5"
      },
      "execution_count": null,
      "outputs": [
        {
          "output_type": "stream",
          "name": "stdout",
          "text": [
            "115 ['[서울] 강의실 호실 안내2022', ' 8', ' 31서울캠퍼스 학사종합지원센터']\n",
            "133 ['2021년 1학기부터 EU 융합전공의 과목들이 신설/개편됩니다', '더 자세한 내용은 아래의 그림카드 뉴스를 참조해주시기 바랍니다', '자세한 내용은 공지 본문을 확인해 주십시오.']\n"
          ]
        }
      ]
    },
    {
      "cell_type": "markdown",
      "source": [
        "# 클래스화\n",
        " - 수연님 코드 참고"
      ],
      "metadata": {
        "id": "yvbs3tQJfl95"
      }
    },
    {
      "cell_type": "code",
      "source": [
        "import re\n",
        "from konlpy.tag import Okt\n",
        "from collections import namedtuple\n",
        "\n",
        "\n",
        "class Summarizer:\n",
        "    # 초기화 메서드: 불용어 파일 경로를 받아 불용어 리스트를 로드하고, Okt 객체와 KeysentenceSummarizer 객체를 초기화\n",
        "    def __init__(self, stopwords_path):\n",
        "        # self.stopwords = self.load_stopwords(stopwords_path)\n",
        "        self.okt = Okt()\n",
        "        self.summarizer = KeysentenceSummarizer(tokenize=self.okt_tokenize, min_sim=0.3)\n",
        "        #self.error_count = 0\n",
        "\n",
        "\n",
        "    # 불용어 파일을 읽어 불용어 리스트를 반환하는 메서드\n",
        "    def load_stopwords(self, stopwords_path):\n",
        "        with open(stopwords_path, 'r') as f:\n",
        "            stopwords = [line.strip() for line in f]\n",
        "        return stopwords\n",
        "\n",
        "\n",
        "    # Okt 객체를 사용하여 문장을 형태소 분석하고 불용어를 필터링하는 메서드\n",
        "    def okt_tokenize(self, sent):\n",
        "        words = self.okt.pos(sent, join=True)\n",
        "        words = [w for w in words if ('/Noun' in w or '/Adjective' in w or '/Verb' in w)]\n",
        "        return [word for word in words if word not in self.stopwords]\n",
        "\n",
        "\n",
        "    # 텍스트에서 한글 비율을 계산하여 외국어 여부를 판단하는 메서드\n",
        "    def is_foreign(text, korean_threshold=0.3):\n",
        "        if isinstance(text, list):\n",
        "            text = ' '.join(text)\n",
        "\n",
        "        text = text.strip()\n",
        "        if not text:\n",
        "            return False\n",
        "\n",
        "        total_chars = len(text)\n",
        "        korean_chars = len(re.findall('[가-힣]', text))\n",
        "\n",
        "        # 한국어 비율이 일정 수준 미만인 경우 True 반환\n",
        "        return korean_chars / total_chars < korean_threshold\n",
        "\n",
        "\n",
        "    # 주어진 제목과 내용을 요약하는 메서드\n",
        "    def summarize_content(self, title, content):\n",
        "        if self.is_foreign(content):\n",
        "            return []\n",
        "\n",
        "        if not content:\n",
        "            return []\n",
        "\n",
        "        if isinstance(content, list):\n",
        "            content = ' '.join(content)\n",
        "\n",
        "        if not content.strip():\n",
        "            return []\n",
        "\n",
        "        sents = re.split(r'\\n|\\.', content)\n",
        "        # 내용을 문장 단위로 분리\n",
        "        sents = list(filter(None, sents))\n",
        "        sents = [sent for sent in sents if sent.strip()]\n",
        "\n",
        "        if not sents:\n",
        "            return []\n",
        "\n",
        "        if len(sents) < 4:\n",
        "            # 문장이 4개 미만이면 요약하지 않고 그대로 반환\n",
        "            return sents\n",
        "\n",
        "        try:\n",
        "            # 핵심 문장 3개를 추출\n",
        "            keysents = self.summarizer.summarize(sents, topk=3)\n",
        "        except ValueError as e:\n",
        "            # 요약 중 오류 발생 시 처리\n",
        "            error_sent = \"자세한 내용은 본문을 참고하세요.\"\n",
        "            #print(f\"{title}, Summarizer error: {e}\")\n",
        "            #self.error_count += 1\n",
        "            return error_sent\n",
        "\n",
        "        # 핵심 문장 리스트를 반환\n",
        "        return [item[2] for item in keysents]"
      ],
      "metadata": {
        "id": "l3rbx-rVuvsu"
      },
      "execution_count": 34,
      "outputs": []
    },
    {
      "cell_type": "markdown",
      "source": [
        "# FastAPI"
      ],
      "metadata": {
        "id": "otAJ1hnlv-lG"
      }
    },
    {
      "cell_type": "code",
      "source": [
        "# colabcode 패키지 설치 : Colab 환경에서 FastAPI와 ngrok를 사용하여 웹 애플리케이션 실행 가능\n",
        "!pip install colabcode"
      ],
      "metadata": {
        "colab": {
          "base_uri": "https://localhost:8080/"
        },
        "collapsed": true,
        "id": "LZCWn8zxv-Hg",
        "outputId": "eb3b1c75-558d-4e36-91eb-e32583cae45e"
      },
      "execution_count": 35,
      "outputs": [
        {
          "output_type": "stream",
          "name": "stdout",
          "text": [
            "Collecting colabcode\n",
            "  Downloading colabcode-0.3.0-py3-none-any.whl (5.0 kB)\n",
            "Collecting pyngrok>=5.0.0 (from colabcode)\n",
            "  Downloading pyngrok-7.1.6-py3-none-any.whl (22 kB)\n",
            "Collecting nest-asyncio==1.4.3 (from colabcode)\n",
            "  Downloading nest_asyncio-1.4.3-py3-none-any.whl (5.3 kB)\n",
            "Collecting uvicorn==0.13.1 (from colabcode)\n",
            "  Downloading uvicorn-0.13.1-py3-none-any.whl (45 kB)\n",
            "\u001b[2K     \u001b[90m━━━━━━━━━━━━━━━━━━━━━━━━━━━━━━━━━━━━━━━━\u001b[0m \u001b[32m45.5/45.5 kB\u001b[0m \u001b[31m2.6 MB/s\u001b[0m eta \u001b[36m0:00:00\u001b[0m\n",
            "\u001b[?25hCollecting jupyterlab==3.0.7 (from colabcode)\n",
            "  Downloading jupyterlab-3.0.7-py3-none-any.whl (8.3 MB)\n",
            "\u001b[2K     \u001b[90m━━━━━━━━━━━━━━━━━━━━━━━━━━━━━━━━━━━━━━━━\u001b[0m \u001b[32m8.3/8.3 MB\u001b[0m \u001b[31m22.4 MB/s\u001b[0m eta \u001b[36m0:00:00\u001b[0m\n",
            "\u001b[?25hRequirement already satisfied: ipython in /usr/local/lib/python3.10/dist-packages (from jupyterlab==3.0.7->colabcode) (7.34.0)\n",
            "Requirement already satisfied: packaging in /usr/local/lib/python3.10/dist-packages (from jupyterlab==3.0.7->colabcode) (24.0)\n",
            "Requirement already satisfied: tornado>=6.1.0 in /usr/local/lib/python3.10/dist-packages (from jupyterlab==3.0.7->colabcode) (6.3.3)\n",
            "Requirement already satisfied: jupyter-core in /usr/local/lib/python3.10/dist-packages (from jupyterlab==3.0.7->colabcode) (5.7.2)\n",
            "Collecting jupyterlab-server~=2.0 (from jupyterlab==3.0.7->colabcode)\n",
            "  Downloading jupyterlab_server-2.27.2-py3-none-any.whl (59 kB)\n",
            "\u001b[2K     \u001b[90m━━━━━━━━━━━━━━━━━━━━━━━━━━━━━━━━━━━━━━━━\u001b[0m \u001b[32m59.4/59.4 kB\u001b[0m \u001b[31m7.3 MB/s\u001b[0m eta \u001b[36m0:00:00\u001b[0m\n",
            "\u001b[?25hRequirement already satisfied: jupyter-server~=1.2 in /usr/local/lib/python3.10/dist-packages (from jupyterlab==3.0.7->colabcode) (1.24.0)\n",
            "Collecting nbclassic~=0.2 (from jupyterlab==3.0.7->colabcode)\n",
            "  Downloading nbclassic-0.5.6-py3-none-any.whl (10.0 MB)\n",
            "\u001b[2K     \u001b[90m━━━━━━━━━━━━━━━━━━━━━━━━━━━━━━━━━━━━━━━━\u001b[0m \u001b[32m10.0/10.0 MB\u001b[0m \u001b[31m62.8 MB/s\u001b[0m eta \u001b[36m0:00:00\u001b[0m\n",
            "\u001b[?25hRequirement already satisfied: jinja2>=2.10 in /usr/local/lib/python3.10/dist-packages (from jupyterlab==3.0.7->colabcode) (3.1.4)\n",
            "Collecting click==7.* (from uvicorn==0.13.1->colabcode)\n",
            "  Downloading click-7.1.2-py2.py3-none-any.whl (82 kB)\n",
            "\u001b[2K     \u001b[90m━━━━━━━━━━━━━━━━━━━━━━━━━━━━━━━━━━━━━━━━\u001b[0m \u001b[32m82.8/82.8 kB\u001b[0m \u001b[31m10.4 MB/s\u001b[0m eta \u001b[36m0:00:00\u001b[0m\n",
            "\u001b[?25hCollecting h11>=0.8 (from uvicorn==0.13.1->colabcode)\n",
            "  Downloading h11-0.14.0-py3-none-any.whl (58 kB)\n",
            "\u001b[2K     \u001b[90m━━━━━━━━━━━━━━━━━━━━━━━━━━━━━━━━━━━━━━━━\u001b[0m \u001b[32m58.3/58.3 kB\u001b[0m \u001b[31m7.2 MB/s\u001b[0m eta \u001b[36m0:00:00\u001b[0m\n",
            "\u001b[?25hRequirement already satisfied: PyYAML>=5.1 in /usr/local/lib/python3.10/dist-packages (from pyngrok>=5.0.0->colabcode) (6.0.1)\n",
            "Requirement already satisfied: MarkupSafe>=2.0 in /usr/local/lib/python3.10/dist-packages (from jinja2>=2.10->jupyterlab==3.0.7->colabcode) (2.1.5)\n",
            "Requirement already satisfied: anyio<4,>=3.1.0 in /usr/local/lib/python3.10/dist-packages (from jupyter-server~=1.2->jupyterlab==3.0.7->colabcode) (3.7.1)\n",
            "Requirement already satisfied: argon2-cffi in /usr/local/lib/python3.10/dist-packages (from jupyter-server~=1.2->jupyterlab==3.0.7->colabcode) (23.1.0)\n",
            "Requirement already satisfied: jupyter-client>=6.1.12 in /usr/local/lib/python3.10/dist-packages (from jupyter-server~=1.2->jupyterlab==3.0.7->colabcode) (6.1.12)\n",
            "Requirement already satisfied: nbconvert>=6.4.4 in /usr/local/lib/python3.10/dist-packages (from jupyter-server~=1.2->jupyterlab==3.0.7->colabcode) (6.5.4)\n",
            "Requirement already satisfied: nbformat>=5.2.0 in /usr/local/lib/python3.10/dist-packages (from jupyter-server~=1.2->jupyterlab==3.0.7->colabcode) (5.10.4)\n",
            "Requirement already satisfied: prometheus-client in /usr/local/lib/python3.10/dist-packages (from jupyter-server~=1.2->jupyterlab==3.0.7->colabcode) (0.20.0)\n",
            "Requirement already satisfied: pyzmq>=17 in /usr/local/lib/python3.10/dist-packages (from jupyter-server~=1.2->jupyterlab==3.0.7->colabcode) (24.0.1)\n",
            "Requirement already satisfied: Send2Trash in /usr/local/lib/python3.10/dist-packages (from jupyter-server~=1.2->jupyterlab==3.0.7->colabcode) (1.8.3)\n",
            "Requirement already satisfied: terminado>=0.8.3 in /usr/local/lib/python3.10/dist-packages (from jupyter-server~=1.2->jupyterlab==3.0.7->colabcode) (0.18.1)\n",
            "Requirement already satisfied: traitlets>=5.1 in /usr/local/lib/python3.10/dist-packages (from jupyter-server~=1.2->jupyterlab==3.0.7->colabcode) (5.7.1)\n",
            "Requirement already satisfied: websocket-client in /usr/local/lib/python3.10/dist-packages (from jupyter-server~=1.2->jupyterlab==3.0.7->colabcode) (1.8.0)\n",
            "Requirement already satisfied: platformdirs>=2.5 in /usr/local/lib/python3.10/dist-packages (from jupyter-core->jupyterlab==3.0.7->colabcode) (4.2.2)\n",
            "Requirement already satisfied: babel>=2.10 in /usr/local/lib/python3.10/dist-packages (from jupyterlab-server~=2.0->jupyterlab==3.0.7->colabcode) (2.15.0)\n",
            "Collecting json5>=0.9.0 (from jupyterlab-server~=2.0->jupyterlab==3.0.7->colabcode)\n",
            "  Downloading json5-0.9.25-py3-none-any.whl (30 kB)\n",
            "Requirement already satisfied: jsonschema>=4.18.0 in /usr/local/lib/python3.10/dist-packages (from jupyterlab-server~=2.0->jupyterlab==3.0.7->colabcode) (4.19.2)\n",
            "Requirement already satisfied: requests>=2.31 in /usr/local/lib/python3.10/dist-packages (from jupyterlab-server~=2.0->jupyterlab==3.0.7->colabcode) (2.31.0)\n",
            "Requirement already satisfied: ipython-genutils in /usr/local/lib/python3.10/dist-packages (from nbclassic~=0.2->jupyterlab==3.0.7->colabcode) (0.2.0)\n",
            "Requirement already satisfied: notebook-shim>=0.2.3 in /usr/local/lib/python3.10/dist-packages (from nbclassic~=0.2->jupyterlab==3.0.7->colabcode) (0.2.4)\n",
            "INFO: pip is looking at multiple versions of nbclassic to determine which version is compatible with other requirements. This could take a while.\n",
            "Collecting nbclassic~=0.2 (from jupyterlab==3.0.7->colabcode)\n",
            "  Downloading nbclassic-0.5.5-py3-none-any.whl (10.0 MB)\n",
            "\u001b[2K     \u001b[90m━━━━━━━━━━━━━━━━━━━━━━━━━━━━━━━━━━━━━━━━\u001b[0m \u001b[32m10.0/10.0 MB\u001b[0m \u001b[31m28.4 MB/s\u001b[0m eta \u001b[36m0:00:00\u001b[0m\n",
            "\u001b[?25h  Downloading nbclassic-0.5.4-py3-none-any.whl (10.0 MB)\n",
            "\u001b[2K     \u001b[90m━━━━━━━━━━━━━━━━━━━━━━━━━━━━━━━━━━━━━━━━\u001b[0m \u001b[32m10.0/10.0 MB\u001b[0m \u001b[31m20.3 MB/s\u001b[0m eta \u001b[36m0:00:00\u001b[0m\n",
            "\u001b[?25h  Downloading nbclassic-0.5.3-py3-none-any.whl (10.0 MB)\n",
            "\u001b[2K     \u001b[90m━━━━━━━━━━━━━━━━━━━━━━━━━━━━━━━━━━━━━━━━\u001b[0m \u001b[32m10.0/10.0 MB\u001b[0m \u001b[31m17.4 MB/s\u001b[0m eta \u001b[36m0:00:00\u001b[0m\n",
            "\u001b[?25h  Downloading nbclassic-0.5.2-py3-none-any.whl (10.0 MB)\n",
            "\u001b[2K     \u001b[90m━━━━━━━━━━━━━━━━━━━━━━━━━━━━━━━━━━━━━━━━\u001b[0m \u001b[32m10.0/10.0 MB\u001b[0m \u001b[31m15.3 MB/s\u001b[0m eta \u001b[36m0:00:00\u001b[0m\n",
            "\u001b[?25h  Downloading nbclassic-0.5.1-py3-none-any.whl (10.0 MB)\n",
            "\u001b[2K     \u001b[90m━━━━━━━━━━━━━━━━━━━━━━━━━━━━━━━━━━━━━━━━\u001b[0m \u001b[32m10.0/10.0 MB\u001b[0m \u001b[31m29.4 MB/s\u001b[0m eta \u001b[36m0:00:00\u001b[0m\n",
            "\u001b[?25h  Downloading nbclassic-0.4.8-py3-none-any.whl (9.8 MB)\n",
            "\u001b[2K     \u001b[90m━━━━━━━━━━━━━━━━━━━━━━━━━━━━━━━━━━━━━━━━\u001b[0m \u001b[32m9.8/9.8 MB\u001b[0m \u001b[31m11.5 MB/s\u001b[0m eta \u001b[36m0:00:00\u001b[0m\n",
            "\u001b[?25h  Downloading nbclassic-0.4.7-py3-none-any.whl (9.8 MB)\n",
            "\u001b[2K     \u001b[90m━━━━━━━━━━━━━━━━━━━━━━━━━━━━━━━━━━━━━━━━\u001b[0m \u001b[32m9.8/9.8 MB\u001b[0m \u001b[31m26.1 MB/s\u001b[0m eta \u001b[36m0:00:00\u001b[0m\n",
            "\u001b[?25hINFO: pip is looking at multiple versions of nbclassic to determine which version is compatible with other requirements. This could take a while.\n",
            "  Downloading nbclassic-0.4.6-py3-none-any.whl (9.8 MB)\n",
            "\u001b[2K     \u001b[90m━━━━━━━━━━━━━━━━━━━━━━━━━━━━━━━━━━━━━━━━\u001b[0m \u001b[32m9.8/9.8 MB\u001b[0m \u001b[31m27.0 MB/s\u001b[0m eta \u001b[36m0:00:00\u001b[0m\n",
            "\u001b[?25h  Downloading nbclassic-0.4.5-py3-none-any.whl (9.8 MB)\n",
            "\u001b[2K     \u001b[90m━━━━━━━━━━━━━━━━━━━━━━━━━━━━━━━━━━━━━━━━\u001b[0m \u001b[32m9.8/9.8 MB\u001b[0m \u001b[31m69.2 MB/s\u001b[0m eta \u001b[36m0:00:00\u001b[0m\n",
            "\u001b[?25h  Downloading nbclassic-0.4.4-py3-none-any.whl (9.8 MB)\n",
            "\u001b[2K     \u001b[90m━━━━━━━━━━━━━━━━━━━━━━━━━━━━━━━━━━━━━━━━\u001b[0m \u001b[32m9.8/9.8 MB\u001b[0m \u001b[31m73.2 MB/s\u001b[0m eta \u001b[36m0:00:00\u001b[0m\n",
            "\u001b[?25h  Downloading nbclassic-0.4.3-py3-none-any.whl (9.7 MB)\n",
            "\u001b[2K     \u001b[90m━━━━━━━━━━━━━━━━━━━━━━━━━━━━━━━━━━━━━━━━\u001b[0m \u001b[32m9.7/9.7 MB\u001b[0m \u001b[31m4.9 MB/s\u001b[0m eta \u001b[36m0:00:00\u001b[0m\n",
            "\u001b[?25h  Downloading nbclassic-0.4.2-py3-none-any.whl (9.7 MB)\n",
            "\u001b[2K     \u001b[90m━━━━━━━━━━━━━━━━━━━━━━━━━━━━━━━━━━━━━━━━\u001b[0m \u001b[32m9.7/9.7 MB\u001b[0m \u001b[31m16.0 MB/s\u001b[0m eta \u001b[36m0:00:00\u001b[0m\n",
            "\u001b[?25hINFO: This is taking longer than usual. You might need to provide the dependency resolver with stricter constraints to reduce runtime. See https://pip.pypa.io/warnings/backtracking for guidance. If you want to abort this run, press Ctrl + C.\n",
            "  Downloading nbclassic-0.4.0-py3-none-any.whl (9.7 MB)\n",
            "\u001b[2K     \u001b[90m━━━━━━━━━━━━━━━━━━━━━━━━━━━━━━━━━━━━━━━━\u001b[0m \u001b[32m9.7/9.7 MB\u001b[0m \u001b[31m11.5 MB/s\u001b[0m eta \u001b[36m0:00:00\u001b[0m\n",
            "\u001b[?25h  Downloading nbclassic-0.3.7-py3-none-any.whl (13 kB)\n",
            "Requirement already satisfied: notebook<7 in /usr/local/lib/python3.10/dist-packages (from nbclassic~=0.2->jupyterlab==3.0.7->colabcode) (6.5.5)\n",
            "Requirement already satisfied: setuptools>=18.5 in /usr/local/lib/python3.10/dist-packages (from ipython->jupyterlab==3.0.7->colabcode) (67.7.2)\n",
            "Collecting jedi>=0.16 (from ipython->jupyterlab==3.0.7->colabcode)\n",
            "  Downloading jedi-0.19.1-py2.py3-none-any.whl (1.6 MB)\n",
            "\u001b[2K     \u001b[90m━━━━━━━━━━━━━━━━━━━━━━━━━━━━━━━━━━━━━━━━\u001b[0m \u001b[32m1.6/1.6 MB\u001b[0m \u001b[31m63.0 MB/s\u001b[0m eta \u001b[36m0:00:00\u001b[0m\n",
            "\u001b[?25hRequirement already satisfied: decorator in /usr/local/lib/python3.10/dist-packages (from ipython->jupyterlab==3.0.7->colabcode) (4.4.2)\n",
            "Requirement already satisfied: pickleshare in /usr/local/lib/python3.10/dist-packages (from ipython->jupyterlab==3.0.7->colabcode) (0.7.5)\n",
            "Requirement already satisfied: prompt-toolkit!=3.0.0,!=3.0.1,<3.1.0,>=2.0.0 in /usr/local/lib/python3.10/dist-packages (from ipython->jupyterlab==3.0.7->colabcode) (3.0.45)\n",
            "Requirement already satisfied: pygments in /usr/local/lib/python3.10/dist-packages (from ipython->jupyterlab==3.0.7->colabcode) (2.16.1)\n",
            "Requirement already satisfied: backcall in /usr/local/lib/python3.10/dist-packages (from ipython->jupyterlab==3.0.7->colabcode) (0.2.0)\n",
            "Requirement already satisfied: matplotlib-inline in /usr/local/lib/python3.10/dist-packages (from ipython->jupyterlab==3.0.7->colabcode) (0.1.7)\n",
            "Requirement already satisfied: pexpect>4.3 in /usr/local/lib/python3.10/dist-packages (from ipython->jupyterlab==3.0.7->colabcode) (4.9.0)\n",
            "Requirement already satisfied: idna>=2.8 in /usr/local/lib/python3.10/dist-packages (from anyio<4,>=3.1.0->jupyter-server~=1.2->jupyterlab==3.0.7->colabcode) (3.7)\n",
            "Requirement already satisfied: sniffio>=1.1 in /usr/local/lib/python3.10/dist-packages (from anyio<4,>=3.1.0->jupyter-server~=1.2->jupyterlab==3.0.7->colabcode) (1.3.1)\n",
            "Requirement already satisfied: exceptiongroup in /usr/local/lib/python3.10/dist-packages (from anyio<4,>=3.1.0->jupyter-server~=1.2->jupyterlab==3.0.7->colabcode) (1.2.1)\n",
            "Requirement already satisfied: parso<0.9.0,>=0.8.3 in /usr/local/lib/python3.10/dist-packages (from jedi>=0.16->ipython->jupyterlab==3.0.7->colabcode) (0.8.4)\n",
            "Requirement already satisfied: attrs>=22.2.0 in /usr/local/lib/python3.10/dist-packages (from jsonschema>=4.18.0->jupyterlab-server~=2.0->jupyterlab==3.0.7->colabcode) (23.2.0)\n",
            "Requirement already satisfied: jsonschema-specifications>=2023.03.6 in /usr/local/lib/python3.10/dist-packages (from jsonschema>=4.18.0->jupyterlab-server~=2.0->jupyterlab==3.0.7->colabcode) (2023.12.1)\n",
            "Requirement already satisfied: referencing>=0.28.4 in /usr/local/lib/python3.10/dist-packages (from jsonschema>=4.18.0->jupyterlab-server~=2.0->jupyterlab==3.0.7->colabcode) (0.35.1)\n",
            "Requirement already satisfied: rpds-py>=0.7.1 in /usr/local/lib/python3.10/dist-packages (from jsonschema>=4.18.0->jupyterlab-server~=2.0->jupyterlab==3.0.7->colabcode) (0.18.1)\n",
            "Requirement already satisfied: python-dateutil>=2.1 in /usr/local/lib/python3.10/dist-packages (from jupyter-client>=6.1.12->jupyter-server~=1.2->jupyterlab==3.0.7->colabcode) (2.8.2)\n",
            "Requirement already satisfied: lxml in /usr/local/lib/python3.10/dist-packages (from nbconvert>=6.4.4->jupyter-server~=1.2->jupyterlab==3.0.7->colabcode) (4.9.4)\n",
            "Requirement already satisfied: beautifulsoup4 in /usr/local/lib/python3.10/dist-packages (from nbconvert>=6.4.4->jupyter-server~=1.2->jupyterlab==3.0.7->colabcode) (4.12.3)\n",
            "Requirement already satisfied: bleach in /usr/local/lib/python3.10/dist-packages (from nbconvert>=6.4.4->jupyter-server~=1.2->jupyterlab==3.0.7->colabcode) (6.1.0)\n",
            "Requirement already satisfied: defusedxml in /usr/local/lib/python3.10/dist-packages (from nbconvert>=6.4.4->jupyter-server~=1.2->jupyterlab==3.0.7->colabcode) (0.7.1)\n",
            "Requirement already satisfied: entrypoints>=0.2.2 in /usr/local/lib/python3.10/dist-packages (from nbconvert>=6.4.4->jupyter-server~=1.2->jupyterlab==3.0.7->colabcode) (0.4)\n",
            "Requirement already satisfied: jupyterlab-pygments in /usr/local/lib/python3.10/dist-packages (from nbconvert>=6.4.4->jupyter-server~=1.2->jupyterlab==3.0.7->colabcode) (0.3.0)\n",
            "Requirement already satisfied: mistune<2,>=0.8.1 in /usr/local/lib/python3.10/dist-packages (from nbconvert>=6.4.4->jupyter-server~=1.2->jupyterlab==3.0.7->colabcode) (0.8.4)\n",
            "Requirement already satisfied: nbclient>=0.5.0 in /usr/local/lib/python3.10/dist-packages (from nbconvert>=6.4.4->jupyter-server~=1.2->jupyterlab==3.0.7->colabcode) (0.10.0)\n",
            "Requirement already satisfied: pandocfilters>=1.4.1 in /usr/local/lib/python3.10/dist-packages (from nbconvert>=6.4.4->jupyter-server~=1.2->jupyterlab==3.0.7->colabcode) (1.5.1)\n",
            "Requirement already satisfied: tinycss2 in /usr/local/lib/python3.10/dist-packages (from nbconvert>=6.4.4->jupyter-server~=1.2->jupyterlab==3.0.7->colabcode) (1.3.0)\n",
            "Requirement already satisfied: fastjsonschema>=2.15 in /usr/local/lib/python3.10/dist-packages (from nbformat>=5.2.0->jupyter-server~=1.2->jupyterlab==3.0.7->colabcode) (2.19.1)\n",
            "INFO: pip is looking at multiple versions of notebook to determine which version is compatible with other requirements. This could take a while.\n",
            "Collecting notebook<7 (from nbclassic~=0.2->jupyterlab==3.0.7->colabcode)\n",
            "  Downloading notebook-6.5.7-py3-none-any.whl (529 kB)\n",
            "\u001b[2K     \u001b[90m━━━━━━━━━━━━━━━━━━━━━━━━━━━━━━━━━━━━━━━━\u001b[0m \u001b[32m529.8/529.8 kB\u001b[0m \u001b[31m38.4 MB/s\u001b[0m eta \u001b[36m0:00:00\u001b[0m\n",
            "\u001b[?25h  Downloading notebook-6.5.6-py3-none-any.whl (529 kB)\n",
            "\u001b[2K     \u001b[90m━━━━━━━━━━━━━━━━━━━━━━━━━━━━━━━━━━━━━━━━\u001b[0m \u001b[32m529.8/529.8 kB\u001b[0m \u001b[31m40.5 MB/s\u001b[0m eta \u001b[36m0:00:00\u001b[0m\n",
            "\u001b[?25h  Downloading notebook-6.5.4-py3-none-any.whl (529 kB)\n",
            "\u001b[2K     \u001b[90m━━━━━━━━━━━━━━━━━━━━━━━━━━━━━━━━━━━━━━━━\u001b[0m \u001b[32m529.8/529.8 kB\u001b[0m \u001b[31m36.7 MB/s\u001b[0m eta \u001b[36m0:00:00\u001b[0m\n",
            "\u001b[?25h  Downloading notebook-6.5.3-py3-none-any.whl (529 kB)\n",
            "\u001b[2K     \u001b[90m━━━━━━━━━━━━━━━━━━━━━━━━━━━━━━━━━━━━━━━━\u001b[0m \u001b[32m529.7/529.7 kB\u001b[0m \u001b[31m41.6 MB/s\u001b[0m eta \u001b[36m0:00:00\u001b[0m\n",
            "\u001b[?25h  Downloading notebook-6.5.2-py3-none-any.whl (439 kB)\n",
            "\u001b[2K     \u001b[90m━━━━━━━━━━━━━━━━━━━━━━━━━━━━━━━━━━━━━━━━\u001b[0m \u001b[32m439.1/439.1 kB\u001b[0m \u001b[31m39.2 MB/s\u001b[0m eta \u001b[36m0:00:00\u001b[0m\n",
            "\u001b[?25h  Downloading notebook-6.5.1-py3-none-any.whl (439 kB)\n",
            "\u001b[2K     \u001b[90m━━━━━━━━━━━━━━━━━━━━━━━━━━━━━━━━━━━━━━━━\u001b[0m \u001b[32m439.1/439.1 kB\u001b[0m \u001b[31m37.7 MB/s\u001b[0m eta \u001b[36m0:00:00\u001b[0m\n",
            "\u001b[?25h  Downloading notebook-6.4.13-py3-none-any.whl (9.9 MB)\n",
            "\u001b[2K     \u001b[90m━━━━━━━━━━━━━━━━━━━━━━━━━━━━━━━━━━━━━━━━\u001b[0m \u001b[32m9.9/9.9 MB\u001b[0m \u001b[31m67.9 MB/s\u001b[0m eta \u001b[36m0:00:00\u001b[0m\n",
            "\u001b[?25hINFO: pip is looking at multiple versions of notebook to determine which version is compatible with other requirements. This could take a while.\n",
            "  Downloading notebook-6.4.12-py3-none-any.whl (9.9 MB)\n",
            "\u001b[2K     \u001b[90m━━━━━━━━━━━━━━━━━━━━━━━━━━━━━━━━━━━━━━━━\u001b[0m \u001b[32m9.9/9.9 MB\u001b[0m \u001b[31m6.8 MB/s\u001b[0m eta \u001b[36m0:00:00\u001b[0m\n",
            "\u001b[?25h  Downloading notebook-6.4.11-py3-none-any.whl (9.9 MB)\n",
            "\u001b[2K     \u001b[90m━━━━━━━━━━━━━━━━━━━━━━━━━━━━━━━━━━━━━━━━\u001b[0m \u001b[32m9.9/9.9 MB\u001b[0m \u001b[31m71.6 MB/s\u001b[0m eta \u001b[36m0:00:00\u001b[0m\n",
            "\u001b[?25h  Downloading notebook-6.4.10-py3-none-any.whl (9.9 MB)\n",
            "\u001b[2K     \u001b[90m━━━━━━━━━━━━━━━━━━━━━━━━━━━━━━━━━━━━━━━━\u001b[0m \u001b[32m9.9/9.9 MB\u001b[0m \u001b[31m50.4 MB/s\u001b[0m eta \u001b[36m0:00:00\u001b[0m\n",
            "\u001b[?25h  Downloading notebook-6.4.9-py3-none-any.whl (9.9 MB)\n",
            "\u001b[2K     \u001b[90m━━━━━━━━━━━━━━━━━━━━━━━━━━━━━━━━━━━━━━━━\u001b[0m \u001b[32m9.9/9.9 MB\u001b[0m \u001b[31m22.6 MB/s\u001b[0m eta \u001b[36m0:00:00\u001b[0m\n",
            "\u001b[?25h  Downloading notebook-6.4.8-py3-none-any.whl (9.9 MB)\n",
            "\u001b[2K     \u001b[90m━━━━━━━━━━━━━━━━━━━━━━━━━━━━━━━━━━━━━━━━\u001b[0m \u001b[32m9.9/9.9 MB\u001b[0m \u001b[31m20.4 MB/s\u001b[0m eta \u001b[36m0:00:00\u001b[0m\n",
            "\u001b[?25hINFO: This is taking longer than usual. You might need to provide the dependency resolver with stricter constraints to reduce runtime. See https://pip.pypa.io/warnings/backtracking for guidance. If you want to abort this run, press Ctrl + C.\n",
            "  Downloading notebook-6.4.7-py3-none-any.whl (9.9 MB)\n",
            "\u001b[2K     \u001b[90m━━━━━━━━━━━━━━━━━━━━━━━━━━━━━━━━━━━━━━━━\u001b[0m \u001b[32m9.9/9.9 MB\u001b[0m \u001b[31m12.6 MB/s\u001b[0m eta \u001b[36m0:00:00\u001b[0m\n",
            "\u001b[?25h  Downloading notebook-6.4.6-py3-none-any.whl (9.9 MB)\n",
            "\u001b[2K     \u001b[90m━━━━━━━━━━━━━━━━━━━━━━━━━━━━━━━━━━━━━━━━\u001b[0m \u001b[32m9.9/9.9 MB\u001b[0m \u001b[31m66.7 MB/s\u001b[0m eta \u001b[36m0:00:00\u001b[0m\n",
            "\u001b[?25h  Downloading notebook-6.4.5-py3-none-any.whl (9.9 MB)\n",
            "\u001b[2K     \u001b[90m━━━━━━━━━━━━━━━━━━━━━━━━━━━━━━━━━━━━━━━━\u001b[0m \u001b[32m9.9/9.9 MB\u001b[0m \u001b[31m10.9 MB/s\u001b[0m eta \u001b[36m0:00:00\u001b[0m\n",
            "\u001b[?25hRequirement already satisfied: ipykernel in /usr/local/lib/python3.10/dist-packages (from notebook<7->nbclassic~=0.2->jupyterlab==3.0.7->colabcode) (5.5.6)\n",
            "Requirement already satisfied: ptyprocess>=0.5 in /usr/local/lib/python3.10/dist-packages (from pexpect>4.3->ipython->jupyterlab==3.0.7->colabcode) (0.7.0)\n",
            "Requirement already satisfied: wcwidth in /usr/local/lib/python3.10/dist-packages (from prompt-toolkit!=3.0.0,!=3.0.1,<3.1.0,>=2.0.0->ipython->jupyterlab==3.0.7->colabcode) (0.2.13)\n",
            "Requirement already satisfied: charset-normalizer<4,>=2 in /usr/local/lib/python3.10/dist-packages (from requests>=2.31->jupyterlab-server~=2.0->jupyterlab==3.0.7->colabcode) (3.3.2)\n",
            "Requirement already satisfied: urllib3<3,>=1.21.1 in /usr/local/lib/python3.10/dist-packages (from requests>=2.31->jupyterlab-server~=2.0->jupyterlab==3.0.7->colabcode) (2.0.7)\n",
            "Requirement already satisfied: certifi>=2017.4.17 in /usr/local/lib/python3.10/dist-packages (from requests>=2.31->jupyterlab-server~=2.0->jupyterlab==3.0.7->colabcode) (2024.6.2)\n",
            "Requirement already satisfied: argon2-cffi-bindings in /usr/local/lib/python3.10/dist-packages (from argon2-cffi->jupyter-server~=1.2->jupyterlab==3.0.7->colabcode) (21.2.0)\n",
            "Requirement already satisfied: six>=1.5 in /usr/local/lib/python3.10/dist-packages (from python-dateutil>=2.1->jupyter-client>=6.1.12->jupyter-server~=1.2->jupyterlab==3.0.7->colabcode) (1.16.0)\n",
            "Requirement already satisfied: cffi>=1.0.1 in /usr/local/lib/python3.10/dist-packages (from argon2-cffi-bindings->argon2-cffi->jupyter-server~=1.2->jupyterlab==3.0.7->colabcode) (1.16.0)\n",
            "Requirement already satisfied: soupsieve>1.2 in /usr/local/lib/python3.10/dist-packages (from beautifulsoup4->nbconvert>=6.4.4->jupyter-server~=1.2->jupyterlab==3.0.7->colabcode) (2.5)\n",
            "Requirement already satisfied: webencodings in /usr/local/lib/python3.10/dist-packages (from bleach->nbconvert>=6.4.4->jupyter-server~=1.2->jupyterlab==3.0.7->colabcode) (0.5.1)\n",
            "Requirement already satisfied: pycparser in /usr/local/lib/python3.10/dist-packages (from cffi>=1.0.1->argon2-cffi-bindings->argon2-cffi->jupyter-server~=1.2->jupyterlab==3.0.7->colabcode) (2.22)\n",
            "Installing collected packages: pyngrok, nest-asyncio, json5, jedi, h11, click, uvicorn, notebook, jupyterlab-server, nbclassic, jupyterlab, colabcode\n",
            "  Attempting uninstall: nest-asyncio\n",
            "    Found existing installation: nest-asyncio 1.6.0\n",
            "    Uninstalling nest-asyncio-1.6.0:\n",
            "      Successfully uninstalled nest-asyncio-1.6.0\n",
            "  Attempting uninstall: click\n",
            "    Found existing installation: click 8.1.7\n",
            "    Uninstalling click-8.1.7:\n",
            "      Successfully uninstalled click-8.1.7\n",
            "  Attempting uninstall: notebook\n",
            "    Found existing installation: notebook 6.5.5\n",
            "    Uninstalling notebook-6.5.5:\n",
            "      Successfully uninstalled notebook-6.5.5\n",
            "  Attempting uninstall: nbclassic\n",
            "    Found existing installation: nbclassic 1.1.0\n",
            "    Uninstalling nbclassic-1.1.0:\n",
            "      Successfully uninstalled nbclassic-1.1.0\n",
            "\u001b[31mERROR: pip's dependency resolver does not currently take into account all the packages that are installed. This behaviour is the source of the following dependency conflicts.\n",
            "flask 2.2.5 requires click>=8.0, but you have click 7.1.2 which is incompatible.\n",
            "dask 2023.8.1 requires click>=8.0, but you have click 7.1.2 which is incompatible.\n",
            "distributed 2023.8.1 requires click>=8.0, but you have click 7.1.2 which is incompatible.\n",
            "fiona 1.9.6 requires click~=8.0, but you have click 7.1.2 which is incompatible.\n",
            "google-colab 1.0.0 requires notebook==6.5.5, but you have notebook 6.4.5 which is incompatible.\n",
            "pip-tools 6.13.0 requires click>=8, but you have click 7.1.2 which is incompatible.\u001b[0m\u001b[31m\n",
            "\u001b[0mSuccessfully installed click-7.1.2 colabcode-0.3.0 h11-0.14.0 jedi-0.19.1 json5-0.9.25 jupyterlab-3.0.7 jupyterlab-server-2.27.2 nbclassic-0.3.7 nest-asyncio-1.4.3 notebook-6.4.5 pyngrok-7.1.6 uvicorn-0.13.1\n"
          ]
        }
      ]
    },
    {
      "cell_type": "code",
      "source": [
        "# FastAPI, uvicorn, typer 및 colabcode 패키지를 호환되는 버전으로 설치\n",
        "!pip install fastapi==0.68.2 uvicorn==0.13.1 typer==0.9.0 colabcode"
      ],
      "metadata": {
        "colab": {
          "base_uri": "https://localhost:8080/"
        },
        "collapsed": true,
        "id": "i_JBuhg4w5IB",
        "outputId": "d6c43f6e-c63f-4d43-be5b-7cb6cc9a7593"
      },
      "execution_count": 36,
      "outputs": [
        {
          "output_type": "stream",
          "name": "stdout",
          "text": [
            "Collecting fastapi==0.68.2\n",
            "  Downloading fastapi-0.68.2-py3-none-any.whl (52 kB)\n",
            "\u001b[2K     \u001b[90m━━━━━━━━━━━━━━━━━━━━━━━━━━━━━━━━━━━━━━━━\u001b[0m \u001b[32m52.4/52.4 kB\u001b[0m \u001b[31m1.6 MB/s\u001b[0m eta \u001b[36m0:00:00\u001b[0m\n",
            "\u001b[?25hRequirement already satisfied: uvicorn==0.13.1 in /usr/local/lib/python3.10/dist-packages (0.13.1)\n",
            "Collecting typer==0.9.0\n",
            "  Downloading typer-0.9.0-py3-none-any.whl (45 kB)\n",
            "\u001b[2K     \u001b[90m━━━━━━━━━━━━━━━━━━━━━━━━━━━━━━━━━━━━━━━━\u001b[0m \u001b[32m45.9/45.9 kB\u001b[0m \u001b[31m3.9 MB/s\u001b[0m eta \u001b[36m0:00:00\u001b[0m\n",
            "\u001b[?25hRequirement already satisfied: colabcode in /usr/local/lib/python3.10/dist-packages (0.3.0)\n",
            "Collecting starlette==0.14.2 (from fastapi==0.68.2)\n",
            "  Downloading starlette-0.14.2-py3-none-any.whl (60 kB)\n",
            "\u001b[2K     \u001b[90m━━━━━━━━━━━━━━━━━━━━━━━━━━━━━━━━━━━━━━━━\u001b[0m \u001b[32m60.6/60.6 kB\u001b[0m \u001b[31m8.1 MB/s\u001b[0m eta \u001b[36m0:00:00\u001b[0m\n",
            "\u001b[?25hCollecting pydantic!=1.7,!=1.7.1,!=1.7.2,!=1.7.3,!=1.8,!=1.8.1,<2.0.0,>=1.6.2 (from fastapi==0.68.2)\n",
            "  Downloading pydantic-1.10.15-cp310-cp310-manylinux_2_17_x86_64.manylinux2014_x86_64.whl (3.1 MB)\n",
            "\u001b[2K     \u001b[90m━━━━━━━━━━━━━━━━━━━━━━━━━━━━━━━━━━━━━━━━\u001b[0m \u001b[32m3.1/3.1 MB\u001b[0m \u001b[31m39.6 MB/s\u001b[0m eta \u001b[36m0:00:00\u001b[0m\n",
            "\u001b[?25hRequirement already satisfied: click==7.* in /usr/local/lib/python3.10/dist-packages (from uvicorn==0.13.1) (7.1.2)\n",
            "Requirement already satisfied: h11>=0.8 in /usr/local/lib/python3.10/dist-packages (from uvicorn==0.13.1) (0.14.0)\n",
            "Requirement already satisfied: typing-extensions>=3.7.4.3 in /usr/local/lib/python3.10/dist-packages (from typer==0.9.0) (4.12.1)\n",
            "Requirement already satisfied: pyngrok>=5.0.0 in /usr/local/lib/python3.10/dist-packages (from colabcode) (7.1.6)\n",
            "Requirement already satisfied: nest-asyncio==1.4.3 in /usr/local/lib/python3.10/dist-packages (from colabcode) (1.4.3)\n",
            "Requirement already satisfied: jupyterlab==3.0.7 in /usr/local/lib/python3.10/dist-packages (from colabcode) (3.0.7)\n",
            "Requirement already satisfied: ipython in /usr/local/lib/python3.10/dist-packages (from jupyterlab==3.0.7->colabcode) (7.34.0)\n",
            "Requirement already satisfied: packaging in /usr/local/lib/python3.10/dist-packages (from jupyterlab==3.0.7->colabcode) (24.0)\n",
            "Requirement already satisfied: tornado>=6.1.0 in /usr/local/lib/python3.10/dist-packages (from jupyterlab==3.0.7->colabcode) (6.3.3)\n",
            "Requirement already satisfied: jupyter-core in /usr/local/lib/python3.10/dist-packages (from jupyterlab==3.0.7->colabcode) (5.7.2)\n",
            "Requirement already satisfied: jupyterlab-server~=2.0 in /usr/local/lib/python3.10/dist-packages (from jupyterlab==3.0.7->colabcode) (2.27.2)\n",
            "Requirement already satisfied: jupyter-server~=1.2 in /usr/local/lib/python3.10/dist-packages (from jupyterlab==3.0.7->colabcode) (1.24.0)\n",
            "Requirement already satisfied: nbclassic~=0.2 in /usr/local/lib/python3.10/dist-packages (from jupyterlab==3.0.7->colabcode) (0.3.7)\n",
            "Requirement already satisfied: jinja2>=2.10 in /usr/local/lib/python3.10/dist-packages (from jupyterlab==3.0.7->colabcode) (3.1.4)\n",
            "Requirement already satisfied: PyYAML>=5.1 in /usr/local/lib/python3.10/dist-packages (from pyngrok>=5.0.0->colabcode) (6.0.1)\n",
            "Requirement already satisfied: MarkupSafe>=2.0 in /usr/local/lib/python3.10/dist-packages (from jinja2>=2.10->jupyterlab==3.0.7->colabcode) (2.1.5)\n",
            "Requirement already satisfied: anyio<4,>=3.1.0 in /usr/local/lib/python3.10/dist-packages (from jupyter-server~=1.2->jupyterlab==3.0.7->colabcode) (3.7.1)\n",
            "Requirement already satisfied: argon2-cffi in /usr/local/lib/python3.10/dist-packages (from jupyter-server~=1.2->jupyterlab==3.0.7->colabcode) (23.1.0)\n",
            "Requirement already satisfied: jupyter-client>=6.1.12 in /usr/local/lib/python3.10/dist-packages (from jupyter-server~=1.2->jupyterlab==3.0.7->colabcode) (6.1.12)\n",
            "Requirement already satisfied: nbconvert>=6.4.4 in /usr/local/lib/python3.10/dist-packages (from jupyter-server~=1.2->jupyterlab==3.0.7->colabcode) (6.5.4)\n",
            "Requirement already satisfied: nbformat>=5.2.0 in /usr/local/lib/python3.10/dist-packages (from jupyter-server~=1.2->jupyterlab==3.0.7->colabcode) (5.10.4)\n",
            "Requirement already satisfied: prometheus-client in /usr/local/lib/python3.10/dist-packages (from jupyter-server~=1.2->jupyterlab==3.0.7->colabcode) (0.20.0)\n",
            "Requirement already satisfied: pyzmq>=17 in /usr/local/lib/python3.10/dist-packages (from jupyter-server~=1.2->jupyterlab==3.0.7->colabcode) (24.0.1)\n",
            "Requirement already satisfied: Send2Trash in /usr/local/lib/python3.10/dist-packages (from jupyter-server~=1.2->jupyterlab==3.0.7->colabcode) (1.8.3)\n",
            "Requirement already satisfied: terminado>=0.8.3 in /usr/local/lib/python3.10/dist-packages (from jupyter-server~=1.2->jupyterlab==3.0.7->colabcode) (0.18.1)\n",
            "Requirement already satisfied: traitlets>=5.1 in /usr/local/lib/python3.10/dist-packages (from jupyter-server~=1.2->jupyterlab==3.0.7->colabcode) (5.7.1)\n",
            "Requirement already satisfied: websocket-client in /usr/local/lib/python3.10/dist-packages (from jupyter-server~=1.2->jupyterlab==3.0.7->colabcode) (1.8.0)\n",
            "Requirement already satisfied: platformdirs>=2.5 in /usr/local/lib/python3.10/dist-packages (from jupyter-core->jupyterlab==3.0.7->colabcode) (4.2.2)\n",
            "Requirement already satisfied: babel>=2.10 in /usr/local/lib/python3.10/dist-packages (from jupyterlab-server~=2.0->jupyterlab==3.0.7->colabcode) (2.15.0)\n",
            "Requirement already satisfied: json5>=0.9.0 in /usr/local/lib/python3.10/dist-packages (from jupyterlab-server~=2.0->jupyterlab==3.0.7->colabcode) (0.9.25)\n",
            "Requirement already satisfied: jsonschema>=4.18.0 in /usr/local/lib/python3.10/dist-packages (from jupyterlab-server~=2.0->jupyterlab==3.0.7->colabcode) (4.19.2)\n",
            "Requirement already satisfied: requests>=2.31 in /usr/local/lib/python3.10/dist-packages (from jupyterlab-server~=2.0->jupyterlab==3.0.7->colabcode) (2.31.0)\n",
            "Requirement already satisfied: notebook<7 in /usr/local/lib/python3.10/dist-packages (from nbclassic~=0.2->jupyterlab==3.0.7->colabcode) (6.4.5)\n",
            "Requirement already satisfied: notebook-shim>=0.1.0 in /usr/local/lib/python3.10/dist-packages (from nbclassic~=0.2->jupyterlab==3.0.7->colabcode) (0.2.4)\n",
            "Requirement already satisfied: setuptools>=18.5 in /usr/local/lib/python3.10/dist-packages (from ipython->jupyterlab==3.0.7->colabcode) (67.7.2)\n",
            "Requirement already satisfied: jedi>=0.16 in /usr/local/lib/python3.10/dist-packages (from ipython->jupyterlab==3.0.7->colabcode) (0.19.1)\n",
            "Requirement already satisfied: decorator in /usr/local/lib/python3.10/dist-packages (from ipython->jupyterlab==3.0.7->colabcode) (4.4.2)\n",
            "Requirement already satisfied: pickleshare in /usr/local/lib/python3.10/dist-packages (from ipython->jupyterlab==3.0.7->colabcode) (0.7.5)\n",
            "Requirement already satisfied: prompt-toolkit!=3.0.0,!=3.0.1,<3.1.0,>=2.0.0 in /usr/local/lib/python3.10/dist-packages (from ipython->jupyterlab==3.0.7->colabcode) (3.0.45)\n",
            "Requirement already satisfied: pygments in /usr/local/lib/python3.10/dist-packages (from ipython->jupyterlab==3.0.7->colabcode) (2.16.1)\n",
            "Requirement already satisfied: backcall in /usr/local/lib/python3.10/dist-packages (from ipython->jupyterlab==3.0.7->colabcode) (0.2.0)\n",
            "Requirement already satisfied: matplotlib-inline in /usr/local/lib/python3.10/dist-packages (from ipython->jupyterlab==3.0.7->colabcode) (0.1.7)\n",
            "Requirement already satisfied: pexpect>4.3 in /usr/local/lib/python3.10/dist-packages (from ipython->jupyterlab==3.0.7->colabcode) (4.9.0)\n",
            "Requirement already satisfied: idna>=2.8 in /usr/local/lib/python3.10/dist-packages (from anyio<4,>=3.1.0->jupyter-server~=1.2->jupyterlab==3.0.7->colabcode) (3.7)\n",
            "Requirement already satisfied: sniffio>=1.1 in /usr/local/lib/python3.10/dist-packages (from anyio<4,>=3.1.0->jupyter-server~=1.2->jupyterlab==3.0.7->colabcode) (1.3.1)\n",
            "Requirement already satisfied: exceptiongroup in /usr/local/lib/python3.10/dist-packages (from anyio<4,>=3.1.0->jupyter-server~=1.2->jupyterlab==3.0.7->colabcode) (1.2.1)\n",
            "Requirement already satisfied: parso<0.9.0,>=0.8.3 in /usr/local/lib/python3.10/dist-packages (from jedi>=0.16->ipython->jupyterlab==3.0.7->colabcode) (0.8.4)\n",
            "Requirement already satisfied: attrs>=22.2.0 in /usr/local/lib/python3.10/dist-packages (from jsonschema>=4.18.0->jupyterlab-server~=2.0->jupyterlab==3.0.7->colabcode) (23.2.0)\n",
            "Requirement already satisfied: jsonschema-specifications>=2023.03.6 in /usr/local/lib/python3.10/dist-packages (from jsonschema>=4.18.0->jupyterlab-server~=2.0->jupyterlab==3.0.7->colabcode) (2023.12.1)\n",
            "Requirement already satisfied: referencing>=0.28.4 in /usr/local/lib/python3.10/dist-packages (from jsonschema>=4.18.0->jupyterlab-server~=2.0->jupyterlab==3.0.7->colabcode) (0.35.1)\n",
            "Requirement already satisfied: rpds-py>=0.7.1 in /usr/local/lib/python3.10/dist-packages (from jsonschema>=4.18.0->jupyterlab-server~=2.0->jupyterlab==3.0.7->colabcode) (0.18.1)\n",
            "Requirement already satisfied: python-dateutil>=2.1 in /usr/local/lib/python3.10/dist-packages (from jupyter-client>=6.1.12->jupyter-server~=1.2->jupyterlab==3.0.7->colabcode) (2.8.2)\n",
            "Requirement already satisfied: lxml in /usr/local/lib/python3.10/dist-packages (from nbconvert>=6.4.4->jupyter-server~=1.2->jupyterlab==3.0.7->colabcode) (4.9.4)\n",
            "Requirement already satisfied: beautifulsoup4 in /usr/local/lib/python3.10/dist-packages (from nbconvert>=6.4.4->jupyter-server~=1.2->jupyterlab==3.0.7->colabcode) (4.12.3)\n",
            "Requirement already satisfied: bleach in /usr/local/lib/python3.10/dist-packages (from nbconvert>=6.4.4->jupyter-server~=1.2->jupyterlab==3.0.7->colabcode) (6.1.0)\n",
            "Requirement already satisfied: defusedxml in /usr/local/lib/python3.10/dist-packages (from nbconvert>=6.4.4->jupyter-server~=1.2->jupyterlab==3.0.7->colabcode) (0.7.1)\n",
            "Requirement already satisfied: entrypoints>=0.2.2 in /usr/local/lib/python3.10/dist-packages (from nbconvert>=6.4.4->jupyter-server~=1.2->jupyterlab==3.0.7->colabcode) (0.4)\n",
            "Requirement already satisfied: jupyterlab-pygments in /usr/local/lib/python3.10/dist-packages (from nbconvert>=6.4.4->jupyter-server~=1.2->jupyterlab==3.0.7->colabcode) (0.3.0)\n",
            "Requirement already satisfied: mistune<2,>=0.8.1 in /usr/local/lib/python3.10/dist-packages (from nbconvert>=6.4.4->jupyter-server~=1.2->jupyterlab==3.0.7->colabcode) (0.8.4)\n",
            "Requirement already satisfied: nbclient>=0.5.0 in /usr/local/lib/python3.10/dist-packages (from nbconvert>=6.4.4->jupyter-server~=1.2->jupyterlab==3.0.7->colabcode) (0.10.0)\n",
            "Requirement already satisfied: pandocfilters>=1.4.1 in /usr/local/lib/python3.10/dist-packages (from nbconvert>=6.4.4->jupyter-server~=1.2->jupyterlab==3.0.7->colabcode) (1.5.1)\n",
            "Requirement already satisfied: tinycss2 in /usr/local/lib/python3.10/dist-packages (from nbconvert>=6.4.4->jupyter-server~=1.2->jupyterlab==3.0.7->colabcode) (1.3.0)\n",
            "Requirement already satisfied: fastjsonschema>=2.15 in /usr/local/lib/python3.10/dist-packages (from nbformat>=5.2.0->jupyter-server~=1.2->jupyterlab==3.0.7->colabcode) (2.19.1)\n",
            "Requirement already satisfied: ipython-genutils in /usr/local/lib/python3.10/dist-packages (from notebook<7->nbclassic~=0.2->jupyterlab==3.0.7->colabcode) (0.2.0)\n",
            "Requirement already satisfied: ipykernel in /usr/local/lib/python3.10/dist-packages (from notebook<7->nbclassic~=0.2->jupyterlab==3.0.7->colabcode) (5.5.6)\n",
            "Requirement already satisfied: ptyprocess>=0.5 in /usr/local/lib/python3.10/dist-packages (from pexpect>4.3->ipython->jupyterlab==3.0.7->colabcode) (0.7.0)\n",
            "Requirement already satisfied: wcwidth in /usr/local/lib/python3.10/dist-packages (from prompt-toolkit!=3.0.0,!=3.0.1,<3.1.0,>=2.0.0->ipython->jupyterlab==3.0.7->colabcode) (0.2.13)\n",
            "Requirement already satisfied: charset-normalizer<4,>=2 in /usr/local/lib/python3.10/dist-packages (from requests>=2.31->jupyterlab-server~=2.0->jupyterlab==3.0.7->colabcode) (3.3.2)\n",
            "Requirement already satisfied: urllib3<3,>=1.21.1 in /usr/local/lib/python3.10/dist-packages (from requests>=2.31->jupyterlab-server~=2.0->jupyterlab==3.0.7->colabcode) (2.0.7)\n",
            "Requirement already satisfied: certifi>=2017.4.17 in /usr/local/lib/python3.10/dist-packages (from requests>=2.31->jupyterlab-server~=2.0->jupyterlab==3.0.7->colabcode) (2024.6.2)\n",
            "Requirement already satisfied: argon2-cffi-bindings in /usr/local/lib/python3.10/dist-packages (from argon2-cffi->jupyter-server~=1.2->jupyterlab==3.0.7->colabcode) (21.2.0)\n",
            "Requirement already satisfied: six>=1.5 in /usr/local/lib/python3.10/dist-packages (from python-dateutil>=2.1->jupyter-client>=6.1.12->jupyter-server~=1.2->jupyterlab==3.0.7->colabcode) (1.16.0)\n",
            "Requirement already satisfied: cffi>=1.0.1 in /usr/local/lib/python3.10/dist-packages (from argon2-cffi-bindings->argon2-cffi->jupyter-server~=1.2->jupyterlab==3.0.7->colabcode) (1.16.0)\n",
            "Requirement already satisfied: soupsieve>1.2 in /usr/local/lib/python3.10/dist-packages (from beautifulsoup4->nbconvert>=6.4.4->jupyter-server~=1.2->jupyterlab==3.0.7->colabcode) (2.5)\n",
            "Requirement already satisfied: webencodings in /usr/local/lib/python3.10/dist-packages (from bleach->nbconvert>=6.4.4->jupyter-server~=1.2->jupyterlab==3.0.7->colabcode) (0.5.1)\n",
            "Requirement already satisfied: pycparser in /usr/local/lib/python3.10/dist-packages (from cffi>=1.0.1->argon2-cffi-bindings->argon2-cffi->jupyter-server~=1.2->jupyterlab==3.0.7->colabcode) (2.22)\n",
            "Installing collected packages: typer, starlette, pydantic, fastapi\n",
            "  Attempting uninstall: typer\n",
            "    Found existing installation: typer 0.9.4\n",
            "    Uninstalling typer-0.9.4:\n",
            "      Successfully uninstalled typer-0.9.4\n",
            "  Attempting uninstall: pydantic\n",
            "    Found existing installation: pydantic 2.7.3\n",
            "    Uninstalling pydantic-2.7.3:\n",
            "      Successfully uninstalled pydantic-2.7.3\n",
            "Successfully installed fastapi-0.68.2 pydantic-1.10.15 starlette-0.14.2 typer-0.9.0\n"
          ]
        }
      ]
    },
    {
      "cell_type": "code",
      "source": [
        "# 필요한 라이브러리 설치\n",
        "!pip install fastapi uvicorn scikit-learn pandas"
      ],
      "metadata": {
        "colab": {
          "base_uri": "https://localhost:8080/"
        },
        "collapsed": true,
        "id": "Ybg8vDJb0sNJ",
        "outputId": "ff1f3c12-a06d-4bd1-9803-8cc235e58d1b"
      },
      "execution_count": 37,
      "outputs": [
        {
          "output_type": "stream",
          "name": "stdout",
          "text": [
            "Requirement already satisfied: fastapi in /usr/local/lib/python3.10/dist-packages (0.68.2)\n",
            "Requirement already satisfied: uvicorn in /usr/local/lib/python3.10/dist-packages (0.13.1)\n",
            "Requirement already satisfied: scikit-learn in /usr/local/lib/python3.10/dist-packages (1.2.2)\n",
            "Requirement already satisfied: pandas in /usr/local/lib/python3.10/dist-packages (2.0.3)\n",
            "Requirement already satisfied: starlette==0.14.2 in /usr/local/lib/python3.10/dist-packages (from fastapi) (0.14.2)\n",
            "Requirement already satisfied: pydantic!=1.7,!=1.7.1,!=1.7.2,!=1.7.3,!=1.8,!=1.8.1,<2.0.0,>=1.6.2 in /usr/local/lib/python3.10/dist-packages (from fastapi) (1.10.15)\n",
            "Requirement already satisfied: click==7.* in /usr/local/lib/python3.10/dist-packages (from uvicorn) (7.1.2)\n",
            "Requirement already satisfied: h11>=0.8 in /usr/local/lib/python3.10/dist-packages (from uvicorn) (0.14.0)\n",
            "Requirement already satisfied: numpy>=1.17.3 in /usr/local/lib/python3.10/dist-packages (from scikit-learn) (1.25.2)\n",
            "Requirement already satisfied: scipy>=1.3.2 in /usr/local/lib/python3.10/dist-packages (from scikit-learn) (1.11.4)\n",
            "Requirement already satisfied: joblib>=1.1.1 in /usr/local/lib/python3.10/dist-packages (from scikit-learn) (1.4.2)\n",
            "Requirement already satisfied: threadpoolctl>=2.0.0 in /usr/local/lib/python3.10/dist-packages (from scikit-learn) (3.5.0)\n",
            "Requirement already satisfied: python-dateutil>=2.8.2 in /usr/local/lib/python3.10/dist-packages (from pandas) (2.8.2)\n",
            "Requirement already satisfied: pytz>=2020.1 in /usr/local/lib/python3.10/dist-packages (from pandas) (2023.4)\n",
            "Requirement already satisfied: tzdata>=2022.1 in /usr/local/lib/python3.10/dist-packages (from pandas) (2024.1)\n",
            "Requirement already satisfied: typing-extensions>=4.2.0 in /usr/local/lib/python3.10/dist-packages (from pydantic!=1.7,!=1.7.1,!=1.7.2,!=1.7.3,!=1.8,!=1.8.1,<2.0.0,>=1.6.2->fastapi) (4.12.1)\n",
            "Requirement already satisfied: six>=1.5 in /usr/local/lib/python3.10/dist-packages (from python-dateutil>=2.8.2->pandas) (1.16.0)\n"
          ]
        }
      ]
    },
    {
      "cell_type": "code",
      "source": [
        "# 필요한 라이브러리 설치\n",
        "!pip install pyngrok"
      ],
      "metadata": {
        "colab": {
          "base_uri": "https://localhost:8080/"
        },
        "id": "Jhly5ybL1MwC",
        "outputId": "d10959ab-a344-4af1-edfc-c19400f36b5d"
      },
      "execution_count": 38,
      "outputs": [
        {
          "output_type": "stream",
          "name": "stdout",
          "text": [
            "Requirement already satisfied: pyngrok in /usr/local/lib/python3.10/dist-packages (7.1.6)\n",
            "Requirement already satisfied: PyYAML>=5.1 in /usr/local/lib/python3.10/dist-packages (from pyngrok) (6.0.1)\n"
          ]
        }
      ]
    },
    {
      "cell_type": "code",
      "source": [
        "from pydantic import BaseModel\n",
        "import pickle\n",
        "import re\n",
        "from konlpy.tag import Okt\n",
        "from collections import namedtuple\n",
        "from textrank import KeysentenceSummarizer\n",
        "import requests\n",
        "import json\n",
        "from colabcode import ColabCode\n",
        "from fastapi import FastAPI"
      ],
      "metadata": {
        "id": "yPMYBkv588-s"
      },
      "execution_count": 39,
      "outputs": []
    },
    {
      "cell_type": "code",
      "metadata": {
        "id": "YFXBGHaNUk3h"
      },
      "source": [
        "# ColabCode 인스턴스를 생성\n",
        "cc = ColabCode(port=12000, code=False)\n",
        "\n",
        "# FastAPI 애플리케이션 인스턴스를 생성\n",
        "app = FastAPI()\n",
        "\n",
        "# Summarizer 객체 초기화\n",
        "summarizer = Summarizer(stopwords_path=\"path_to_stopwords.txt\")\n",
        "\n",
        "\n",
        "# 입력 데이터 모델 정의\n",
        "class notice(BaseModel):\n",
        "    title: str\n",
        "    content: str\n",
        "\n",
        "\n",
        "# 루트 경로 ('/')에 대한 GET 요청을 처리하는 함수\n",
        "@app.get(\"/\")\n",
        "async def read_root():\n",
        "  return {\"message\": 'This is the homepage of the API'}\n",
        "\n",
        "\n",
        "# '/summarize' 경로에 대한 POST 요청 핸들러\n",
        "@app.post('/summarize')\n",
        "def summarize_notice(data: notice):\n",
        "    summary = summarizer.summarize_content(data.title, data.content)\n",
        "    return {'summary': summary}"
      ],
      "execution_count": 40,
      "outputs": []
    },
    {
      "cell_type": "code",
      "source": [
        "# POST 방식으로 데이터 전송 처리\n",
        "@app.post(\"/predict\")\n",
        "async def predict(data):\n",
        "    # 데이터 전처리 및 예측 작업\n",
        "    result = model.predict(data)\n",
        "    return {\"prediction\": result}"
      ],
      "metadata": {
        "id": "PsVPlAmM1IhH"
      },
      "execution_count": 41,
      "outputs": []
    },
    {
      "cell_type": "code",
      "source": [
        "# ngrok에 인증 토큰을 설정\n",
        "!ngrok authtoken 2hK35c0x12ZslTs2gqE6lRUgetJ_3CvcCrK629aQ45RizQhZP"
      ],
      "metadata": {
        "colab": {
          "base_uri": "https://localhost:8080/"
        },
        "id": "rB4J8UyixzZo",
        "outputId": "25701d33-d95a-452b-9537-824d01e2ca28"
      },
      "execution_count": 42,
      "outputs": [
        {
          "output_type": "stream",
          "name": "stdout",
          "text": [
            "Authtoken saved to configuration file: /root/.config/ngrok/ngrok.yml\n"
          ]
        }
      ]
    },
    {
      "cell_type": "code",
      "source": [
        "# ngrok 설정\n",
        "from pyngrok import ngrok\n",
        "\n",
        "# 로컬 포트 지정\n",
        "port = 8000\n",
        "\n",
        "# ngrok 실행\n",
        "public_url = ngrok.connect(port)\n",
        "public_url"
      ],
      "metadata": {
        "colab": {
          "base_uri": "https://localhost:8080/"
        },
        "id": "_Tud8vHS1WPC",
        "outputId": "f3d77176-6170-4a8f-a1ed-26fb484e36a0"
      },
      "execution_count": 43,
      "outputs": [
        {
          "output_type": "execute_result",
          "data": {
            "text/plain": [
              "<NgrokTunnel: \"https://b564-104-155-201-58.ngrok-free.app\" -> \"http://localhost:8000\">"
            ]
          },
          "metadata": {},
          "execution_count": 43
        }
      ]
    },
    {
      "cell_type": "code",
      "metadata": {
        "id": "xzWXXJs-UmFO",
        "colab": {
          "base_uri": "https://localhost:8080/"
        },
        "outputId": "155daf55-753d-4719-96d6-4e28188bbe9d"
      },
      "source": [
        "# ColabCode 인스턴스를 사용하여 FastAPI 애플리케이션을 실행\n",
        "cc.run_app(app=app)"
      ],
      "execution_count": 44,
      "outputs": [
        {
          "output_type": "stream",
          "name": "stderr",
          "text": [
            "WARNING:pyngrok.process.ngrok:t=2024-06-07T01:38:21+0000 lvl=warn msg=\"Stopping forwarder\" name=http-8000-0f68509c-b386-4a1e-bfa2-b604f49f672f acceptErr=\"failed to accept connection: Listener closed\"\n",
            "INFO:     Started server process [638]\n",
            "INFO:uvicorn.error:Started server process [638]\n",
            "INFO:     Waiting for application startup.\n",
            "INFO:uvicorn.error:Waiting for application startup.\n",
            "INFO:     Application startup complete.\n",
            "INFO:uvicorn.error:Application startup complete.\n",
            "INFO:     Uvicorn running on http://127.0.0.1:12000 (Press CTRL+C to quit)\n",
            "INFO:uvicorn.error:Uvicorn running on http://127.0.0.1:12000 (Press CTRL+C to quit)\n"
          ]
        },
        {
          "output_type": "stream",
          "name": "stdout",
          "text": [
            "Public URL: NgrokTunnel: \"https://d67f-104-155-201-58.ngrok-free.app\" -> \"http://localhost:12000\"\n",
            "INFO:     183.101.254.29:0 - \"GET / HTTP/1.1\" 200 OK\n",
            "INFO:     183.101.254.29:0 - \"GET /favicon.ico HTTP/1.1\" 404 Not Found\n",
            "INFO:     183.101.254.29:0 - \"POST /summarize HTTP/1.1\" 500 Internal Server Error\n"
          ]
        },
        {
          "output_type": "stream",
          "name": "stderr",
          "text": [
            "ERROR:    Exception in ASGI application\n",
            "Traceback (most recent call last):\n",
            "  File \"/usr/local/lib/python3.10/dist-packages/uvicorn/protocols/http/h11_impl.py\", line 394, in run_asgi\n",
            "    result = await app(self.scope, self.receive, self.send)\n",
            "  File \"/usr/local/lib/python3.10/dist-packages/uvicorn/middleware/proxy_headers.py\", line 45, in __call__\n",
            "    return await self.app(scope, receive, send)\n",
            "  File \"/usr/local/lib/python3.10/dist-packages/fastapi/applications.py\", line 208, in __call__\n",
            "    await super().__call__(scope, receive, send)\n",
            "  File \"/usr/local/lib/python3.10/dist-packages/starlette/applications.py\", line 112, in __call__\n",
            "    await self.middleware_stack(scope, receive, send)\n",
            "  File \"/usr/local/lib/python3.10/dist-packages/starlette/middleware/errors.py\", line 181, in __call__\n",
            "    raise exc from None\n",
            "  File \"/usr/local/lib/python3.10/dist-packages/starlette/middleware/errors.py\", line 159, in __call__\n",
            "    await self.app(scope, receive, _send)\n",
            "  File \"/usr/local/lib/python3.10/dist-packages/starlette/exceptions.py\", line 82, in __call__\n",
            "    raise exc from None\n",
            "  File \"/usr/local/lib/python3.10/dist-packages/starlette/exceptions.py\", line 71, in __call__\n",
            "    await self.app(scope, receive, sender)\n",
            "  File \"/usr/local/lib/python3.10/dist-packages/starlette/routing.py\", line 580, in __call__\n",
            "    await route.handle(scope, receive, send)\n",
            "  File \"/usr/local/lib/python3.10/dist-packages/starlette/routing.py\", line 241, in handle\n",
            "    await self.app(scope, receive, send)\n",
            "  File \"/usr/local/lib/python3.10/dist-packages/starlette/routing.py\", line 52, in app\n",
            "    response = await func(request)\n",
            "  File \"/usr/local/lib/python3.10/dist-packages/fastapi/routing.py\", line 226, in app\n",
            "    raw_response = await run_endpoint_function(\n",
            "  File \"/usr/local/lib/python3.10/dist-packages/fastapi/routing.py\", line 161, in run_endpoint_function\n",
            "    return await run_in_threadpool(dependant.call, **values)\n",
            "  File \"/usr/local/lib/python3.10/dist-packages/starlette/concurrency.py\", line 40, in run_in_threadpool\n",
            "    return await loop.run_in_executor(None, func, *args)\n",
            "  File \"/usr/lib/python3.10/asyncio/futures.py\", line 285, in __await__\n",
            "    yield self  # This tells Task to wait for completion.\n",
            "  File \"/usr/lib/python3.10/asyncio/tasks.py\", line 304, in __wakeup\n",
            "    future.result()\n",
            "  File \"/usr/lib/python3.10/asyncio/futures.py\", line 201, in result\n",
            "    raise self._exception.with_traceback(self._exception_tb)\n",
            "  File \"/usr/lib/python3.10/concurrent/futures/thread.py\", line 58, in run\n",
            "    result = self.fn(*self.args, **self.kwargs)\n",
            "  File \"<ipython-input-40-bf5ec3198399>\", line 34, in summarize_announcement\n",
            "    summary = summarizer.summarize_content(data.title, data.content)\n",
            "  File \"<ipython-input-34-2ebc019be31f>\", line 47, in summarize_content\n",
            "    if self.is_foreign(content):\n",
            "  File \"<ipython-input-34-2ebc019be31f>\", line 34, in is_foreign\n",
            "    text = text.strip()\n",
            "AttributeError: 'Summarizer' object has no attribute 'strip'\n",
            "ERROR:uvicorn.error:Exception in ASGI application\n",
            "Traceback (most recent call last):\n",
            "  File \"/usr/local/lib/python3.10/dist-packages/uvicorn/protocols/http/h11_impl.py\", line 394, in run_asgi\n",
            "    result = await app(self.scope, self.receive, self.send)\n",
            "  File \"/usr/local/lib/python3.10/dist-packages/uvicorn/middleware/proxy_headers.py\", line 45, in __call__\n",
            "    return await self.app(scope, receive, send)\n",
            "  File \"/usr/local/lib/python3.10/dist-packages/fastapi/applications.py\", line 208, in __call__\n",
            "    await super().__call__(scope, receive, send)\n",
            "  File \"/usr/local/lib/python3.10/dist-packages/starlette/applications.py\", line 112, in __call__\n",
            "    await self.middleware_stack(scope, receive, send)\n",
            "  File \"/usr/local/lib/python3.10/dist-packages/starlette/middleware/errors.py\", line 181, in __call__\n",
            "    raise exc from None\n",
            "  File \"/usr/local/lib/python3.10/dist-packages/starlette/middleware/errors.py\", line 159, in __call__\n",
            "    await self.app(scope, receive, _send)\n",
            "  File \"/usr/local/lib/python3.10/dist-packages/starlette/exceptions.py\", line 82, in __call__\n",
            "    raise exc from None\n",
            "  File \"/usr/local/lib/python3.10/dist-packages/starlette/exceptions.py\", line 71, in __call__\n",
            "    await self.app(scope, receive, sender)\n",
            "  File \"/usr/local/lib/python3.10/dist-packages/starlette/routing.py\", line 580, in __call__\n",
            "    await route.handle(scope, receive, send)\n",
            "  File \"/usr/local/lib/python3.10/dist-packages/starlette/routing.py\", line 241, in handle\n",
            "    await self.app(scope, receive, send)\n",
            "  File \"/usr/local/lib/python3.10/dist-packages/starlette/routing.py\", line 52, in app\n",
            "    response = await func(request)\n",
            "  File \"/usr/local/lib/python3.10/dist-packages/fastapi/routing.py\", line 226, in app\n",
            "    raw_response = await run_endpoint_function(\n",
            "  File \"/usr/local/lib/python3.10/dist-packages/fastapi/routing.py\", line 161, in run_endpoint_function\n",
            "    return await run_in_threadpool(dependant.call, **values)\n",
            "  File \"/usr/local/lib/python3.10/dist-packages/starlette/concurrency.py\", line 40, in run_in_threadpool\n",
            "    return await loop.run_in_executor(None, func, *args)\n",
            "  File \"/usr/lib/python3.10/asyncio/futures.py\", line 285, in __await__\n",
            "    yield self  # This tells Task to wait for completion.\n",
            "  File \"/usr/lib/python3.10/asyncio/tasks.py\", line 304, in __wakeup\n",
            "    future.result()\n",
            "  File \"/usr/lib/python3.10/asyncio/futures.py\", line 201, in result\n",
            "    raise self._exception.with_traceback(self._exception_tb)\n",
            "  File \"/usr/lib/python3.10/concurrent/futures/thread.py\", line 58, in run\n",
            "    result = self.fn(*self.args, **self.kwargs)\n",
            "  File \"<ipython-input-40-bf5ec3198399>\", line 34, in summarize_announcement\n",
            "    summary = summarizer.summarize_content(data.title, data.content)\n",
            "  File \"<ipython-input-34-2ebc019be31f>\", line 47, in summarize_content\n",
            "    if self.is_foreign(content):\n",
            "  File \"<ipython-input-34-2ebc019be31f>\", line 34, in is_foreign\n",
            "    text = text.strip()\n",
            "AttributeError: 'Summarizer' object has no attribute 'strip'\n",
            "INFO:     Shutting down\n",
            "INFO:uvicorn.error:Shutting down\n",
            "INFO:     Waiting for application shutdown.\n",
            "INFO:uvicorn.error:Waiting for application shutdown.\n",
            "INFO:     Application shutdown complete.\n",
            "INFO:uvicorn.error:Application shutdown complete.\n",
            "INFO:     Finished server process [638]\n",
            "INFO:uvicorn.error:Finished server process [638]\n"
          ]
        }
      ]
    },
    {
      "cell_type": "markdown",
      "source": [
        "#"
      ],
      "metadata": {
        "id": "HaTXtgmf7VQ7"
      }
    }
  ]
}