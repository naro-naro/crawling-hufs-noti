{
  "nbformat": 4,
  "nbformat_minor": 0,
  "metadata": {
    "colab": {
      "provenance": [],
      "collapsed_sections": [
        "ihz1gXIDuJ52"
      ],
      "toc_visible": true,
      "include_colab_link": true
    },
    "kernelspec": {
      "name": "python3",
      "display_name": "Python 3"
    },
    "language_info": {
      "name": "python"
    }
  },
  "cells": [
    {
      "cell_type": "markdown",
      "metadata": {
        "id": "view-in-github",
        "colab_type": "text"
      },
      "source": [
        "<a href=\"https://colab.research.google.com/github/naro-naro/summarize-hufs-noti/blob/main/%EC%8B%9C%EC%97%B0_%EB%AA%A8%EB%8D%B8%EB%B0%B0%ED%8F%AC(FastAPI).ipynb\" target=\"_parent\"><img src=\"https://colab.research.google.com/assets/colab-badge.svg\" alt=\"Open In Colab\"/></a>"
      ]
    },
    {
      "cell_type": "markdown",
      "metadata": {
        "id": "ihz1gXIDuJ52"
      },
      "source": [
        "# Okt 사용자 사전"
      ]
    },
    {
      "cell_type": "code",
      "execution_count": null,
      "metadata": {
        "colab": {
          "base_uri": "https://localhost:8080/",
          "height": 35
        },
        "id": "qGL_WWAynrmp",
        "outputId": "85d44d27-d0f0-4d6f-c154-66cef06b23eb"
      },
      "outputs": [
        {
          "output_type": "execute_result",
          "data": {
            "text/plain": [
              "'/content'"
            ],
            "application/vnd.google.colaboratory.intrinsic+json": {
              "type": "string"
            }
          },
          "metadata": {},
          "execution_count": 2
        }
      ],
      "source": [
        "#현재 경로. 보통 ./content일거에요!\n",
        "import os\n",
        "os.getcwd()"
      ]
    },
    {
      "cell_type": "code",
      "execution_count": null,
      "metadata": {
        "colab": {
          "base_uri": "https://localhost:8080/"
        },
        "id": "_9tdJs1KpF40",
        "outputId": "8e0dbb0f-2b44-4bd3-8320-47cdd9ac1ce7"
      },
      "outputs": [
        {
          "output_type": "stream",
          "name": "stdout",
          "text": [
            "Collecting konlpy\n",
            "  Downloading konlpy-0.6.0-py2.py3-none-any.whl (19.4 MB)\n",
            "\u001b[2K     \u001b[90m━━━━━━━━━━━━━━━━━━━━━━━━━━━━━━━━━━━━━━━━\u001b[0m \u001b[32m19.4/19.4 MB\u001b[0m \u001b[31m48.4 MB/s\u001b[0m eta \u001b[36m0:00:00\u001b[0m\n",
            "\u001b[?25hCollecting JPype1>=0.7.0 (from konlpy)\n",
            "  Downloading JPype1-1.5.0-cp310-cp310-manylinux_2_17_x86_64.manylinux2014_x86_64.whl (488 kB)\n",
            "\u001b[2K     \u001b[90m━━━━━━━━━━━━━━━━━━━━━━━━━━━━━━━━━━━━━━━━\u001b[0m \u001b[32m488.6/488.6 kB\u001b[0m \u001b[31m40.8 MB/s\u001b[0m eta \u001b[36m0:00:00\u001b[0m\n",
            "\u001b[?25hRequirement already satisfied: lxml>=4.1.0 in /usr/local/lib/python3.10/dist-packages (from konlpy) (4.9.4)\n",
            "Requirement already satisfied: numpy>=1.6 in /usr/local/lib/python3.10/dist-packages (from konlpy) (1.25.2)\n",
            "Requirement already satisfied: packaging in /usr/local/lib/python3.10/dist-packages (from JPype1>=0.7.0->konlpy) (24.0)\n",
            "Installing collected packages: JPype1, konlpy\n",
            "Successfully installed JPype1-1.5.0 konlpy-0.6.0\n"
          ]
        }
      ],
      "source": [
        "#konlpy 다운 및 호출\n",
        "#1. Konlpy에서 Okt\n",
        "!pip install konlpy\n",
        "#2. konlpy 실행을 위한 자바어쩌구 다운\n",
        "!apt-get install openjdk-8-jdk-headless -qq > /dev/null\n",
        "#3. 필요한 설정\n",
        "import os\n",
        "os.environ[\"JAVA_HOME\"] = \"/usr/lib/jvm/java-8-openjdk-amd64\""
      ]
    },
    {
      "cell_type": "code",
      "source": [
        "from konlpy.tag import Okt"
      ],
      "metadata": {
        "id": "4W9ZyKLEdY8-"
      },
      "execution_count": null,
      "outputs": []
    },
    {
      "cell_type": "code",
      "execution_count": null,
      "metadata": {
        "id": "db2dKcyfqVz9",
        "colab": {
          "base_uri": "https://localhost:8080/"
        },
        "outputId": "0604e8b8-0420-444c-9793-5a11e6dd9c55"
      },
      "outputs": [
        {
          "output_type": "stream",
          "name": "stdout",
          "text": [
            "['한국', '외국어', '대학교', '에서', '안', '내', '드리다', '.', '한', '국외', '대', '에서도', '안', '내', '하다', '.', '학식', '이', '쌀국수', '이다', '.']\n"
          ]
        }
      ],
      "source": [
        "okt = Okt()\n",
        "# 한국외국어대학교 쪼개진거 확인.\n",
        "# 처음: ['한국', '외국어', '대학교', '에서', '안', '내', '드리다', '.', '한', '국외', '대', '에서도', '안', '내', '하다', '.', '학식', '이', '쌀국수', '이다', '.']\n",
        "# 개선 후: ['한국외국어대학교', '에서', '안', '내', '드리다', '.', '한국외대', '에서도', '안', '내', '하다', '.', '학식', '이', '쌀국수', '이다', '.']\n",
        "print(okt.morphs(\"한국외국어대학교에서 안내드립니다. 한국외대에서도 안내합니다.학식이 쌀국수 입니다.\", stem = True))"
      ]
    },
    {
      "cell_type": "code",
      "execution_count": null,
      "metadata": {
        "id": "tmjzvlIXmobP",
        "colab": {
          "base_uri": "https://localhost:8080/",
          "height": 35
        },
        "outputId": "4662891d-138a-41fb-a32b-df09494c266e"
      },
      "outputs": [
        {
          "output_type": "execute_result",
          "data": {
            "text/plain": [
              "'/usr/local/lib/python3.10/dist-packages/konlpy/java'"
            ],
            "application/vnd.google.colaboratory.intrinsic+json": {
              "type": "string"
            }
          },
          "metadata": {},
          "execution_count": 6
        }
      ],
      "source": [
        "# 사용자 사전 찾아가기 및 경로 설정 _ 여기서 오류가 날 시 코랩에서 폴더 열어서 usr,local 찾아가보시며 폴더명이 일치하는지 확인해보세요! 보통 파이썬 버전이 다릅니다.\n",
        "os.chdir('/usr/local/lib/python3.10/dist-packages/konlpy/java')\n",
        "os.getcwd()"
      ]
    },
    {
      "cell_type": "code",
      "execution_count": null,
      "metadata": {
        "id": "9szHG-q7oEst",
        "colab": {
          "base_uri": "https://localhost:8080/",
          "height": 35
        },
        "outputId": "ca659786-028b-4556-892f-3f9d542ec1b1"
      },
      "outputs": [
        {
          "output_type": "execute_result",
          "data": {
            "text/plain": [
              "'/usr/local/lib/python3.10/dist-packages/konlpy/java/temp_fix'"
            ],
            "application/vnd.google.colaboratory.intrinsic+json": {
              "type": "string"
            }
          },
          "metadata": {},
          "execution_count": 7
        }
      ],
      "source": [
        "#jar파일을 풀어줄 폴더이름을 정합니다. 저는 temp_fix로 했어요!\n",
        "os.makedirs('./temp_fix')\n",
        "os.chdir('./temp_fix')\n",
        "os.getcwd()"
      ]
    },
    {
      "cell_type": "code",
      "execution_count": null,
      "metadata": {
        "id": "FwrfKAd5poT9",
        "colab": {
          "base_uri": "https://localhost:8080/"
        },
        "outputId": "59271a4d-fd19-47cf-e95d-fa3a8ebc1d65"
      },
      "outputs": [
        {
          "output_type": "stream",
          "name": "stdout",
          "text": [
            "  created: META-INF/\n",
            " inflated: META-INF/MANIFEST.MF\n",
            "  created: org/\n",
            "  created: org/openkoreantext/\n",
            "  created: org/openkoreantext/processor/\n",
            "  created: org/openkoreantext/processor/normalizer/\n",
            "  created: org/openkoreantext/processor/phrase_extractor/\n",
            "  created: org/openkoreantext/processor/qa/\n",
            "  created: org/openkoreantext/processor/stemmer/\n",
            "  created: org/openkoreantext/processor/tokenizer/\n",
            "  created: org/openkoreantext/processor/tools/\n",
            "  created: org/openkoreantext/processor/util/\n",
            "  created: org/openkoreantext/processor/util/adjective/\n",
            "  created: org/openkoreantext/processor/util/adverb/\n",
            "  created: org/openkoreantext/processor/util/auxiliary/\n",
            "  created: org/openkoreantext/processor/util/freq/\n",
            "  created: org/openkoreantext/processor/util/josa/\n",
            "  created: org/openkoreantext/processor/util/noun/\n",
            "  created: org/openkoreantext/processor/util/substantives/\n",
            "  created: org/openkoreantext/processor/util/typos/\n",
            "  created: org/openkoreantext/processor/util/verb/\n",
            " inflated: org/openkoreantext/processor/KoreanPosJava.class\n",
            " inflated: org/openkoreantext/processor/KoreanTokenJava.class\n",
            " inflated: org/openkoreantext/processor/normalizer/KoreanNormalizer$.class\n",
            " inflated: org/openkoreantext/processor/normalizer/KoreanNormalizer$Segment$.class\n",
            " inflated: org/openkoreantext/processor/normalizer/KoreanNormalizer$Segment.class\n",
            " inflated: org/openkoreantext/processor/normalizer/KoreanNormalizer.class\n",
            " inflated: org/openkoreantext/processor/OpenKoreanTextProcessor$.class\n",
            " inflated: org/openkoreantext/processor/OpenKoreanTextProcessor.class\n",
            " inflated: org/openkoreantext/processor/OpenKoreanTextProcessorJava.class\n",
            " inflated: org/openkoreantext/processor/phrase_extractor/KoreanPhraseExtractor$.class\n",
            " inflated: org/openkoreantext/processor/phrase_extractor/KoreanPhraseExtractor$KoreanPhrase$.class\n",
            " inflated: org/openkoreantext/processor/phrase_extractor/KoreanPhraseExtractor$KoreanPhrase.class\n",
            " inflated: org/openkoreantext/processor/phrase_extractor/KoreanPhraseExtractor$PhraseBuffer$.class\n",
            " inflated: org/openkoreantext/processor/phrase_extractor/KoreanPhraseExtractor$PhraseBuffer.class\n",
            " inflated: org/openkoreantext/processor/phrase_extractor/KoreanPhraseExtractor.class\n",
            " inflated: org/openkoreantext/processor/qa/BatchGetUnknownNouns$.class\n",
            " inflated: org/openkoreantext/processor/qa/BatchGetUnknownNouns$ChunkWithTweet$.class\n",
            " inflated: org/openkoreantext/processor/qa/BatchGetUnknownNouns$ChunkWithTweet.class\n",
            " inflated: org/openkoreantext/processor/qa/BatchGetUnknownNouns.class\n",
            " inflated: org/openkoreantext/processor/qa/BatchTokenizeTweets$.class\n",
            " inflated: org/openkoreantext/processor/qa/BatchTokenizeTweets$ParseTime$.class\n",
            " inflated: org/openkoreantext/processor/qa/BatchTokenizeTweets$ParseTime.class\n",
            " inflated: org/openkoreantext/processor/qa/BatchTokenizeTweets.class\n",
            " inflated: org/openkoreantext/processor/qa/KoreanProcessorSandbox$.class\n",
            " inflated: org/openkoreantext/processor/qa/KoreanProcessorSandbox.class\n",
            " inflated: org/openkoreantext/processor/stemmer/KoreanStemmer$.class\n",
            " inflated: org/openkoreantext/processor/stemmer/KoreanStemmer.class\n",
            " inflated: org/openkoreantext/processor/tokenizer/KoreanChunk$.class\n",
            " inflated: org/openkoreantext/processor/tokenizer/KoreanChunk.class\n",
            " inflated: org/openkoreantext/processor/tokenizer/KoreanChunker$.class\n",
            " inflated: org/openkoreantext/processor/tokenizer/KoreanChunker$ChunkMatch$.class\n",
            " inflated: org/openkoreantext/processor/tokenizer/KoreanChunker$ChunkMatch.class\n",
            " inflated: org/openkoreantext/processor/tokenizer/KoreanChunker.class\n",
            " inflated: org/openkoreantext/processor/tokenizer/KoreanDetokenizer$.class\n",
            " inflated: org/openkoreantext/processor/tokenizer/KoreanDetokenizer.class\n",
            " inflated: org/openkoreantext/processor/tokenizer/KoreanSentenceSplitter$.class\n",
            " inflated: org/openkoreantext/processor/tokenizer/KoreanSentenceSplitter.class\n",
            " inflated: org/openkoreantext/processor/tokenizer/KoreanTokenizer$.class\n",
            " inflated: org/openkoreantext/processor/tokenizer/KoreanTokenizer$CandidateParse$.class\n",
            " inflated: org/openkoreantext/processor/tokenizer/KoreanTokenizer$CandidateParse.class\n",
            " inflated: org/openkoreantext/processor/tokenizer/KoreanTokenizer$KoreanToken$.class\n",
            " inflated: org/openkoreantext/processor/tokenizer/KoreanTokenizer$KoreanToken.class\n",
            " inflated: org/openkoreantext/processor/tokenizer/KoreanTokenizer$PossibleTrie$.class\n",
            " inflated: org/openkoreantext/processor/tokenizer/KoreanTokenizer$PossibleTrie.class\n",
            " inflated: org/openkoreantext/processor/tokenizer/KoreanTokenizer.class\n",
            " inflated: org/openkoreantext/processor/tokenizer/ParsedChunk$.class\n",
            " inflated: org/openkoreantext/processor/tokenizer/ParsedChunk.class\n",
            " inflated: org/openkoreantext/processor/tokenizer/Sentence$.class\n",
            " inflated: org/openkoreantext/processor/tokenizer/Sentence.class\n",
            " inflated: org/openkoreantext/processor/tokenizer/TokenizerProfile$.class\n",
            " inflated: org/openkoreantext/processor/tokenizer/TokenizerProfile.class\n",
            " inflated: org/openkoreantext/processor/tools/CreateChunkParsingCandidates$.class\n",
            " inflated: org/openkoreantext/processor/tools/CreateChunkParsingCandidates.class\n",
            " inflated: org/openkoreantext/processor/tools/CreateConjugationExamples$.class\n",
            " inflated: org/openkoreantext/processor/tools/CreateConjugationExamples$ConjugationExample$.class\n",
            " inflated: org/openkoreantext/processor/tools/CreateConjugationExamples$ConjugationExample.class\n",
            " inflated: org/openkoreantext/processor/tools/CreateConjugationExamples.class\n",
            " inflated: org/openkoreantext/processor/tools/CreateParsingExamples$.class\n",
            " inflated: org/openkoreantext/processor/tools/CreateParsingExamples$ParsingExample$.class\n",
            " inflated: org/openkoreantext/processor/tools/CreateParsingExamples$ParsingExample.class\n",
            " inflated: org/openkoreantext/processor/tools/CreateParsingExamples.class\n",
            " inflated: org/openkoreantext/processor/tools/CreatePhraseExtractionExamples$.class\n",
            " inflated: org/openkoreantext/processor/tools/CreatePhraseExtractionExamples$PhraseExample$.class\n",
            " inflated: org/openkoreantext/processor/tools/CreatePhraseExtractionExamples$PhraseExample.class\n",
            " inflated: org/openkoreantext/processor/tools/CreatePhraseExtractionExamples.class\n",
            " inflated: org/openkoreantext/processor/tools/DeduplicateAndSortDictionaries$.class\n",
            " inflated: org/openkoreantext/processor/tools/DeduplicateAndSortDictionaries.class\n",
            " inflated: org/openkoreantext/processor/tools/Runnable.class\n",
            " inflated: org/openkoreantext/processor/tools/UpdateAllTheExamples$.class\n",
            " inflated: org/openkoreantext/processor/tools/UpdateAllTheExamples.class\n",
            " inflated: org/openkoreantext/processor/util/adjective/adjective.txt\n",
            " inflated: org/openkoreantext/processor/util/adverb/adverb.txt\n",
            " inflated: org/openkoreantext/processor/util/auxiliary/conjunctions.txt\n",
            " inflated: org/openkoreantext/processor/util/auxiliary/determiner.txt\n",
            " inflated: org/openkoreantext/processor/util/auxiliary/exclamation.txt\n",
            " inflated: org/openkoreantext/processor/util/CharacterUtils$CharacterBuffer.class\n",
            " inflated: org/openkoreantext/processor/util/CharacterUtils$Java4CharacterUtils.class\n",
            " inflated: org/openkoreantext/processor/util/CharacterUtils$Java5CharacterUtils.class\n",
            " inflated: org/openkoreantext/processor/util/CharacterUtils.class\n",
            " inflated: org/openkoreantext/processor/util/CharArrayMap$1.class\n",
            " inflated: org/openkoreantext/processor/util/CharArrayMap$EmptyCharArrayMap.class\n",
            " inflated: org/openkoreantext/processor/util/CharArrayMap$EntryIterator.class\n",
            " inflated: org/openkoreantext/processor/util/CharArrayMap$EntrySet.class\n",
            " inflated: org/openkoreantext/processor/util/CharArrayMap$MapEntry.class\n",
            " inflated: org/openkoreantext/processor/util/CharArrayMap$UnmodifiableCharArrayMap.class\n",
            " inflated: org/openkoreantext/processor/util/CharArrayMap.class\n",
            " inflated: org/openkoreantext/processor/util/CharArraySet.class\n",
            " inflated: org/openkoreantext/processor/util/example_chunks.txt\n",
            " inflated: org/openkoreantext/processor/util/example_tweets.txt\n",
            " inflated: org/openkoreantext/processor/util/freq/entity-freq.txt.gz\n",
            " inflated: org/openkoreantext/processor/util/Hangul$.class\n",
            " inflated: org/openkoreantext/processor/util/Hangul$DoubleCoda$.class\n",
            " inflated: org/openkoreantext/processor/util/Hangul$DoubleCoda.class\n",
            " inflated: org/openkoreantext/processor/util/Hangul$HangulChar$.class\n",
            " inflated: org/openkoreantext/processor/util/Hangul$HangulChar.class\n",
            " inflated: org/openkoreantext/processor/util/Hangul.class\n",
            " inflated: org/openkoreantext/processor/util/josa/josa.txt\n",
            " inflated: org/openkoreantext/processor/util/KoreanConjugation$.class\n",
            " inflated: org/openkoreantext/processor/util/KoreanConjugation.class\n",
            " inflated: org/openkoreantext/processor/util/KoreanDictionaryProvider$.class\n",
            " inflated: org/openkoreantext/processor/util/KoreanDictionaryProvider.class\n",
            " inflated: org/openkoreantext/processor/util/KoreanPos$.class\n",
            " inflated: org/openkoreantext/processor/util/KoreanPos$KoreanPosTrie$.class\n",
            " inflated: org/openkoreantext/processor/util/KoreanPos$KoreanPosTrie.class\n",
            " inflated: org/openkoreantext/processor/util/KoreanPos.class\n",
            " inflated: org/openkoreantext/processor/util/KoreanSubstantive$.class\n",
            " inflated: org/openkoreantext/processor/util/KoreanSubstantive.class\n",
            " inflated: org/openkoreantext/processor/util/noun/bible.txt\n",
            " inflated: org/openkoreantext/processor/util/noun/company_names.txt\n",
            " inflated: org/openkoreantext/processor/util/noun/congress.txt\n",
            " inflated: org/openkoreantext/processor/util/noun/entities.txt\n",
            " inflated: org/openkoreantext/processor/util/noun/foreign.txt\n",
            " inflated: org/openkoreantext/processor/util/noun/geolocations.txt\n",
            " inflated: org/openkoreantext/processor/util/noun/kpop.txt\n",
            " inflated: org/openkoreantext/processor/util/noun/lol.txt\n",
            " inflated: org/openkoreantext/processor/util/noun/names.txt\n",
            " inflated: org/openkoreantext/processor/util/noun/nouns.txt\n",
            " inflated: org/openkoreantext/processor/util/noun/pokemon.txt\n",
            " inflated: org/openkoreantext/processor/util/noun/profane.txt\n",
            " inflated: org/openkoreantext/processor/util/noun/slangs.txt\n",
            " inflated: org/openkoreantext/processor/util/noun/spam.txt\n",
            " inflated: org/openkoreantext/processor/util/noun/twitter.txt\n",
            " inflated: org/openkoreantext/processor/util/noun/wikipedia_title_nouns.txt\n",
            " inflated: org/openkoreantext/processor/util/substantives/family_names.txt\n",
            " inflated: org/openkoreantext/processor/util/substantives/given_names.txt\n",
            " inflated: org/openkoreantext/processor/util/substantives/modifier.txt\n",
            " inflated: org/openkoreantext/processor/util/substantives/suffix.txt\n",
            " inflated: org/openkoreantext/processor/util/typos/typos.txt\n",
            " inflated: org/openkoreantext/processor/util/verb/eomi.txt\n",
            " inflated: org/openkoreantext/processor/util/verb/pre_eomi.txt\n",
            " inflated: org/openkoreantext/processor/util/verb/verb.txt\n",
            " inflated: org/openkoreantext/processor/util/verb/verb_prefix.txt\n",
            "  created: META-INF/maven/\n",
            "  created: META-INF/maven/org.openkoreantext/\n",
            "  created: META-INF/maven/org.openkoreantext/open-korean-text/\n",
            " inflated: META-INF/maven/org.openkoreantext/open-korean-text/pom.xml\n",
            " inflated: META-INF/maven/org.openkoreantext/open-korean-text/pom.properties\n"
          ]
        }
      ],
      "source": [
        "#inflated어쩌고 쭉뜨고 맨끝에 에러 없으면 잘된겁니다!\n",
        "!jar xvf ../open-korean-text-2.1.0.jar"
      ]
    },
    {
      "cell_type": "code",
      "execution_count": null,
      "metadata": {
        "id": "5Klmlqrdpp1V",
        "colab": {
          "base_uri": "https://localhost:8080/",
          "height": 108
        },
        "outputId": "279b97ff-20c8-4efb-ac3e-cf50e041d195"
      },
      "outputs": [
        {
          "output_type": "execute_result",
          "data": {
            "text/plain": [
              "'가몽\\n가온\\n갓세븐\\n강새이\\n게임닉가\\n관우\\n귀여미\\n규\\n김유이\\n김준면\\n까까런\\n노컷\\n누너예\\n니노\\n다마고치\\n다이무스\\n대학생\\n데이브\\n도요토미\\n동운\\n동이\\n두주니\\n디시인사이드\\n디오\\n라몹\\n라스\\n라옵\\n멍구\\n메이든\\n명덕\\n명량\\n문민정부\\n미네\\n방엘리\\n병헌\\n붓다\\n비정상회담\\n빼빼로\\n삼풍\\n샤인온미\\n성식\\n성열\\n세라문\\n세라복\\n세종대왕\\n손권\\n손책\\n쇼미더머니\\n쇼챔\\n순규\\n스라소니\\n신동아\\n신쓰패밀리\\n신아라\\n아베\\n안상홍\\n안홍준\\n여누\\n여랑\\n여포\\n연합\\n오꾸닭\\n요섭\\n웃찾사\\n원식\\n유병언\\n유비\\n유이\\n윤기형\\n이나단\\n이명박\\n이완용\\n임창용\\n자괴\\n자니윤\\n자대련\\n자유\\n재중이\\n전교조\\n정윤회\\n제갈량\\n조자룡\\n조조\\n준면\\n지오디\\n지존파\\n진영오\\n차작가\\n차트\\n창섭\\n챠트\\n첸\\n코르사주\\n하무열\\n하용파쿠\\n혁재\\n현이\\n현태\\n혜미\\n'"
            ],
            "application/vnd.google.colaboratory.intrinsic+json": {
              "type": "string"
            }
          },
          "metadata": {},
          "execution_count": 9
        }
      ],
      "source": [
        "# 사용자 사전 열기\n",
        "with open(f\"/usr/local/lib/python3.10/dist-packages/konlpy/java/temp_fix/org/openkoreantext/processor/util/noun/names.txt\") as f:\n",
        "    data = f.read()\n",
        "data"
      ]
    },
    {
      "cell_type": "code",
      "execution_count": null,
      "metadata": {
        "id": "YOHjCgTspypO",
        "colab": {
          "base_uri": "https://localhost:8080/",
          "height": 218
        },
        "outputId": "384681e8-0179-4787-f9e1-505b5f45d2fb"
      },
      "outputs": [
        {
          "output_type": "execute_result",
          "data": {
            "text/plain": [
              "'가몽\\n가온\\n갓세븐\\n강새이\\n게임닉가\\n관우\\n귀여미\\n규\\n김유이\\n김준면\\n까까런\\n노컷\\n누너예\\n니노\\n다마고치\\n다이무스\\n대학생\\n데이브\\n도요토미\\n동운\\n동이\\n두주니\\n디시인사이드\\n디오\\n라몹\\n라스\\n라옵\\n멍구\\n메이든\\n명덕\\n명량\\n문민정부\\n미네\\n방엘리\\n병헌\\n붓다\\n비정상회담\\n빼빼로\\n삼풍\\n샤인온미\\n성식\\n성열\\n세라문\\n세라복\\n세종대왕\\n손권\\n손책\\n쇼미더머니\\n쇼챔\\n순규\\n스라소니\\n신동아\\n신쓰패밀리\\n신아라\\n아베\\n안상홍\\n안홍준\\n여누\\n여랑\\n여포\\n연합\\n오꾸닭\\n요섭\\n웃찾사\\n원식\\n유병언\\n유비\\n유이\\n윤기형\\n이나단\\n이명박\\n이완용\\n임창용\\n자괴\\n자니윤\\n자대련\\n자유\\n재중이\\n전교조\\n정윤회\\n제갈량\\n조자룡\\n조조\\n준면\\n지오디\\n지존파\\n진영오\\n차작가\\n차트\\n창섭\\n챠트\\n첸\\n코르사주\\n하무열\\n하용파쿠\\n혁재\\n현이\\n현태\\n혜미\\n경영대학원\\n사회봉사센터\\n학생상담센터\\n외국어연수평가원\\n공자아카데미\\n다문화교육원\\n원스톱서비스센터\\n종합정보시스템\\n학생지원팀\\n외교통상연구센터\\n학생복지위원회\\n학복위원회\\n국제교류팀\\nEU센터\\nEU연구소\\n글로벌캠퍼스\\n서울캠퍼스\\n행정지원처장\\n국제학사\\n국제학생지원팀\\n정보통신팀\\n정보지원처\\n진로취업지원센터\\n동남아연구소\\n외국문학연구소\\n국제학사\\n학교법인\\n동원육영회\\n학교법인동원육영회\\n언어연구소\\n러시아연구소\\n학사운영팀\\nFLEX센터\\n학생지원장학팀\\n인재개발처\\n세계문화예술경영융합전공\\n세계문화예술경영\\n융합전공\\n영어대학\\nELLT학과\\n영미문학·문화학과\\nEICC학과\\n서양어대학\\n프랑스어학부\\n프랑스응용어문학전공\\nFATI전공\\n프랑스ㆍEU전공\\n독일어과\\n노어과\\n스페인어과\\n이탈리아어과\\n포르투갈어과\\n네덜란드어과\\n스칸디나비아어과\\n아시아언어문화대학\\n말레이ㆍ인도네시아어과\\n아랍어과\\n태국어과\\n베트남어과\\n인도어과\\n터키ㆍ아제르바이잔어과\\n이란어과\\n몽골어과\\n중국어대학\\n중국언어문화학부\\n중국언어문화전공\\n중국외교통상학부\\n중국외교통상전공\\n일본어대학\\n일본언어문화학부\\n일본언어문화전공\\n융합일본지역학부\\n융합일본지역전공\\n사회과학대학\\n정치외교학과\\n행정학과\\n미디어커뮤니케이션학부\\n언론ㆍ정보전공\\n광고ㆍPRㆍ브랜딩전공\\n방송ㆍ영상ㆍ뉴미디어전공\\n상경대학\\n국제통상학과\\n경제학부\\n경제학전공\\n경영대학\\n경영학부\\n경영학전공\\n사범대학\\n영어교육과\\n프랑스어교육과\\n독일어교육과\\n한국어교육과\\n중국어교육과\\n국제학부\\n국제학전공\\nLanguage & Diplomacy학부\\nLanguage & Diplomacy전공\\nLanguage & Trade학부\\nLanguage & Trade전공\\nKFL학부\\n외국어로서의한국어교육전공\\n외국어로서의한국어통번역전공\\n인문대학\\n인문과학계열\\n철학과\\n사학과\\n언어인지과학과\\n지식콘텐츠학부\\n지식콘텐츠전공\\n통번역대학\\n영어통번역학부\\n영어통번역학전공\\n영미권통상통번역전공\\n영미문학ㆍ번역전공\\nTESOL영어학전공\\n독일어통번역학과\\n스페인어통번역학과\\n이탈리아어통번역학과\\n중국어통번역학과\\n일본어통번역학과\\n아랍어통번역학과\\n말레이･인도네시아어통번역학과\\n태국어통번역학과\\n동유럽학대학\\n폴란드어과\\n루마니아어과\\n체코ㆍ슬로바키아어과\\n헝가리어과\\n세르비아ㆍ크로아티아어과\\n우크라이나어과\\n국제지역대학\\n프랑스학과\\n브라질학과\\n그리스ㆍ불가리아학과\\n인도학과\\n중앙아시아학과\\n아프리카학부\\n동아프리카어전공\\n서아프리카어전공\\n남아프리카어전공\\n러시아학과\\n국제스포츠레저학부\\n국제스포츠레저전공\\n한국학과\\n경상대학\\nGlobal Business & Technology학부\\nGlobal Business & Technology전공\\n국제금융학과\\n자연과학대학\\n수학과\\n통계학과\\n전자물리학과\\n환경학과\\n생명공학과\\n화학과\\n공과대학\\n컴퓨터·전자시스템공학부\\n컴퓨터·전자시스템공학전공\\n정보통신공학과\\n전자공학과\\n산업경영공학과\\n9바이오메디컬공학부\\n바이오메디컬공학전공\\n전략기획팀\\n교수학습개발부\\n교육선진화센터\\n디지털서비스팀\\n비상대책위원회\\n임용고시반\\n시설관리팀\\n글로벌정치연구소\\n대학일자리본부\\n서울평생교육원\\n외국어교육센터\\n지식출판원\\n행정지원처장\\n일반대학원\\n통번역대학원\\n국제지역대학원\\n경영대학원(주간)\\n경영대학원(야간)\\n교육대학원\\n정치행정언론대학원\\nTESOL대학원\\n법학전문대학원\\nKFL대학원\\n한국외대학군단\\n학군단\\n전략홍보팀\\n언론정보연구소\\n사법연구실\\n모네EU센터\\n외대교육방송국\\n행정고시연구실\\n역사문화연구소\\n한국외대\\n한국외국어대학교\\n설명회\\n세미오시스\\n학년도\\n인도연구소\\n자기이해\\n게시물\\n한중\\n외국문학연구소장\\n대외협력처\\n발전협력팀\\n국제교류처\\n외국인유학생회\\n지원서\\n소속\\n기관명\\n상영회\\n사이버관\\n소강당\\n정보기록학연구센터\\n동대문구\\n동대문구청\\n모현읍\\n외대로\\n교양관\\n콜로키움\\n한국장학재단\\n1학기\\n2학기\\n2018학년도\\n2018년도\\n2018년\\n2019학년도\\n2019년\\n2019년도\\n2020학년도\\n2020년도\\n2020년\\n2021학년도\\n2021년도\\n2021년\\n2022학년도\\n2022년도\\n2022년\\n2023학년도\\n2023년도\\n2023년\\n2024학년도\\n2024년도\\n2024년\\n이수\\n학기\\n대하여\\n아래\\n수강편람\\n이중전공\\n수강신청함\\n수강신청\\n예비수강신청\\n교무처장\\n수강료\\n등록기간\\n수강신청자\\n미수강신청자\\n납부불가\\n핫링크\\n고지서출력\\n가상계좌\\n붙임파일\\n모바일앱\\n내역\\n인터넷뱅킹\\n텔레뱅킹\\n개시일\\n신청\\n마감\\n마감일\\n수강취소\\n수강변경\\\\종합정보화면\\n계절학기\\n부분환불\\n계절학기\\\\학년도\\n접수일\\n학석사\\n학사\\n석사\\n연계\\n과정생\\n접수처\\n학사종합지원센터\\n양캠퍼스\\n통번역\\n이수\\n미배정\\n부전공\\\\여석\\n이수\\n지원\\n학사종합지원센터\\n한국예술종합학교\\n특성화\\n수강편람\\n실용외국어\\n공동교양\\n여석\\\\졸업\\n사정\\n결과\\n확정자\\n불가자\\n개강일\\n우리대학교\\n우리대학\\n안내문\\n학위\\n학위증\\n코로나바이러스\\n신종코로나바이러스\\nHUFS\\n양캠퍼스\\n서울캠퍼스\\n글로벌캠퍼스\\n서울글로벌캠퍼스\\n서울·글로벌캠퍼스\\n우리은행\\n단과대학\\n졸업시험\\n논문\\n제적\\n졸업요건\\n지역학사\\n지역전문가과정\\n수료졸업대기\\n사회과학전공\\n교직\\n실용외국어\\n군입대\\n입영통지서\\n미비\\n미충족\\n등록휴학\\n휴학\\n전역일\\n증빙서류\\n개강\\n종강\\n학사일정\\n행사명\\n조치사항\\n참고사항\\n공고\\n부서명\\n개설학과\\n학수번호\\\\교과목명\\\\시간\\n교강사명\\n강의시간\\n폐강공고\\n일정\\n단과대\\n배부처\\n문의\\n어문학관\\n학생회관\\n바이오메디컬공학부\\n졸업증명서\\n문의\\n전화\\\\문의전화\\n원스톱서비스센터\\n졸업예정증명서\\n편입생\\n신입생\\n신편입생\\n아래\\nQR코드\\n지양하다\\n투명성\\n공정성\\n외국인교환학생\\n외국인방문학생\\n첫학기\\n영어진단평가\\n원격\\n비대면\\ne-Class\\neclass\\n이클래스\\n안내하다\\n전자출결\\n전자출결시스템\\n체계적인\\n엄정성\\n공고\\n코로나19\\n일반휴학\\n신청\\n별도문의\\nCOVID-19\\nCovid19\\\\covid19\\n중간시험\\\\기말시험\\n응시인원\\nCommunicativeEnglish\\nLS\\nL/S\\n우리대학\\n콜로키움\\nEU연구소\\n인문사회연구사업단\\n온·오프라인\\n온오프라인\\nHK+사업단\\n국제관\\n인도연구소\\n패널티\\n수습국원\\n추가모집\\n게시물\\n외대교육방송국\\n교수학습개발원\\nFBS\\\\주한브라질대사관\\n세계여성의날\\\\스마트도서관\\n휠라아쿠쉬네트홀\\n영화\\n상영\\n한국어자막\\\\대학혁신지원사업\\n아이디어톤\\n수도권역\\n미래대학투모로우솔루션\\n미네르바헬스장\\n교육생\\n휴관\\n금모닝\\n누구나\\n회차별\\n보건실\\n대한적십자사\\n헌혈증\\n헌혈자\\n성격유형검사\\n핵심역량통합관리시스템\\n전임조교\\nHufsability\\n교과\\n비교과\\n서울학생상담센터\\n추후공지\\n청년몽땅정보통\\n마이페이지\\n문의처\\n다산콜센터\\\\특별전형\\n일반전형\\n면접전형\\n등록예치금\\n예치금\\n모집\\n학과\\n전공\\n세미오시스연구센터\\n서울학생상담센터\\n전문\\n경영대학원\\n해당일\\n접수마감일\\n해당학기\\n졸업자\\n졸업예정자\\n외국대학\\n소지자\\n한국어능력시험\\n입증서류\\n출신학교\\n주한공관영사\\n입증서류\\n학사학위\\n학사\\n최종학력\\n증명\\n학위증서\\n개인정보이용및제공동의서\\n기타서류\\n해당자\\n추천서\\n경력증명서\\n외국국적지원자\\n성적증명서\\n총점\\n사이버외대\\n군인공제회직원\\n학교교직원\\n첫학기\\n입학금\\n운영위원회\\n전형료\\n우편접수\\n입학원서\\n본인날인\\n서명함\\n수험표\\n지참\\n제출서류\\n외국어교육센터\\nK-Zone\\nNoshow\\n출석차감\\n1교시\\n2교시\\n3교시\\n4교시\\n5교시\\n6교시\\n7교시\\n8교시\\n9교시\\n10교시\\n11교시\\n12교시\\n작문\\n대학영어\\n중간시험\\n보충수업\\n추가모집\\n창업자\\nAI/SW\\n모집공고\\n모집분야\\n일반창업\\n스펙업\\n졸업대기자\\n수료생\\nSW중심대학사업단\\nAI교육원\\nSW관련학과\\n컴퓨터공학부\\n정보통신공학부\\nGBT전공\\nELLT학과\\nAI융합전공\\n데이터사이언스전공\\n바이오데이터사이언스전공\\nICT&AI세부모듈\\n수혜제외\\n초과학기생\\n초과학기\\n9학기\\n1학기\\n2학기\\n3학기\\n4학기\\n5학기\\n6학기\\n7학기\\n8학기\\n지원사항\\n팀별\\n개인별\\n사업자등록증\\n최종보고서\\n학기말\\n학기초\\n전세계\\n삼성그룹\\nLG그룹\\n주기적\\n인증테스트\\n비교과\\n굿즈\\n코로나19\\n경제적\\n지원\\n타지역\\n이에\\n랜선나눔캠퍼스\\n활동개요\\n신청기간\\n비합격\\n비선발자\\n최종합격자\\n활동불가자\\n활동혜택\\n자기소개서\\n1부\\n학습계획서\\n증빙자료\\n재학증명서\\n1차합격\\n2차합격\\n스캔\\n활동비\\\\소득세\\n지방소득세\\n문의처\\n추후공지\\n공공인재개발원\\n개인사물함\\n행정입법고시\\n2차모의고사\\n수험서적\\n사민재\\n세미나실\\n국제학생회\\n본교생\\n외국인교환학생\\n정기총회\\n뵨교재학생\\n버디프로그램\\n홍보팀\\n 기획컬처팀\\n국제교류처\\n국제교류처장\\n불합격자\\n코로나-19\\n양성판정\\n음성판정\\n양성\\n음성\\n최종합격자\\nQ&A\\n필참\\n퇴출\\n정기활동\\n이메일접수\\n시험일정\\n구분\\n시간\\n비고\\n시험장소\\n입실완료\\n인문과학관\\n졸업유예생\\n학부생들\\n코로나-19\\n학생부종합전형\\n합격수기\\n선배들\\n글로벌창업지원단\\n창업인재양성센터\\n창업동아리\\n미디어커뮤니케이션대학원\\n대학원장\\nCulture&Technology융합대학\\n지원자격\\n지원서\\n접수\\n평가요소\\n영자신문사\\nTheArgus\\n수습기자\\n디아거스\\n공식홈페이지\\n공식인스타그램\\n사회봉사센터\\n국제학사\\n우편접수\\n서울시동대문구이문로107\\n대학안전관리계획\\n붙임팡리\\n안전보건관리팀\\n동원번역상\\n서울시 동대문구 이문로 107\\n등기부등본\\n인감 도장\\n설명회\\n제고\\n임대환경\\n관리비\\n전세\\n가감율\\n서울특별시 테헤란로 98길 11\\n개인정보수집이용제공동의서\\n'"
            ],
            "application/vnd.google.colaboratory.intrinsic+json": {
              "type": "string"
            }
          },
          "metadata": {},
          "execution_count": 10
        }
      ],
      "source": [
        "#데이터추가해주기_\\n으로 이어줘야합니다\n",
        "data +='경영대학원\\n사회봉사센터\\n학생상담센터\\n외국어연수평가원\\n공자아카데미\\n다문화교육원\\n원스톱서비스센터\\n종합정보시스템\\n학생지원팀\\n외교통상연구센터\\n학생복지위원회\\n학복위원회\\n'\n",
        "data +='국제교류팀\\nEU센터\\nEU연구소\\n글로벌캠퍼스\\n서울캠퍼스\\n행정지원처장\\n국제학사\\n국제학생지원팀\\n정보통신팀\\n정보지원처\\n진로취업지원센터\\n동남아연구소\\n외국문학연구소\\n국제학사\\n'\n",
        "data +='학교법인\\n동원육영회\\n학교법인동원육영회\\n언어연구소\\n러시아연구소\\n학사운영팀\\nFLEX센터\\n학생지원장학팀\\n인재개발처\\n세계문화예술경영융합전공\\n세계문화예술경영\\n융합전공\\n'\n",
        "data +='영어대학\\nELLT학과\\n영미문학·문화학과\\nEICC학과\\n서양어대학\\n프랑스어학부\\n프랑스응용어문학전공\\nFATI전공\\n프랑스ㆍEU전공\\n독일어과\\n노어과\\n스페인어과\\n이탈리아어과\\n'\n",
        "data +='포르투갈어과\\n네덜란드어과\\n스칸디나비아어과\\n아시아언어문화대학\\n말레이ㆍ인도네시아어과\\n아랍어과\\n태국어과\\n베트남어과\\n인도어과\\n터키ㆍ아제르바이잔어과\\n이란어과\\n몽골어과\\n'\n",
        "data +='중국어대학\\n중국언어문화학부\\n중국언어문화전공\\n중국외교통상학부\\n중국외교통상전공\\n일본어대학\\n일본언어문화학부\\n일본언어문화전공\\n융합일본지역학부\\n융합일본지역전공\\n'\n",
        "data +='사회과학대학\\n정치외교학과\\n행정학과\\n미디어커뮤니케이션학부\\n언론ㆍ정보전공\\n광고ㆍPRㆍ브랜딩전공\\n방송ㆍ영상ㆍ뉴미디어전공\\n상경대학\\n국제통상학과\\n경제학부\\n경제학전공\\n'\n",
        "data +='경영대학\\n경영학부\\n경영학전공\\n사범대학\\n영어교육과\\n프랑스어교육과\\n독일어교육과\\n한국어교육과\\n중국어교육과\\n국제학부\\n국제학전공\\nLanguage & Diplomacy학부\\n'\n",
        "data +='Language & Diplomacy전공\\nLanguage & Trade학부\\nLanguage & Trade전공\\nKFL학부\\n외국어로서의한국어교육전공\\n외국어로서의한국어통번역전공\\n인문대학\\n인문과학계열\\n철학과\\n사학과\\n'\n",
        "data +='언어인지과학과\\n지식콘텐츠학부\\n지식콘텐츠전공\\n통번역대학\\n영어통번역학부\\n영어통번역학전공\\n영미권통상통번역전공\\n영미문학ㆍ번역전공\\nTESOL영어학전공\\n독일어통번역학과\\n'\n",
        "data +='스페인어통번역학과\\n이탈리아어통번역학과\\n중국어통번역학과\\n일본어통번역학과\\n아랍어통번역학과\\n말레이･인도네시아어통번역학과\\n태국어통번역학과\\n동유럽학대학\\n폴란드어과\\n'\n",
        "data +='루마니아어과\\n체코ㆍ슬로바키아어과\\n헝가리어과\\n세르비아ㆍ크로아티아어과\\n우크라이나어과\\n국제지역대학\\n프랑스학과\\n브라질학과\\n그리스ㆍ불가리아학과\\n인도학과\\n중앙아시아학과\\n'\n",
        "data +='아프리카학부\\n동아프리카어전공\\n서아프리카어전공\\n남아프리카어전공\\n러시아학과\\n국제스포츠레저학부\\n국제스포츠레저전공\\n한국학과\\n경상대학\\nGlobal Business & Technology학부\\n'\n",
        "data +='Global Business & Technology전공\\n국제금융학과\\n자연과학대학\\n수학과\\n통계학과\\n전자물리학과\\n환경학과\\n생명공학과\\n화학과\\n공과대학\\n컴퓨터·전자시스템공학부\\n'\n",
        "data +='컴퓨터·전자시스템공학전공\\n정보통신공학과\\n전자공학과\\n산업경영공학과\\n9바이오메디컬공학부\\n바이오메디컬공학전공\\n전략기획팀\\n교수학습개발부\\n교육선진화센터\\n디지털서비스팀\\n'\n",
        "data +='비상대책위원회\\n임용고시반\\n시설관리팀\\n글로벌정치연구소\\n대학일자리본부\\n서울평생교육원\\n외국어교육센터\\n지식출판원\\n행정지원처장\\n일반대학원\\n통번역대학원\\n국제지역대학원\\n'\n",
        "data +='경영대학원(주간)\\n경영대학원(야간)\\n교육대학원\\n정치행정언론대학원\\nTESOL대학원\\n법학전문대학원\\nKFL대학원\\n한국외대학군단\\n학군단\\n전략홍보팀\\n언론정보연구소\\n사법연구실\\n'\n",
        "data +='모네EU센터\\n외대교육방송국\\n행정고시연구실\\n역사문화연구소\\n한국외대\\n한국외국어대학교\\n설명회\\n세미오시스\\n학년도\\n인도연구소\\n자기이해\\n게시물\\n한중\\n외국문학연구소장\\n'\n",
        "data +='대외협력처\\n발전협력팀\\n국제교류처\\n외국인유학생회\\n지원서\\n소속\\n기관명\\n상영회\\n사이버관\\n소강당\\n정보기록학연구센터\\n동대문구\\n동대문구청\\n모현읍\\n외대로\\n교양관\\n콜로키움\\n'\n",
        "data +='한국장학재단\\n1학기\\n2학기\\n2018학년도\\n2018년도\\n2018년\\n2019학년도\\n2019년\\n2019년도\\n2020학년도\\n2020년도\\n2020년\\n2021학년도\\n2021년도\\n2021년\\n2022학년도\\n2022년도\\n2022년\\n'\n",
        "data +='2023학년도\\n2023년도\\n2023년\\n2024학년도\\n2024년도\\n2024년\\n이수\\n학기\\n대하여\\n아래\\n수강편람\\n이중전공\\n수강신청함\\n수강신청\\n예비수강신청\\n교무처장\\n수강료\\n등록기간\\n'\n",
        "data +=\"수강신청자\\n미수강신청자\\n납부불가\\n핫링크\\n고지서출력\\n가상계좌\\n붙임파일\\n모바일앱\\n내역\\n인터넷뱅킹\\n텔레뱅킹\\n개시일\\n신청\\n마감\\n마감일\\n수강취소\\n수강변경\\종합정보화면\\n\"\n",
        "data +=\"계절학기\\n부분환불\\n계절학기\\학년도\\n접수일\\n학석사\\n학사\\n석사\\n연계\\n과정생\\n접수처\\n학사종합지원센터\\n양캠퍼스\\n통번역\\n이수\\n미배정\\n부전공\\여석\\n이수\\n지원\\n학사종합지원센터\\n\"\n",
        "data +=\"한국예술종합학교\\n특성화\\n수강편람\\n실용외국어\\n공동교양\\n여석\\졸업\\n사정\\n결과\\n확정자\\n불가자\\n개강일\\n우리대학교\\n우리대학\\n안내문\\n학위\\n학위증\\n코로나바이러스\\n\"\n",
        "data +=\"신종코로나바이러스\\nHUFS\\n양캠퍼스\\n서울캠퍼스\\n글로벌캠퍼스\\n서울글로벌캠퍼스\\n서울·글로벌캠퍼스\\n우리은행\\n단과대학\\n졸업시험\\n논문\\n제적\\n졸업요건\\n지역학사\\n지역전문가과정\\n\"\n",
        "data +=\"수료졸업대기\\n사회과학전공\\n교직\\n실용외국어\\n군입대\\n입영통지서\\n미비\\n미충족\\n등록휴학\\n휴학\\n전역일\\n증빙서류\\n개강\\n종강\\n학사일정\\n행사명\\n조치사항\\n참고사항\\n공고\\n부서명\\n\"\n",
        "data +=\"개설학과\\n학수번호\\교과목명\\시간\\n교강사명\\n강의시간\\n폐강공고\\n일정\\n단과대\\n배부처\\n문의\\n어문학관\\n학생회관\\n바이오메디컬공학부\\n졸업증명서\\n문의\\n전화\\문의전화\\n\"\n",
        "data +=\"원스톱서비스센터\\n졸업예정증명서\\n편입생\\n신입생\\n신편입생\\n아래\\nQR코드\\n지양하다\\n투명성\\n공정성\\n외국인교환학생\\n외국인방문학생\\n첫학기\\n영어진단평가\\n원격\\n비대면\\ne-Class\\n\"\n",
        "data +=\"eclass\\n이클래스\\n안내하다\\n전자출결\\n전자출결시스템\\n체계적인\\n엄정성\\n공고\\n코로나19\\n일반휴학\\n신청\\n별도문의\\nCOVID-19\\nCovid19\\covid19\\n중간시험\\기말시험\\n응시인원\\n\"\n",
        "data +=\"CommunicativeEnglish\\nLS\\nL/S\\n우리대학\\n콜로키움\\nEU연구소\\n인문사회연구사업단\\n온·오프라인\\n온오프라인\\nHK+사업단\\n국제관\\n인도연구소\\n패널티\\n수습국원\\n추가모집\\n게시물\\n\"\n",
        "data +=\"외대교육방송국\\n교수학습개발원\\nFBS\\주한브라질대사관\\n세계여성의날\\스마트도서관\\n휠라아쿠쉬네트홀\\n영화\\n상영\\n한국어자막\\대학혁신지원사업\\n아이디어톤\\n수도권역\\n\"\n",
        "data +=\"미래대학투모로우솔루션\\n미네르바헬스장\\n교육생\\n휴관\\n금모닝\\n누구나\\n회차별\\n보건실\\n대한적십자사\\n헌혈증\\n헌혈자\\n성격유형검사\\n핵심역량통합관리시스템\\n전임조교\\n\"\n",
        "data +=\"Hufsability\\n교과\\n비교과\\n서울학생상담센터\\n추후공지\\n청년몽땅정보통\\n마이페이지\\n문의처\\n다산콜센터\\특별전형\\n일반전형\\n면접전형\\n등록예치금\\n예치금\\n모집\\n학과\\n전공\\n\"\n",
        "data +=\"세미오시스연구센터\\n서울학생상담센터\\n전문\\n경영대학원\\n해당일\\n접수마감일\\n해당학기\\n졸업자\\n졸업예정자\\n외국대학\\n소지자\\n한국어능력시험\\n입증서류\\n출신학교\\n주한공관영사\\n\"\n",
        "data +=\"입증서류\\n학사학위\\n학사\\n최종학력\\n증명\\n학위증서\\n개인정보이용및제공동의서\\n기타서류\\n해당자\\n추천서\\n경력증명서\\n외국국적지원자\\n성적증명서\\n총점\\n사이버외대\\n군인공제회직원\\n\"\n",
        "data +=\"학교교직원\\n첫학기\\n입학금\\n운영위원회\\n전형료\\n우편접수\\n입학원서\\n본인날인\\n서명함\\n수험표\\n지참\\n제출서류\\n외국어교육센터\\nK-Zone\\nNoshow\\n출석차감\\n1교시\\n2교시\\n3교시\\n\"\n",
        "data +=\"4교시\\n5교시\\n6교시\\n7교시\\n8교시\\n9교시\\n10교시\\n11교시\\n12교시\\n작문\\n대학영어\\n중간시험\\n보충수업\\n추가모집\\n창업자\\nAI/SW\\n모집공고\\n모집분야\\n일반창업\\n스펙업\\n졸업대기자\\n\"\n",
        "data +=\"수료생\\nSW중심대학사업단\\nAI교육원\\nSW관련학과\\n컴퓨터공학부\\n정보통신공학부\\nGBT전공\\nELLT학과\\nAI융합전공\\n데이터사이언스전공\\n바이오데이터사이언스전공\\nICT&AI세부모듈\\n\"\n",
        "data +=\"수혜제외\\n초과학기생\\n초과학기\\n9학기\\n1학기\\n2학기\\n3학기\\n4학기\\n5학기\\n6학기\\n7학기\\n8학기\\n지원사항\\n팀별\\n개인별\\n사업자등록증\\n최종보고서\\n학기말\\n학기초\\n전세계\\n삼성그룹\\n\"\n",
        "data +=\"LG그룹\\n주기적\\n인증테스트\\n비교과\\n굿즈\\n코로나19\\n경제적\\n지원\\n타지역\\n이에\\n랜선나눔캠퍼스\\n활동개요\\n신청기간\\n비합격\\n비선발자\\n최종합격자\\n활동불가자\\n활동혜택\\n\"\n",
        "data +=\"자기소개서\\n1부\\n학습계획서\\n증빙자료\\n재학증명서\\n1차합격\\n2차합격\\n스캔\\n활동비\\소득세\\n지방소득세\\n문의처\\n추후공지\\n공공인재개발원\\n개인사물함\\n행정입법고시\\n2차모의고사\\n\"\n",
        "data +=\"수험서적\\n사민재\\n세미나실\\n국제학생회\\n본교생\\n외국인교환학생\\n정기총회\\n뵨교재학생\\n버디프로그램\\n홍보팀\\n 기획컬처팀\\n국제교류처\\n국제교류처장\\n불합격자\\n코로나-19\\n양성판정\\n\"\n",
        "data +=\"음성판정\\n양성\\n음성\\n최종합격자\\nQ&A\\n필참\\n퇴출\\n정기활동\\n이메일접수\\n시험일정\\n구분\\n시간\\n비고\\n시험장소\\n입실완료\\n인문과학관\\n졸업유예생\\n학부생들\\n코로나-19\\n\"\n",
        "data +=\"학생부종합전형\\n합격수기\\n선배들\\n글로벌창업지원단\\n창업인재양성센터\\n창업동아리\\n미디어커뮤니케이션대학원\\n대학원장\\nCulture&Technology융합대학\\n지원자격\\n지원서\\n접수\\n\"\n",
        "data +=\"평가요소\\n영자신문사\\nTheArgus\\n수습기자\\n디아거스\\n공식홈페이지\\n공식인스타그램\\n사회봉사센터\\n국제학사\\n우편접수\\n서울시동대문구이문로107\\n대학안전관리계획\\n붙임팡리\\n\"\n",
        "data +=\"안전보건관리팀\\n동원번역상\\n서울시 동대문구 이문로 107\\n등기부등본\\n인감 도장\\n설명회\\n제고\\n임대환경\\n관리비\\n전세\\n가감율\\n서울특별시 테헤란로 98길 11\\n개인정보수집이용제공동의서\\n\"\n",
        "\n",
        "# 파일 새롭게 저장\n",
        "with open(\"/usr/local/lib/python3.10/dist-packages/konlpy/java/temp_fix/org/openkoreantext/processor/util/noun/names.txt\", 'w') as f:\n",
        "    f.write(data)\n",
        "data"
      ]
    },
    {
      "cell_type": "code",
      "execution_count": null,
      "metadata": {
        "id": "16UbTnXWp7zH",
        "colab": {
          "base_uri": "https://localhost:8080/"
        },
        "outputId": "ecfbe5a1-e804-4a29-f167-8c9c625ffc5f"
      },
      "outputs": [
        {
          "output_type": "stream",
          "name": "stdout",
          "text": [
            "added manifest\n",
            "ignoring entry META-INF/\n",
            "ignoring entry META-INF/MANIFEST.MF\n",
            "adding: META-INF/maven/(in = 0) (out= 0)(stored 0%)\n",
            "adding: META-INF/maven/org.openkoreantext/(in = 0) (out= 0)(stored 0%)\n",
            "adding: META-INF/maven/org.openkoreantext/open-korean-text/(in = 0) (out= 0)(stored 0%)\n",
            "adding: META-INF/maven/org.openkoreantext/open-korean-text/pom.xml(in = 9127) (out= 2208)(deflated 75%)\n",
            "adding: META-INF/maven/org.openkoreantext/open-korean-text/pom.properties(in = 119) (out= 110)(deflated 7%)\n",
            "adding: org/(in = 0) (out= 0)(stored 0%)\n",
            "adding: org/openkoreantext/(in = 0) (out= 0)(stored 0%)\n",
            "adding: org/openkoreantext/processor/(in = 0) (out= 0)(stored 0%)\n",
            "adding: org/openkoreantext/processor/KoreanPosJava.class(in = 2457) (out= 1241)(deflated 49%)\n",
            "adding: org/openkoreantext/processor/KoreanTokenJava.class(in = 1976) (out= 931)(deflated 52%)\n",
            "adding: org/openkoreantext/processor/qa/(in = 0) (out= 0)(stored 0%)\n",
            "adding: org/openkoreantext/processor/qa/BatchTokenizeTweets$.class(in = 10867) (out= 4401)(deflated 59%)\n",
            "adding: org/openkoreantext/processor/qa/BatchGetUnknownNouns$.class(in = 8751) (out= 3532)(deflated 59%)\n",
            "adding: org/openkoreantext/processor/qa/KoreanProcessorSandbox$.class(in = 1464) (out= 823)(deflated 43%)\n",
            "adding: org/openkoreantext/processor/qa/BatchTokenizeTweets.class(in = 2720) (out= 2031)(deflated 25%)\n",
            "adding: org/openkoreantext/processor/qa/BatchGetUnknownNouns$ChunkWithTweet.class(in = 3080) (out= 1338)(deflated 56%)\n",
            "adding: org/openkoreantext/processor/qa/KoreanProcessorSandbox.class(in = 824) (out= 575)(deflated 30%)\n",
            "adding: org/openkoreantext/processor/qa/BatchGetUnknownNouns.class(in = 2307) (out= 1702)(deflated 26%)\n",
            "adding: org/openkoreantext/processor/qa/BatchTokenizeTweets$ParseTime$.class(in = 2418) (out= 1015)(deflated 58%)\n",
            "adding: org/openkoreantext/processor/qa/BatchGetUnknownNouns$ChunkWithTweet$.class(in = 2376) (out= 952)(deflated 59%)\n",
            "adding: org/openkoreantext/processor/qa/BatchTokenizeTweets$ParseTime.class(in = 3153) (out= 1446)(deflated 54%)\n",
            "adding: org/openkoreantext/processor/OpenKoreanTextProcessorJava.class(in = 5901) (out= 1995)(deflated 66%)\n",
            "adding: org/openkoreantext/processor/OpenKoreanTextProcessor.class(in = 4428) (out= 1997)(deflated 54%)\n",
            "adding: org/openkoreantext/processor/tokenizer/(in = 0) (out= 0)(stored 0%)\n",
            "adding: org/openkoreantext/processor/tokenizer/KoreanChunker$.class(in = 17975) (out= 6790)(deflated 62%)\n",
            "adding: org/openkoreantext/processor/tokenizer/ParsedChunk.class(in = 20517) (out= 8914)(deflated 56%)\n",
            "adding: org/openkoreantext/processor/tokenizer/KoreanTokenizer$PossibleTrie$.class(in = 2862) (out= 1067)(deflated 62%)\n",
            "adding: org/openkoreantext/processor/tokenizer/KoreanChunker.class(in = 4232) (out= 2887)(deflated 31%)\n",
            "adding: org/openkoreantext/processor/tokenizer/KoreanTokenizer$KoreanToken.class(in = 6336) (out= 2633)(deflated 58%)\n",
            "adding: org/openkoreantext/processor/tokenizer/KoreanSentenceSplitter.class(in = 1092) (out= 712)(deflated 34%)\n",
            "adding: org/openkoreantext/processor/tokenizer/KoreanDetokenizer.class(in = 1660) (out= 1133)(deflated 31%)\n",
            "adding: org/openkoreantext/processor/tokenizer/Sentence.class(in = 5985) (out= 3125)(deflated 47%)\n",
            "adding: org/openkoreantext/processor/tokenizer/KoreanChunker$ChunkMatch$.class(in = 2893) (out= 1136)(deflated 60%)\n",
            "adding: org/openkoreantext/processor/tokenizer/KoreanTokenizer$KoreanToken$.class(in = 3976) (out= 1402)(deflated 64%)\n",
            "adding: org/openkoreantext/processor/tokenizer/KoreanDetokenizer$.class(in = 9889) (out= 4174)(deflated 57%)\n",
            "adding: org/openkoreantext/processor/tokenizer/KoreanSentenceSplitter$.class(in = 3359) (out= 1497)(deflated 55%)\n",
            "adding: org/openkoreantext/processor/tokenizer/KoreanTokenizer.class(in = 6968) (out= 4384)(deflated 37%)\n",
            "adding: org/openkoreantext/processor/tokenizer/KoreanTokenizer$CandidateParse$.class(in = 3459) (out= 1111)(deflated 67%)\n",
            "adding: org/openkoreantext/processor/tokenizer/KoreanChunker$ChunkMatch.class(in = 4043) (out= 1704)(deflated 57%)\n",
            "adding: org/openkoreantext/processor/tokenizer/KoreanTokenizer$.class(in = 25564) (out= 8451)(deflated 66%)\n",
            "adding: org/openkoreantext/processor/tokenizer/TokenizerProfile.class(in = 16403) (out= 6666)(deflated 59%)\n",
            "adding: org/openkoreantext/processor/tokenizer/Sentence$.class(in = 2339) (out= 1012)(deflated 56%)\n",
            "adding: org/openkoreantext/processor/tokenizer/KoreanChunk.class(in = 5611) (out= 2907)(deflated 48%)\n",
            "adding: org/openkoreantext/processor/tokenizer/KoreanChunk$.class(in = 2361) (out= 1010)(deflated 57%)\n",
            "adding: org/openkoreantext/processor/tokenizer/KoreanTokenizer$CandidateParse.class(in = 4616) (out= 1645)(deflated 64%)\n",
            "adding: org/openkoreantext/processor/tokenizer/ParsedChunk$.class(in = 3973) (out= 1500)(deflated 62%)\n",
            "adding: org/openkoreantext/processor/tokenizer/KoreanTokenizer$PossibleTrie.class(in = 3399) (out= 1429)(deflated 57%)\n",
            "adding: org/openkoreantext/processor/tokenizer/TokenizerProfile$.class(in = 8169) (out= 2408)(deflated 70%)\n",
            "adding: org/openkoreantext/processor/util/(in = 0) (out= 0)(stored 0%)\n",
            "adding: org/openkoreantext/processor/util/josa/(in = 0) (out= 0)(stored 0%)\n",
            "adding: org/openkoreantext/processor/util/josa/josa.txt(in = 5219) (out= 1476)(deflated 71%)\n",
            "adding: org/openkoreantext/processor/util/CharArrayMap.class(in = 11923) (out= 4878)(deflated 59%)\n",
            "adding: org/openkoreantext/processor/util/CharArrayMap$MapEntry.class(in = 2433) (out= 1078)(deflated 55%)\n",
            "adding: org/openkoreantext/processor/util/adjective/(in = 0) (out= 0)(stored 0%)\n",
            "adding: org/openkoreantext/processor/util/adjective/adjective.txt(in = 27250) (out= 9357)(deflated 65%)\n",
            "adding: org/openkoreantext/processor/util/CharArrayMap$EntrySet.class(in = 2788) (out= 1181)(deflated 57%)\n",
            "adding: org/openkoreantext/processor/util/auxiliary/(in = 0) (out= 0)(stored 0%)\n",
            "adding: org/openkoreantext/processor/util/auxiliary/determiner.txt(in = 63) (out= 63)(deflated 0%)\n",
            "adding: org/openkoreantext/processor/util/auxiliary/exclamation.txt(in = 1759) (out= 757)(deflated 56%)\n",
            "adding: org/openkoreantext/processor/util/auxiliary/conjunctions.txt(in = 398) (out= 189)(deflated 52%)\n",
            "adding: org/openkoreantext/processor/util/KoreanPos$.class(in = 12173) (out= 4669)(deflated 61%)\n",
            "adding: org/openkoreantext/processor/util/KoreanPos$KoreanPosTrie$.class(in = 3157) (out= 1089)(deflated 65%)\n",
            "adding: org/openkoreantext/processor/util/substantives/(in = 0) (out= 0)(stored 0%)\n",
            "adding: org/openkoreantext/processor/util/substantives/suffix.txt(in = 325) (out= 224)(deflated 31%)\n",
            "adding: org/openkoreantext/processor/util/substantives/family_names.txt(in = 299) (out= 197)(deflated 34%)\n",
            "adding: org/openkoreantext/processor/util/substantives/modifier.txt(in = 3395) (out= 1346)(deflated 60%)\n",
            "adding: org/openkoreantext/processor/util/substantives/given_names.txt(in = 1407) (out= 609)(deflated 56%)\n",
            "adding: org/openkoreantext/processor/util/CharArrayMap$UnmodifiableCharArrayMap.class(in = 3062) (out= 859)(deflated 71%)\n",
            "adding: org/openkoreantext/processor/util/CharArrayMap$EmptyCharArrayMap.class(in = 2053) (out= 725)(deflated 64%)\n",
            "adding: org/openkoreantext/processor/util/KoreanSubstantive.class(in = 1336) (out= 1087)(deflated 18%)\n",
            "adding: org/openkoreantext/processor/util/CharacterUtils$Java5CharacterUtils.class(in = 2824) (out= 1393)(deflated 50%)\n",
            "adding: org/openkoreantext/processor/util/Hangul.class(in = 3981) (out= 2731)(deflated 31%)\n",
            "adding: org/openkoreantext/processor/util/CharArraySet.class(in = 4886) (out= 1944)(deflated 60%)\n",
            "adding: org/openkoreantext/processor/util/KoreanSubstantive$.class(in = 14990) (out= 6195)(deflated 58%)\n",
            "adding: org/openkoreantext/processor/util/KoreanPos.class(in = 6890) (out= 3877)(deflated 43%)\n",
            "adding: org/openkoreantext/processor/util/Hangul$DoubleCoda$.class(in = 2155) (out= 963)(deflated 55%)\n",
            "adding: org/openkoreantext/processor/util/Hangul$.class(in = 7625) (out= 3114)(deflated 59%)\n",
            "adding: org/openkoreantext/processor/util/CharacterUtils.class(in = 3703) (out= 1716)(deflated 53%)\n",
            "adding: org/openkoreantext/processor/util/CharacterUtils$CharacterBuffer.class(in = 1634) (out= 659)(deflated 59%)\n",
            "adding: org/openkoreantext/processor/util/CharacterUtils$Java4CharacterUtils.class(in = 2577) (out= 1282)(deflated 50%)\n",
            "adding: org/openkoreantext/processor/util/CharArrayMap$EntryIterator.class(in = 3118) (out= 1270)(deflated 59%)\n",
            "adding: org/openkoreantext/processor/util/KoreanDictionaryProvider.class(in = 3430) (out= 2003)(deflated 41%)\n",
            "adding: org/openkoreantext/processor/util/example_tweets.txt(in = 86271) (out= 38336)(deflated 55%)\n",
            "adding: org/openkoreantext/processor/util/noun/(in = 0) (out= 0)(stored 0%)\n",
            "adding: org/openkoreantext/processor/util/noun/names.txt(in = 11236) (out= 4727)(deflated 57%)\n",
            "adding: org/openkoreantext/processor/util/noun/company_names.txt(in = 1631) (out= 905)(deflated 44%)\n",
            "adding: org/openkoreantext/processor/util/noun/foreign.txt(in = 10485) (out= 4686)(deflated 55%)\n",
            "adding: org/openkoreantext/processor/util/noun/twitter.txt(in = 254) (out= 162)(deflated 36%)\n",
            "adding: org/openkoreantext/processor/util/noun/bible.txt(in = 2032) (out= 1005)(deflated 50%)\n",
            "adding: org/openkoreantext/processor/util/noun/lol.txt(in = 1337) (out= 744)(deflated 44%)\n",
            "adding: org/openkoreantext/processor/util/noun/entities.txt(in = 108142) (out= 44095)(deflated 59%)\n",
            "adding: org/openkoreantext/processor/util/noun/spam.txt(in = 202) (out= 157)(deflated 22%)\n",
            "adding: org/openkoreantext/processor/util/noun/wikipedia_title_nouns.txt(in = 1971964) (out= 686708)(deflated 65%)\n",
            "adding: org/openkoreantext/processor/util/noun/slangs.txt(in = 1565) (out= 921)(deflated 41%)\n",
            "adding: org/openkoreantext/processor/util/noun/profane.txt(in = 569) (out= 337)(deflated 40%)\n",
            "adding: org/openkoreantext/processor/util/noun/congress.txt(in = 26494) (out= 9351)(deflated 64%)\n",
            "adding: org/openkoreantext/processor/util/noun/kpop.txt(in = 5371) (out= 2495)(deflated 53%)\n",
            "adding: org/openkoreantext/processor/util/noun/pokemon.txt(in = 1781) (out= 965)(deflated 45%)\n",
            "adding: org/openkoreantext/processor/util/noun/geolocations.txt(in = 5423) (out= 2267)(deflated 58%)\n",
            "adding: org/openkoreantext/processor/util/noun/nouns.txt(in = 219319) (out= 84134)(deflated 61%)\n",
            "adding: org/openkoreantext/processor/util/KoreanPos$KoreanPosTrie.class(in = 4390) (out= 1610)(deflated 63%)\n",
            "adding: org/openkoreantext/processor/util/typos/(in = 0) (out= 0)(stored 0%)\n",
            "adding: org/openkoreantext/processor/util/typos/typos.txt(in = 5146) (out= 2300)(deflated 55%)\n",
            "adding: org/openkoreantext/processor/util/Hangul$HangulChar$.class(in = 2389) (out= 1022)(deflated 57%)\n",
            "adding: org/openkoreantext/processor/util/CharArrayMap$1.class(in = 1531) (out= 571)(deflated 62%)\n",
            "adding: org/openkoreantext/processor/util/Hangul$DoubleCoda.class(in = 2930) (out= 1348)(deflated 53%)\n",
            "adding: org/openkoreantext/processor/util/verb/(in = 0) (out= 0)(stored 0%)\n",
            "adding: org/openkoreantext/processor/util/verb/verb.txt(in = 32758) (out= 10723)(deflated 67%)\n",
            "adding: org/openkoreantext/processor/util/verb/pre_eomi.txt(in = 285) (out= 185)(deflated 35%)\n",
            "adding: org/openkoreantext/processor/util/verb/verb_prefix.txt(in = 47) (out= 52)(deflated -10%)\n",
            "adding: org/openkoreantext/processor/util/verb/eomi.txt(in = 12618) (out= 3556)(deflated 71%)\n",
            "adding: org/openkoreantext/processor/util/adverb/(in = 0) (out= 0)(stored 0%)\n",
            "adding: org/openkoreantext/processor/util/adverb/adverb.txt(in = 65572) (out= 18741)(deflated 71%)\n",
            "adding: org/openkoreantext/processor/util/KoreanConjugation.class(in = 1550) (out= 1237)(deflated 20%)\n",
            "adding: org/openkoreantext/processor/util/example_chunks.txt(in = 522978) (out= 163253)(deflated 68%)\n",
            "adding: org/openkoreantext/processor/util/Hangul$HangulChar.class(in = 3185) (out= 1421)(deflated 55%)\n",
            "adding: org/openkoreantext/processor/util/KoreanConjugation$.class(in = 22440) (out= 7972)(deflated 64%)\n",
            "adding: org/openkoreantext/processor/util/KoreanDictionaryProvider$.class(in = 20197) (out= 7488)(deflated 62%)\n",
            "adding: org/openkoreantext/processor/util/freq/(in = 0) (out= 0)(stored 0%)\n",
            "adding: org/openkoreantext/processor/util/freq/entity-freq.txt.gz(in = 385753) (out= 385873)(deflated 0%)\n",
            "adding: org/openkoreantext/processor/normalizer/(in = 0) (out= 0)(stored 0%)\n",
            "adding: org/openkoreantext/processor/normalizer/KoreanNormalizer.class(in = 2980) (out= 2181)(deflated 26%)\n",
            "adding: org/openkoreantext/processor/normalizer/KoreanNormalizer$Segment$.class(in = 2577) (out= 989)(deflated 61%)\n",
            "adding: org/openkoreantext/processor/normalizer/KoreanNormalizer$Segment.class(in = 3470) (out= 1422)(deflated 59%)\n",
            "adding: org/openkoreantext/processor/normalizer/KoreanNormalizer$.class(in = 11553) (out= 5102)(deflated 55%)\n",
            "adding: org/openkoreantext/processor/tools/(in = 0) (out= 0)(stored 0%)\n",
            "adding: org/openkoreantext/processor/tools/DeduplicateAndSortDictionaries$.class(in = 7154) (out= 3133)(deflated 56%)\n",
            "adding: org/openkoreantext/processor/tools/CreateParsingExamples$.class(in = 5517) (out= 2327)(deflated 57%)\n",
            "adding: org/openkoreantext/processor/tools/CreateParsingExamples$ParsingExample.class(in = 3718) (out= 1429)(deflated 61%)\n",
            "adding: org/openkoreantext/processor/tools/CreateConjugationExamples$.class(in = 5881) (out= 2385)(deflated 59%)\n",
            "adding: org/openkoreantext/processor/tools/CreateConjugationExamples.class(in = 2367) (out= 1659)(deflated 29%)\n",
            "adding: org/openkoreantext/processor/tools/UpdateAllTheExamples.class(in = 1089) (out= 756)(deflated 30%)\n",
            "adding: org/openkoreantext/processor/tools/Runnable.class(in = 964) (out= 694)(deflated 28%)\n",
            "adding: org/openkoreantext/processor/tools/CreateConjugationExamples$ConjugationExample.class(in = 3569) (out= 1415)(deflated 60%)\n",
            "adding: org/openkoreantext/processor/tools/CreateChunkParsingCandidates.class(in = 833) (out= 566)(deflated 32%)\n",
            "adding: org/openkoreantext/processor/tools/CreatePhraseExtractionExamples.class(in = 2516) (out= 1784)(deflated 29%)\n",
            "adding: org/openkoreantext/processor/tools/CreatePhraseExtractionExamples$PhraseExample$.class(in = 2974) (out= 1020)(deflated 65%)\n",
            "adding: org/openkoreantext/processor/tools/CreateParsingExamples$ParsingExample$.class(in = 2842) (out= 1010)(deflated 64%)\n",
            "adding: org/openkoreantext/processor/tools/UpdateAllTheExamples$.class(in = 4383) (out= 1794)(deflated 59%)\n",
            "adding: org/openkoreantext/processor/tools/CreateChunkParsingCandidates$.class(in = 5487) (out= 2305)(deflated 57%)\n",
            "adding: org/openkoreantext/processor/tools/CreateConjugationExamples$ConjugationExample$.class(in = 2787) (out= 997)(deflated 64%)\n",
            "adding: org/openkoreantext/processor/tools/DeduplicateAndSortDictionaries.class(in = 1117) (out= 823)(deflated 26%)\n",
            "adding: org/openkoreantext/processor/tools/CreateParsingExamples.class(in = 2427) (out= 1732)(deflated 28%)\n",
            "adding: org/openkoreantext/processor/tools/CreatePhraseExtractionExamples$.class(in = 5989) (out= 2472)(deflated 58%)\n",
            "adding: org/openkoreantext/processor/tools/CreatePhraseExtractionExamples$PhraseExample.class(in = 3825) (out= 1443)(deflated 62%)\n",
            "adding: org/openkoreantext/processor/stemmer/(in = 0) (out= 0)(stored 0%)\n",
            "adding: org/openkoreantext/processor/stemmer/KoreanStemmer$.class(in = 7044) (out= 2892)(deflated 58%)\n",
            "adding: org/openkoreantext/processor/stemmer/KoreanStemmer.class(in = 1439) (out= 972)(deflated 32%)\n",
            "adding: org/openkoreantext/processor/OpenKoreanTextProcessor$.class(in = 7716) (out= 2400)(deflated 68%)\n",
            "adding: org/openkoreantext/processor/phrase_extractor/(in = 0) (out= 0)(stored 0%)\n",
            "adding: org/openkoreantext/processor/phrase_extractor/KoreanPhraseExtractor$PhraseBuffer.class(in = 4857) (out= 1609)(deflated 66%)\n",
            "adding: org/openkoreantext/processor/phrase_extractor/KoreanPhraseExtractor$KoreanPhrase.class(in = 6942) (out= 2591)(deflated 62%)\n",
            "adding: org/openkoreantext/processor/phrase_extractor/KoreanPhraseExtractor.class(in = 6005) (out= 3967)(deflated 33%)\n",
            "adding: org/openkoreantext/processor/phrase_extractor/KoreanPhraseExtractor$.class(in = 37855) (out= 12404)(deflated 67%)\n",
            "adding: org/openkoreantext/processor/phrase_extractor/KoreanPhraseExtractor$KoreanPhrase$.class(in = 3358) (out= 1148)(deflated 65%)\n",
            "adding: org/openkoreantext/processor/phrase_extractor/KoreanPhraseExtractor$PhraseBuffer$.class(in = 3564) (out= 1087)(deflated 69%)\n"
          ]
        }
      ],
      "source": [
        "# 다시압축해주기. 마찬가지로 끝에 notfoundfile에러같은거 없으면 잘된겁니다!\n",
        "# 안되면 pwd로 현재 경로가 temp_fix가 맞는지 확인해주세요\n",
        "!jar cvf ../open-korean-text-2.1.0.jar *"
      ]
    },
    {
      "cell_type": "markdown",
      "metadata": {
        "id": "ctR5B1_iggw1"
      },
      "source": [
        "# 세션 다시 시작"
      ]
    },
    {
      "cell_type": "markdown",
      "source": [
        "# textrank"
      ],
      "metadata": {
        "id": "JsRQX1LMEl0w"
      }
    },
    {
      "cell_type": "code",
      "source": [
        "# 패키지 인스톨\n",
        "!pip install git+https://github.com/lovit/textrank.git\n",
        "\n",
        "# 깃 클론\n",
        "!git clone https://github.com/lovit/textrank.git"
      ],
      "metadata": {
        "colab": {
          "base_uri": "https://localhost:8080/"
        },
        "id": "3jwHZl7SnDn1",
        "outputId": "3299cbd7-d119-4084-dd14-011baeaf3b95"
      },
      "execution_count": 1,
      "outputs": [
        {
          "output_type": "stream",
          "name": "stdout",
          "text": [
            "Collecting git+https://github.com/lovit/textrank.git\n",
            "  Cloning https://github.com/lovit/textrank.git to /tmp/pip-req-build-x13ow43s\n",
            "  Running command git clone --filter=blob:none --quiet https://github.com/lovit/textrank.git /tmp/pip-req-build-x13ow43s\n",
            "  Resolved https://github.com/lovit/textrank.git to commit 578c7fbbb22b24561b1bd4bab9a9ecc2dc9515e1\n",
            "  Preparing metadata (setup.py) ... \u001b[?25l\u001b[?25hdone\n",
            "Building wheels for collected packages: textrank\n",
            "  Building wheel for textrank (setup.py) ... \u001b[?25l\u001b[?25hdone\n",
            "  Created wheel for textrank: filename=textrank-0.1.2-py3-none-any.whl size=11142 sha256=3821d9afe3e583249bb22e18a57303d99b5f295b7204e440d2bacad503f192b8\n",
            "  Stored in directory: /tmp/pip-ephem-wheel-cache-ji056sox/wheels/8d/d1/ef/7c6abc0d5bbb64f01bd86b0ad967911d4b7f21bb44813b3239\n",
            "Successfully built textrank\n",
            "Installing collected packages: textrank\n",
            "Successfully installed textrank-0.1.2\n"
          ]
        }
      ]
    },
    {
      "cell_type": "code",
      "source": [
        "# 해당 디렉토리로 이동\n",
        "%cd textrank"
      ],
      "metadata": {
        "colab": {
          "base_uri": "https://localhost:8080/"
        },
        "id": "13MVILi1IXsm",
        "outputId": "daefbd88-0c96-4239-d402-00e93ee63a95"
      },
      "execution_count": 3,
      "outputs": [
        {
          "output_type": "stream",
          "name": "stdout",
          "text": [
            "/content/textrank\n"
          ]
        }
      ]
    },
    {
      "cell_type": "markdown",
      "source": [
        "# okt_tokenize 함수"
      ],
      "metadata": {
        "id": "xslPve2Nnx2H"
      }
    },
    {
      "cell_type": "code",
      "execution_count": null,
      "metadata": {
        "id": "14KTEMkTn4_U"
      },
      "outputs": [],
      "source": [
        "# 한국어 불용어 리스트\n",
        "ko_stop_words = ['가', '가까스로', '가령', '각', '각각', '각자', '각종', '갖고말하자면', '같다', '같이', '개의치않고', '거니와', '거바', '거의', '것', '것과 같이', '것들', '게다가',\n",
        "                 '게우다', '겨우', '견지에서', '결과에 이르다', '결국', '결론을 낼 수 있다', '겸사겸사', '고려하면', '고로', '곧', '공동으로', '과', '과연', '관계가 있다', '관계없이',\n",
        "                 '관련이 있다', '관하여', '관한', '관해서는', '구', '구체적으로', '구토하다', '그', '그들', '그때', '그래', '그래도', '그래서', '그러나', '그러니', '그러니까', '그러면',\n",
        "                 '그러므로', '그러한즉', '그런 까닭에', '그런데', '그런즉', '그럼', '그럼에도 불구하고', '그렇게 함으로써', '그렇지', '그렇지 않다면', '그렇지 않으면', '그렇지만',\n",
        "                 '그렇지않으면', '그리고', '그리하여', '그만이다', '그에 따르는', '그위에', '그저', '그중에서', '그치지 않다', '근거로', '근거하여', '기대여', '기점으로', '기준으로',\n",
        "                 '기타', '까닭으로', '까악', '까지', '까지 미치다', '까지도', '꽈당', '끙끙', '끼익', '나', '나머지는', '남들', '남짓', '너', '너희', '너희들', '네', '넷', '년',\n",
        "                 '논하지 않다', '놀라다', '누가 알겠는가', '누구', '다른', '다른 방면으로', '다만', '다섯', '다소', '다수', '다시 말하자면', '다시말하면', '다음', '다음에', '다음으로',\n",
        "                 '단지', '답다', '당신', '당장', '대로 하다', '대하면', '대하여', '대해 말하자면', '대해서', '댕그', '더구나', '더군다나', '더라도', '더불어', '더욱더', '더욱이는',\n",
        "                 '도달하다', '도착하다', '동시에', '동안', '된바에야', '된이상', '두번째로', '둘', '둥둥', '뒤따라', '뒤이어', '든간에', '들', '등', '등등', '딩동', '따라', '따라서',\n",
        "                 '따위', '따지지 않다', '딱', '때', '때가 되어', '때문에', '또', '또한', '뚝뚝', '라 해도', '령', '로', '로 인하여', '로부터', '로써', '륙', '를', '마음대로', '마저',\n",
        "                 '마저도', '마치', '막론하고', '만 못하다', '만약', '만약에', '만은 아니다', '만이 아니다', '만일', '만큼', '말하자면', '말할것도 없고', '매', '매번', '메쓰겁다', '몇',\n",
        "                 '모', '모두', '무렵', '무릎쓰고', '무슨', '무엇', '무엇때문에', '물론', '및', '바꾸어말하면', '바꾸어말하자면', '바꾸어서 말하면', '바꾸어서 한다면', '바꿔 말하면',\n",
        "                 '바로', '바와같이', '밖에 안된다', '반대로', '반대로 말하자면', '반드시', '버금', '보는데서', '보다더', '보드득', '본대로', '봐', '봐라', '부류의 사람들', '부터',\n",
        "                 '불구하고', '불문하고', '붕붕', '비걱거리다', '비교적', '비길수 없다', '비로소', '비록', '비슷하다', '비추어 보아', '비하면', '뿐만 아니라', '뿐만아니라', '뿐이다',\n",
        "                 '삐걱', '삐걱거리다', '사', '삼', '상대적으로 말하자면', '생각한대로', '설령', '설마', '설사', '셋', '소생', '소인', '솨', '쉿', '습니까', '습니다', '시각', '시간',\n",
        "                 '시작하여', '시초에', '시키다', '실로', '심지어', '아', '아니', '아니나다를가', '아니라면', '아니면', '아니었다면', '아래윗', '아무거나', '아무도', '아야', '아울러',\n",
        "                 '아이', '아이고', '아이구', '아이야', '아이쿠', '아하', '아홉', '안 그러면', '않기 위하여', '않기 위해서', '알 수 있다', '알았어', '앗', '앞에서', '앞의것', '야',\n",
        "                 '약간', '양자', '어', '어기여차', '어느', '어느 년도', '어느것', '어느곳', '어느때', '어느쪽', '어느해', '어디', '어때', '어떠한', '어떤', '어떤것', '어떤것들', '어떻게',\n",
        "                 '어떻해', '어이', '어째서', '어쨋든', '어쩔수 없다', '어찌', '어찌됏든', '어찌됏어', '어찌하든지', '어찌하여', '언제', '언젠가', '얼마', '얼마 안 되는 것', '얼마간',\n",
        "                 '얼마나', '얼마든지', '얼마만큼', '얼마큼', '엉엉', '에', '에 가서', '에 달려 있다', '에 대해', '에 있다', '에 한하다', '에게', '에서', '여', '여기', '여덟', '여러분',\n",
        "                 '여보시오', '여부', '여섯', '여전히', '여차', '연관되다', '연이서', '영', '영차', '옆사람', '예', '예를 들면', '예를 들자면', '예컨대', '예하면', '오', '오로지',\n",
        "                 '오르다', '오자마자', '오직', '오호', '오히려', '와', '와 같은 사람들', '와르르', '와아', '왜', '왜냐하면', '외에도', '요만큼', '요만한 것', '요만한걸', '요컨대',\n",
        "                 '우르르', '우리', '우리들', '우선', '우에 종합한것과같이', '운운', '월', '위에서 서술한바와같이', '위하여', '위해서', '윙윙', '육', '으로', '으로 인하여', '으로부터',\n",
        "                 '으로써', '을', '응', '응당', '의', '의거하여', '의지하여', '의해', '의해되다', '의해서', '이', '이 되다', '이 때문에', '이 밖에', '이 외에', '이 정도의', '이것', '이곳',\n",
        "                 '이때', '이라면', '이래', '이러이러하다', '이러한', '이런', '이럴정도로', '이렇게 많은 것', '이렇게되면', '이렇게말하자면', '이렇구나', '이로 인하여', '이르기까지',\n",
        "                 '이리하여', '이만큼', '이번', '이봐', '이상', '이어서', '이었다', '이와 같다', '이와 같은', '이와 반대로', '이와같다면', '이외에도', '이용하여', '이유만으로', '이젠',\n",
        "                 '이지만', '이쪽', '이천구', '이천육', '이천칠', '이천팔', '인 듯하다', '인젠', '일', '일것이다', '일곱', '일단', '일때', '일반적으로', '일지라도', '임에 틀림없다',\n",
        "                 '입각하여', '입장에서', '잇따라', '있다', '자', '자기', '자기집', '자마자', '자신', '잠깐', '잠시', '저', '저것', '저것만큼', '저기', '저쪽', '저희', '전부', '전자',\n",
        "                 '전후', '점에서 보아', '정도에 이르다', '제', '제각기', '제외하고', '조금', '조차', '조차도', '졸졸', '좀', '좋아', '좍좍', '주룩주룩', '주저하지 않고', '줄은 몰랏다',\n",
        "                 '줄은모른다', '중에서', '중의하나', '즈음하여', '즉', '즉시', '지든지', '지만', '지말고', '진짜로', '쪽으로', '차라리', '참', '참나', '첫번째로', '쳇', '총적으로',\n",
        "                 '총적으로 말하면', '총적으로 보면', '칠', '콸콸', '쾅쾅', '쿵', '타다', '타인', '탕탕', '토하다', '통하여', '툭', '퉤', '틈타', '팍', '팔', '퍽', '펄렁', '하',\n",
        "                 '하게될것이다', '하게하다', '하겠는가', '하고 있다', '하고있었다', '하곤하였다', '하구나', '하기 때문에', '하기 위하여', '하기는한데', '하기만 하면', '하기보다는',\n",
        "                 '하기에', '하나', '하느니', '하는 김에', '하는 편이 낫다', '하는것도', '하는것만 못하다', '하는것이 낫다', '하는바', '하더라도', '하도다', '하도록시키다', '하도록하다',\n",
        "                 '하든지', '하려고하다', '하마터면', '하면 할수록', '하면된다', '하면서', '하물며', '하여금', '하여야', '하자마자', '하지 않는다면', '하지 않도록', '하지마', '하지마라',\n",
        "                 '하지만', '하하', '한 까닭에', '한 이유는', '한 후', '한다면', '한다면 몰라도', '한데', '한마디', '한적이있다', '한켠으로는', '한항목', '할 따름이다', '할 생각이다',\n",
        "                 '할 줄 안다', '할 지경이다', '할 힘이 있다', '할때', '할만하다', '할망정', '할뿐', '할수있다', '할수있어', '할줄알다', '할지라도', '할지언정', '함께', '해도된다',\n",
        "                 '해도좋다', '해봐요', '해서는 안된다', '해야한다', '해요', '했어요', '향하다', '향하여', '향해서', '허', '허걱', '허허', '헉', '헉헉', '헐떡헐떡', '형식으로 쓰여',\n",
        "                 '혹시', '혹은', '혼자', '훨씬', '휘익', '휴', '흐흐', '흥', '힘입어', '안녕하십니까', '아니다', '어렵다', '간단하다', '적절하다', '안녕하세요']"
      ]
    },
    {
      "cell_type": "code",
      "source": [
        "!pip install konlpy\n",
        "from konlpy.tag import Okt\n",
        "\n",
        "okt = Okt()\n",
        "\n",
        "def okt_tokenize(sent):\n",
        "    words = okt.pos(sent, join=True)\n",
        "    words = [w for w in words if ('/Noun' in w or '/Adjective' in w or '/Verb' in w)]\n",
        "    words = [w for w in words if w.split('/')[0] not in ko_stop_words]\n",
        "    return words"
      ],
      "metadata": {
        "id": "Zz7IM9cBnaVo"
      },
      "execution_count": null,
      "outputs": []
    },
    {
      "cell_type": "markdown",
      "source": [
        "# Summarizer 클래스 정의 및 초기화"
      ],
      "metadata": {
        "id": "U49DG7fqn6ug"
      }
    },
    {
      "cell_type": "code",
      "source": [
        "import re\n",
        "from konlpy.tag import Okt\n",
        "from textrank import KeysentenceSummarizer\n",
        "import pickle\n",
        "\n",
        "\n",
        "class Summarizer:\n",
        "    def __init__(self, stopwords_path):\n",
        "        self.stopwords = self.load_stopwords(stopwords_path)\n",
        "        self.okt = Okt()\n",
        "        self.summarizer = KeysentenceSummarizer(tokenize=self.okt_tokenize, min_sim=0.3)\n",
        "\n",
        "    def load_stopwords(self, stopwords_path):\n",
        "        with open(stopwords_path, 'r') as f:\n",
        "            stopwords = [line.strip() for line in f]\n",
        "        return stopwords\n",
        "\n",
        "    def okt_tokenize(self, sent):\n",
        "        words = self.okt.pos(sent, join=True)\n",
        "        words = [w for w in words if ('/Noun' in w or '/Adjective' in w or '/Verb' in w)]\n",
        "        return [word for word in words if word.split('/')[0] not in self.stopwords]\n",
        "\n",
        "    @staticmethod\n",
        "    def is_foreign_language(text, korean_threshold=0.3):\n",
        "        if isinstance(text, list):\n",
        "            text = ' '.join(text)\n",
        "        text = text.strip()\n",
        "        if not text:\n",
        "            return False\n",
        "        total_chars = len(text)\n",
        "        korean_chars = len(re.findall('[가-힣]', text))\n",
        "        return korean_chars / total_chars < korean_threshold\n",
        "\n",
        "    def summarize_content(self, title, content):\n",
        "        if self.is_foreign_language(content):\n",
        "            return []\n",
        "\n",
        "        if not content:\n",
        "            return []\n",
        "\n",
        "        if isinstance(content, list):\n",
        "            content = ' '.join(content)\n",
        "\n",
        "        if not content.strip():\n",
        "            return []\n",
        "\n",
        "        sents = re.split(r'\\n|\\.', content)\n",
        "        sents = list(filter(None, sents))\n",
        "        sents = [sent for sent in sents if sent.strip()]\n",
        "\n",
        "        if not sents:\n",
        "            return []\n",
        "\n",
        "        if len(sents) < 4:\n",
        "            return sents\n",
        "\n",
        "        try:\n",
        "            keysents = self.summarizer.summarize(sents, topk=3)\n",
        "        except ValueError:\n",
        "            error_sent = \"자세한 내용은 본문을 참고하세요.\"\n",
        "            return error_sent\n",
        "\n",
        "        return [item[2] for item in keysents]\n",
        "\n",
        "\n",
        "# Summarizer 인스턴스를 생성하고 피클 파일로 저장\n",
        "summarizer = Summarizer(stopwords_path=\"path_to_stopwords.txt\")\n",
        "with open('summarizer.pkl', 'wb') as file:\n",
        "    pickle.dump(summarizer, file)"
      ],
      "metadata": {
        "id": "in7FtCKBn9Bf"
      },
      "execution_count": null,
      "outputs": []
    },
    {
      "cell_type": "markdown",
      "source": [
        "# FastAPI 설정 및 라우팅"
      ],
      "metadata": {
        "id": "oL3JW6EnoBro"
      }
    },
    {
      "cell_type": "code",
      "source": [
        "# 필요한 라이브러리 설치\n",
        "!pip install fastapi uvicorn scikit-learn pandas pyngrok colabcode\n",
        "\n",
        "from pydantic import BaseModel\n",
        "from fastapi import FastAPI\n",
        "import uvicorn\n",
        "import pickle\n",
        "\n",
        "# ColabCode 인스턴스를 생성\n",
        "from colabcode import ColabCode\n",
        "cc = ColabCode(port=12000, code=False)\n",
        "\n",
        "# Summarizer 클래스 가져오기\n",
        "class Summarizer:\n",
        "    def __init__(self, stopwords_path):\n",
        "        self.stopwords = self.load_stopwords(stopwords_path)\n",
        "        self.okt = Okt()\n",
        "        self.summarizer = KeysentenceSummarizer(tokenize=self.okt_tokenize, min_sim=0.3)\n",
        "\n",
        "    def load_stopwords(self, stopwords_path):\n",
        "        with open(stopwords_path, 'r') as f:\n",
        "            stopwords = [line.strip() for line in f]\n",
        "        return stopwords\n",
        "\n",
        "    def okt_tokenize(self, sent):\n",
        "        words = self.okt.pos(sent, join=True)\n",
        "        words = [w for w in words if ('/Noun' in w or '/Adjective' in w or '/Verb' in w)]\n",
        "        return [word for word in words if word.split('/')[0] not in self.stopwords]\n",
        "\n",
        "    @staticmethod\n",
        "    def is_foreign_language(text, korean_threshold=0.3):\n",
        "        if isinstance(text, list):\n",
        "            text = ' '.join(text)\n",
        "        text = text.strip()\n",
        "        if not text:\n",
        "            return False\n",
        "        total_chars = len(text)\n",
        "        korean_chars = len(re.findall('[가-힣]', text))\n",
        "        return korean_chars / total_chars < korean_threshold\n",
        "\n",
        "    def summarize_content(self, title, content):\n",
        "        if self.is_foreign_language(content):\n",
        "            return []\n",
        "\n",
        "        if not content:\n",
        "            return []\n",
        "\n",
        "        if isinstance(content, list):\n",
        "            content = ' '.join(content)\n",
        "\n",
        "        if not content.strip():\n",
        "            return []\n",
        "\n",
        "        sents = re.split(r'\\n|\\.', content)\n",
        "        sents = list(filter(None, sents))\n",
        "        sents = [sent for sent in sents if sent.strip()]\n",
        "\n",
        "        if not sents:\n",
        "            return []\n",
        "\n",
        "        if len(sents) < 4:\n",
        "            return sents\n",
        "\n",
        "        try:\n",
        "            keysents = self.summarizer.summarize(sents, topk=3)\n",
        "        except ValueError:\n",
        "            error_sent = \"자세한 내용은 본문을 참고하세요.\"\n",
        "            return error_sent\n",
        "\n",
        "        return [item[2] for item in keysents]\n",
        "\n",
        "# FastAPI 애플리케이션 인스턴스 생성\n",
        "app = FastAPI()\n",
        "\n",
        "# 불용어 파일 경로 설정\n",
        "stopwords_path = \"path_to_stopwords.txt\"\n",
        "\n",
        "# Summarizer 객체 초기화\n",
        "summarizer = Summarizer(stopwords_path=stopwords_path)\n",
        "\n",
        "# 입력 데이터 모델 정의\n",
        "class InputModel(BaseModel):\n",
        "    title: str\n",
        "    content: str\n",
        "\n",
        "@app.get(\"/\")\n",
        "async def read_root():\n",
        "    return {\"message\": \"This is the homepage of the API\"}\n",
        "\n",
        "@app.post(\"/summarize\")\n",
        "def summarize_notification(data: InputModel):\n",
        "    summary = summarizer.summarize_content(data.title, data.content)\n",
        "    return {\"summary\": summary}\n",
        "\n",
        "# 스크립트를 독립적으로 실행할 때 FastAPI 서버를 시작하기 위해 필요\n",
        "if __name__ == \"__main__\":\n",
        "    uvicorn.run(app, host=\"0.0.0.0\", port=8000)"
      ],
      "metadata": {
        "id": "fEX2ahoroH26"
      },
      "execution_count": null,
      "outputs": []
    },
    {
      "cell_type": "markdown",
      "source": [
        "# ngrok 설정 및 실행"
      ],
      "metadata": {
        "id": "HaTXtgmf7VQ7"
      }
    },
    {
      "cell_type": "code",
      "source": [
        "from pyngrok import ngrok\n",
        "\n",
        "# 로컬 포트 지정\n",
        "port = 8000\n",
        "\n",
        "# ngrok 실행\n",
        "public_url = ngrok.connect(port)\n",
        "print(public_url)\n",
        "\n",
        "# ColabCode 인스턴스를 사용하여 FastAPI 애플리케이션을 실행\n",
        "cc.run_app(app=app)"
      ],
      "metadata": {
        "id": "14Y16U4GoL_X"
      },
      "execution_count": null,
      "outputs": []
    },
    {
      "cell_type": "markdown",
      "source": [
        "# 종합 코드"
      ],
      "metadata": {
        "id": "R11yJehco_mf"
      }
    },
    {
      "cell_type": "code",
      "execution_count": 7,
      "metadata": {
        "id": "SW-lEfT62at2"
      },
      "outputs": [],
      "source": [
        "# 한국어 불용어 리스트\n",
        "ko_stop_words = ['가', '가까스로', '가령', '각', '각각', '각자', '각종', '갖고말하자면', '같다', '같이', '개의치않고', '거니와', '거바', '거의', '것', '것과 같이', '것들', '게다가',\n",
        "                 '게우다', '겨우', '견지에서', '결과에 이르다', '결국', '결론을 낼 수 있다', '겸사겸사', '고려하면', '고로', '곧', '공동으로', '과', '과연', '관계가 있다', '관계없이',\n",
        "                 '관련이 있다', '관하여', '관한', '관해서는', '구', '구체적으로', '구토하다', '그', '그들', '그때', '그래', '그래도', '그래서', '그러나', '그러니', '그러니까', '그러면',\n",
        "                 '그러므로', '그러한즉', '그런 까닭에', '그런데', '그런즉', '그럼', '그럼에도 불구하고', '그렇게 함으로써', '그렇지', '그렇지 않다면', '그렇지 않으면', '그렇지만',\n",
        "                 '그렇지않으면', '그리고', '그리하여', '그만이다', '그에 따르는', '그위에', '그저', '그중에서', '그치지 않다', '근거로', '근거하여', '기대여', '기점으로', '기준으로',\n",
        "                 '기타', '까닭으로', '까악', '까지', '까지 미치다', '까지도', '꽈당', '끙끙', '끼익', '나', '나머지는', '남들', '남짓', '너', '너희', '너희들', '네', '넷', '년',\n",
        "                 '논하지 않다', '놀라다', '누가 알겠는가', '누구', '다른', '다른 방면으로', '다만', '다섯', '다소', '다수', '다시 말하자면', '다시말하면', '다음', '다음에', '다음으로',\n",
        "                 '단지', '답다', '당신', '당장', '대로 하다', '대하면', '대하여', '대해 말하자면', '대해서', '댕그', '더구나', '더군다나', '더라도', '더불어', '더욱더', '더욱이는',\n",
        "                 '도달하다', '도착하다', '동시에', '동안', '된바에야', '된이상', '두번째로', '둘', '둥둥', '뒤따라', '뒤이어', '든간에', '들', '등', '등등', '딩동', '따라', '따라서',\n",
        "                 '따위', '따지지 않다', '딱', '때', '때가 되어', '때문에', '또', '또한', '뚝뚝', '라 해도', '령', '로', '로 인하여', '로부터', '로써', '륙', '를', '마음대로', '마저',\n",
        "                 '마저도', '마치', '막론하고', '만 못하다', '만약', '만약에', '만은 아니다', '만이 아니다', '만일', '만큼', '말하자면', '말할것도 없고', '매', '매번', '메쓰겁다', '몇',\n",
        "                 '모', '모두', '무렵', '무릎쓰고', '무슨', '무엇', '무엇때문에', '물론', '및', '바꾸어말하면', '바꾸어말하자면', '바꾸어서 말하면', '바꾸어서 한다면', '바꿔 말하면',\n",
        "                 '바로', '바와같이', '밖에 안된다', '반대로', '반대로 말하자면', '반드시', '버금', '보는데서', '보다더', '보드득', '본대로', '봐', '봐라', '부류의 사람들', '부터',\n",
        "                 '불구하고', '불문하고', '붕붕', '비걱거리다', '비교적', '비길수 없다', '비로소', '비록', '비슷하다', '비추어 보아', '비하면', '뿐만 아니라', '뿐만아니라', '뿐이다',\n",
        "                 '삐걱', '삐걱거리다', '사', '삼', '상대적으로 말하자면', '생각한대로', '설령', '설마', '설사', '셋', '소생', '소인', '솨', '쉿', '습니까', '습니다', '시각', '시간',\n",
        "                 '시작하여', '시초에', '시키다', '실로', '심지어', '아', '아니', '아니나다를가', '아니라면', '아니면', '아니었다면', '아래윗', '아무거나', '아무도', '아야', '아울러',\n",
        "                 '아이', '아이고', '아이구', '아이야', '아이쿠', '아하', '아홉', '안 그러면', '않기 위하여', '않기 위해서', '알 수 있다', '알았어', '앗', '앞에서', '앞의것', '야',\n",
        "                 '약간', '양자', '어', '어기여차', '어느', '어느 년도', '어느것', '어느곳', '어느때', '어느쪽', '어느해', '어디', '어때', '어떠한', '어떤', '어떤것', '어떤것들', '어떻게',\n",
        "                 '어떻해', '어이', '어째서', '어쨋든', '어쩔수 없다', '어찌', '어찌됏든', '어찌됏어', '어찌하든지', '어찌하여', '언제', '언젠가', '얼마', '얼마 안 되는 것', '얼마간',\n",
        "                 '얼마나', '얼마든지', '얼마만큼', '얼마큼', '엉엉', '에', '에 가서', '에 달려 있다', '에 대해', '에 있다', '에 한하다', '에게', '에서', '여', '여기', '여덟', '여러분',\n",
        "                 '여보시오', '여부', '여섯', '여전히', '여차', '연관되다', '연이서', '영', '영차', '옆사람', '예', '예를 들면', '예를 들자면', '예컨대', '예하면', '오', '오로지',\n",
        "                 '오르다', '오자마자', '오직', '오호', '오히려', '와', '와 같은 사람들', '와르르', '와아', '왜', '왜냐하면', '외에도', '요만큼', '요만한 것', '요만한걸', '요컨대',\n",
        "                 '우르르', '우리', '우리들', '우선', '우에 종합한것과같이', '운운', '월', '위에서 서술한바와같이', '위하여', '위해서', '윙윙', '육', '으로', '으로 인하여', '으로부터',\n",
        "                 '으로써', '을', '응', '응당', '의', '의거하여', '의지하여', '의해', '의해되다', '의해서', '이', '이 되다', '이 때문에', '이 밖에', '이 외에', '이 정도의', '이것', '이곳',\n",
        "                 '이때', '이라면', '이래', '이러이러하다', '이러한', '이런', '이럴정도로', '이렇게 많은 것', '이렇게되면', '이렇게말하자면', '이렇구나', '이로 인하여', '이르기까지',\n",
        "                 '이리하여', '이만큼', '이번', '이봐', '이상', '이어서', '이었다', '이와 같다', '이와 같은', '이와 반대로', '이와같다면', '이외에도', '이용하여', '이유만으로', '이젠',\n",
        "                 '이지만', '이쪽', '이천구', '이천육', '이천칠', '이천팔', '인 듯하다', '인젠', '일', '일것이다', '일곱', '일단', '일때', '일반적으로', '일지라도', '임에 틀림없다',\n",
        "                 '입각하여', '입장에서', '잇따라', '있다', '자', '자기', '자기집', '자마자', '자신', '잠깐', '잠시', '저', '저것', '저것만큼', '저기', '저쪽', '저희', '전부', '전자',\n",
        "                 '전후', '점에서 보아', '정도에 이르다', '제', '제각기', '제외하고', '조금', '조차', '조차도', '졸졸', '좀', '좋아', '좍좍', '주룩주룩', '주저하지 않고', '줄은 몰랏다',\n",
        "                 '줄은모른다', '중에서', '중의하나', '즈음하여', '즉', '즉시', '지든지', '지만', '지말고', '진짜로', '쪽으로', '차라리', '참', '참나', '첫번째로', '쳇', '총적으로',\n",
        "                 '총적으로 말하면', '총적으로 보면', '칠', '콸콸', '쾅쾅', '쿵', '타다', '타인', '탕탕', '토하다', '통하여', '툭', '퉤', '틈타', '팍', '팔', '퍽', '펄렁', '하',\n",
        "                 '하게될것이다', '하게하다', '하겠는가', '하고 있다', '하고있었다', '하곤하였다', '하구나', '하기 때문에', '하기 위하여', '하기는한데', '하기만 하면', '하기보다는',\n",
        "                 '하기에', '하나', '하느니', '하는 김에', '하는 편이 낫다', '하는것도', '하는것만 못하다', '하는것이 낫다', '하는바', '하더라도', '하도다', '하도록시키다', '하도록하다',\n",
        "                 '하든지', '하려고하다', '하마터면', '하면 할수록', '하면된다', '하면서', '하물며', '하여금', '하여야', '하자마자', '하지 않는다면', '하지 않도록', '하지마', '하지마라',\n",
        "                 '하지만', '하하', '한 까닭에', '한 이유는', '한 후', '한다면', '한다면 몰라도', '한데', '한마디', '한적이있다', '한켠으로는', '한항목', '할 따름이다', '할 생각이다',\n",
        "                 '할 줄 안다', '할 지경이다', '할 힘이 있다', '할때', '할만하다', '할망정', '할뿐', '할수있다', '할수있어', '할줄알다', '할지라도', '할지언정', '함께', '해도된다',\n",
        "                 '해도좋다', '해봐요', '해서는 안된다', '해야한다', '해요', '했어요', '향하다', '향하여', '향해서', '허', '허걱', '허허', '헉', '헉헉', '헐떡헐떡', '형식으로 쓰여',\n",
        "                 '혹시', '혹은', '혼자', '훨씬', '휘익', '휴', '흐흐', '흥', '힘입어', '안녕하십니까', '아니다', '어렵다', '간단하다', '적절하다', '안녕하세요']"
      ]
    },
    {
      "cell_type": "code",
      "source": [
        "!pip install konlpy fastapi uvicorn scikit-learn pandas pyngrok colabcode\n",
        "\n",
        "from konlpy.tag import Okt\n",
        "from textrank import KeysentenceSummarizer\n",
        "import pickle\n",
        "import re\n",
        "from fastapi import FastAPI\n",
        "from pydantic import BaseModel\n",
        "import uvicorn\n",
        "from pyngrok import ngrok\n",
        "from colabcode import ColabCode\n",
        "\n",
        "# Okt 토크나이저 초기화\n",
        "okt = Okt()\n",
        "\n",
        "# Summarizer 클래스 정의\n",
        "class Summarizer:\n",
        "    def __init__(self, stopwords_path):\n",
        "        # self.stopwords = self.load_stopwords(stopwords_path)\n",
        "        self.okt = Okt()\n",
        "        self.summarizer = KeysentenceSummarizer(tokenize=self.okt_tokenize, min_sim=0.3)\n",
        "\n",
        "    # def load_stopwords(self, stopwords_path):\n",
        "    #     with open(stopwords_path, 'r') as f:\n",
        "    #         stopwords = [line.strip() for line in f]\n",
        "    #     return stopwords\n",
        "\n",
        "    def okt_tokenize(self, sent):\n",
        "        words = self.okt.pos(sent, join=True)\n",
        "        words = [w for w in words if ('/Noun' in w or '/Adjective' in w or '/Verb' in w)]\n",
        "        return [word for word in words if word.split('/')[0] not in self.ko_stop_words]\n",
        "\n",
        "    @staticmethod\n",
        "    def is_foreign_language(text, korean_threshold=0.3):\n",
        "        if isinstance(text, list):\n",
        "            text = ' '.join(text)\n",
        "        text = text.strip()\n",
        "        if not text:\n",
        "            return False\n",
        "        total_chars = len(text)\n",
        "        korean_chars = len(re.findall('[가-힣]', text))\n",
        "        return korean_chars / total_chars < korean_threshold\n",
        "\n",
        "    def summarize_content(self, title, content):\n",
        "        if self.is_foreign_language(content):\n",
        "            return []\n",
        "\n",
        "        if not content:\n",
        "            return []\n",
        "\n",
        "        if isinstance(content, list):\n",
        "            content = ' '.join(content)\n",
        "\n",
        "        if not content.strip():\n",
        "            return []\n",
        "\n",
        "        sents = re.split(r'\\n|\\.', content)\n",
        "        sents = list(filter(None, sents))\n",
        "        sents = [sent for sent in sents if sent.strip()]\n",
        "\n",
        "        if not sents:\n",
        "            return []\n",
        "\n",
        "        if len(sents) < 4:\n",
        "            return sents\n",
        "\n",
        "        try:\n",
        "            keysents = self.summarizer.summarize(sents, topk=3)\n",
        "        except ValueError:\n",
        "            error_sent = \"자세한 내용은 본문을 참고하세요.\"\n",
        "            return error_sent\n",
        "\n",
        "        return [item[2] for item in keysents]\n",
        "\n",
        "# 불용어 파일 경로 설정\n",
        "stopwords_path = \"path_to_stopwords.txt\"\n",
        "\n",
        "# Summarizer 객체 초기화\n",
        "summarizer = Summarizer(stopwords_path=stopwords_path)\n",
        "\n",
        "# FastAPI 애플리케이션 인스턴스 생성\n",
        "app = FastAPI()\n",
        "\n",
        "# 입력 데이터 모델 정의\n",
        "class InputModel(BaseModel):\n",
        "    title: str\n",
        "    content: str\n",
        "\n",
        "@app.get(\"/\")\n",
        "async def read_root():\n",
        "    return {\"message\": \"This is the homepage of the API\"}\n",
        "\n",
        "@app.post(\"/summarize\")\n",
        "def summarize_notification(data: InputModel):\n",
        "    summary = summarizer.summarize_content(data.title, data.content)\n",
        "    return {\"summary\": summary}\n",
        "\n",
        "# ngrok 설정\n",
        "!ngrok authtoken 2hK35c0x12ZslTs2gqE6lRUgetJ_3CvcCrK629aQ45RizQhZP\n",
        "port = 8000\n",
        "public_url = ngrok.connect(port)\n",
        "print(public_url)\n",
        "\n",
        "# ColabCode 인스턴스를 생성하여 FastAPI 애플리케이션 실행\n",
        "cc = ColabCode(port=12000, code=False)\n",
        "cc.run_app(app=app)\n",
        "\n",
        "# 스크립트를 독립적으로 실행할 때 FastAPI 서버를 시작하기 위해 필요\n",
        "if __name__ == \"__main__\":\n",
        "    uvicorn.run(app, host=\"0.0.0.0\", port=8000)"
      ],
      "metadata": {
        "colab": {
          "base_uri": "https://localhost:8080/"
        },
        "id": "eJUZYPP-pANO",
        "outputId": "ab22e6a4-d91c-4dc3-9777-6dc56cd0e197"
      },
      "execution_count": 9,
      "outputs": [
        {
          "output_type": "stream",
          "name": "stdout",
          "text": [
            "Requirement already satisfied: konlpy in /usr/local/lib/python3.10/dist-packages (0.6.0)\n",
            "Requirement already satisfied: fastapi in /usr/local/lib/python3.10/dist-packages (0.110.3)\n",
            "Requirement already satisfied: uvicorn in /usr/local/lib/python3.10/dist-packages (0.13.1)\n",
            "Requirement already satisfied: scikit-learn in /usr/local/lib/python3.10/dist-packages (1.2.2)\n",
            "Requirement already satisfied: pandas in /usr/local/lib/python3.10/dist-packages (2.0.3)\n",
            "Requirement already satisfied: pyngrok in /usr/local/lib/python3.10/dist-packages (7.1.6)\n",
            "Requirement already satisfied: colabcode in /usr/local/lib/python3.10/dist-packages (0.3.0)\n",
            "Requirement already satisfied: JPype1>=0.7.0 in /usr/local/lib/python3.10/dist-packages (from konlpy) (1.5.0)\n",
            "Requirement already satisfied: lxml>=4.1.0 in /usr/local/lib/python3.10/dist-packages (from konlpy) (4.9.4)\n",
            "Requirement already satisfied: numpy>=1.6 in /usr/local/lib/python3.10/dist-packages (from konlpy) (1.25.2)\n",
            "Requirement already satisfied: starlette<0.38.0,>=0.37.2 in /usr/local/lib/python3.10/dist-packages (from fastapi) (0.37.2)\n",
            "Requirement already satisfied: pydantic!=1.8,!=1.8.1,!=2.0.0,!=2.0.1,!=2.1.0,<3.0.0,>=1.7.4 in /usr/local/lib/python3.10/dist-packages (from fastapi) (2.7.3)\n",
            "Requirement already satisfied: typing-extensions>=4.8.0 in /usr/local/lib/python3.10/dist-packages (from fastapi) (4.12.1)\n",
            "Requirement already satisfied: click==7.* in /usr/local/lib/python3.10/dist-packages (from uvicorn) (7.1.2)\n",
            "Requirement already satisfied: h11>=0.8 in /usr/local/lib/python3.10/dist-packages (from uvicorn) (0.14.0)\n",
            "Requirement already satisfied: scipy>=1.3.2 in /usr/local/lib/python3.10/dist-packages (from scikit-learn) (1.11.4)\n",
            "Requirement already satisfied: joblib>=1.1.1 in /usr/local/lib/python3.10/dist-packages (from scikit-learn) (1.4.2)\n",
            "Requirement already satisfied: threadpoolctl>=2.0.0 in /usr/local/lib/python3.10/dist-packages (from scikit-learn) (3.5.0)\n",
            "Requirement already satisfied: python-dateutil>=2.8.2 in /usr/local/lib/python3.10/dist-packages (from pandas) (2.8.2)\n",
            "Requirement already satisfied: pytz>=2020.1 in /usr/local/lib/python3.10/dist-packages (from pandas) (2023.4)\n",
            "Requirement already satisfied: tzdata>=2022.1 in /usr/local/lib/python3.10/dist-packages (from pandas) (2024.1)\n",
            "Requirement already satisfied: PyYAML>=5.1 in /usr/local/lib/python3.10/dist-packages (from pyngrok) (6.0.1)\n",
            "Requirement already satisfied: nest-asyncio==1.4.3 in /usr/local/lib/python3.10/dist-packages (from colabcode) (1.4.3)\n",
            "Requirement already satisfied: jupyterlab==3.0.7 in /usr/local/lib/python3.10/dist-packages (from colabcode) (3.0.7)\n",
            "Requirement already satisfied: ipython in /usr/local/lib/python3.10/dist-packages (from jupyterlab==3.0.7->colabcode) (7.34.0)\n",
            "Requirement already satisfied: packaging in /usr/local/lib/python3.10/dist-packages (from jupyterlab==3.0.7->colabcode) (24.0)\n",
            "Requirement already satisfied: tornado>=6.1.0 in /usr/local/lib/python3.10/dist-packages (from jupyterlab==3.0.7->colabcode) (6.3.3)\n",
            "Requirement already satisfied: jupyter-core in /usr/local/lib/python3.10/dist-packages (from jupyterlab==3.0.7->colabcode) (5.7.2)\n",
            "Requirement already satisfied: jupyterlab-server~=2.0 in /usr/local/lib/python3.10/dist-packages (from jupyterlab==3.0.7->colabcode) (2.27.2)\n",
            "Requirement already satisfied: jupyter-server~=1.2 in /usr/local/lib/python3.10/dist-packages (from jupyterlab==3.0.7->colabcode) (1.24.0)\n",
            "Requirement already satisfied: nbclassic~=0.2 in /usr/local/lib/python3.10/dist-packages (from jupyterlab==3.0.7->colabcode) (0.3.7)\n",
            "Requirement already satisfied: jinja2>=2.10 in /usr/local/lib/python3.10/dist-packages (from jupyterlab==3.0.7->colabcode) (3.1.4)\n",
            "Requirement already satisfied: annotated-types>=0.4.0 in /usr/local/lib/python3.10/dist-packages (from pydantic!=1.8,!=1.8.1,!=2.0.0,!=2.0.1,!=2.1.0,<3.0.0,>=1.7.4->fastapi) (0.7.0)\n",
            "Requirement already satisfied: pydantic-core==2.18.4 in /usr/local/lib/python3.10/dist-packages (from pydantic!=1.8,!=1.8.1,!=2.0.0,!=2.0.1,!=2.1.0,<3.0.0,>=1.7.4->fastapi) (2.18.4)\n",
            "Requirement already satisfied: six>=1.5 in /usr/local/lib/python3.10/dist-packages (from python-dateutil>=2.8.2->pandas) (1.16.0)\n",
            "Requirement already satisfied: anyio<5,>=3.4.0 in /usr/local/lib/python3.10/dist-packages (from starlette<0.38.0,>=0.37.2->fastapi) (3.7.1)\n",
            "Requirement already satisfied: idna>=2.8 in /usr/local/lib/python3.10/dist-packages (from anyio<5,>=3.4.0->starlette<0.38.0,>=0.37.2->fastapi) (3.7)\n",
            "Requirement already satisfied: sniffio>=1.1 in /usr/local/lib/python3.10/dist-packages (from anyio<5,>=3.4.0->starlette<0.38.0,>=0.37.2->fastapi) (1.3.1)\n",
            "Requirement already satisfied: exceptiongroup in /usr/local/lib/python3.10/dist-packages (from anyio<5,>=3.4.0->starlette<0.38.0,>=0.37.2->fastapi) (1.2.1)\n",
            "Requirement already satisfied: MarkupSafe>=2.0 in /usr/local/lib/python3.10/dist-packages (from jinja2>=2.10->jupyterlab==3.0.7->colabcode) (2.1.5)\n",
            "Requirement already satisfied: argon2-cffi in /usr/local/lib/python3.10/dist-packages (from jupyter-server~=1.2->jupyterlab==3.0.7->colabcode) (23.1.0)\n",
            "Requirement already satisfied: jupyter-client>=6.1.12 in /usr/local/lib/python3.10/dist-packages (from jupyter-server~=1.2->jupyterlab==3.0.7->colabcode) (6.1.12)\n",
            "Requirement already satisfied: nbconvert>=6.4.4 in /usr/local/lib/python3.10/dist-packages (from jupyter-server~=1.2->jupyterlab==3.0.7->colabcode) (6.5.4)\n",
            "Requirement already satisfied: nbformat>=5.2.0 in /usr/local/lib/python3.10/dist-packages (from jupyter-server~=1.2->jupyterlab==3.0.7->colabcode) (5.10.4)\n",
            "Requirement already satisfied: prometheus-client in /usr/local/lib/python3.10/dist-packages (from jupyter-server~=1.2->jupyterlab==3.0.7->colabcode) (0.20.0)\n",
            "Requirement already satisfied: pyzmq>=17 in /usr/local/lib/python3.10/dist-packages (from jupyter-server~=1.2->jupyterlab==3.0.7->colabcode) (24.0.1)\n",
            "Requirement already satisfied: Send2Trash in /usr/local/lib/python3.10/dist-packages (from jupyter-server~=1.2->jupyterlab==3.0.7->colabcode) (1.8.3)\n",
            "Requirement already satisfied: terminado>=0.8.3 in /usr/local/lib/python3.10/dist-packages (from jupyter-server~=1.2->jupyterlab==3.0.7->colabcode) (0.18.1)\n",
            "Requirement already satisfied: traitlets>=5.1 in /usr/local/lib/python3.10/dist-packages (from jupyter-server~=1.2->jupyterlab==3.0.7->colabcode) (5.7.1)\n",
            "Requirement already satisfied: websocket-client in /usr/local/lib/python3.10/dist-packages (from jupyter-server~=1.2->jupyterlab==3.0.7->colabcode) (1.8.0)\n",
            "Requirement already satisfied: platformdirs>=2.5 in /usr/local/lib/python3.10/dist-packages (from jupyter-core->jupyterlab==3.0.7->colabcode) (4.2.2)\n",
            "Requirement already satisfied: babel>=2.10 in /usr/local/lib/python3.10/dist-packages (from jupyterlab-server~=2.0->jupyterlab==3.0.7->colabcode) (2.15.0)\n",
            "Requirement already satisfied: json5>=0.9.0 in /usr/local/lib/python3.10/dist-packages (from jupyterlab-server~=2.0->jupyterlab==3.0.7->colabcode) (0.9.25)\n",
            "Requirement already satisfied: jsonschema>=4.18.0 in /usr/local/lib/python3.10/dist-packages (from jupyterlab-server~=2.0->jupyterlab==3.0.7->colabcode) (4.19.2)\n",
            "Requirement already satisfied: requests>=2.31 in /usr/local/lib/python3.10/dist-packages (from jupyterlab-server~=2.0->jupyterlab==3.0.7->colabcode) (2.31.0)\n",
            "Requirement already satisfied: notebook<7 in /usr/local/lib/python3.10/dist-packages (from nbclassic~=0.2->jupyterlab==3.0.7->colabcode) (6.4.5)\n",
            "Requirement already satisfied: notebook-shim>=0.1.0 in /usr/local/lib/python3.10/dist-packages (from nbclassic~=0.2->jupyterlab==3.0.7->colabcode) (0.2.4)\n",
            "Requirement already satisfied: setuptools>=18.5 in /usr/local/lib/python3.10/dist-packages (from ipython->jupyterlab==3.0.7->colabcode) (67.7.2)\n",
            "Requirement already satisfied: jedi>=0.16 in /usr/local/lib/python3.10/dist-packages (from ipython->jupyterlab==3.0.7->colabcode) (0.19.1)\n",
            "Requirement already satisfied: decorator in /usr/local/lib/python3.10/dist-packages (from ipython->jupyterlab==3.0.7->colabcode) (4.4.2)\n",
            "Requirement already satisfied: pickleshare in /usr/local/lib/python3.10/dist-packages (from ipython->jupyterlab==3.0.7->colabcode) (0.7.5)\n",
            "Requirement already satisfied: prompt-toolkit!=3.0.0,!=3.0.1,<3.1.0,>=2.0.0 in /usr/local/lib/python3.10/dist-packages (from ipython->jupyterlab==3.0.7->colabcode) (3.0.45)\n",
            "Requirement already satisfied: pygments in /usr/local/lib/python3.10/dist-packages (from ipython->jupyterlab==3.0.7->colabcode) (2.16.1)\n",
            "Requirement already satisfied: backcall in /usr/local/lib/python3.10/dist-packages (from ipython->jupyterlab==3.0.7->colabcode) (0.2.0)\n",
            "Requirement already satisfied: matplotlib-inline in /usr/local/lib/python3.10/dist-packages (from ipython->jupyterlab==3.0.7->colabcode) (0.1.7)\n",
            "Requirement already satisfied: pexpect>4.3 in /usr/local/lib/python3.10/dist-packages (from ipython->jupyterlab==3.0.7->colabcode) (4.9.0)\n",
            "Requirement already satisfied: parso<0.9.0,>=0.8.3 in /usr/local/lib/python3.10/dist-packages (from jedi>=0.16->ipython->jupyterlab==3.0.7->colabcode) (0.8.4)\n",
            "Requirement already satisfied: attrs>=22.2.0 in /usr/local/lib/python3.10/dist-packages (from jsonschema>=4.18.0->jupyterlab-server~=2.0->jupyterlab==3.0.7->colabcode) (23.2.0)\n",
            "Requirement already satisfied: jsonschema-specifications>=2023.03.6 in /usr/local/lib/python3.10/dist-packages (from jsonschema>=4.18.0->jupyterlab-server~=2.0->jupyterlab==3.0.7->colabcode) (2023.12.1)\n",
            "Requirement already satisfied: referencing>=0.28.4 in /usr/local/lib/python3.10/dist-packages (from jsonschema>=4.18.0->jupyterlab-server~=2.0->jupyterlab==3.0.7->colabcode) (0.35.1)\n",
            "Requirement already satisfied: rpds-py>=0.7.1 in /usr/local/lib/python3.10/dist-packages (from jsonschema>=4.18.0->jupyterlab-server~=2.0->jupyterlab==3.0.7->colabcode) (0.18.1)\n",
            "Requirement already satisfied: beautifulsoup4 in /usr/local/lib/python3.10/dist-packages (from nbconvert>=6.4.4->jupyter-server~=1.2->jupyterlab==3.0.7->colabcode) (4.12.3)\n",
            "Requirement already satisfied: bleach in /usr/local/lib/python3.10/dist-packages (from nbconvert>=6.4.4->jupyter-server~=1.2->jupyterlab==3.0.7->colabcode) (6.1.0)\n",
            "Requirement already satisfied: defusedxml in /usr/local/lib/python3.10/dist-packages (from nbconvert>=6.4.4->jupyter-server~=1.2->jupyterlab==3.0.7->colabcode) (0.7.1)\n",
            "Requirement already satisfied: entrypoints>=0.2.2 in /usr/local/lib/python3.10/dist-packages (from nbconvert>=6.4.4->jupyter-server~=1.2->jupyterlab==3.0.7->colabcode) (0.4)\n",
            "Requirement already satisfied: jupyterlab-pygments in /usr/local/lib/python3.10/dist-packages (from nbconvert>=6.4.4->jupyter-server~=1.2->jupyterlab==3.0.7->colabcode) (0.3.0)\n",
            "Requirement already satisfied: mistune<2,>=0.8.1 in /usr/local/lib/python3.10/dist-packages (from nbconvert>=6.4.4->jupyter-server~=1.2->jupyterlab==3.0.7->colabcode) (0.8.4)\n",
            "Requirement already satisfied: nbclient>=0.5.0 in /usr/local/lib/python3.10/dist-packages (from nbconvert>=6.4.4->jupyter-server~=1.2->jupyterlab==3.0.7->colabcode) (0.10.0)\n",
            "Requirement already satisfied: pandocfilters>=1.4.1 in /usr/local/lib/python3.10/dist-packages (from nbconvert>=6.4.4->jupyter-server~=1.2->jupyterlab==3.0.7->colabcode) (1.5.1)\n",
            "Requirement already satisfied: tinycss2 in /usr/local/lib/python3.10/dist-packages (from nbconvert>=6.4.4->jupyter-server~=1.2->jupyterlab==3.0.7->colabcode) (1.3.0)\n",
            "Requirement already satisfied: fastjsonschema>=2.15 in /usr/local/lib/python3.10/dist-packages (from nbformat>=5.2.0->jupyter-server~=1.2->jupyterlab==3.0.7->colabcode) (2.19.1)\n",
            "Requirement already satisfied: ipython-genutils in /usr/local/lib/python3.10/dist-packages (from notebook<7->nbclassic~=0.2->jupyterlab==3.0.7->colabcode) (0.2.0)\n",
            "Requirement already satisfied: ipykernel in /usr/local/lib/python3.10/dist-packages (from notebook<7->nbclassic~=0.2->jupyterlab==3.0.7->colabcode) (5.5.6)\n",
            "Requirement already satisfied: ptyprocess>=0.5 in /usr/local/lib/python3.10/dist-packages (from pexpect>4.3->ipython->jupyterlab==3.0.7->colabcode) (0.7.0)\n",
            "Requirement already satisfied: wcwidth in /usr/local/lib/python3.10/dist-packages (from prompt-toolkit!=3.0.0,!=3.0.1,<3.1.0,>=2.0.0->ipython->jupyterlab==3.0.7->colabcode) (0.2.13)\n",
            "Requirement already satisfied: charset-normalizer<4,>=2 in /usr/local/lib/python3.10/dist-packages (from requests>=2.31->jupyterlab-server~=2.0->jupyterlab==3.0.7->colabcode) (3.3.2)\n",
            "Requirement already satisfied: urllib3<3,>=1.21.1 in /usr/local/lib/python3.10/dist-packages (from requests>=2.31->jupyterlab-server~=2.0->jupyterlab==3.0.7->colabcode) (2.0.7)\n",
            "Requirement already satisfied: certifi>=2017.4.17 in /usr/local/lib/python3.10/dist-packages (from requests>=2.31->jupyterlab-server~=2.0->jupyterlab==3.0.7->colabcode) (2024.6.2)\n",
            "Requirement already satisfied: argon2-cffi-bindings in /usr/local/lib/python3.10/dist-packages (from argon2-cffi->jupyter-server~=1.2->jupyterlab==3.0.7->colabcode) (21.2.0)\n",
            "Requirement already satisfied: cffi>=1.0.1 in /usr/local/lib/python3.10/dist-packages (from argon2-cffi-bindings->argon2-cffi->jupyter-server~=1.2->jupyterlab==3.0.7->colabcode) (1.16.0)\n",
            "Requirement already satisfied: soupsieve>1.2 in /usr/local/lib/python3.10/dist-packages (from beautifulsoup4->nbconvert>=6.4.4->jupyter-server~=1.2->jupyterlab==3.0.7->colabcode) (2.5)\n",
            "Requirement already satisfied: webencodings in /usr/local/lib/python3.10/dist-packages (from bleach->nbconvert>=6.4.4->jupyter-server~=1.2->jupyterlab==3.0.7->colabcode) (0.5.1)\n",
            "Requirement already satisfied: pycparser in /usr/local/lib/python3.10/dist-packages (from cffi>=1.0.1->argon2-cffi-bindings->argon2-cffi->jupyter-server~=1.2->jupyterlab==3.0.7->colabcode) (2.22)\n",
            "Authtoken saved to configuration file: /root/.config/ngrok/ngrok.yml\n"
          ]
        },
        {
          "output_type": "stream",
          "name": "stderr",
          "text": [
            "WARNING:pyngrok.process.ngrok:t=2024-06-07T04:00:40+0000 lvl=warn msg=\"Stopping forwarder\" name=http-8000-b5b146e4-9d60-4004-9a7c-8ad7a99084c6 acceptErr=\"failed to accept connection: Listener closed\"\n",
            "INFO:     Started server process [258]\n",
            "INFO:uvicorn.error:Started server process [258]\n",
            "INFO:     Waiting for application startup.\n",
            "INFO:uvicorn.error:Waiting for application startup.\n",
            "INFO:     Application startup complete.\n",
            "INFO:uvicorn.error:Application startup complete.\n",
            "INFO:     Uvicorn running on http://127.0.0.1:12000 (Press CTRL+C to quit)\n",
            "INFO:uvicorn.error:Uvicorn running on http://127.0.0.1:12000 (Press CTRL+C to quit)\n"
          ]
        },
        {
          "output_type": "stream",
          "name": "stdout",
          "text": [
            "NgrokTunnel: \"https://055d-35-243-251-199.ngrok-free.app\" -> \"http://localhost:8000\"\n",
            "Public URL: NgrokTunnel: \"https://e908-35-243-251-199.ngrok-free.app\" -> \"http://localhost:12000\"\n",
            "INFO:     183.101.254.29:0 - \"GET / HTTP/1.1\" 200 OK\n",
            "INFO:     183.101.254.29:0 - \"GET /favicon.ico HTTP/1.1\" 404 Not Found\n",
            "INFO:     183.101.254.29:0 - \"POST /summarize HTTP/1.1\" 500 Internal Server Error\n"
          ]
        },
        {
          "output_type": "stream",
          "name": "stderr",
          "text": [
            "ERROR:    Exception in ASGI application\n",
            "Traceback (most recent call last):\n",
            "  File \"/usr/local/lib/python3.10/dist-packages/uvicorn/protocols/http/h11_impl.py\", line 394, in run_asgi\n",
            "    result = await app(self.scope, self.receive, self.send)\n",
            "  File \"/usr/local/lib/python3.10/dist-packages/uvicorn/middleware/proxy_headers.py\", line 45, in __call__\n",
            "    return await self.app(scope, receive, send)\n",
            "  File \"/usr/local/lib/python3.10/dist-packages/fastapi/applications.py\", line 1054, in __call__\n",
            "    await super().__call__(scope, receive, send)\n",
            "  File \"/usr/local/lib/python3.10/dist-packages/starlette/applications.py\", line 123, in __call__\n",
            "    await self.middleware_stack(scope, receive, send)\n",
            "  File \"/usr/local/lib/python3.10/dist-packages/starlette/middleware/errors.py\", line 186, in __call__\n",
            "    raise exc\n",
            "  File \"/usr/local/lib/python3.10/dist-packages/starlette/middleware/errors.py\", line 164, in __call__\n",
            "    await self.app(scope, receive, _send)\n",
            "  File \"/usr/local/lib/python3.10/dist-packages/starlette/middleware/exceptions.py\", line 65, in __call__\n",
            "    await wrap_app_handling_exceptions(self.app, conn)(scope, receive, send)\n",
            "  File \"/usr/local/lib/python3.10/dist-packages/starlette/_exception_handler.py\", line 64, in wrapped_app\n",
            "    raise exc\n",
            "  File \"/usr/local/lib/python3.10/dist-packages/starlette/_exception_handler.py\", line 53, in wrapped_app\n",
            "    await app(scope, receive, sender)\n",
            "  File \"/usr/local/lib/python3.10/dist-packages/starlette/routing.py\", line 756, in __call__\n",
            "    await self.middleware_stack(scope, receive, send)\n",
            "  File \"/usr/local/lib/python3.10/dist-packages/starlette/routing.py\", line 776, in app\n",
            "    await route.handle(scope, receive, send)\n",
            "  File \"/usr/local/lib/python3.10/dist-packages/starlette/routing.py\", line 297, in handle\n",
            "    await self.app(scope, receive, send)\n",
            "  File \"/usr/local/lib/python3.10/dist-packages/starlette/routing.py\", line 77, in app\n",
            "    await wrap_app_handling_exceptions(app, request)(scope, receive, send)\n",
            "  File \"/usr/local/lib/python3.10/dist-packages/starlette/_exception_handler.py\", line 64, in wrapped_app\n",
            "    raise exc\n",
            "  File \"/usr/local/lib/python3.10/dist-packages/starlette/_exception_handler.py\", line 53, in wrapped_app\n",
            "    await app(scope, receive, sender)\n",
            "  File \"/usr/local/lib/python3.10/dist-packages/starlette/routing.py\", line 72, in app\n",
            "    response = await func(request)\n",
            "  File \"/usr/local/lib/python3.10/dist-packages/fastapi/routing.py\", line 278, in app\n",
            "    raw_response = await run_endpoint_function(\n",
            "  File \"/usr/local/lib/python3.10/dist-packages/fastapi/routing.py\", line 193, in run_endpoint_function\n",
            "    return await run_in_threadpool(dependant.call, **values)\n",
            "  File \"/usr/local/lib/python3.10/dist-packages/starlette/concurrency.py\", line 42, in run_in_threadpool\n",
            "    return await anyio.to_thread.run_sync(func, *args)\n",
            "  File \"/usr/local/lib/python3.10/dist-packages/anyio/to_thread.py\", line 33, in run_sync\n",
            "    return await get_asynclib().run_sync_in_worker_thread(\n",
            "  File \"/usr/local/lib/python3.10/dist-packages/anyio/_backends/_asyncio.py\", line 877, in run_sync_in_worker_thread\n",
            "    return await future\n",
            "  File \"/usr/lib/python3.10/asyncio/futures.py\", line 285, in __await__\n",
            "    yield self  # This tells Task to wait for completion.\n",
            "  File \"/usr/lib/python3.10/asyncio/tasks.py\", line 304, in __wakeup\n",
            "    future.result()\n",
            "  File \"/usr/lib/python3.10/asyncio/futures.py\", line 201, in result\n",
            "    raise self._exception.with_traceback(self._exception_tb)\n",
            "  File \"/usr/local/lib/python3.10/dist-packages/anyio/_backends/_asyncio.py\", line 807, in run\n",
            "    result = context.run(func, *args)\n",
            "  File \"<ipython-input-9-d97a72138baf>\", line 95, in summarize_notification\n",
            "    summary = summarizer.summarize_content(data.title, data.content)\n",
            "  File \"<ipython-input-9-d97a72138baf>\", line 68, in summarize_content\n",
            "    keysents = self.summarizer.summarize(sents, topk=3)\n",
            "  File \"/content/textrank/textrank/summarizer.py\", line 194, in summarize\n",
            "    self.train_textrank(sents, bias)\n",
            "  File \"/content/textrank/textrank/summarizer.py\", line 157, in train_textrank\n",
            "    g = sent_graph(sents, self.tokenize, self.min_count,\n",
            "  File \"/content/textrank/textrank/sentence.py\", line 42, in sent_graph\n",
            "    idx_to_vocab, vocab_to_idx = scan_vocabulary(sents, tokenize, min_count)\n",
            "  File \"/content/textrank/textrank/utils.py\", line 24, in scan_vocabulary\n",
            "    counter = Counter(w for sent in sents for w in tokenize(sent))\n",
            "  File \"/usr/lib/python3.10/collections/__init__.py\", line 577, in __init__\n",
            "    self.update(iterable, **kwds)\n",
            "  File \"/usr/lib/python3.10/collections/__init__.py\", line 670, in update\n",
            "    _count_elements(self, iterable)\n",
            "  File \"/content/textrank/textrank/utils.py\", line 24, in <genexpr>\n",
            "    counter = Counter(w for sent in sents for w in tokenize(sent))\n",
            "  File \"<ipython-input-9-d97a72138baf>\", line 31, in okt_tokenize\n",
            "    return [word for word in words if word.split('/')[0] not in self.ko_stop_words]\n",
            "  File \"<ipython-input-9-d97a72138baf>\", line 31, in <listcomp>\n",
            "    return [word for word in words if word.split('/')[0] not in self.ko_stop_words]\n",
            "AttributeError: 'Summarizer' object has no attribute 'ko_stop_words'\n",
            "ERROR:uvicorn.error:Exception in ASGI application\n",
            "Traceback (most recent call last):\n",
            "  File \"/usr/local/lib/python3.10/dist-packages/uvicorn/protocols/http/h11_impl.py\", line 394, in run_asgi\n",
            "    result = await app(self.scope, self.receive, self.send)\n",
            "  File \"/usr/local/lib/python3.10/dist-packages/uvicorn/middleware/proxy_headers.py\", line 45, in __call__\n",
            "    return await self.app(scope, receive, send)\n",
            "  File \"/usr/local/lib/python3.10/dist-packages/fastapi/applications.py\", line 1054, in __call__\n",
            "    await super().__call__(scope, receive, send)\n",
            "  File \"/usr/local/lib/python3.10/dist-packages/starlette/applications.py\", line 123, in __call__\n",
            "    await self.middleware_stack(scope, receive, send)\n",
            "  File \"/usr/local/lib/python3.10/dist-packages/starlette/middleware/errors.py\", line 186, in __call__\n",
            "    raise exc\n",
            "  File \"/usr/local/lib/python3.10/dist-packages/starlette/middleware/errors.py\", line 164, in __call__\n",
            "    await self.app(scope, receive, _send)\n",
            "  File \"/usr/local/lib/python3.10/dist-packages/starlette/middleware/exceptions.py\", line 65, in __call__\n",
            "    await wrap_app_handling_exceptions(self.app, conn)(scope, receive, send)\n",
            "  File \"/usr/local/lib/python3.10/dist-packages/starlette/_exception_handler.py\", line 64, in wrapped_app\n",
            "    raise exc\n",
            "  File \"/usr/local/lib/python3.10/dist-packages/starlette/_exception_handler.py\", line 53, in wrapped_app\n",
            "    await app(scope, receive, sender)\n",
            "  File \"/usr/local/lib/python3.10/dist-packages/starlette/routing.py\", line 756, in __call__\n",
            "    await self.middleware_stack(scope, receive, send)\n",
            "  File \"/usr/local/lib/python3.10/dist-packages/starlette/routing.py\", line 776, in app\n",
            "    await route.handle(scope, receive, send)\n",
            "  File \"/usr/local/lib/python3.10/dist-packages/starlette/routing.py\", line 297, in handle\n",
            "    await self.app(scope, receive, send)\n",
            "  File \"/usr/local/lib/python3.10/dist-packages/starlette/routing.py\", line 77, in app\n",
            "    await wrap_app_handling_exceptions(app, request)(scope, receive, send)\n",
            "  File \"/usr/local/lib/python3.10/dist-packages/starlette/_exception_handler.py\", line 64, in wrapped_app\n",
            "    raise exc\n",
            "  File \"/usr/local/lib/python3.10/dist-packages/starlette/_exception_handler.py\", line 53, in wrapped_app\n",
            "    await app(scope, receive, sender)\n",
            "  File \"/usr/local/lib/python3.10/dist-packages/starlette/routing.py\", line 72, in app\n",
            "    response = await func(request)\n",
            "  File \"/usr/local/lib/python3.10/dist-packages/fastapi/routing.py\", line 278, in app\n",
            "    raw_response = await run_endpoint_function(\n",
            "  File \"/usr/local/lib/python3.10/dist-packages/fastapi/routing.py\", line 193, in run_endpoint_function\n",
            "    return await run_in_threadpool(dependant.call, **values)\n",
            "  File \"/usr/local/lib/python3.10/dist-packages/starlette/concurrency.py\", line 42, in run_in_threadpool\n",
            "    return await anyio.to_thread.run_sync(func, *args)\n",
            "  File \"/usr/local/lib/python3.10/dist-packages/anyio/to_thread.py\", line 33, in run_sync\n",
            "    return await get_asynclib().run_sync_in_worker_thread(\n",
            "  File \"/usr/local/lib/python3.10/dist-packages/anyio/_backends/_asyncio.py\", line 877, in run_sync_in_worker_thread\n",
            "    return await future\n",
            "  File \"/usr/lib/python3.10/asyncio/futures.py\", line 285, in __await__\n",
            "    yield self  # This tells Task to wait for completion.\n",
            "  File \"/usr/lib/python3.10/asyncio/tasks.py\", line 304, in __wakeup\n",
            "    future.result()\n",
            "  File \"/usr/lib/python3.10/asyncio/futures.py\", line 201, in result\n",
            "    raise self._exception.with_traceback(self._exception_tb)\n",
            "  File \"/usr/local/lib/python3.10/dist-packages/anyio/_backends/_asyncio.py\", line 807, in run\n",
            "    result = context.run(func, *args)\n",
            "  File \"<ipython-input-9-d97a72138baf>\", line 95, in summarize_notification\n",
            "    summary = summarizer.summarize_content(data.title, data.content)\n",
            "  File \"<ipython-input-9-d97a72138baf>\", line 68, in summarize_content\n",
            "    keysents = self.summarizer.summarize(sents, topk=3)\n",
            "  File \"/content/textrank/textrank/summarizer.py\", line 194, in summarize\n",
            "    self.train_textrank(sents, bias)\n",
            "  File \"/content/textrank/textrank/summarizer.py\", line 157, in train_textrank\n",
            "    g = sent_graph(sents, self.tokenize, self.min_count,\n",
            "  File \"/content/textrank/textrank/sentence.py\", line 42, in sent_graph\n",
            "    idx_to_vocab, vocab_to_idx = scan_vocabulary(sents, tokenize, min_count)\n",
            "  File \"/content/textrank/textrank/utils.py\", line 24, in scan_vocabulary\n",
            "    counter = Counter(w for sent in sents for w in tokenize(sent))\n",
            "  File \"/usr/lib/python3.10/collections/__init__.py\", line 577, in __init__\n",
            "    self.update(iterable, **kwds)\n",
            "  File \"/usr/lib/python3.10/collections/__init__.py\", line 670, in update\n",
            "    _count_elements(self, iterable)\n",
            "  File \"/content/textrank/textrank/utils.py\", line 24, in <genexpr>\n",
            "    counter = Counter(w for sent in sents for w in tokenize(sent))\n",
            "  File \"<ipython-input-9-d97a72138baf>\", line 31, in okt_tokenize\n",
            "    return [word for word in words if word.split('/')[0] not in self.ko_stop_words]\n",
            "  File \"<ipython-input-9-d97a72138baf>\", line 31, in <listcomp>\n",
            "    return [word for word in words if word.split('/')[0] not in self.ko_stop_words]\n",
            "AttributeError: 'Summarizer' object has no attribute 'ko_stop_words'\n",
            "INFO:     Shutting down\n",
            "INFO:uvicorn.error:Shutting down\n",
            "INFO:     Waiting for application shutdown.\n",
            "INFO:uvicorn.error:Waiting for application shutdown.\n",
            "INFO:     Application shutdown complete.\n",
            "INFO:uvicorn.error:Application shutdown complete.\n",
            "INFO:     Finished server process [258]\n",
            "INFO:uvicorn.error:Finished server process [258]\n",
            "INFO:     Started server process [258]\n",
            "INFO:uvicorn.error:Started server process [258]\n",
            "INFO:     Waiting for application startup.\n",
            "INFO:uvicorn.error:Waiting for application startup.\n",
            "INFO:     Application startup complete.\n",
            "INFO:uvicorn.error:Application startup complete.\n",
            "INFO:     Uvicorn running on http://0.0.0.0:8000 (Press CTRL+C to quit)\n",
            "INFO:uvicorn.error:Uvicorn running on http://0.0.0.0:8000 (Press CTRL+C to quit)\n",
            "INFO:     Shutting down\n",
            "INFO:uvicorn.error:Shutting down\n",
            "INFO:     Waiting for application shutdown.\n",
            "INFO:uvicorn.error:Waiting for application shutdown.\n",
            "INFO:     Application shutdown complete.\n",
            "INFO:uvicorn.error:Application shutdown complete.\n",
            "INFO:     Finished server process [258]\n",
            "INFO:uvicorn.error:Finished server process [258]\n"
          ]
        }
      ]
    },
    {
      "cell_type": "markdown",
      "source": [
        "![image.png](data:image/png;base64,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)"
      ],
      "metadata": {
        "id": "DVaLgicz26pL"
      }
    }
  ]
}